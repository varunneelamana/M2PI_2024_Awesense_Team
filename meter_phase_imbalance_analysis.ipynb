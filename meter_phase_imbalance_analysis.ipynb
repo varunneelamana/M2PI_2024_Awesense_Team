{
 "cells": [
  {
   "cell_type": "markdown",
   "id": "74112527",
   "metadata": {},
   "source": [
    "# Set up"
   ]
  },
  {
   "cell_type": "code",
   "execution_count": 2,
   "id": "9363b334",
   "metadata": {},
   "outputs": [],
   "source": [
    "import getpass\n",
    "import pandas as pd\n",
    "import numpy as np\n",
    "# import matplotlib as mplot\n",
    "import urllib.parse\n",
    "import plotly.graph_objects as go\n",
    "from plotly.subplots import make_subplots\n",
    "from IPython.display import Markdown as md\n",
    "from datetime import datetime, timedelta\n",
    "from dateutil.relativedelta import relativedelta\n",
    "import pandas as pd\n",
    "import plotly.express as px\n",
    "import pytz\n",
    "\n",
    "pd.set_option('display.max_columns', None)"
   ]
  },
  {
   "cell_type": "markdown",
   "id": "bc4abb08",
   "metadata": {},
   "source": [
    "**Connection**\n",
    "\n",
    "Enter the EDM server address and the login credentials provided by Awesense. If you do not have the credentials, or have any trouble connecting, please contact api@awesense.com.\n",
    "<span style='color:red'> **Please do NOT store the credentials in the notebook, nor share them with anyone.** </span>"
   ]
  },
  {
   "cell_type": "code",
   "execution_count": 3,
   "id": "6acf22bd",
   "metadata": {},
   "outputs": [],
   "source": [
    "# Input creditials by code (need to remove your private info before you pushed it)\n",
    "edm_address = \"\"\n",
    "edm_name = \"\"\n",
    "edm_password = \"\"\n",
    "\n",
    "# User input the creditials manually \n",
    "edm_address = getpass.getpass(prompt='EDM server address: ')\n",
    "\n",
    "print('\\nEDM login information')\n",
    "edm_name = getpass.getpass(prompt='Username: ')\n",
    "edm_password = getpass.getpass(prompt='Password: ')\n",
    "\n",
    "edm_password = urllib.parse.quote(edm_password)\n",
    "\n",
    "%load_ext sql\n",
    "%sql postgresql://$edm_name:$edm_password@$edm_address/edm\n",
    "%config SqlMagic.displaycon = False\n",
    "%config SqlMagic.feedback = False\n",
    "\n",
    "# Delete the credential variables for security purposes.\n",
    "\n",
    "del edm_name, edm_password"
   ]
  },
  {
   "cell_type": "markdown",
   "id": "da9b8f0c",
   "metadata": {},
   "source": [
    "#### Input Parameters\n",
    "Input the grid name to find all the high-level transformers in this grid. "
   ]
  },
  {
   "cell_type": "code",
   "execution_count": 4,
   "id": "b296b310",
   "metadata": {},
   "outputs": [],
   "source": [
    "# User input for the grid.\n",
    "# grid_id = input('Enter grid ID: ') # awefice\n",
    "\n",
    "# For simplitiy, set grid_id = awefice by code\n",
    "grid_id = 'North Central Zone'"
   ]
  },
  {
   "cell_type": "code",
   "execution_count": 5,
   "id": "f8f04131",
   "metadata": {},
   "outputs": [
    {
     "name": "stdout",
     "output_type": "stream",
     "text": [
      "Index(['grid_element_id', 'is_producer', 'phases', 'name', 'label', 'latitude',\n",
      "       'load_loss', 'longitude', 'mv_feeder', 'ownership', 'make_model',\n",
      "       'rating_kva', 'enclosure_id', 'no_load_loss', 'voltage_level',\n",
      "       'commission_date', 'primary_voltage', 'maintenance_type',\n",
      "       'manufacture_date', 'installation_type', 'secondary_voltage',\n",
      "       'hvmv_parent_element', 'is_operation_status', 'parent_transformer_id',\n",
      "       'winding_configuration'],\n",
      "      dtype='object')\n"
     ]
    },
    {
     "data": {
      "text/html": [
       "<div>\n",
       "<style scoped>\n",
       "    .dataframe tbody tr th:only-of-type {\n",
       "        vertical-align: middle;\n",
       "    }\n",
       "\n",
       "    .dataframe tbody tr th {\n",
       "        vertical-align: top;\n",
       "    }\n",
       "\n",
       "    .dataframe thead th {\n",
       "        text-align: right;\n",
       "    }\n",
       "</style>\n",
       "<table border=\"1\" class=\"dataframe\">\n",
       "  <thead>\n",
       "    <tr style=\"text-align: right;\">\n",
       "      <th></th>\n",
       "      <th>grid_element_id</th>\n",
       "      <th>is_producer</th>\n",
       "      <th>ownership</th>\n",
       "      <th>rating_kva</th>\n",
       "      <th>phases</th>\n",
       "      <th>voltage_level</th>\n",
       "      <th>hvmv_parent_element</th>\n",
       "      <th>primary_voltage</th>\n",
       "      <th>secondary_voltage</th>\n",
       "    </tr>\n",
       "  </thead>\n",
       "  <tbody>\n",
       "    <tr>\n",
       "      <th>0</th>\n",
       "      <td>121175_hvmv</td>\n",
       "      <td>True</td>\n",
       "      <td>None</td>\n",
       "      <td>500.0</td>\n",
       "      <td>ABC</td>\n",
       "      <td>HV/MV</td>\n",
       "      <td>None</td>\n",
       "      <td>200000</td>\n",
       "      <td>14000</td>\n",
       "    </tr>\n",
       "    <tr>\n",
       "      <th>1</th>\n",
       "      <td>12465_hvmv</td>\n",
       "      <td>True</td>\n",
       "      <td>None</td>\n",
       "      <td>1800.0</td>\n",
       "      <td>ABC</td>\n",
       "      <td>HV/MV</td>\n",
       "      <td>None</td>\n",
       "      <td>200000</td>\n",
       "      <td>14000</td>\n",
       "    </tr>\n",
       "    <tr>\n",
       "      <th>2</th>\n",
       "      <td>48504_hvmv</td>\n",
       "      <td>True</td>\n",
       "      <td>None</td>\n",
       "      <td>700.0</td>\n",
       "      <td>ABC</td>\n",
       "      <td>HV/MV</td>\n",
       "      <td>None</td>\n",
       "      <td>200000</td>\n",
       "      <td>14000</td>\n",
       "    </tr>\n",
       "    <tr>\n",
       "      <th>3</th>\n",
       "      <td>10407_hvmv</td>\n",
       "      <td>True</td>\n",
       "      <td>None</td>\n",
       "      <td>3100.0</td>\n",
       "      <td>ABC</td>\n",
       "      <td>HV/MV</td>\n",
       "      <td>None</td>\n",
       "      <td>200000</td>\n",
       "      <td>14000</td>\n",
       "    </tr>\n",
       "    <tr>\n",
       "      <th>4</th>\n",
       "      <td>28538_hvmv</td>\n",
       "      <td>True</td>\n",
       "      <td>None</td>\n",
       "      <td>2200.0</td>\n",
       "      <td>ABC</td>\n",
       "      <td>HV/MV</td>\n",
       "      <td>None</td>\n",
       "      <td>200000</td>\n",
       "      <td>14000</td>\n",
       "    </tr>\n",
       "    <tr>\n",
       "      <th>5</th>\n",
       "      <td>10680_hvmv</td>\n",
       "      <td>True</td>\n",
       "      <td>None</td>\n",
       "      <td>2300.0</td>\n",
       "      <td>ABC</td>\n",
       "      <td>HV/MV</td>\n",
       "      <td>None</td>\n",
       "      <td>200000</td>\n",
       "      <td>14000</td>\n",
       "    </tr>\n",
       "    <tr>\n",
       "      <th>6</th>\n",
       "      <td>10954_hvmv</td>\n",
       "      <td>True</td>\n",
       "      <td>None</td>\n",
       "      <td>2200.0</td>\n",
       "      <td>ABC</td>\n",
       "      <td>HV/MV</td>\n",
       "      <td>None</td>\n",
       "      <td>200000</td>\n",
       "      <td>14000</td>\n",
       "    </tr>\n",
       "    <tr>\n",
       "      <th>7</th>\n",
       "      <td>20593_hvmv</td>\n",
       "      <td>True</td>\n",
       "      <td>None</td>\n",
       "      <td>4000.0</td>\n",
       "      <td>ABC</td>\n",
       "      <td>HV/MV</td>\n",
       "      <td>None</td>\n",
       "      <td>200000</td>\n",
       "      <td>14000</td>\n",
       "    </tr>\n",
       "    <tr>\n",
       "      <th>8</th>\n",
       "      <td>21499_hvmv</td>\n",
       "      <td>True</td>\n",
       "      <td>None</td>\n",
       "      <td>1100.0</td>\n",
       "      <td>ABC</td>\n",
       "      <td>HV/MV</td>\n",
       "      <td>None</td>\n",
       "      <td>200000</td>\n",
       "      <td>14000</td>\n",
       "    </tr>\n",
       "    <tr>\n",
       "      <th>9</th>\n",
       "      <td>22941_hvmv</td>\n",
       "      <td>True</td>\n",
       "      <td>None</td>\n",
       "      <td>1700.0</td>\n",
       "      <td>ABC</td>\n",
       "      <td>HV/MV</td>\n",
       "      <td>None</td>\n",
       "      <td>200000</td>\n",
       "      <td>14000</td>\n",
       "    </tr>\n",
       "    <tr>\n",
       "      <th>10</th>\n",
       "      <td>41583_hvmv</td>\n",
       "      <td>True</td>\n",
       "      <td>None</td>\n",
       "      <td>1100.0</td>\n",
       "      <td>ABC</td>\n",
       "      <td>HV/MV</td>\n",
       "      <td>None</td>\n",
       "      <td>200000</td>\n",
       "      <td>14000</td>\n",
       "    </tr>\n",
       "    <tr>\n",
       "      <th>11</th>\n",
       "      <td>36412_hvmv</td>\n",
       "      <td>True</td>\n",
       "      <td>None</td>\n",
       "      <td>3100.0</td>\n",
       "      <td>ABC</td>\n",
       "      <td>HV/MV</td>\n",
       "      <td>None</td>\n",
       "      <td>200000</td>\n",
       "      <td>14000</td>\n",
       "    </tr>\n",
       "    <tr>\n",
       "      <th>12</th>\n",
       "      <td>42093_hvmv</td>\n",
       "      <td>True</td>\n",
       "      <td>None</td>\n",
       "      <td>800.0</td>\n",
       "      <td>ABC</td>\n",
       "      <td>HV/MV</td>\n",
       "      <td>None</td>\n",
       "      <td>200000</td>\n",
       "      <td>14000</td>\n",
       "    </tr>\n",
       "    <tr>\n",
       "      <th>13</th>\n",
       "      <td>10072_hvmv</td>\n",
       "      <td>True</td>\n",
       "      <td>None</td>\n",
       "      <td>1500.0</td>\n",
       "      <td>ABC</td>\n",
       "      <td>HV/MV</td>\n",
       "      <td>None</td>\n",
       "      <td>200000</td>\n",
       "      <td>14000</td>\n",
       "    </tr>\n",
       "    <tr>\n",
       "      <th>14</th>\n",
       "      <td>17044_hvmv</td>\n",
       "      <td>True</td>\n",
       "      <td>None</td>\n",
       "      <td>1000.0</td>\n",
       "      <td>ABC</td>\n",
       "      <td>HV/MV</td>\n",
       "      <td>None</td>\n",
       "      <td>200000</td>\n",
       "      <td>14000</td>\n",
       "    </tr>\n",
       "    <tr>\n",
       "      <th>15</th>\n",
       "      <td>7676_hvmv</td>\n",
       "      <td>True</td>\n",
       "      <td>None</td>\n",
       "      <td>3600.0</td>\n",
       "      <td>ABC</td>\n",
       "      <td>HV/MV</td>\n",
       "      <td>None</td>\n",
       "      <td>200000</td>\n",
       "      <td>14000</td>\n",
       "    </tr>\n",
       "    <tr>\n",
       "      <th>16</th>\n",
       "      <td>114629_hvmv</td>\n",
       "      <td>True</td>\n",
       "      <td>None</td>\n",
       "      <td>1300.0</td>\n",
       "      <td>ABC</td>\n",
       "      <td>HV/MV</td>\n",
       "      <td>None</td>\n",
       "      <td>200000</td>\n",
       "      <td>14000</td>\n",
       "    </tr>\n",
       "    <tr>\n",
       "      <th>17</th>\n",
       "      <td>45212_hvmv</td>\n",
       "      <td>True</td>\n",
       "      <td>None</td>\n",
       "      <td>2800.0</td>\n",
       "      <td>ABC</td>\n",
       "      <td>HV/MV</td>\n",
       "      <td>None</td>\n",
       "      <td>200000</td>\n",
       "      <td>14000</td>\n",
       "    </tr>\n",
       "    <tr>\n",
       "      <th>18</th>\n",
       "      <td>17128_hvmv</td>\n",
       "      <td>True</td>\n",
       "      <td>None</td>\n",
       "      <td>500.0</td>\n",
       "      <td>ABC</td>\n",
       "      <td>HV/MV</td>\n",
       "      <td>None</td>\n",
       "      <td>200000</td>\n",
       "      <td>14000</td>\n",
       "    </tr>\n",
       "    <tr>\n",
       "      <th>19</th>\n",
       "      <td>37609_hvmv</td>\n",
       "      <td>True</td>\n",
       "      <td>None</td>\n",
       "      <td>1200.0</td>\n",
       "      <td>ABC</td>\n",
       "      <td>HV/MV</td>\n",
       "      <td>None</td>\n",
       "      <td>200000</td>\n",
       "      <td>14000</td>\n",
       "    </tr>\n",
       "    <tr>\n",
       "      <th>20</th>\n",
       "      <td>40543_hvmv</td>\n",
       "      <td>True</td>\n",
       "      <td>None</td>\n",
       "      <td>2300.0</td>\n",
       "      <td>ABC</td>\n",
       "      <td>HV/MV</td>\n",
       "      <td>None</td>\n",
       "      <td>200000</td>\n",
       "      <td>14000</td>\n",
       "    </tr>\n",
       "    <tr>\n",
       "      <th>21</th>\n",
       "      <td>32644_hvmv</td>\n",
       "      <td>True</td>\n",
       "      <td>None</td>\n",
       "      <td>2400.0</td>\n",
       "      <td>ABC</td>\n",
       "      <td>HV/MV</td>\n",
       "      <td>None</td>\n",
       "      <td>200000</td>\n",
       "      <td>14000</td>\n",
       "    </tr>\n",
       "    <tr>\n",
       "      <th>22</th>\n",
       "      <td>48939_hvmv</td>\n",
       "      <td>True</td>\n",
       "      <td>None</td>\n",
       "      <td>1100.0</td>\n",
       "      <td>ABC</td>\n",
       "      <td>HV/MV</td>\n",
       "      <td>None</td>\n",
       "      <td>200000</td>\n",
       "      <td>14000</td>\n",
       "    </tr>\n",
       "    <tr>\n",
       "      <th>23</th>\n",
       "      <td>28667_hvmv</td>\n",
       "      <td>True</td>\n",
       "      <td>None</td>\n",
       "      <td>2200.0</td>\n",
       "      <td>ABC</td>\n",
       "      <td>HV/MV</td>\n",
       "      <td>None</td>\n",
       "      <td>200000</td>\n",
       "      <td>14000</td>\n",
       "    </tr>\n",
       "    <tr>\n",
       "      <th>24</th>\n",
       "      <td>35978_hvmv</td>\n",
       "      <td>True</td>\n",
       "      <td>None</td>\n",
       "      <td>1300.0</td>\n",
       "      <td>ABC</td>\n",
       "      <td>HV/MV</td>\n",
       "      <td>None</td>\n",
       "      <td>200000</td>\n",
       "      <td>14000</td>\n",
       "    </tr>\n",
       "    <tr>\n",
       "      <th>25</th>\n",
       "      <td>49306_hvmv</td>\n",
       "      <td>True</td>\n",
       "      <td>None</td>\n",
       "      <td>800.0</td>\n",
       "      <td>ABC</td>\n",
       "      <td>HV/MV</td>\n",
       "      <td>None</td>\n",
       "      <td>200000</td>\n",
       "      <td>14000</td>\n",
       "    </tr>\n",
       "    <tr>\n",
       "      <th>26</th>\n",
       "      <td>39159_hvmv</td>\n",
       "      <td>True</td>\n",
       "      <td>None</td>\n",
       "      <td>700.0</td>\n",
       "      <td>ABC</td>\n",
       "      <td>HV/MV</td>\n",
       "      <td>None</td>\n",
       "      <td>200000</td>\n",
       "      <td>14000</td>\n",
       "    </tr>\n",
       "    <tr>\n",
       "      <th>27</th>\n",
       "      <td>23793_hvmv</td>\n",
       "      <td>True</td>\n",
       "      <td>None</td>\n",
       "      <td>100.0</td>\n",
       "      <td>ABC</td>\n",
       "      <td>HV/MV</td>\n",
       "      <td>None</td>\n",
       "      <td>200000</td>\n",
       "      <td>14000</td>\n",
       "    </tr>\n",
       "    <tr>\n",
       "      <th>28</th>\n",
       "      <td>12966_hvmv</td>\n",
       "      <td>True</td>\n",
       "      <td>None</td>\n",
       "      <td>2300.0</td>\n",
       "      <td>ABC</td>\n",
       "      <td>HV/MV</td>\n",
       "      <td>None</td>\n",
       "      <td>200000</td>\n",
       "      <td>14000</td>\n",
       "    </tr>\n",
       "    <tr>\n",
       "      <th>29</th>\n",
       "      <td>103663_hvmv</td>\n",
       "      <td>True</td>\n",
       "      <td>None</td>\n",
       "      <td>1800.0</td>\n",
       "      <td>ABC</td>\n",
       "      <td>HV/MV</td>\n",
       "      <td>None</td>\n",
       "      <td>200000</td>\n",
       "      <td>14000</td>\n",
       "    </tr>\n",
       "    <tr>\n",
       "      <th>30</th>\n",
       "      <td>12373_hvmv</td>\n",
       "      <td>True</td>\n",
       "      <td>None</td>\n",
       "      <td>1300.0</td>\n",
       "      <td>ABC</td>\n",
       "      <td>HV/MV</td>\n",
       "      <td>None</td>\n",
       "      <td>200000</td>\n",
       "      <td>14000</td>\n",
       "    </tr>\n",
       "    <tr>\n",
       "      <th>31</th>\n",
       "      <td>40135_hvmv</td>\n",
       "      <td>True</td>\n",
       "      <td>None</td>\n",
       "      <td>1400.0</td>\n",
       "      <td>ABC</td>\n",
       "      <td>HV/MV</td>\n",
       "      <td>None</td>\n",
       "      <td>200000</td>\n",
       "      <td>14000</td>\n",
       "    </tr>\n",
       "    <tr>\n",
       "      <th>32</th>\n",
       "      <td>48803_hvmv</td>\n",
       "      <td>True</td>\n",
       "      <td>None</td>\n",
       "      <td>2400.0</td>\n",
       "      <td>ABC</td>\n",
       "      <td>HV/MV</td>\n",
       "      <td>None</td>\n",
       "      <td>200000</td>\n",
       "      <td>14000</td>\n",
       "    </tr>\n",
       "    <tr>\n",
       "      <th>33</th>\n",
       "      <td>21298_hvmv</td>\n",
       "      <td>True</td>\n",
       "      <td>None</td>\n",
       "      <td>800.0</td>\n",
       "      <td>ABC</td>\n",
       "      <td>HV/MV</td>\n",
       "      <td>None</td>\n",
       "      <td>200000</td>\n",
       "      <td>14000</td>\n",
       "    </tr>\n",
       "    <tr>\n",
       "      <th>34</th>\n",
       "      <td>29610_hvmv</td>\n",
       "      <td>True</td>\n",
       "      <td>None</td>\n",
       "      <td>800.0</td>\n",
       "      <td>ABC</td>\n",
       "      <td>HV/MV</td>\n",
       "      <td>None</td>\n",
       "      <td>200000</td>\n",
       "      <td>14000</td>\n",
       "    </tr>\n",
       "    <tr>\n",
       "      <th>35</th>\n",
       "      <td>36896_hvmv</td>\n",
       "      <td>True</td>\n",
       "      <td>None</td>\n",
       "      <td>900.0</td>\n",
       "      <td>ABC</td>\n",
       "      <td>HV/MV</td>\n",
       "      <td>None</td>\n",
       "      <td>200000</td>\n",
       "      <td>14000</td>\n",
       "    </tr>\n",
       "    <tr>\n",
       "      <th>36</th>\n",
       "      <td>28748_hvmv</td>\n",
       "      <td>True</td>\n",
       "      <td>None</td>\n",
       "      <td>2500.0</td>\n",
       "      <td>ABC</td>\n",
       "      <td>HV/MV</td>\n",
       "      <td>None</td>\n",
       "      <td>200000</td>\n",
       "      <td>14000</td>\n",
       "    </tr>\n",
       "    <tr>\n",
       "      <th>37</th>\n",
       "      <td>41323_hvmv</td>\n",
       "      <td>True</td>\n",
       "      <td>None</td>\n",
       "      <td>2600.0</td>\n",
       "      <td>ABC</td>\n",
       "      <td>HV/MV</td>\n",
       "      <td>None</td>\n",
       "      <td>200000</td>\n",
       "      <td>14000</td>\n",
       "    </tr>\n",
       "    <tr>\n",
       "      <th>38</th>\n",
       "      <td>39660_hvmv</td>\n",
       "      <td>True</td>\n",
       "      <td>None</td>\n",
       "      <td>300.0</td>\n",
       "      <td>ABC</td>\n",
       "      <td>HV/MV</td>\n",
       "      <td>None</td>\n",
       "      <td>200000</td>\n",
       "      <td>14000</td>\n",
       "    </tr>\n",
       "    <tr>\n",
       "      <th>39</th>\n",
       "      <td>41449_hvmv</td>\n",
       "      <td>True</td>\n",
       "      <td>None</td>\n",
       "      <td>2300.0</td>\n",
       "      <td>ABC</td>\n",
       "      <td>HV/MV</td>\n",
       "      <td>None</td>\n",
       "      <td>200000</td>\n",
       "      <td>14000</td>\n",
       "    </tr>\n",
       "    <tr>\n",
       "      <th>40</th>\n",
       "      <td>1798_hvmv</td>\n",
       "      <td>True</td>\n",
       "      <td>None</td>\n",
       "      <td>3000.0</td>\n",
       "      <td>ABC</td>\n",
       "      <td>HV/MV</td>\n",
       "      <td>None</td>\n",
       "      <td>200000</td>\n",
       "      <td>14000</td>\n",
       "    </tr>\n",
       "    <tr>\n",
       "      <th>41</th>\n",
       "      <td>116651_hvmv</td>\n",
       "      <td>True</td>\n",
       "      <td>None</td>\n",
       "      <td>1300.0</td>\n",
       "      <td>ABC</td>\n",
       "      <td>HV/MV</td>\n",
       "      <td>None</td>\n",
       "      <td>200000</td>\n",
       "      <td>14000</td>\n",
       "    </tr>\n",
       "    <tr>\n",
       "      <th>42</th>\n",
       "      <td>19612_hvmv</td>\n",
       "      <td>True</td>\n",
       "      <td>None</td>\n",
       "      <td>3000.0</td>\n",
       "      <td>ABC</td>\n",
       "      <td>HV/MV</td>\n",
       "      <td>None</td>\n",
       "      <td>200000</td>\n",
       "      <td>14000</td>\n",
       "    </tr>\n",
       "    <tr>\n",
       "      <th>43</th>\n",
       "      <td>24966_hvmv</td>\n",
       "      <td>True</td>\n",
       "      <td>None</td>\n",
       "      <td>1600.0</td>\n",
       "      <td>ABC</td>\n",
       "      <td>HV/MV</td>\n",
       "      <td>None</td>\n",
       "      <td>200000</td>\n",
       "      <td>14000</td>\n",
       "    </tr>\n",
       "    <tr>\n",
       "      <th>44</th>\n",
       "      <td>25941_hvmv</td>\n",
       "      <td>True</td>\n",
       "      <td>None</td>\n",
       "      <td>800.0</td>\n",
       "      <td>ABC</td>\n",
       "      <td>HV/MV</td>\n",
       "      <td>None</td>\n",
       "      <td>200000</td>\n",
       "      <td>14000</td>\n",
       "    </tr>\n",
       "    <tr>\n",
       "      <th>45</th>\n",
       "      <td>40771_hvmv</td>\n",
       "      <td>True</td>\n",
       "      <td>None</td>\n",
       "      <td>400.0</td>\n",
       "      <td>ABC</td>\n",
       "      <td>HV/MV</td>\n",
       "      <td>None</td>\n",
       "      <td>200000</td>\n",
       "      <td>14000</td>\n",
       "    </tr>\n",
       "  </tbody>\n",
       "</table>\n",
       "</div>"
      ],
      "text/plain": [
       "   grid_element_id  is_producer ownership  rating_kva phases voltage_level  \\\n",
       "0      121175_hvmv         True      None       500.0    ABC         HV/MV   \n",
       "1       12465_hvmv         True      None      1800.0    ABC         HV/MV   \n",
       "2       48504_hvmv         True      None       700.0    ABC         HV/MV   \n",
       "3       10407_hvmv         True      None      3100.0    ABC         HV/MV   \n",
       "4       28538_hvmv         True      None      2200.0    ABC         HV/MV   \n",
       "5       10680_hvmv         True      None      2300.0    ABC         HV/MV   \n",
       "6       10954_hvmv         True      None      2200.0    ABC         HV/MV   \n",
       "7       20593_hvmv         True      None      4000.0    ABC         HV/MV   \n",
       "8       21499_hvmv         True      None      1100.0    ABC         HV/MV   \n",
       "9       22941_hvmv         True      None      1700.0    ABC         HV/MV   \n",
       "10      41583_hvmv         True      None      1100.0    ABC         HV/MV   \n",
       "11      36412_hvmv         True      None      3100.0    ABC         HV/MV   \n",
       "12      42093_hvmv         True      None       800.0    ABC         HV/MV   \n",
       "13      10072_hvmv         True      None      1500.0    ABC         HV/MV   \n",
       "14      17044_hvmv         True      None      1000.0    ABC         HV/MV   \n",
       "15       7676_hvmv         True      None      3600.0    ABC         HV/MV   \n",
       "16     114629_hvmv         True      None      1300.0    ABC         HV/MV   \n",
       "17      45212_hvmv         True      None      2800.0    ABC         HV/MV   \n",
       "18      17128_hvmv         True      None       500.0    ABC         HV/MV   \n",
       "19      37609_hvmv         True      None      1200.0    ABC         HV/MV   \n",
       "20      40543_hvmv         True      None      2300.0    ABC         HV/MV   \n",
       "21      32644_hvmv         True      None      2400.0    ABC         HV/MV   \n",
       "22      48939_hvmv         True      None      1100.0    ABC         HV/MV   \n",
       "23      28667_hvmv         True      None      2200.0    ABC         HV/MV   \n",
       "24      35978_hvmv         True      None      1300.0    ABC         HV/MV   \n",
       "25      49306_hvmv         True      None       800.0    ABC         HV/MV   \n",
       "26      39159_hvmv         True      None       700.0    ABC         HV/MV   \n",
       "27      23793_hvmv         True      None       100.0    ABC         HV/MV   \n",
       "28      12966_hvmv         True      None      2300.0    ABC         HV/MV   \n",
       "29     103663_hvmv         True      None      1800.0    ABC         HV/MV   \n",
       "30      12373_hvmv         True      None      1300.0    ABC         HV/MV   \n",
       "31      40135_hvmv         True      None      1400.0    ABC         HV/MV   \n",
       "32      48803_hvmv         True      None      2400.0    ABC         HV/MV   \n",
       "33      21298_hvmv         True      None       800.0    ABC         HV/MV   \n",
       "34      29610_hvmv         True      None       800.0    ABC         HV/MV   \n",
       "35      36896_hvmv         True      None       900.0    ABC         HV/MV   \n",
       "36      28748_hvmv         True      None      2500.0    ABC         HV/MV   \n",
       "37      41323_hvmv         True      None      2600.0    ABC         HV/MV   \n",
       "38      39660_hvmv         True      None       300.0    ABC         HV/MV   \n",
       "39      41449_hvmv         True      None      2300.0    ABC         HV/MV   \n",
       "40       1798_hvmv         True      None      3000.0    ABC         HV/MV   \n",
       "41     116651_hvmv         True      None      1300.0    ABC         HV/MV   \n",
       "42      19612_hvmv         True      None      3000.0    ABC         HV/MV   \n",
       "43      24966_hvmv         True      None      1600.0    ABC         HV/MV   \n",
       "44      25941_hvmv         True      None       800.0    ABC         HV/MV   \n",
       "45      40771_hvmv         True      None       400.0    ABC         HV/MV   \n",
       "\n",
       "   hvmv_parent_element  primary_voltage  secondary_voltage  \n",
       "0                 None           200000              14000  \n",
       "1                 None           200000              14000  \n",
       "2                 None           200000              14000  \n",
       "3                 None           200000              14000  \n",
       "4                 None           200000              14000  \n",
       "5                 None           200000              14000  \n",
       "6                 None           200000              14000  \n",
       "7                 None           200000              14000  \n",
       "8                 None           200000              14000  \n",
       "9                 None           200000              14000  \n",
       "10                None           200000              14000  \n",
       "11                None           200000              14000  \n",
       "12                None           200000              14000  \n",
       "13                None           200000              14000  \n",
       "14                None           200000              14000  \n",
       "15                None           200000              14000  \n",
       "16                None           200000              14000  \n",
       "17                None           200000              14000  \n",
       "18                None           200000              14000  \n",
       "19                None           200000              14000  \n",
       "20                None           200000              14000  \n",
       "21                None           200000              14000  \n",
       "22                None           200000              14000  \n",
       "23                None           200000              14000  \n",
       "24                None           200000              14000  \n",
       "25                None           200000              14000  \n",
       "26                None           200000              14000  \n",
       "27                None           200000              14000  \n",
       "28                None           200000              14000  \n",
       "29                None           200000              14000  \n",
       "30                None           200000              14000  \n",
       "31                None           200000              14000  \n",
       "32                None           200000              14000  \n",
       "33                None           200000              14000  \n",
       "34                None           200000              14000  \n",
       "35                None           200000              14000  \n",
       "36                None           200000              14000  \n",
       "37                None           200000              14000  \n",
       "38                None           200000              14000  \n",
       "39                None           200000              14000  \n",
       "40                None           200000              14000  \n",
       "41                None           200000              14000  \n",
       "42                None           200000              14000  \n",
       "43                None           200000              14000  \n",
       "44                None           200000              14000  \n",
       "45                None           200000              14000  "
      ]
     },
     "execution_count": 5,
     "metadata": {},
     "output_type": "execute_result"
    }
   ],
   "source": [
    "result = %sql SELECT grid_element_id, \\\n",
    "                        is_producer,\\\n",
    "                        meta, \\\n",
    "                        phases\\\n",
    "                FROM grid_element\\\n",
    "                WHERE grid_id = '{grid_id}'\\\n",
    "                    AND is_producer = True\\\n",
    "                    AND type = 'Transformer';\n",
    "\n",
    "# Convert the results to a data frame.\n",
    "df_transformers = result.DataFrame()\n",
    "\n",
    "# Pull out the information from `meta` column saved as JSONB.\n",
    "df_transformers = pd.concat([df_transformers.drop(['meta'], axis=1),\n",
    "                             df_transformers['meta'].apply(pd.Series)], axis=1)\n",
    "\n",
    "print(df_transformers.columns)\n",
    "\n",
    "# Choose the relevant columns to display transformers. \n",
    "df_transformers = df_transformers[['grid_element_id', 'is_producer', 'ownership', 'rating_kva', \n",
    "                                   'phases', 'voltage_level', 'hvmv_parent_element', \n",
    "                                   'primary_voltage', 'secondary_voltage']]\n",
    "\n",
    "# Display the results.\n",
    "df_transformers"
   ]
  },
  {
   "cell_type": "markdown",
   "id": "18bbd93a",
   "metadata": {},
   "source": [
    "---"
   ]
  },
  {
   "cell_type": "markdown",
   "id": "523b283b",
   "metadata": {},
   "source": [
    "### Define the grid id and grid element that you would like to investigate"
   ]
  },
  {
   "cell_type": "code",
   "execution_count": 6,
   "id": "64d10b32",
   "metadata": {},
   "outputs": [],
   "source": [
    "grid_id = 'North Central Zone'\n",
    "grid_element_id = '12373_hvmv'"
   ]
  },
  {
   "cell_type": "markdown",
   "id": "dcfad39b",
   "metadata": {},
   "source": [
    "### Create View grid_element_metric to grab meters and other grid elements info"
   ]
  },
  {
   "cell_type": "code",
   "execution_count": 7,
   "id": "eacb1bee",
   "metadata": {},
   "outputs": [
    {
     "data": {
      "text/plain": [
       "[]"
      ]
     },
     "execution_count": 7,
     "metadata": {},
     "output_type": "execute_result"
    }
   ],
   "source": [
    "%%sql\n",
    "    \n",
    "CREATE OR REPLACE TEMPORARY VIEW grid_element_metric AS\n",
    "    SELECT grid_id,\n",
    "            grid_element_id,\n",
    "            phases,\n",
    "            type,\n",
    "            provider,\n",
    "            direction,\n",
    "            friendly_id,\n",
    "            metric_key AS metric,\n",
    "            valid,\n",
    "            timestamp,\n",
    "            value\n",
    "    FROM grid_element_data_source geds\n",
    "    JOIN UNNEST(geds.metrics::TEXT[]) AS metric_key\n",
    "        ON true\n",
    "    LEFT JOIN ts_data_source_select(grid_element_data_source_id, metric_key) AS ts\n",
    "        ON true;"
   ]
  },
  {
   "cell_type": "markdown",
   "id": "7d4a0210",
   "metadata": {},
   "source": [
    "### Create View meter_data_source"
   ]
  },
  {
   "cell_type": "code",
   "execution_count": 8,
   "id": "3f866892",
   "metadata": {},
   "outputs": [
    {
     "data": {
      "text/plain": [
       "[]"
      ]
     },
     "execution_count": 8,
     "metadata": {},
     "output_type": "execute_result"
    }
   ],
   "source": [
    "%%sql\n",
    "\n",
    "CREATE OR REPLACE TEMPORARY VIEW meter_data_source2 AS\n",
    "    SELECT meter.grid_id,\n",
    "            meter.grid_element_id,\n",
    "            geds.grid_element_data_source_id,\n",
    "            geds.friendly_id,\n",
    "            geds.phases,\n",
    "            geds.provider,\n",
    "            metric_key as metric,\n",
    "            lower(geds.valid) as start_time,\n",
    "            upper(geds.valid) as end_time\n",
    "    FROM grid_get_downstream('{grid_id}', '{grid_element_id}') AS meter\n",
    "    LEFT JOIN grid_element_data_source geds\n",
    "        ON meter.grid_element_id = geds.grid_element_id\n",
    "        AND meter.grid_id = geds.grid_id\n",
    "        AND geds.type = 'CONSUMER'\n",
    "    JOIN UNNEST(geds.metrics::TEXT[]) AS metric_key\n",
    "        ON true\n",
    "    WHERE meter.type = 'Meter';"
   ]
  },
  {
   "cell_type": "markdown",
   "id": "a737f78e",
   "metadata": {},
   "source": [
    "### Create View meter_consumption"
   ]
  },
  {
   "cell_type": "code",
   "execution_count": 9,
   "id": "55265554",
   "metadata": {},
   "outputs": [
    {
     "data": {
      "text/plain": [
       "[]"
      ]
     },
     "execution_count": 9,
     "metadata": {},
     "output_type": "execute_result"
    }
   ],
   "source": [
    "%%sql\n",
    "\n",
    "CREATE OR REPLACE TEMPORARY VIEW meter_consumption2 AS\n",
    "SELECT meter.grid_id,\n",
    "        meter.grid_element_id,\n",
    "        meter.friendly_id,\n",
    "        meter.phases,\n",
    "        timestamp,\n",
    "        value AS kWh\n",
    "FROM meter_data_source2 meter\n",
    "LEFT JOIN grid_element_metric gem\n",
    "    ON gem.grid_id = meter.grid_id\n",
    "    AND gem.grid_element_id = meter.grid_element_id\n",
    "WHERE gem.metric = 'kWh'\n",
    "   AND gem.type = 'CONSUMER';"
   ]
  },
  {
   "cell_type": "code",
   "execution_count": 10,
   "id": "ed9eaf05",
   "metadata": {},
   "outputs": [
    {
     "data": {
      "text/html": [
       "<table>\n",
       "    <tr>\n",
       "        <th>name</th>\n",
       "        <th>value</th>\n",
       "    </tr>\n",
       "    <tr>\n",
       "        <td>Meters Found</td>\n",
       "        <td>316</td>\n",
       "    </tr>\n",
       "    <tr>\n",
       "        <td>Meters w/ Datasources</td>\n",
       "        <td>316</td>\n",
       "    </tr>\n",
       "    <tr>\n",
       "        <td>Common DS Timerange</td>\n",
       "        <td>2021-01-01 08:00:00+00 - </td>\n",
       "    </tr>\n",
       "    <tr>\n",
       "        <td>Common Timeseries Timerange</td>\n",
       "        <td>2021-01-01 05:00:00+00 - 2024-06-18 19:00:00+00</td>\n",
       "    </tr>\n",
       "    <tr>\n",
       "        <td>Total Consumption</td>\n",
       "        <td>33250481.38449925</td>\n",
       "    </tr>\n",
       "</table>"
      ],
      "text/plain": [
       "[('Meters Found', '316'),\n",
       " ('Meters w/ Datasources', '316'),\n",
       " ('Common DS Timerange', '2021-01-01 08:00:00+00 - '),\n",
       " ('Common Timeseries Timerange', '2021-01-01 05:00:00+00 - 2024-06-18 19:00:00+00'),\n",
       " ('Total Consumption', '33250481.38449925')]"
      ]
     },
     "execution_count": 10,
     "metadata": {},
     "output_type": "execute_result"
    }
   ],
   "source": [
    "%%sql\n",
    "\n",
    "WITH ts_stats AS (\n",
    "    SELECT SUM(kWh) AS kWh, MIN(timestamp) AS start_timerange, MAX(timestamp) AS end_timerange\n",
    "    FROM meter_consumption2\n",
    ")\n",
    "SELECT name, value FROM (\n",
    "    SELECT 1 AS idx, 'Meters Found' AS name, (SELECT COUNT(DISTINCT grid_element_id) FROM meter_data_source2)::text AS value\n",
    "    UNION\n",
    "    SELECT 2, 'Meters w/ Datasources', (SELECT COUNT(DISTINCT grid_element_id) FROM meter_data_source2 WHERE grid_element_data_source_id IS NOT NULL)::text\n",
    "    UNION\n",
    "    SELECT 3, 'Common DS Timerange', (SELECT CONCAT(MAX(start_time), ' - ',  MIN(end_time)) FROM meter_data_source2)::text\n",
    "    UNION\n",
    "    SELECT 4, 'Common Timeseries Timerange', (SELECT CONCAT(start_timerange, ' - ', end_timerange) FROM ts_stats)::text\n",
    "    UNION\n",
    "    SELECT 5, 'Total Consumption', (SELECT kwh FROM ts_stats)::text\n",
    ") x ORDER BY idx\n",
    ";"
   ]
  },
  {
   "cell_type": "code",
   "execution_count": 11,
   "id": "91b145a7",
   "metadata": {},
   "outputs": [],
   "source": [
    "# grab all information from sql and save to a python varable\n",
    "# the information is restricted to timestamp >= '2024-01-01 00:00:00+00:00'\n",
    "meter_consumption = %sql SELECT grid_id,\\\n",
    "                grid_element_id,\\\n",
    "                friendly_id,\\\n",
    "                phases,\\\n",
    "                timestamp,\\\n",
    "                kWh\\\n",
    "            FROM meter_consumption2\\\n",
    "            WHERE timestamp >= '2024-01-01 00:00:00+00:00';\n",
    "                    \n",
    "# Sort the data by date saved as `month`.\n",
    "meter_consumption_df = meter_consumption.DataFrame()"
   ]
  },
  {
   "cell_type": "code",
   "execution_count": 12,
   "id": "80476de5",
   "metadata": {},
   "outputs": [
    {
     "data": {
      "text/html": [
       "<div>\n",
       "<style scoped>\n",
       "    .dataframe tbody tr th:only-of-type {\n",
       "        vertical-align: middle;\n",
       "    }\n",
       "\n",
       "    .dataframe tbody tr th {\n",
       "        vertical-align: top;\n",
       "    }\n",
       "\n",
       "    .dataframe thead th {\n",
       "        text-align: right;\n",
       "    }\n",
       "</style>\n",
       "<table border=\"1\" class=\"dataframe\">\n",
       "  <thead>\n",
       "    <tr style=\"text-align: right;\">\n",
       "      <th></th>\n",
       "      <th>grid_id</th>\n",
       "      <th>grid_element_id</th>\n",
       "      <th>friendly_id</th>\n",
       "      <th>phases</th>\n",
       "      <th>timestamp</th>\n",
       "      <th>kwh</th>\n",
       "    </tr>\n",
       "  </thead>\n",
       "  <tbody>\n",
       "    <tr>\n",
       "      <th>0</th>\n",
       "      <td>North Central Zone</td>\n",
       "      <td>17AY10-1</td>\n",
       "      <td>17AY10-1</td>\n",
       "      <td>B</td>\n",
       "      <td>2024-01-01 00:00:00+00:00</td>\n",
       "      <td>1.366261</td>\n",
       "    </tr>\n",
       "    <tr>\n",
       "      <th>1</th>\n",
       "      <td>North Central Zone</td>\n",
       "      <td>17AY10-1</td>\n",
       "      <td>17AY10-1</td>\n",
       "      <td>B</td>\n",
       "      <td>2024-01-01 01:00:00+00:00</td>\n",
       "      <td>2.120388</td>\n",
       "    </tr>\n",
       "    <tr>\n",
       "      <th>2</th>\n",
       "      <td>North Central Zone</td>\n",
       "      <td>17AY10-1</td>\n",
       "      <td>17AY10-1</td>\n",
       "      <td>B</td>\n",
       "      <td>2024-01-01 02:00:00+00:00</td>\n",
       "      <td>1.567344</td>\n",
       "    </tr>\n",
       "    <tr>\n",
       "      <th>3</th>\n",
       "      <td>North Central Zone</td>\n",
       "      <td>17AY10-1</td>\n",
       "      <td>17AY10-1</td>\n",
       "      <td>B</td>\n",
       "      <td>2024-01-01 03:00:00+00:00</td>\n",
       "      <td>1.822171</td>\n",
       "    </tr>\n",
       "    <tr>\n",
       "      <th>4</th>\n",
       "      <td>North Central Zone</td>\n",
       "      <td>17AY10-1</td>\n",
       "      <td>17AY10-1</td>\n",
       "      <td>B</td>\n",
       "      <td>2024-01-01 04:00:00+00:00</td>\n",
       "      <td>1.434942</td>\n",
       "    </tr>\n",
       "  </tbody>\n",
       "</table>\n",
       "</div>"
      ],
      "text/plain": [
       "              grid_id grid_element_id friendly_id phases  \\\n",
       "0  North Central Zone        17AY10-1    17AY10-1      B   \n",
       "1  North Central Zone        17AY10-1    17AY10-1      B   \n",
       "2  North Central Zone        17AY10-1    17AY10-1      B   \n",
       "3  North Central Zone        17AY10-1    17AY10-1      B   \n",
       "4  North Central Zone        17AY10-1    17AY10-1      B   \n",
       "\n",
       "                  timestamp       kwh  \n",
       "0 2024-01-01 00:00:00+00:00  1.366261  \n",
       "1 2024-01-01 01:00:00+00:00  2.120388  \n",
       "2 2024-01-01 02:00:00+00:00  1.567344  \n",
       "3 2024-01-01 03:00:00+00:00  1.822171  \n",
       "4 2024-01-01 04:00:00+00:00  1.434942  "
      ]
     },
     "execution_count": 12,
     "metadata": {},
     "output_type": "execute_result"
    }
   ],
   "source": [
    "meter_consumption_df.head()"
   ]
  },
  {
   "cell_type": "code",
   "execution_count": 13,
   "id": "b45629c9",
   "metadata": {},
   "outputs": [
    {
     "name": "stderr",
     "output_type": "stream",
     "text": [
      "/var/folders/8f/xm08m3255q9b0j33fhp73q_w0000gn/T/ipykernel_14140/2765522095.py:2: UserWarning: Converting to PeriodArray/Index representation will drop timezone information.\n",
      "  meter_consumption_df['month'] = meter_consumption_df['timestamp'].dt.to_period('M').dt.to_timestamp().dt.date\n",
      "/var/folders/8f/xm08m3255q9b0j33fhp73q_w0000gn/T/ipykernel_14140/2765522095.py:3: UserWarning: Converting to PeriodArray/Index representation will drop timezone information.\n",
      "  meter_consumption_df['day'] = meter_consumption_df['timestamp'].dt.to_period('D').dt.to_timestamp().dt.date\n"
     ]
    }
   ],
   "source": [
    "# Create columns to indicate the month, day and hour information\n",
    "meter_consumption_df['month'] = meter_consumption_df['timestamp'].dt.to_period('M').dt.to_timestamp().dt.date\n",
    "meter_consumption_df['day'] = meter_consumption_df['timestamp'].dt.to_period('D').dt.to_timestamp().dt.date\n",
    "meter_consumption_df['hour'] = meter_consumption_df['timestamp']"
   ]
  },
  {
   "cell_type": "code",
   "execution_count": 14,
   "id": "17a0f97d",
   "metadata": {},
   "outputs": [
    {
     "data": {
      "text/html": [
       "<div>\n",
       "<style scoped>\n",
       "    .dataframe tbody tr th:only-of-type {\n",
       "        vertical-align: middle;\n",
       "    }\n",
       "\n",
       "    .dataframe tbody tr th {\n",
       "        vertical-align: top;\n",
       "    }\n",
       "\n",
       "    .dataframe thead th {\n",
       "        text-align: right;\n",
       "    }\n",
       "</style>\n",
       "<table border=\"1\" class=\"dataframe\">\n",
       "  <thead>\n",
       "    <tr style=\"text-align: right;\">\n",
       "      <th></th>\n",
       "      <th>grid_id</th>\n",
       "      <th>grid_element_id</th>\n",
       "      <th>friendly_id</th>\n",
       "      <th>phases</th>\n",
       "      <th>timestamp</th>\n",
       "      <th>kwh</th>\n",
       "      <th>month</th>\n",
       "      <th>day</th>\n",
       "      <th>hour</th>\n",
       "    </tr>\n",
       "  </thead>\n",
       "  <tbody>\n",
       "    <tr>\n",
       "      <th>0</th>\n",
       "      <td>North Central Zone</td>\n",
       "      <td>17AY10-1</td>\n",
       "      <td>17AY10-1</td>\n",
       "      <td>B</td>\n",
       "      <td>2024-01-01 00:00:00+00:00</td>\n",
       "      <td>1.366261</td>\n",
       "      <td>2024-01-01</td>\n",
       "      <td>2024-01-01</td>\n",
       "      <td>2024-01-01 00:00:00+00:00</td>\n",
       "    </tr>\n",
       "    <tr>\n",
       "      <th>1</th>\n",
       "      <td>North Central Zone</td>\n",
       "      <td>17AY10-1</td>\n",
       "      <td>17AY10-1</td>\n",
       "      <td>B</td>\n",
       "      <td>2024-01-01 01:00:00+00:00</td>\n",
       "      <td>2.120388</td>\n",
       "      <td>2024-01-01</td>\n",
       "      <td>2024-01-01</td>\n",
       "      <td>2024-01-01 01:00:00+00:00</td>\n",
       "    </tr>\n",
       "    <tr>\n",
       "      <th>2</th>\n",
       "      <td>North Central Zone</td>\n",
       "      <td>17AY10-1</td>\n",
       "      <td>17AY10-1</td>\n",
       "      <td>B</td>\n",
       "      <td>2024-01-01 02:00:00+00:00</td>\n",
       "      <td>1.567344</td>\n",
       "      <td>2024-01-01</td>\n",
       "      <td>2024-01-01</td>\n",
       "      <td>2024-01-01 02:00:00+00:00</td>\n",
       "    </tr>\n",
       "    <tr>\n",
       "      <th>3</th>\n",
       "      <td>North Central Zone</td>\n",
       "      <td>17AY10-1</td>\n",
       "      <td>17AY10-1</td>\n",
       "      <td>B</td>\n",
       "      <td>2024-01-01 03:00:00+00:00</td>\n",
       "      <td>1.822171</td>\n",
       "      <td>2024-01-01</td>\n",
       "      <td>2024-01-01</td>\n",
       "      <td>2024-01-01 03:00:00+00:00</td>\n",
       "    </tr>\n",
       "    <tr>\n",
       "      <th>4</th>\n",
       "      <td>North Central Zone</td>\n",
       "      <td>17AY10-1</td>\n",
       "      <td>17AY10-1</td>\n",
       "      <td>B</td>\n",
       "      <td>2024-01-01 04:00:00+00:00</td>\n",
       "      <td>1.434942</td>\n",
       "      <td>2024-01-01</td>\n",
       "      <td>2024-01-01</td>\n",
       "      <td>2024-01-01 04:00:00+00:00</td>\n",
       "    </tr>\n",
       "    <tr>\n",
       "      <th>...</th>\n",
       "      <td>...</td>\n",
       "      <td>...</td>\n",
       "      <td>...</td>\n",
       "      <td>...</td>\n",
       "      <td>...</td>\n",
       "      <td>...</td>\n",
       "      <td>...</td>\n",
       "      <td>...</td>\n",
       "      <td>...</td>\n",
       "    </tr>\n",
       "    <tr>\n",
       "      <th>2576027</th>\n",
       "      <td>North Central Zone</td>\n",
       "      <td>17Y95-1</td>\n",
       "      <td>17Y95-1</td>\n",
       "      <td>A</td>\n",
       "      <td>2024-06-18 15:00:00+00:00</td>\n",
       "      <td>2.847628</td>\n",
       "      <td>2024-06-01</td>\n",
       "      <td>2024-06-18</td>\n",
       "      <td>2024-06-18 15:00:00+00:00</td>\n",
       "    </tr>\n",
       "    <tr>\n",
       "      <th>2576028</th>\n",
       "      <td>North Central Zone</td>\n",
       "      <td>17Y95-1</td>\n",
       "      <td>17Y95-1</td>\n",
       "      <td>A</td>\n",
       "      <td>2024-06-18 16:00:00+00:00</td>\n",
       "      <td>2.308548</td>\n",
       "      <td>2024-06-01</td>\n",
       "      <td>2024-06-18</td>\n",
       "      <td>2024-06-18 16:00:00+00:00</td>\n",
       "    </tr>\n",
       "    <tr>\n",
       "      <th>2576029</th>\n",
       "      <td>North Central Zone</td>\n",
       "      <td>17Y95-1</td>\n",
       "      <td>17Y95-1</td>\n",
       "      <td>A</td>\n",
       "      <td>2024-06-18 17:00:00+00:00</td>\n",
       "      <td>2.526070</td>\n",
       "      <td>2024-06-01</td>\n",
       "      <td>2024-06-18</td>\n",
       "      <td>2024-06-18 17:00:00+00:00</td>\n",
       "    </tr>\n",
       "    <tr>\n",
       "      <th>2576030</th>\n",
       "      <td>North Central Zone</td>\n",
       "      <td>17Y95-1</td>\n",
       "      <td>17Y95-1</td>\n",
       "      <td>A</td>\n",
       "      <td>2024-06-18 18:00:00+00:00</td>\n",
       "      <td>1.950663</td>\n",
       "      <td>2024-06-01</td>\n",
       "      <td>2024-06-18</td>\n",
       "      <td>2024-06-18 18:00:00+00:00</td>\n",
       "    </tr>\n",
       "    <tr>\n",
       "      <th>2576031</th>\n",
       "      <td>North Central Zone</td>\n",
       "      <td>17Y95-1</td>\n",
       "      <td>17Y95-1</td>\n",
       "      <td>A</td>\n",
       "      <td>2024-06-18 19:00:00+00:00</td>\n",
       "      <td>2.185867</td>\n",
       "      <td>2024-06-01</td>\n",
       "      <td>2024-06-18</td>\n",
       "      <td>2024-06-18 19:00:00+00:00</td>\n",
       "    </tr>\n",
       "  </tbody>\n",
       "</table>\n",
       "<p>2576032 rows × 9 columns</p>\n",
       "</div>"
      ],
      "text/plain": [
       "                    grid_id grid_element_id friendly_id phases  \\\n",
       "0        North Central Zone        17AY10-1    17AY10-1      B   \n",
       "1        North Central Zone        17AY10-1    17AY10-1      B   \n",
       "2        North Central Zone        17AY10-1    17AY10-1      B   \n",
       "3        North Central Zone        17AY10-1    17AY10-1      B   \n",
       "4        North Central Zone        17AY10-1    17AY10-1      B   \n",
       "...                     ...             ...         ...    ...   \n",
       "2576027  North Central Zone         17Y95-1     17Y95-1      A   \n",
       "2576028  North Central Zone         17Y95-1     17Y95-1      A   \n",
       "2576029  North Central Zone         17Y95-1     17Y95-1      A   \n",
       "2576030  North Central Zone         17Y95-1     17Y95-1      A   \n",
       "2576031  North Central Zone         17Y95-1     17Y95-1      A   \n",
       "\n",
       "                        timestamp       kwh       month         day  \\\n",
       "0       2024-01-01 00:00:00+00:00  1.366261  2024-01-01  2024-01-01   \n",
       "1       2024-01-01 01:00:00+00:00  2.120388  2024-01-01  2024-01-01   \n",
       "2       2024-01-01 02:00:00+00:00  1.567344  2024-01-01  2024-01-01   \n",
       "3       2024-01-01 03:00:00+00:00  1.822171  2024-01-01  2024-01-01   \n",
       "4       2024-01-01 04:00:00+00:00  1.434942  2024-01-01  2024-01-01   \n",
       "...                           ...       ...         ...         ...   \n",
       "2576027 2024-06-18 15:00:00+00:00  2.847628  2024-06-01  2024-06-18   \n",
       "2576028 2024-06-18 16:00:00+00:00  2.308548  2024-06-01  2024-06-18   \n",
       "2576029 2024-06-18 17:00:00+00:00  2.526070  2024-06-01  2024-06-18   \n",
       "2576030 2024-06-18 18:00:00+00:00  1.950663  2024-06-01  2024-06-18   \n",
       "2576031 2024-06-18 19:00:00+00:00  2.185867  2024-06-01  2024-06-18   \n",
       "\n",
       "                             hour  \n",
       "0       2024-01-01 00:00:00+00:00  \n",
       "1       2024-01-01 01:00:00+00:00  \n",
       "2       2024-01-01 02:00:00+00:00  \n",
       "3       2024-01-01 03:00:00+00:00  \n",
       "4       2024-01-01 04:00:00+00:00  \n",
       "...                           ...  \n",
       "2576027 2024-06-18 15:00:00+00:00  \n",
       "2576028 2024-06-18 16:00:00+00:00  \n",
       "2576029 2024-06-18 17:00:00+00:00  \n",
       "2576030 2024-06-18 18:00:00+00:00  \n",
       "2576031 2024-06-18 19:00:00+00:00  \n",
       "\n",
       "[2576032 rows x 9 columns]"
      ]
     },
     "execution_count": 14,
     "metadata": {},
     "output_type": "execute_result"
    }
   ],
   "source": [
    "meter_consumption_df"
   ]
  },
  {
   "cell_type": "code",
   "execution_count": 15,
   "id": "3ea3eccc",
   "metadata": {},
   "outputs": [],
   "source": [
    "meter_list = meter_consumption_df['grid_element_id'].unique()"
   ]
  },
  {
   "cell_type": "code",
   "execution_count": 16,
   "id": "825851a3",
   "metadata": {},
   "outputs": [],
   "source": [
    "element_downstream = %sql SELECT grid_id, grid_element_id, phases, is_producer, terminal1_cn, terminal2_cn FROM grid_get_nearby('{grid_id}', '{grid_element_id}', 200)"
   ]
  },
  {
   "cell_type": "code",
   "execution_count": 17,
   "id": "ee479919",
   "metadata": {},
   "outputs": [
    {
     "data": {
      "text/html": [
       "<div>\n",
       "<style scoped>\n",
       "    .dataframe tbody tr th:only-of-type {\n",
       "        vertical-align: middle;\n",
       "    }\n",
       "\n",
       "    .dataframe tbody tr th {\n",
       "        vertical-align: top;\n",
       "    }\n",
       "\n",
       "    .dataframe thead th {\n",
       "        text-align: right;\n",
       "    }\n",
       "</style>\n",
       "<table border=\"1\" class=\"dataframe\">\n",
       "  <thead>\n",
       "    <tr style=\"text-align: right;\">\n",
       "      <th></th>\n",
       "      <th>grid_id</th>\n",
       "      <th>grid_element_id</th>\n",
       "      <th>phases</th>\n",
       "      <th>is_producer</th>\n",
       "      <th>terminal1_cn</th>\n",
       "      <th>terminal2_cn</th>\n",
       "    </tr>\n",
       "  </thead>\n",
       "  <tbody>\n",
       "    <tr>\n",
       "      <th>0</th>\n",
       "      <td>North Central Zone</td>\n",
       "      <td>9496</td>\n",
       "      <td>B</td>\n",
       "      <td>False</td>\n",
       "      <td>VCN.L17-57921</td>\n",
       "      <td>VCN.9496</td>\n",
       "    </tr>\n",
       "    <tr>\n",
       "      <th>1</th>\n",
       "      <td>North Central Zone</td>\n",
       "      <td>42574</td>\n",
       "      <td>A</td>\n",
       "      <td>False</td>\n",
       "      <td>VCN.L17-57643</td>\n",
       "      <td>VCN.42574</td>\n",
       "    </tr>\n",
       "    <tr>\n",
       "      <th>2</th>\n",
       "      <td>North Central Zone</td>\n",
       "      <td>120972</td>\n",
       "      <td>C</td>\n",
       "      <td>False</td>\n",
       "      <td>VCN.L17-58188</td>\n",
       "      <td>VCN.120972</td>\n",
       "    </tr>\n",
       "    <tr>\n",
       "      <th>3</th>\n",
       "      <td>North Central Zone</td>\n",
       "      <td>2553</td>\n",
       "      <td>B</td>\n",
       "      <td>False</td>\n",
       "      <td>VCN.L17-57843</td>\n",
       "      <td>VCN.2553</td>\n",
       "    </tr>\n",
       "    <tr>\n",
       "      <th>4</th>\n",
       "      <td>North Central Zone</td>\n",
       "      <td>L17-131416</td>\n",
       "      <td>B</td>\n",
       "      <td>False</td>\n",
       "      <td>VCN.L17-57814</td>\n",
       "      <td>VCN.L17-131416</td>\n",
       "    </tr>\n",
       "    <tr>\n",
       "      <th>...</th>\n",
       "      <td>...</td>\n",
       "      <td>...</td>\n",
       "      <td>...</td>\n",
       "      <td>...</td>\n",
       "      <td>...</td>\n",
       "      <td>...</td>\n",
       "    </tr>\n",
       "    <tr>\n",
       "      <th>2056</th>\n",
       "      <td>North Central Zone</td>\n",
       "      <td>26758</td>\n",
       "      <td>A</td>\n",
       "      <td>False</td>\n",
       "      <td>VCN.102101</td>\n",
       "      <td>VCN.26758</td>\n",
       "    </tr>\n",
       "    <tr>\n",
       "      <th>2057</th>\n",
       "      <td>North Central Zone</td>\n",
       "      <td>14817</td>\n",
       "      <td>A</td>\n",
       "      <td>False</td>\n",
       "      <td>VCN.48566</td>\n",
       "      <td>VCN.14817</td>\n",
       "    </tr>\n",
       "    <tr>\n",
       "      <th>2058</th>\n",
       "      <td>North Central Zone</td>\n",
       "      <td>17Y169</td>\n",
       "      <td>A</td>\n",
       "      <td>False</td>\n",
       "      <td>VCN.27011</td>\n",
       "      <td>VCN.17Y169</td>\n",
       "    </tr>\n",
       "    <tr>\n",
       "      <th>2059</th>\n",
       "      <td>North Central Zone</td>\n",
       "      <td>L17-58272</td>\n",
       "      <td>B</td>\n",
       "      <td>False</td>\n",
       "      <td>VCN.L17-58271</td>\n",
       "      <td>VCN.L17-58272</td>\n",
       "    </tr>\n",
       "    <tr>\n",
       "      <th>2060</th>\n",
       "      <td>North Central Zone</td>\n",
       "      <td>L17-58177</td>\n",
       "      <td>C</td>\n",
       "      <td>False</td>\n",
       "      <td>VCN.39223</td>\n",
       "      <td>VCN.L17-58177</td>\n",
       "    </tr>\n",
       "  </tbody>\n",
       "</table>\n",
       "<p>2061 rows × 6 columns</p>\n",
       "</div>"
      ],
      "text/plain": [
       "                 grid_id grid_element_id phases  is_producer   terminal1_cn  \\\n",
       "0     North Central Zone            9496      B        False  VCN.L17-57921   \n",
       "1     North Central Zone           42574      A        False  VCN.L17-57643   \n",
       "2     North Central Zone          120972      C        False  VCN.L17-58188   \n",
       "3     North Central Zone            2553      B        False  VCN.L17-57843   \n",
       "4     North Central Zone      L17-131416      B        False  VCN.L17-57814   \n",
       "...                  ...             ...    ...          ...            ...   \n",
       "2056  North Central Zone           26758      A        False     VCN.102101   \n",
       "2057  North Central Zone           14817      A        False      VCN.48566   \n",
       "2058  North Central Zone          17Y169      A        False      VCN.27011   \n",
       "2059  North Central Zone       L17-58272      B        False  VCN.L17-58271   \n",
       "2060  North Central Zone       L17-58177      C        False      VCN.39223   \n",
       "\n",
       "        terminal2_cn  \n",
       "0           VCN.9496  \n",
       "1          VCN.42574  \n",
       "2         VCN.120972  \n",
       "3           VCN.2553  \n",
       "4     VCN.L17-131416  \n",
       "...              ...  \n",
       "2056       VCN.26758  \n",
       "2057       VCN.14817  \n",
       "2058      VCN.17Y169  \n",
       "2059   VCN.L17-58272  \n",
       "2060   VCN.L17-58177  \n",
       "\n",
       "[2061 rows x 6 columns]"
      ]
     },
     "execution_count": 17,
     "metadata": {},
     "output_type": "execute_result"
    }
   ],
   "source": [
    "element_downstream = element_downstream.DataFrame()\n",
    "element_downstream"
   ]
  },
  {
   "cell_type": "code",
   "execution_count": 18,
   "id": "989263f9",
   "metadata": {},
   "outputs": [
    {
     "data": {
      "text/html": [
       "<div>\n",
       "<style scoped>\n",
       "    .dataframe tbody tr th:only-of-type {\n",
       "        vertical-align: middle;\n",
       "    }\n",
       "\n",
       "    .dataframe tbody tr th {\n",
       "        vertical-align: top;\n",
       "    }\n",
       "\n",
       "    .dataframe thead th {\n",
       "        text-align: right;\n",
       "    }\n",
       "</style>\n",
       "<table border=\"1\" class=\"dataframe\">\n",
       "  <thead>\n",
       "    <tr style=\"text-align: right;\">\n",
       "      <th></th>\n",
       "      <th>grid_element_id</th>\n",
       "      <th>junction</th>\n",
       "      <th>junction_terminal1</th>\n",
       "    </tr>\n",
       "  </thead>\n",
       "  <tbody>\n",
       "    <tr>\n",
       "      <th>0</th>\n",
       "      <td>17AY10-1</td>\n",
       "      <td>L17-57718</td>\n",
       "      <td>VCN.L17-57718</td>\n",
       "    </tr>\n",
       "    <tr>\n",
       "      <th>1</th>\n",
       "      <td>17AY10-1ZA</td>\n",
       "      <td>L17-57718</td>\n",
       "      <td>VCN.L17-57718</td>\n",
       "    </tr>\n",
       "    <tr>\n",
       "      <th>2</th>\n",
       "      <td>17AY13-1</td>\n",
       "      <td>L17-57718</td>\n",
       "      <td>VCN.L17-57718</td>\n",
       "    </tr>\n",
       "    <tr>\n",
       "      <th>3</th>\n",
       "      <td>17AY14</td>\n",
       "      <td>L17-57718</td>\n",
       "      <td>VCN.L17-57718</td>\n",
       "    </tr>\n",
       "    <tr>\n",
       "      <th>4</th>\n",
       "      <td>17AY14-1</td>\n",
       "      <td>L17-57718</td>\n",
       "      <td>VCN.L17-57718</td>\n",
       "    </tr>\n",
       "    <tr>\n",
       "      <th>...</th>\n",
       "      <td>...</td>\n",
       "      <td>...</td>\n",
       "      <td>...</td>\n",
       "    </tr>\n",
       "    <tr>\n",
       "      <th>311</th>\n",
       "      <td>17Y91-4-1ZA</td>\n",
       "      <td>L17-58332</td>\n",
       "      <td>VCN.L17-58332</td>\n",
       "    </tr>\n",
       "    <tr>\n",
       "      <th>312</th>\n",
       "      <td>17Y91-7</td>\n",
       "      <td>L17-58338</td>\n",
       "      <td>VCN.L17-58338</td>\n",
       "    </tr>\n",
       "    <tr>\n",
       "      <th>313</th>\n",
       "      <td>17Y92ZA</td>\n",
       "      <td>L17-58324</td>\n",
       "      <td>VCN.L17-58324</td>\n",
       "    </tr>\n",
       "    <tr>\n",
       "      <th>314</th>\n",
       "      <td>17Y92ZB</td>\n",
       "      <td>L17-58324</td>\n",
       "      <td>VCN.L17-58324</td>\n",
       "    </tr>\n",
       "    <tr>\n",
       "      <th>315</th>\n",
       "      <td>17Y95-1</td>\n",
       "      <td>L17-58324</td>\n",
       "      <td>VCN.L17-58324</td>\n",
       "    </tr>\n",
       "  </tbody>\n",
       "</table>\n",
       "<p>316 rows × 3 columns</p>\n",
       "</div>"
      ],
      "text/plain": [
       "    grid_element_id   junction junction_terminal1\n",
       "0          17AY10-1  L17-57718      VCN.L17-57718\n",
       "1        17AY10-1ZA  L17-57718      VCN.L17-57718\n",
       "2          17AY13-1  L17-57718      VCN.L17-57718\n",
       "3            17AY14  L17-57718      VCN.L17-57718\n",
       "4          17AY14-1  L17-57718      VCN.L17-57718\n",
       "..              ...        ...                ...\n",
       "311     17Y91-4-1ZA  L17-58332      VCN.L17-58332\n",
       "312         17Y91-7  L17-58338      VCN.L17-58338\n",
       "313         17Y92ZA  L17-58324      VCN.L17-58324\n",
       "314         17Y92ZB  L17-58324      VCN.L17-58324\n",
       "315         17Y95-1  L17-58324      VCN.L17-58324\n",
       "\n",
       "[316 rows x 3 columns]"
      ]
     },
     "execution_count": 18,
     "metadata": {},
     "output_type": "execute_result"
    }
   ],
   "source": [
    "# Algorithm for grouping the meters according to its closest junction\n",
    "\n",
    "meter_terminals = []\n",
    "\n",
    "for meter in meter_list:\n",
    "    trace_element = element_downstream[element_downstream['grid_element_id']==meter]\n",
    "    junction = meter\n",
    "    terminal = \"\"\n",
    "    phase = \"ABC\"\n",
    "    \n",
    "    if len(trace_element['phases'].iloc[0])==1:\n",
    "        while len(trace_element['phases'].iloc[0])==1:\n",
    "            terminal = trace_element['terminal1_cn'].iloc[0]\n",
    "            trace_element = element_downstream[element_downstream['terminal2_cn']==terminal]\n",
    "        junction = trace_element['grid_element_id'].iloc[0]\n",
    "    else:\n",
    "        terminal = trace_element['terminal1_cn'].iloc[0]\n",
    "        \n",
    "    meter_terminals.append([meter, junction, terminal])\n",
    "    \n",
    "meter_group_df = pd.DataFrame(data=meter_terminals, columns=['grid_element_id', 'junction', 'junction_terminal1'])\n",
    "meter_group_df\n"
   ]
  },
  {
   "cell_type": "code",
   "execution_count": 19,
   "id": "5164cd31",
   "metadata": {},
   "outputs": [
    {
     "data": {
      "text/plain": [
       "34"
      ]
     },
     "execution_count": 19,
     "metadata": {},
     "output_type": "execute_result"
    }
   ],
   "source": [
    "len(meter_group_df['junction_terminal1'].unique())"
   ]
  },
  {
   "cell_type": "code",
   "execution_count": 20,
   "id": "5fb0d127",
   "metadata": {},
   "outputs": [
    {
     "data": {
      "text/html": [
       "<div>\n",
       "<style scoped>\n",
       "    .dataframe tbody tr th:only-of-type {\n",
       "        vertical-align: middle;\n",
       "    }\n",
       "\n",
       "    .dataframe tbody tr th {\n",
       "        vertical-align: top;\n",
       "    }\n",
       "\n",
       "    .dataframe thead th {\n",
       "        text-align: right;\n",
       "    }\n",
       "</style>\n",
       "<table border=\"1\" class=\"dataframe\">\n",
       "  <thead>\n",
       "    <tr style=\"text-align: right;\">\n",
       "      <th></th>\n",
       "      <th>grid_id</th>\n",
       "      <th>grid_element_id</th>\n",
       "      <th>friendly_id</th>\n",
       "      <th>phases</th>\n",
       "      <th>timestamp</th>\n",
       "      <th>kwh</th>\n",
       "      <th>month</th>\n",
       "      <th>day</th>\n",
       "      <th>hour</th>\n",
       "      <th>junction</th>\n",
       "      <th>junction_terminal1</th>\n",
       "    </tr>\n",
       "  </thead>\n",
       "  <tbody>\n",
       "    <tr>\n",
       "      <th>0</th>\n",
       "      <td>North Central Zone</td>\n",
       "      <td>17AY10-1</td>\n",
       "      <td>17AY10-1</td>\n",
       "      <td>B</td>\n",
       "      <td>2024-01-01 00:00:00+00:00</td>\n",
       "      <td>1.366261</td>\n",
       "      <td>2024-01-01</td>\n",
       "      <td>2024-01-01</td>\n",
       "      <td>2024-01-01 00:00:00+00:00</td>\n",
       "      <td>L17-57718</td>\n",
       "      <td>VCN.L17-57718</td>\n",
       "    </tr>\n",
       "    <tr>\n",
       "      <th>1</th>\n",
       "      <td>North Central Zone</td>\n",
       "      <td>17AY10-1</td>\n",
       "      <td>17AY10-1</td>\n",
       "      <td>B</td>\n",
       "      <td>2024-01-01 01:00:00+00:00</td>\n",
       "      <td>2.120388</td>\n",
       "      <td>2024-01-01</td>\n",
       "      <td>2024-01-01</td>\n",
       "      <td>2024-01-01 01:00:00+00:00</td>\n",
       "      <td>L17-57718</td>\n",
       "      <td>VCN.L17-57718</td>\n",
       "    </tr>\n",
       "    <tr>\n",
       "      <th>2</th>\n",
       "      <td>North Central Zone</td>\n",
       "      <td>17AY10-1</td>\n",
       "      <td>17AY10-1</td>\n",
       "      <td>B</td>\n",
       "      <td>2024-01-01 02:00:00+00:00</td>\n",
       "      <td>1.567344</td>\n",
       "      <td>2024-01-01</td>\n",
       "      <td>2024-01-01</td>\n",
       "      <td>2024-01-01 02:00:00+00:00</td>\n",
       "      <td>L17-57718</td>\n",
       "      <td>VCN.L17-57718</td>\n",
       "    </tr>\n",
       "    <tr>\n",
       "      <th>3</th>\n",
       "      <td>North Central Zone</td>\n",
       "      <td>17AY10-1</td>\n",
       "      <td>17AY10-1</td>\n",
       "      <td>B</td>\n",
       "      <td>2024-01-01 03:00:00+00:00</td>\n",
       "      <td>1.822171</td>\n",
       "      <td>2024-01-01</td>\n",
       "      <td>2024-01-01</td>\n",
       "      <td>2024-01-01 03:00:00+00:00</td>\n",
       "      <td>L17-57718</td>\n",
       "      <td>VCN.L17-57718</td>\n",
       "    </tr>\n",
       "    <tr>\n",
       "      <th>4</th>\n",
       "      <td>North Central Zone</td>\n",
       "      <td>17AY10-1</td>\n",
       "      <td>17AY10-1</td>\n",
       "      <td>B</td>\n",
       "      <td>2024-01-01 04:00:00+00:00</td>\n",
       "      <td>1.434942</td>\n",
       "      <td>2024-01-01</td>\n",
       "      <td>2024-01-01</td>\n",
       "      <td>2024-01-01 04:00:00+00:00</td>\n",
       "      <td>L17-57718</td>\n",
       "      <td>VCN.L17-57718</td>\n",
       "    </tr>\n",
       "    <tr>\n",
       "      <th>...</th>\n",
       "      <td>...</td>\n",
       "      <td>...</td>\n",
       "      <td>...</td>\n",
       "      <td>...</td>\n",
       "      <td>...</td>\n",
       "      <td>...</td>\n",
       "      <td>...</td>\n",
       "      <td>...</td>\n",
       "      <td>...</td>\n",
       "      <td>...</td>\n",
       "      <td>...</td>\n",
       "    </tr>\n",
       "    <tr>\n",
       "      <th>2576027</th>\n",
       "      <td>North Central Zone</td>\n",
       "      <td>17Y95-1</td>\n",
       "      <td>17Y95-1</td>\n",
       "      <td>A</td>\n",
       "      <td>2024-06-18 15:00:00+00:00</td>\n",
       "      <td>2.847628</td>\n",
       "      <td>2024-06-01</td>\n",
       "      <td>2024-06-18</td>\n",
       "      <td>2024-06-18 15:00:00+00:00</td>\n",
       "      <td>L17-58324</td>\n",
       "      <td>VCN.L17-58324</td>\n",
       "    </tr>\n",
       "    <tr>\n",
       "      <th>2576028</th>\n",
       "      <td>North Central Zone</td>\n",
       "      <td>17Y95-1</td>\n",
       "      <td>17Y95-1</td>\n",
       "      <td>A</td>\n",
       "      <td>2024-06-18 16:00:00+00:00</td>\n",
       "      <td>2.308548</td>\n",
       "      <td>2024-06-01</td>\n",
       "      <td>2024-06-18</td>\n",
       "      <td>2024-06-18 16:00:00+00:00</td>\n",
       "      <td>L17-58324</td>\n",
       "      <td>VCN.L17-58324</td>\n",
       "    </tr>\n",
       "    <tr>\n",
       "      <th>2576029</th>\n",
       "      <td>North Central Zone</td>\n",
       "      <td>17Y95-1</td>\n",
       "      <td>17Y95-1</td>\n",
       "      <td>A</td>\n",
       "      <td>2024-06-18 17:00:00+00:00</td>\n",
       "      <td>2.526070</td>\n",
       "      <td>2024-06-01</td>\n",
       "      <td>2024-06-18</td>\n",
       "      <td>2024-06-18 17:00:00+00:00</td>\n",
       "      <td>L17-58324</td>\n",
       "      <td>VCN.L17-58324</td>\n",
       "    </tr>\n",
       "    <tr>\n",
       "      <th>2576030</th>\n",
       "      <td>North Central Zone</td>\n",
       "      <td>17Y95-1</td>\n",
       "      <td>17Y95-1</td>\n",
       "      <td>A</td>\n",
       "      <td>2024-06-18 18:00:00+00:00</td>\n",
       "      <td>1.950663</td>\n",
       "      <td>2024-06-01</td>\n",
       "      <td>2024-06-18</td>\n",
       "      <td>2024-06-18 18:00:00+00:00</td>\n",
       "      <td>L17-58324</td>\n",
       "      <td>VCN.L17-58324</td>\n",
       "    </tr>\n",
       "    <tr>\n",
       "      <th>2576031</th>\n",
       "      <td>North Central Zone</td>\n",
       "      <td>17Y95-1</td>\n",
       "      <td>17Y95-1</td>\n",
       "      <td>A</td>\n",
       "      <td>2024-06-18 19:00:00+00:00</td>\n",
       "      <td>2.185867</td>\n",
       "      <td>2024-06-01</td>\n",
       "      <td>2024-06-18</td>\n",
       "      <td>2024-06-18 19:00:00+00:00</td>\n",
       "      <td>L17-58324</td>\n",
       "      <td>VCN.L17-58324</td>\n",
       "    </tr>\n",
       "  </tbody>\n",
       "</table>\n",
       "<p>2576032 rows × 11 columns</p>\n",
       "</div>"
      ],
      "text/plain": [
       "                    grid_id grid_element_id friendly_id phases  \\\n",
       "0        North Central Zone        17AY10-1    17AY10-1      B   \n",
       "1        North Central Zone        17AY10-1    17AY10-1      B   \n",
       "2        North Central Zone        17AY10-1    17AY10-1      B   \n",
       "3        North Central Zone        17AY10-1    17AY10-1      B   \n",
       "4        North Central Zone        17AY10-1    17AY10-1      B   \n",
       "...                     ...             ...         ...    ...   \n",
       "2576027  North Central Zone         17Y95-1     17Y95-1      A   \n",
       "2576028  North Central Zone         17Y95-1     17Y95-1      A   \n",
       "2576029  North Central Zone         17Y95-1     17Y95-1      A   \n",
       "2576030  North Central Zone         17Y95-1     17Y95-1      A   \n",
       "2576031  North Central Zone         17Y95-1     17Y95-1      A   \n",
       "\n",
       "                        timestamp       kwh       month         day  \\\n",
       "0       2024-01-01 00:00:00+00:00  1.366261  2024-01-01  2024-01-01   \n",
       "1       2024-01-01 01:00:00+00:00  2.120388  2024-01-01  2024-01-01   \n",
       "2       2024-01-01 02:00:00+00:00  1.567344  2024-01-01  2024-01-01   \n",
       "3       2024-01-01 03:00:00+00:00  1.822171  2024-01-01  2024-01-01   \n",
       "4       2024-01-01 04:00:00+00:00  1.434942  2024-01-01  2024-01-01   \n",
       "...                           ...       ...         ...         ...   \n",
       "2576027 2024-06-18 15:00:00+00:00  2.847628  2024-06-01  2024-06-18   \n",
       "2576028 2024-06-18 16:00:00+00:00  2.308548  2024-06-01  2024-06-18   \n",
       "2576029 2024-06-18 17:00:00+00:00  2.526070  2024-06-01  2024-06-18   \n",
       "2576030 2024-06-18 18:00:00+00:00  1.950663  2024-06-01  2024-06-18   \n",
       "2576031 2024-06-18 19:00:00+00:00  2.185867  2024-06-01  2024-06-18   \n",
       "\n",
       "                             hour   junction junction_terminal1  \n",
       "0       2024-01-01 00:00:00+00:00  L17-57718      VCN.L17-57718  \n",
       "1       2024-01-01 01:00:00+00:00  L17-57718      VCN.L17-57718  \n",
       "2       2024-01-01 02:00:00+00:00  L17-57718      VCN.L17-57718  \n",
       "3       2024-01-01 03:00:00+00:00  L17-57718      VCN.L17-57718  \n",
       "4       2024-01-01 04:00:00+00:00  L17-57718      VCN.L17-57718  \n",
       "...                           ...        ...                ...  \n",
       "2576027 2024-06-18 15:00:00+00:00  L17-58324      VCN.L17-58324  \n",
       "2576028 2024-06-18 16:00:00+00:00  L17-58324      VCN.L17-58324  \n",
       "2576029 2024-06-18 17:00:00+00:00  L17-58324      VCN.L17-58324  \n",
       "2576030 2024-06-18 18:00:00+00:00  L17-58324      VCN.L17-58324  \n",
       "2576031 2024-06-18 19:00:00+00:00  L17-58324      VCN.L17-58324  \n",
       "\n",
       "[2576032 rows x 11 columns]"
      ]
     },
     "execution_count": 20,
     "metadata": {},
     "output_type": "execute_result"
    }
   ],
   "source": [
    "# Concatenate meter consumption data with meter groups\n",
    "meter_consumption_df = meter_consumption_df.merge(meter_group_df, on='grid_element_id', how='left')\n",
    "meter_consumption_df"
   ]
  },
  {
   "cell_type": "markdown",
   "id": "3d489283",
   "metadata": {},
   "source": [
    "# Group the data "
   ]
  },
  {
   "cell_type": "markdown",
   "id": "6c9999e3",
   "metadata": {},
   "source": [
    "### From this point, we can group data according to your needs and do some filtering if necessary"
   ]
  },
  {
   "cell_type": "markdown",
   "id": "e306be81",
   "metadata": {},
   "source": [
    "### Use Case 1: by meter and month"
   ]
  },
  {
   "cell_type": "code",
   "execution_count": 21,
   "id": "a5d01662",
   "metadata": {},
   "outputs": [
    {
     "data": {
      "text/html": [
       "<div>\n",
       "<style scoped>\n",
       "    .dataframe tbody tr th:only-of-type {\n",
       "        vertical-align: middle;\n",
       "    }\n",
       "\n",
       "    .dataframe tbody tr th {\n",
       "        vertical-align: top;\n",
       "    }\n",
       "\n",
       "    .dataframe thead th {\n",
       "        text-align: right;\n",
       "    }\n",
       "</style>\n",
       "<table border=\"1\" class=\"dataframe\">\n",
       "  <thead>\n",
       "    <tr style=\"text-align: right;\">\n",
       "      <th></th>\n",
       "      <th>friendly_id</th>\n",
       "      <th>month</th>\n",
       "      <th>kwh</th>\n",
       "    </tr>\n",
       "  </thead>\n",
       "  <tbody>\n",
       "    <tr>\n",
       "      <th>0</th>\n",
       "      <td>17AY10-1</td>\n",
       "      <td>2024-01-01</td>\n",
       "      <td>2.054317</td>\n",
       "    </tr>\n",
       "    <tr>\n",
       "      <th>1</th>\n",
       "      <td>17AY10-1</td>\n",
       "      <td>2024-02-01</td>\n",
       "      <td>2.083195</td>\n",
       "    </tr>\n",
       "    <tr>\n",
       "      <th>2</th>\n",
       "      <td>17AY10-1</td>\n",
       "      <td>2024-03-01</td>\n",
       "      <td>1.825234</td>\n",
       "    </tr>\n",
       "    <tr>\n",
       "      <th>3</th>\n",
       "      <td>17AY10-1</td>\n",
       "      <td>2024-04-01</td>\n",
       "      <td>1.900568</td>\n",
       "    </tr>\n",
       "    <tr>\n",
       "      <th>4</th>\n",
       "      <td>17AY10-1</td>\n",
       "      <td>2024-05-01</td>\n",
       "      <td>2.396772</td>\n",
       "    </tr>\n",
       "    <tr>\n",
       "      <th>...</th>\n",
       "      <td>...</td>\n",
       "      <td>...</td>\n",
       "      <td>...</td>\n",
       "    </tr>\n",
       "    <tr>\n",
       "      <th>1891</th>\n",
       "      <td>17Y95-1</td>\n",
       "      <td>2024-02-01</td>\n",
       "      <td>1.528928</td>\n",
       "    </tr>\n",
       "    <tr>\n",
       "      <th>1892</th>\n",
       "      <td>17Y95-1</td>\n",
       "      <td>2024-03-01</td>\n",
       "      <td>1.354950</td>\n",
       "    </tr>\n",
       "    <tr>\n",
       "      <th>1893</th>\n",
       "      <td>17Y95-1</td>\n",
       "      <td>2024-04-01</td>\n",
       "      <td>1.390599</td>\n",
       "    </tr>\n",
       "    <tr>\n",
       "      <th>1894</th>\n",
       "      <td>17Y95-1</td>\n",
       "      <td>2024-05-01</td>\n",
       "      <td>1.721543</td>\n",
       "    </tr>\n",
       "    <tr>\n",
       "      <th>1895</th>\n",
       "      <td>17Y95-1</td>\n",
       "      <td>2024-06-01</td>\n",
       "      <td>2.343674</td>\n",
       "    </tr>\n",
       "  </tbody>\n",
       "</table>\n",
       "<p>1896 rows × 3 columns</p>\n",
       "</div>"
      ],
      "text/plain": [
       "     friendly_id       month       kwh\n",
       "0       17AY10-1  2024-01-01  2.054317\n",
       "1       17AY10-1  2024-02-01  2.083195\n",
       "2       17AY10-1  2024-03-01  1.825234\n",
       "3       17AY10-1  2024-04-01  1.900568\n",
       "4       17AY10-1  2024-05-01  2.396772\n",
       "...          ...         ...       ...\n",
       "1891     17Y95-1  2024-02-01  1.528928\n",
       "1892     17Y95-1  2024-03-01  1.354950\n",
       "1893     17Y95-1  2024-04-01  1.390599\n",
       "1894     17Y95-1  2024-05-01  1.721543\n",
       "1895     17Y95-1  2024-06-01  2.343674\n",
       "\n",
       "[1896 rows x 3 columns]"
      ]
     },
     "execution_count": 21,
     "metadata": {},
     "output_type": "execute_result"
    }
   ],
   "source": [
    "meter_month_df = meter_consumption_df.groupby(['friendly_id', 'month'])['kwh'].mean().reset_index()\n",
    "meter_month_df"
   ]
  },
  {
   "cell_type": "code",
   "execution_count": 22,
   "id": "baaec8cb",
   "metadata": {},
   "outputs": [
    {
     "data": {
      "application/vnd.plotly.v1+json": {
       "config": {
        "plotlyServerURL": "https://plot.ly"
       },
       "data": [
        {
         "hovertemplate": "friendly_id=17AY10-1<br>month=%{x}<br>kwh=%{y}<extra></extra>",
         "legendgroup": "17AY10-1",
         "line": {
          "color": "#636efa",
          "dash": "solid"
         },
         "marker": {
          "symbol": "circle"
         },
         "mode": "lines",
         "name": "17AY10-1",
         "showlegend": true,
         "type": "scattergl",
         "x": [
          "2024-01-01",
          "2024-02-01",
          "2024-03-01",
          "2024-04-01",
          "2024-05-01",
          "2024-06-01"
         ],
         "xaxis": "x",
         "y": [
          2.0543165250734243,
          2.083194772678027,
          1.8252341070345122,
          1.9005678857318433,
          2.3967723647465573,
          3.2631726105935073
         ],
         "yaxis": "y"
        },
        {
         "hovertemplate": "friendly_id=17AY10-1ZA<br>month=%{x}<br>kwh=%{y}<extra></extra>",
         "legendgroup": "17AY10-1ZA",
         "line": {
          "color": "#EF553B",
          "dash": "solid"
         },
         "marker": {
          "symbol": "circle"
         },
         "mode": "lines",
         "name": "17AY10-1ZA",
         "showlegend": true,
         "type": "scattergl",
         "x": [
          "2024-01-01",
          "2024-02-01",
          "2024-03-01",
          "2024-04-01",
          "2024-05-01",
          "2024-06-01"
         ],
         "xaxis": "x",
         "y": [
          2.077026175533376,
          1.9565867771029049,
          1.6967907503934572,
          1.7771570569509652,
          2.2185373229098135,
          3.071099060692063
         ],
         "yaxis": "y"
        },
        {
         "hovertemplate": "friendly_id=17AY13-1<br>month=%{x}<br>kwh=%{y}<extra></extra>",
         "legendgroup": "17AY13-1",
         "line": {
          "color": "#00cc96",
          "dash": "solid"
         },
         "marker": {
          "symbol": "circle"
         },
         "mode": "lines",
         "name": "17AY13-1",
         "showlegend": true,
         "type": "scattergl",
         "x": [
          "2024-01-01",
          "2024-02-01",
          "2024-03-01",
          "2024-04-01",
          "2024-05-01",
          "2024-06-01"
         ],
         "xaxis": "x",
         "y": [
          1.0896387540206731,
          1.0380306031997035,
          0.8999783767076639,
          0.9315372023112399,
          1.1654469687322808,
          1.6319521405484085
         ],
         "yaxis": "y"
        },
        {
         "hovertemplate": "friendly_id=17AY14<br>month=%{x}<br>kwh=%{y}<extra></extra>",
         "legendgroup": "17AY14",
         "line": {
          "color": "#ab63fa",
          "dash": "solid"
         },
         "marker": {
          "symbol": "circle"
         },
         "mode": "lines",
         "name": "17AY14",
         "showlegend": true,
         "type": "scattergl",
         "x": [
          "2024-01-01",
          "2024-02-01",
          "2024-03-01",
          "2024-04-01",
          "2024-05-01",
          "2024-06-01"
         ],
         "xaxis": "x",
         "y": [
          1.1283873058178762,
          0.9855081040942028,
          0.936299547893096,
          0.9642991446693499,
          1.2153983556306487,
          1.6987642064733783
         ],
         "yaxis": "y"
        },
        {
         "hovertemplate": "friendly_id=17AY14-1<br>month=%{x}<br>kwh=%{y}<extra></extra>",
         "legendgroup": "17AY14-1",
         "line": {
          "color": "#FFA15A",
          "dash": "solid"
         },
         "marker": {
          "symbol": "circle"
         },
         "mode": "lines",
         "name": "17AY14-1",
         "showlegend": true,
         "type": "scattergl",
         "x": [
          "2024-01-01",
          "2024-02-01",
          "2024-03-01",
          "2024-04-01",
          "2024-05-01",
          "2024-06-01"
         ],
         "xaxis": "x",
         "y": [
          1.617907102028982,
          1.503079324722102,
          1.1282332357907119,
          1.1850370580457414,
          1.711805528100348,
          2.381604880007273
         ],
         "yaxis": "y"
        },
        {
         "hovertemplate": "friendly_id=17AY16<br>month=%{x}<br>kwh=%{y}<extra></extra>",
         "legendgroup": "17AY16",
         "line": {
          "color": "#19d3f3",
          "dash": "solid"
         },
         "marker": {
          "symbol": "circle"
         },
         "mode": "lines",
         "name": "17AY16",
         "showlegend": true,
         "type": "scattergl",
         "x": [
          "2024-01-01",
          "2024-02-01",
          "2024-03-01",
          "2024-04-01",
          "2024-05-01",
          "2024-06-01"
         ],
         "xaxis": "x",
         "y": [
          1.7266803930201489,
          1.6106443739042795,
          1.414070792697672,
          1.4740462649954413,
          1.831172531464238,
          2.57346239687407
         ],
         "yaxis": "y"
        },
        {
         "hovertemplate": "friendly_id=17AY16-2<br>month=%{x}<br>kwh=%{y}<extra></extra>",
         "legendgroup": "17AY16-2",
         "line": {
          "color": "#FF6692",
          "dash": "solid"
         },
         "marker": {
          "symbol": "circle"
         },
         "mode": "lines",
         "name": "17AY16-2",
         "showlegend": true,
         "type": "scattergl",
         "x": [
          "2024-01-01",
          "2024-02-01",
          "2024-03-01",
          "2024-04-01",
          "2024-05-01",
          "2024-06-01"
         ],
         "xaxis": "x",
         "y": [
          0.8036547496890862,
          0.8705074842687283,
          0.7602070431741267,
          0.7873488252482542,
          0.9928370948018035,
          1.3579781012621666
         ],
         "yaxis": "y"
        },
        {
         "hovertemplate": "friendly_id=17AY16-2ZB<br>month=%{x}<br>kwh=%{y}<extra></extra>",
         "legendgroup": "17AY16-2ZB",
         "line": {
          "color": "#B6E880",
          "dash": "solid"
         },
         "marker": {
          "symbol": "circle"
         },
         "mode": "lines",
         "name": "17AY16-2ZB",
         "showlegend": true,
         "type": "scattergl",
         "x": [
          "2024-01-01",
          "2024-02-01",
          "2024-03-01",
          "2024-04-01",
          "2024-05-01",
          "2024-06-01"
         ],
         "xaxis": "x",
         "y": [
          1.3673834684443653,
          1.2863625217063055,
          1.1300435673369031,
          1.0731894720512896,
          1.3225151821423626,
          2.0608273860072717
         ],
         "yaxis": "y"
        },
        {
         "hovertemplate": "friendly_id=17AY17<br>month=%{x}<br>kwh=%{y}<extra></extra>",
         "legendgroup": "17AY17",
         "line": {
          "color": "#FF97FF",
          "dash": "solid"
         },
         "marker": {
          "symbol": "circle"
         },
         "mode": "lines",
         "name": "17AY17",
         "showlegend": true,
         "type": "scattergl",
         "x": [
          "2024-01-01",
          "2024-02-01",
          "2024-03-01",
          "2024-04-01",
          "2024-05-01",
          "2024-06-01"
         ],
         "xaxis": "x",
         "y": [
          1.8182226026618609,
          1.7184535793229918,
          1.1754717610662497,
          1.5236599938687527,
          1.7511963424775674,
          2.641861674746675
         ],
         "yaxis": "y"
        },
        {
         "hovertemplate": "friendly_id=17AY19<br>month=%{x}<br>kwh=%{y}<extra></extra>",
         "legendgroup": "17AY19",
         "line": {
          "color": "#FECB52",
          "dash": "solid"
         },
         "marker": {
          "symbol": "circle"
         },
         "mode": "lines",
         "name": "17AY19",
         "showlegend": true,
         "type": "scattergl",
         "x": [
          "2024-01-01",
          "2024-02-01",
          "2024-03-01",
          "2024-04-01",
          "2024-05-01",
          "2024-06-01"
         ],
         "xaxis": "x",
         "y": [
          1.4408727748157082,
          1.34548622300794,
          1.1882388633144443,
          1.2187099889448425,
          1.5433834432424258,
          2.144356315802639
         ],
         "yaxis": "y"
        },
        {
         "hovertemplate": "friendly_id=17AY19-1X-7<br>month=%{x}<br>kwh=%{y}<extra></extra>",
         "legendgroup": "17AY19-1X-7",
         "line": {
          "color": "#636efa",
          "dash": "solid"
         },
         "marker": {
          "symbol": "circle"
         },
         "mode": "lines",
         "name": "17AY19-1X-7",
         "showlegend": true,
         "type": "scattergl",
         "x": [
          "2024-01-01",
          "2024-02-01",
          "2024-03-01",
          "2024-04-01",
          "2024-05-01",
          "2024-06-01"
         ],
         "xaxis": "x",
         "y": [
          1.4653664925978367,
          1.3792139668348988,
          1.215459649520039,
          1.208968244242616,
          1.5659075942661633,
          2.2065244922804172
         ],
         "yaxis": "y"
        },
        {
         "hovertemplate": "friendly_id=17AY19-2<br>month=%{x}<br>kwh=%{y}<extra></extra>",
         "legendgroup": "17AY19-2",
         "line": {
          "color": "#EF553B",
          "dash": "solid"
         },
         "marker": {
          "symbol": "circle"
         },
         "mode": "lines",
         "name": "17AY19-2",
         "showlegend": true,
         "type": "scattergl",
         "x": [
          "2024-01-01",
          "2024-02-01",
          "2024-03-01",
          "2024-04-01",
          "2024-05-01",
          "2024-06-01"
         ],
         "xaxis": "x",
         "y": [
          1.2544294965213687,
          1.1749279553891652,
          1.0333232844987827,
          1.061534674302828,
          1.3229521494885317,
          1.8628775036260405
         ],
         "yaxis": "y"
        },
        {
         "hovertemplate": "friendly_id=17AY2-1<br>month=%{x}<br>kwh=%{y}<extra></extra>",
         "legendgroup": "17AY2-1",
         "line": {
          "color": "#00cc96",
          "dash": "solid"
         },
         "marker": {
          "symbol": "circle"
         },
         "mode": "lines",
         "name": "17AY2-1",
         "showlegend": true,
         "type": "scattergl",
         "x": [
          "2024-01-01",
          "2024-02-01",
          "2024-03-01",
          "2024-04-01",
          "2024-05-01",
          "2024-06-01"
         ],
         "xaxis": "x",
         "y": [
          1.2574112598432832,
          1.190047644862363,
          1.0478237325771933,
          1.0853108786177144,
          1.3550613751266034,
          1.9070728113833444
         ],
         "yaxis": "y"
        },
        {
         "hovertemplate": "friendly_id=17AY2-1ZA<br>month=%{x}<br>kwh=%{y}<extra></extra>",
         "legendgroup": "17AY2-1ZA",
         "line": {
          "color": "#ab63fa",
          "dash": "solid"
         },
         "marker": {
          "symbol": "circle"
         },
         "mode": "lines",
         "name": "17AY2-1ZA",
         "showlegend": true,
         "type": "scattergl",
         "x": [
          "2024-01-01",
          "2024-02-01",
          "2024-03-01",
          "2024-04-01",
          "2024-05-01",
          "2024-06-01"
         ],
         "xaxis": "x",
         "y": [
          1.5303599853137642,
          1.4339276097516727,
          1.2118968930259744,
          1.2952598902584713,
          1.6359015676912587,
          2.2680139325768236
         ],
         "yaxis": "y"
        },
        {
         "hovertemplate": "friendly_id=17AY2-2<br>month=%{x}<br>kwh=%{y}<extra></extra>",
         "legendgroup": "17AY2-2",
         "line": {
          "color": "#FFA15A",
          "dash": "solid"
         },
         "marker": {
          "symbol": "circle"
         },
         "mode": "lines",
         "name": "17AY2-2",
         "showlegend": true,
         "type": "scattergl",
         "x": [
          "2024-01-01",
          "2024-02-01",
          "2024-03-01",
          "2024-04-01",
          "2024-05-01",
          "2024-06-01"
         ],
         "xaxis": "x",
         "y": [
          1.486311592012196,
          1.3847594704507638,
          1.2133117477166344,
          1.2407516575202848,
          1.558714578694964,
          2.2008176069501157
         ],
         "yaxis": "y"
        },
        {
         "hovertemplate": "friendly_id=17AY2-3<br>month=%{x}<br>kwh=%{y}<extra></extra>",
         "legendgroup": "17AY2-3",
         "line": {
          "color": "#19d3f3",
          "dash": "solid"
         },
         "marker": {
          "symbol": "circle"
         },
         "mode": "lines",
         "name": "17AY2-3",
         "showlegend": true,
         "type": "scattergl",
         "x": [
          "2024-01-01",
          "2024-02-01",
          "2024-03-01",
          "2024-04-01",
          "2024-05-01",
          "2024-06-01"
         ],
         "xaxis": "x",
         "y": [
          1.1964593405583517,
          0.9217866250725165,
          0.9932191265688389,
          1.0198365219038181,
          1.2804023830070559,
          1.6619841641414548
         ],
         "yaxis": "y"
        },
        {
         "hovertemplate": "friendly_id=17AY23-13<br>month=%{x}<br>kwh=%{y}<extra></extra>",
         "legendgroup": "17AY23-13",
         "line": {
          "color": "#FF6692",
          "dash": "solid"
         },
         "marker": {
          "symbol": "circle"
         },
         "mode": "lines",
         "name": "17AY23-13",
         "showlegend": true,
         "type": "scattergl",
         "x": [
          "2024-01-01",
          "2024-02-01",
          "2024-03-01",
          "2024-04-01",
          "2024-05-01",
          "2024-06-01"
         ],
         "xaxis": "x",
         "y": [
          2.3017264711276884,
          2.168769641314992,
          1.906949272664701,
          1.9845212921560043,
          2.475685290440304,
          2.4290056036357446
         ],
         "yaxis": "y"
        },
        {
         "hovertemplate": "friendly_id=17AY23-2-1<br>month=%{x}<br>kwh=%{y}<extra></extra>",
         "legendgroup": "17AY23-2-1",
         "line": {
          "color": "#B6E880",
          "dash": "solid"
         },
         "marker": {
          "symbol": "circle"
         },
         "mode": "lines",
         "name": "17AY23-2-1",
         "showlegend": true,
         "type": "scattergl",
         "x": [
          "2024-01-01",
          "2024-02-01",
          "2024-03-01",
          "2024-04-01",
          "2024-05-01",
          "2024-06-01"
         ],
         "xaxis": "x",
         "y": [
          0.9529837476929126,
          0.8265652366904052,
          0.8678056581445718,
          0.899562352634711,
          1.1221655910205046,
          1.2837825907222271
         ],
         "yaxis": "y"
        },
        {
         "hovertemplate": "friendly_id=17AY23-2-2<br>month=%{x}<br>kwh=%{y}<extra></extra>",
         "legendgroup": "17AY23-2-2",
         "line": {
          "color": "#FF97FF",
          "dash": "solid"
         },
         "marker": {
          "symbol": "circle"
         },
         "mode": "lines",
         "name": "17AY23-2-2",
         "showlegend": true,
         "type": "scattergl",
         "x": [
          "2024-01-01",
          "2024-02-01",
          "2024-03-01",
          "2024-04-01",
          "2024-05-01",
          "2024-06-01"
         ],
         "xaxis": "x",
         "y": [
          1.4666770497315318,
          1.3775388736182275,
          1.211514327787847,
          1.2575780636192055,
          1.5711903464206551,
          2.1857285075580637
         ],
         "yaxis": "y"
        },
        {
         "hovertemplate": "friendly_id=17AY23-2-2ZB<br>month=%{x}<br>kwh=%{y}<extra></extra>",
         "legendgroup": "17AY23-2-2ZB",
         "line": {
          "color": "#FECB52",
          "dash": "solid"
         },
         "marker": {
          "symbol": "circle"
         },
         "mode": "lines",
         "name": "17AY23-2-2ZB",
         "showlegend": true,
         "type": "scattergl",
         "x": [
          "2024-01-01",
          "2024-02-01",
          "2024-03-01",
          "2024-04-01",
          "2024-05-01",
          "2024-06-01"
         ],
         "xaxis": "x",
         "y": [
          0.8865069962129146,
          0.8286078066492436,
          0.7306550144714721,
          0.753468483209867,
          0.9503667604408426,
          1.3228633113441048
         ],
         "yaxis": "y"
        },
        {
         "hovertemplate": "friendly_id=17AY23-8-6<br>month=%{x}<br>kwh=%{y}<extra></extra>",
         "legendgroup": "17AY23-8-6",
         "line": {
          "color": "#636efa",
          "dash": "solid"
         },
         "marker": {
          "symbol": "circle"
         },
         "mode": "lines",
         "name": "17AY23-8-6",
         "showlegend": true,
         "type": "scattergl",
         "x": [
          "2024-01-01",
          "2024-02-01",
          "2024-03-01",
          "2024-04-01",
          "2024-05-01",
          "2024-06-01"
         ],
         "xaxis": "x",
         "y": [
          1.852428646578481,
          1.7430489777616514,
          1.530131499846642,
          1.5795960996053147,
          1.8741465979501892,
          2.1615774422553353
         ],
         "yaxis": "y"
        },
        {
         "hovertemplate": "friendly_id=17AY23-8-8-10ZA<br>month=%{x}<br>kwh=%{y}<extra></extra>",
         "legendgroup": "17AY23-8-8-10ZA",
         "line": {
          "color": "#EF553B",
          "dash": "solid"
         },
         "marker": {
          "symbol": "circle"
         },
         "mode": "lines",
         "name": "17AY23-8-8-10ZA",
         "showlegend": true,
         "type": "scattergl",
         "x": [
          "2024-01-01",
          "2024-02-01",
          "2024-03-01",
          "2024-04-01",
          "2024-05-01",
          "2024-06-01"
         ],
         "xaxis": "x",
         "y": [
          1.8165626734134486,
          1.7028321683663026,
          1.481855461285773,
          1.534544789893478,
          1.9448097385045109,
          2.6966302067119265
         ],
         "yaxis": "y"
        },
        {
         "hovertemplate": "friendly_id=17AY23-8-8-11<br>month=%{x}<br>kwh=%{y}<extra></extra>",
         "legendgroup": "17AY23-8-8-11",
         "line": {
          "color": "#00cc96",
          "dash": "solid"
         },
         "marker": {
          "symbol": "circle"
         },
         "mode": "lines",
         "name": "17AY23-8-8-11",
         "showlegend": true,
         "type": "scattergl",
         "x": [
          "2024-01-01",
          "2024-02-01",
          "2024-03-01",
          "2024-04-01",
          "2024-05-01",
          "2024-06-01"
         ],
         "xaxis": "x",
         "y": [
          2.145140535995875,
          2.026702603554246,
          1.7790057980912666,
          1.8356806434639175,
          2.31109753668562,
          3.2334533705038244
         ],
         "yaxis": "y"
        },
        {
         "hovertemplate": "friendly_id=17AY23-8-8-11A<br>month=%{x}<br>kwh=%{y}<extra></extra>",
         "legendgroup": "17AY23-8-8-11A",
         "line": {
          "color": "#ab63fa",
          "dash": "solid"
         },
         "marker": {
          "symbol": "circle"
         },
         "mode": "lines",
         "name": "17AY23-8-8-11A",
         "showlegend": true,
         "type": "scattergl",
         "x": [
          "2024-01-01",
          "2024-02-01",
          "2024-03-01",
          "2024-04-01",
          "2024-05-01",
          "2024-06-01"
         ],
         "xaxis": "x",
         "y": [
          1.760477372776001,
          1.4259521923122802,
          1.4548861686845718,
          1.507484226174183,
          1.8838590706151854,
          2.6390493955856025
         ],
         "yaxis": "y"
        },
        {
         "hovertemplate": "friendly_id=17AY23-8-8-2<br>month=%{x}<br>kwh=%{y}<extra></extra>",
         "legendgroup": "17AY23-8-8-2",
         "line": {
          "color": "#FFA15A",
          "dash": "solid"
         },
         "marker": {
          "symbol": "circle"
         },
         "mode": "lines",
         "name": "17AY23-8-8-2",
         "showlegend": true,
         "type": "scattergl",
         "x": [
          "2024-01-01",
          "2024-02-01",
          "2024-03-01",
          "2024-04-01",
          "2024-05-01",
          "2024-06-01"
         ],
         "xaxis": "x",
         "y": [
          1.6833004144741324,
          1.4568084077674959,
          1.3697927439526039,
          1.4195581668410144,
          1.79641188725465,
          2.4922068548620175
         ],
         "yaxis": "y"
        },
        {
         "hovertemplate": "friendly_id=17AY23-8-8-5<br>month=%{x}<br>kwh=%{y}<extra></extra>",
         "legendgroup": "17AY23-8-8-5",
         "line": {
          "color": "#19d3f3",
          "dash": "solid"
         },
         "marker": {
          "symbol": "circle"
         },
         "mode": "lines",
         "name": "17AY23-8-8-5",
         "showlegend": true,
         "type": "scattergl",
         "x": [
          "2024-01-01",
          "2024-02-01",
          "2024-03-01",
          "2024-04-01",
          "2024-05-01",
          "2024-06-01"
         ],
         "xaxis": "x",
         "y": [
          1.250788303134745,
          1.1782268319262148,
          1.0388841372764406,
          1.0613858102036144,
          1.346084488089441,
          1.8763586959981913
         ],
         "yaxis": "y"
        },
        {
         "hovertemplate": "friendly_id=17AY23-8-9<br>month=%{x}<br>kwh=%{y}<extra></extra>",
         "legendgroup": "17AY23-8-9",
         "line": {
          "color": "#FF6692",
          "dash": "solid"
         },
         "marker": {
          "symbol": "circle"
         },
         "mode": "lines",
         "name": "17AY23-8-9",
         "showlegend": true,
         "type": "scattergl",
         "x": [
          "2024-01-01",
          "2024-02-01",
          "2024-03-01",
          "2024-04-01",
          "2024-05-01",
          "2024-06-01"
         ],
         "xaxis": "x",
         "y": [
          1.7323087662866319,
          1.622741431301865,
          1.372151341161723,
          1.478305610427971,
          1.8742640479933963,
          2.5870849851909985
         ],
         "yaxis": "y"
        },
        {
         "hovertemplate": "friendly_id=17AY26-1<br>month=%{x}<br>kwh=%{y}<extra></extra>",
         "legendgroup": "17AY26-1",
         "line": {
          "color": "#B6E880",
          "dash": "solid"
         },
         "marker": {
          "symbol": "circle"
         },
         "mode": "lines",
         "name": "17AY26-1",
         "showlegend": true,
         "type": "scattergl",
         "x": [
          "2024-01-01",
          "2024-02-01",
          "2024-03-01",
          "2024-04-01",
          "2024-05-01",
          "2024-06-01"
         ],
         "xaxis": "x",
         "y": [
          1.2019117069981469,
          1.1261773139180111,
          0.8365551579557517,
          0.9863648942646019,
          1.1237203657792278,
          1.5005480906143274
         ],
         "yaxis": "y"
        },
        {
         "hovertemplate": "friendly_id=17AY32ZA<br>month=%{x}<br>kwh=%{y}<extra></extra>",
         "legendgroup": "17AY32ZA",
         "line": {
          "color": "#FF97FF",
          "dash": "solid"
         },
         "marker": {
          "symbol": "circle"
         },
         "mode": "lines",
         "name": "17AY32ZA",
         "showlegend": true,
         "type": "scattergl",
         "x": [
          "2024-01-01",
          "2024-02-01",
          "2024-03-01",
          "2024-04-01",
          "2024-05-01",
          "2024-06-01"
         ],
         "xaxis": "x",
         "y": [
          1.112221012467489,
          1.0459227812843017,
          0.9181905740912213,
          0.9434175898266667,
          1.1845841347556718,
          1.6422479430541594
         ],
         "yaxis": "y"
        },
        {
         "hovertemplate": "friendly_id=17AY33-2<br>month=%{x}<br>kwh=%{y}<extra></extra>",
         "legendgroup": "17AY33-2",
         "line": {
          "color": "#FECB52",
          "dash": "solid"
         },
         "marker": {
          "symbol": "circle"
         },
         "mode": "lines",
         "name": "17AY33-2",
         "showlegend": true,
         "type": "scattergl",
         "x": [
          "2024-01-01",
          "2024-02-01",
          "2024-03-01",
          "2024-04-01",
          "2024-05-01",
          "2024-06-01"
         ],
         "xaxis": "x",
         "y": [
          1.1596710573530715,
          1.0425302949617785,
          0.9521444557362717,
          0.9872097338206651,
          1.2260125082179703,
          1.7042160659811776
         ],
         "yaxis": "y"
        },
        {
         "hovertemplate": "friendly_id=17AY33-A<br>month=%{x}<br>kwh=%{y}<extra></extra>",
         "legendgroup": "17AY33-A",
         "line": {
          "color": "#636efa",
          "dash": "solid"
         },
         "marker": {
          "symbol": "circle"
         },
         "mode": "lines",
         "name": "17AY33-A",
         "showlegend": true,
         "type": "scattergl",
         "x": [
          "2024-01-01",
          "2024-02-01",
          "2024-03-01",
          "2024-04-01",
          "2024-05-01",
          "2024-06-01"
         ],
         "xaxis": "x",
         "y": [
          1.0468509782993456,
          0.9862024933220992,
          0.8455272813382902,
          0.8059210431288463,
          1.1208618136855446,
          1.5514154541401435
         ],
         "yaxis": "y"
        },
        {
         "hovertemplate": "friendly_id=17AY33-A-ZA<br>month=%{x}<br>kwh=%{y}<extra></extra>",
         "legendgroup": "17AY33-A-ZA",
         "line": {
          "color": "#EF553B",
          "dash": "solid"
         },
         "marker": {
          "symbol": "circle"
         },
         "mode": "lines",
         "name": "17AY33-A-ZA",
         "showlegend": true,
         "type": "scattergl",
         "x": [
          "2024-01-01",
          "2024-02-01",
          "2024-03-01",
          "2024-04-01",
          "2024-05-01",
          "2024-06-01"
         ],
         "xaxis": "x",
         "y": [
          2.264492966956084,
          2.11054079446115,
          1.8540740749732736,
          1.9028607376786277,
          2.407377253340418,
          3.3554291841036927
         ],
         "yaxis": "y"
        },
        {
         "hovertemplate": "friendly_id=17AY38<br>month=%{x}<br>kwh=%{y}<extra></extra>",
         "legendgroup": "17AY38",
         "line": {
          "color": "#00cc96",
          "dash": "solid"
         },
         "marker": {
          "symbol": "circle"
         },
         "mode": "lines",
         "name": "17AY38",
         "showlegend": true,
         "type": "scattergl",
         "x": [
          "2024-01-01",
          "2024-02-01",
          "2024-03-01",
          "2024-04-01",
          "2024-05-01",
          "2024-06-01"
         ],
         "xaxis": "x",
         "y": [
          4.037912290273277,
          3.9785373806258346,
          3.870702684003246,
          3.894262311031693,
          4.108913492993258,
          4.46895190828853
         ],
         "yaxis": "y"
        },
        {
         "hovertemplate": "friendly_id=17AY39-10-1<br>month=%{x}<br>kwh=%{y}<extra></extra>",
         "legendgroup": "17AY39-10-1",
         "line": {
          "color": "#ab63fa",
          "dash": "solid"
         },
         "marker": {
          "symbol": "circle"
         },
         "mode": "lines",
         "name": "17AY39-10-1",
         "showlegend": true,
         "type": "scattergl",
         "x": [
          "2024-01-01",
          "2024-02-01",
          "2024-03-01",
          "2024-04-01",
          "2024-05-01",
          "2024-06-01"
         ],
         "xaxis": "x",
         "y": [
          1.3897348317421037,
          1.3009281243385917,
          1.1447986234304701,
          1.1824660448421827,
          1.3278567144808782,
          1.7555219726614575
         ],
         "yaxis": "y"
        },
        {
         "hovertemplate": "friendly_id=17AY39-12-2<br>month=%{x}<br>kwh=%{y}<extra></extra>",
         "legendgroup": "17AY39-12-2",
         "line": {
          "color": "#FFA15A",
          "dash": "solid"
         },
         "marker": {
          "symbol": "circle"
         },
         "mode": "lines",
         "name": "17AY39-12-2",
         "showlegend": true,
         "type": "scattergl",
         "x": [
          "2024-01-01",
          "2024-02-01",
          "2024-03-01",
          "2024-04-01",
          "2024-05-01",
          "2024-06-01"
         ],
         "xaxis": "x",
         "y": [
          1.2207529031544062,
          1.1460036264552467,
          1.006652118615994,
          1.0381825646912008,
          1.3000745825799105,
          1.8173207925173562
         ],
         "yaxis": "y"
        },
        {
         "hovertemplate": "friendly_id=17AY39-1A-1<br>month=%{x}<br>kwh=%{y}<extra></extra>",
         "legendgroup": "17AY39-1A-1",
         "line": {
          "color": "#19d3f3",
          "dash": "solid"
         },
         "marker": {
          "symbol": "circle"
         },
         "mode": "lines",
         "name": "17AY39-1A-1",
         "showlegend": true,
         "type": "scattergl",
         "x": [
          "2024-01-01",
          "2024-02-01",
          "2024-03-01",
          "2024-04-01",
          "2024-05-01",
          "2024-06-01"
         ],
         "xaxis": "x",
         "y": [
          1.8537021053406397,
          1.7520186420734774,
          1.5413679410919414,
          1.5895606202994939,
          1.9945010460246126,
          2.7725673405665052
         ],
         "yaxis": "y"
        },
        {
         "hovertemplate": "friendly_id=17AY39-1A-3<br>month=%{x}<br>kwh=%{y}<extra></extra>",
         "legendgroup": "17AY39-1A-3",
         "line": {
          "color": "#FF6692",
          "dash": "solid"
         },
         "marker": {
          "symbol": "circle"
         },
         "mode": "lines",
         "name": "17AY39-1A-3",
         "showlegend": true,
         "type": "scattergl",
         "x": [
          "2024-01-01",
          "2024-02-01",
          "2024-03-01",
          "2024-04-01",
          "2024-05-01",
          "2024-06-01"
         ],
         "xaxis": "x",
         "y": [
          1.561379714219404,
          1.4954628570268045,
          1.3139031262833694,
          1.344541909600232,
          1.6408287802904273,
          2.3478498099527982
         ],
         "yaxis": "y"
        },
        {
         "hovertemplate": "friendly_id=17AY39-1A-7-1<br>month=%{x}<br>kwh=%{y}<extra></extra>",
         "legendgroup": "17AY39-1A-7-1",
         "line": {
          "color": "#B6E880",
          "dash": "solid"
         },
         "marker": {
          "symbol": "circle"
         },
         "mode": "lines",
         "name": "17AY39-1A-7-1",
         "showlegend": true,
         "type": "scattergl",
         "x": [
          "2024-01-01",
          "2024-02-01",
          "2024-03-01",
          "2024-04-01",
          "2024-05-01",
          "2024-06-01"
         ],
         "xaxis": "x",
         "y": [
          0.946122608053949,
          0.8979447676901927,
          0.780752572571561,
          0.8058539542565453,
          1.0146504102821992,
          1.4029850362365475
         ],
         "yaxis": "y"
        },
        {
         "hovertemplate": "friendly_id=17AY39-1A-9<br>month=%{x}<br>kwh=%{y}<extra></extra>",
         "legendgroup": "17AY39-1A-9",
         "line": {
          "color": "#FF97FF",
          "dash": "solid"
         },
         "marker": {
          "symbol": "circle"
         },
         "mode": "lines",
         "name": "17AY39-1A-9",
         "showlegend": true,
         "type": "scattergl",
         "x": [
          "2024-01-01",
          "2024-02-01",
          "2024-03-01",
          "2024-04-01",
          "2024-05-01",
          "2024-06-01"
         ],
         "xaxis": "x",
         "y": [
          1.2307302254988524,
          1.1242421217669558,
          1.0140376165673166,
          1.0525067654957754,
          1.3146212858443604,
          1.8356661835723798
         ],
         "yaxis": "y"
        },
        {
         "hovertemplate": "friendly_id=17AY39-1B<br>month=%{x}<br>kwh=%{y}<extra></extra>",
         "legendgroup": "17AY39-1B",
         "line": {
          "color": "#FECB52",
          "dash": "solid"
         },
         "marker": {
          "symbol": "circle"
         },
         "mode": "lines",
         "name": "17AY39-1B",
         "showlegend": true,
         "type": "scattergl",
         "x": [
          "2024-01-01",
          "2024-02-01",
          "2024-03-01",
          "2024-04-01",
          "2024-05-01",
          "2024-06-01"
         ],
         "xaxis": "x",
         "y": [
          1.7161310664414695,
          1.6003110428378062,
          1.4046565086093852,
          1.4551857824501986,
          1.833782498213352,
          2.5388978745338067
         ],
         "yaxis": "y"
        },
        {
         "hovertemplate": "friendly_id=17AY39-5-1<br>month=%{x}<br>kwh=%{y}<extra></extra>",
         "legendgroup": "17AY39-5-1",
         "line": {
          "color": "#636efa",
          "dash": "solid"
         },
         "marker": {
          "symbol": "circle"
         },
         "mode": "lines",
         "name": "17AY39-5-1",
         "showlegend": true,
         "type": "scattergl",
         "x": [
          "2024-01-01",
          "2024-02-01",
          "2024-03-01",
          "2024-04-01",
          "2024-05-01",
          "2024-06-01"
         ],
         "xaxis": "x",
         "y": [
          1.0223460436497287,
          0.9702347316733942,
          0.8488599165369624,
          0.8743216240802668,
          1.0966934490285958,
          1.526682356769149
         ],
         "yaxis": "y"
        },
        {
         "hovertemplate": "friendly_id=17AY39-5-2<br>month=%{x}<br>kwh=%{y}<extra></extra>",
         "legendgroup": "17AY39-5-2",
         "line": {
          "color": "#EF553B",
          "dash": "solid"
         },
         "marker": {
          "symbol": "circle"
         },
         "mode": "lines",
         "name": "17AY39-5-2",
         "showlegend": true,
         "type": "scattergl",
         "x": [
          "2024-01-01",
          "2024-02-01",
          "2024-03-01",
          "2024-04-01",
          "2024-05-01",
          "2024-06-01"
         ],
         "xaxis": "x",
         "y": [
          1.2284540371894173,
          1.1497644280793353,
          0.7693008229287279,
          1.041869070285047,
          1.251572115283919,
          1.8489955604877073
         ],
         "yaxis": "y"
        },
        {
         "hovertemplate": "friendly_id=17AY39-6-1ZA<br>month=%{x}<br>kwh=%{y}<extra></extra>",
         "legendgroup": "17AY39-6-1ZA",
         "line": {
          "color": "#00cc96",
          "dash": "solid"
         },
         "marker": {
          "symbol": "circle"
         },
         "mode": "lines",
         "name": "17AY39-6-1ZA",
         "showlegend": true,
         "type": "scattergl",
         "x": [
          "2024-01-01",
          "2024-02-01",
          "2024-03-01",
          "2024-04-01",
          "2024-05-01",
          "2024-06-01"
         ],
         "xaxis": "x",
         "y": [
          1.7087006123874324,
          1.707585217053077,
          1.5049176778578022,
          1.5125303883563572,
          1.932317042537138,
          2.6703932526265963
         ],
         "yaxis": "y"
        },
        {
         "hovertemplate": "friendly_id=17AY39-7<br>month=%{x}<br>kwh=%{y}<extra></extra>",
         "legendgroup": "17AY39-7",
         "line": {
          "color": "#ab63fa",
          "dash": "solid"
         },
         "marker": {
          "symbol": "circle"
         },
         "mode": "lines",
         "name": "17AY39-7",
         "showlegend": true,
         "type": "scattergl",
         "x": [
          "2024-01-01",
          "2024-02-01",
          "2024-03-01",
          "2024-04-01",
          "2024-05-01",
          "2024-06-01"
         ],
         "xaxis": "x",
         "y": [
          1.2874323107642809,
          1.211639768891058,
          1.060880973768938,
          1.1015315345250491,
          1.3834788460658962,
          1.9122465371234187
         ],
         "yaxis": "y"
        },
        {
         "hovertemplate": "friendly_id=17AY40<br>month=%{x}<br>kwh=%{y}<extra></extra>",
         "legendgroup": "17AY40",
         "line": {
          "color": "#FFA15A",
          "dash": "solid"
         },
         "marker": {
          "symbol": "circle"
         },
         "mode": "lines",
         "name": "17AY40",
         "showlegend": true,
         "type": "scattergl",
         "x": [
          "2024-01-01",
          "2024-02-01",
          "2024-03-01",
          "2024-04-01",
          "2024-05-01",
          "2024-06-01"
         ],
         "xaxis": "x",
         "y": [
          2.393887754468189,
          2.213906446627154,
          1.974848075156296,
          2.0428271181187965,
          2.5769860867759564,
          3.5918966516557567
         ],
         "yaxis": "y"
        },
        {
         "hovertemplate": "friendly_id=17AY43-11<br>month=%{x}<br>kwh=%{y}<extra></extra>",
         "legendgroup": "17AY43-11",
         "line": {
          "color": "#19d3f3",
          "dash": "solid"
         },
         "marker": {
          "symbol": "circle"
         },
         "mode": "lines",
         "name": "17AY43-11",
         "showlegend": true,
         "type": "scattergl",
         "x": [
          "2024-01-01",
          "2024-02-01",
          "2024-03-01",
          "2024-04-01",
          "2024-05-01",
          "2024-06-01"
         ],
         "xaxis": "x",
         "y": [
          1.7039329240684715,
          1.4419452967668547,
          1.3819856191292053,
          1.445356615906591,
          1.8035310237179731,
          2.5633029961141234
         ],
         "yaxis": "y"
        },
        {
         "hovertemplate": "friendly_id=17AY43-14<br>month=%{x}<br>kwh=%{y}<extra></extra>",
         "legendgroup": "17AY43-14",
         "line": {
          "color": "#FF6692",
          "dash": "solid"
         },
         "marker": {
          "symbol": "circle"
         },
         "mode": "lines",
         "name": "17AY43-14",
         "showlegend": true,
         "type": "scattergl",
         "x": [
          "2024-01-01",
          "2024-02-01",
          "2024-03-01",
          "2024-04-01",
          "2024-05-01",
          "2024-06-01"
         ],
         "xaxis": "x",
         "y": [
          1.999893242859206,
          1.893216422079027,
          1.6566485695232553,
          1.706465492121063,
          2.1296989875466186,
          2.9640123167640473
         ],
         "yaxis": "y"
        },
        {
         "hovertemplate": "friendly_id=17AY43-14-ZB<br>month=%{x}<br>kwh=%{y}<extra></extra>",
         "legendgroup": "17AY43-14-ZB",
         "line": {
          "color": "#B6E880",
          "dash": "solid"
         },
         "marker": {
          "symbol": "circle"
         },
         "mode": "lines",
         "name": "17AY43-14-ZB",
         "showlegend": true,
         "type": "scattergl",
         "x": [
          "2024-01-01",
          "2024-02-01",
          "2024-03-01",
          "2024-04-01",
          "2024-05-01",
          "2024-06-01"
         ],
         "xaxis": "x",
         "y": [
          1.8082424396915826,
          1.4102221527427274,
          1.4944028822719788,
          1.543960441787334,
          1.9044552149084595,
          2.652617428841371
         ],
         "yaxis": "y"
        },
        {
         "hovertemplate": "friendly_id=17AY43-3<br>month=%{x}<br>kwh=%{y}<extra></extra>",
         "legendgroup": "17AY43-3",
         "line": {
          "color": "#FF97FF",
          "dash": "solid"
         },
         "marker": {
          "symbol": "circle"
         },
         "mode": "lines",
         "name": "17AY43-3",
         "showlegend": true,
         "type": "scattergl",
         "x": [
          "2024-01-01",
          "2024-02-01",
          "2024-03-01",
          "2024-04-01",
          "2024-05-01",
          "2024-06-01"
         ],
         "xaxis": "x",
         "y": [
          1.7386992271119777,
          1.6014169257405761,
          1.334484553864756,
          1.5482140061396705,
          1.9476618843217823,
          2.700339762501605
         ],
         "yaxis": "y"
        },
        {
         "hovertemplate": "friendly_id=17AY43-4<br>month=%{x}<br>kwh=%{y}<extra></extra>",
         "legendgroup": "17AY43-4",
         "line": {
          "color": "#FECB52",
          "dash": "solid"
         },
         "marker": {
          "symbol": "circle"
         },
         "mode": "lines",
         "name": "17AY43-4",
         "showlegend": true,
         "type": "scattergl",
         "x": [
          "2024-01-01",
          "2024-02-01",
          "2024-03-01",
          "2024-04-01",
          "2024-05-01",
          "2024-06-01"
         ],
         "xaxis": "x",
         "y": [
          1.993865642335091,
          1.8761424854623605,
          1.6553772906916249,
          1.7068600451230964,
          2.132023449400348,
          2.4773820450151973
         ],
         "yaxis": "y"
        },
        {
         "hovertemplate": "friendly_id=17AY43-5<br>month=%{x}<br>kwh=%{y}<extra></extra>",
         "legendgroup": "17AY43-5",
         "line": {
          "color": "#636efa",
          "dash": "solid"
         },
         "marker": {
          "symbol": "circle"
         },
         "mode": "lines",
         "name": "17AY43-5",
         "showlegend": true,
         "type": "scattergl",
         "x": [
          "2024-01-01",
          "2024-02-01",
          "2024-03-01",
          "2024-04-01",
          "2024-05-01",
          "2024-06-01"
         ],
         "xaxis": "x",
         "y": [
          2.554915398310003,
          2.413621481067796,
          2.110544236191535,
          2.181492695834328,
          2.7454408020114207,
          3.79454064181022
         ],
         "yaxis": "y"
        },
        {
         "hovertemplate": "friendly_id=17AY43-6<br>month=%{x}<br>kwh=%{y}<extra></extra>",
         "legendgroup": "17AY43-6",
         "line": {
          "color": "#EF553B",
          "dash": "solid"
         },
         "marker": {
          "symbol": "circle"
         },
         "mode": "lines",
         "name": "17AY43-6",
         "showlegend": true,
         "type": "scattergl",
         "x": [
          "2024-01-01",
          "2024-02-01",
          "2024-03-01",
          "2024-04-01",
          "2024-05-01",
          "2024-06-01"
         ],
         "xaxis": "x",
         "y": [
          1.0529391406239559,
          0.9888907158244302,
          0.8659552429869047,
          0.8948947065318212,
          1.1253167153641424,
          1.5714728304844445
         ],
         "yaxis": "y"
        },
        {
         "hovertemplate": "friendly_id=17AY43-6-2<br>month=%{x}<br>kwh=%{y}<extra></extra>",
         "legendgroup": "17AY43-6-2",
         "line": {
          "color": "#00cc96",
          "dash": "solid"
         },
         "marker": {
          "symbol": "circle"
         },
         "mode": "lines",
         "name": "17AY43-6-2",
         "showlegend": true,
         "type": "scattergl",
         "x": [
          "2024-01-01",
          "2024-02-01",
          "2024-03-01",
          "2024-04-01",
          "2024-05-01",
          "2024-06-01"
         ],
         "xaxis": "x",
         "y": [
          0.8915694153457336,
          0.8449912586800492,
          0.7382446113059201,
          0.7641356989146817,
          0.8993219151082484,
          1.0911956057613432
         ],
         "yaxis": "y"
        },
        {
         "hovertemplate": "friendly_id=17AY43-7<br>month=%{x}<br>kwh=%{y}<extra></extra>",
         "legendgroup": "17AY43-7",
         "line": {
          "color": "#ab63fa",
          "dash": "solid"
         },
         "marker": {
          "symbol": "circle"
         },
         "mode": "lines",
         "name": "17AY43-7",
         "showlegend": true,
         "type": "scattergl",
         "x": [
          "2024-01-01",
          "2024-02-01",
          "2024-03-01",
          "2024-04-01",
          "2024-05-01",
          "2024-06-01"
         ],
         "xaxis": "x",
         "y": [
          1.3543089251804372,
          1.2626288485086927,
          1.1131588950477411,
          1.1531263505604852,
          1.4344213898728464,
          2.0051771186088745
         ],
         "yaxis": "y"
        },
        {
         "hovertemplate": "friendly_id=17AY43-8X-2<br>month=%{x}<br>kwh=%{y}<extra></extra>",
         "legendgroup": "17AY43-8X-2",
         "line": {
          "color": "#FFA15A",
          "dash": "solid"
         },
         "marker": {
          "symbol": "circle"
         },
         "mode": "lines",
         "name": "17AY43-8X-2",
         "showlegend": true,
         "type": "scattergl",
         "x": [
          "2024-01-01",
          "2024-02-01",
          "2024-03-01",
          "2024-04-01",
          "2024-05-01",
          "2024-06-01"
         ],
         "xaxis": "x",
         "y": [
          1.1347429501414932,
          1.060263488269494,
          0.9352641707291752,
          0.9658425888686115,
          1.2117037412946408,
          1.693252393662911
         ],
         "yaxis": "y"
        },
        {
         "hovertemplate": "friendly_id=17AY43-8ZB<br>month=%{x}<br>kwh=%{y}<extra></extra>",
         "legendgroup": "17AY43-8ZB",
         "line": {
          "color": "#19d3f3",
          "dash": "solid"
         },
         "marker": {
          "symbol": "circle"
         },
         "mode": "lines",
         "name": "17AY43-8ZB",
         "showlegend": true,
         "type": "scattergl",
         "x": [
          "2024-01-01",
          "2024-02-01",
          "2024-03-01",
          "2024-04-01",
          "2024-05-01",
          "2024-06-01"
         ],
         "xaxis": "x",
         "y": [
          2.033330935661284,
          1.9093485519365534,
          1.6750382707647653,
          1.7311318810999299,
          2.1840556924033376,
          2.9861264025996705
         ],
         "yaxis": "y"
        },
        {
         "hovertemplate": "friendly_id=17AY43-9-1<br>month=%{x}<br>kwh=%{y}<extra></extra>",
         "legendgroup": "17AY43-9-1",
         "line": {
          "color": "#FF6692",
          "dash": "solid"
         },
         "marker": {
          "symbol": "circle"
         },
         "mode": "lines",
         "name": "17AY43-9-1",
         "showlegend": true,
         "type": "scattergl",
         "x": [
          "2024-01-01",
          "2024-02-01",
          "2024-03-01",
          "2024-04-01",
          "2024-05-01",
          "2024-06-01"
         ],
         "xaxis": "x",
         "y": [
          1.540834474772401,
          1.316787414138105,
          1.3194069038641525,
          1.3533055704125243,
          1.7286583716425543,
          2.360289110977831
         ],
         "yaxis": "y"
        },
        {
         "hovertemplate": "friendly_id=17AY43-9-1-ZA<br>month=%{x}<br>kwh=%{y}<extra></extra>",
         "legendgroup": "17AY43-9-1-ZA",
         "line": {
          "color": "#B6E880",
          "dash": "solid"
         },
         "marker": {
          "symbol": "circle"
         },
         "mode": "lines",
         "name": "17AY43-9-1-ZA",
         "showlegend": true,
         "type": "scattergl",
         "x": [
          "2024-01-01",
          "2024-02-01",
          "2024-03-01",
          "2024-04-01",
          "2024-05-01",
          "2024-06-01"
         ],
         "xaxis": "x",
         "y": [
          1.3941331343236805,
          1.1708805347524243,
          1.1420151372768164,
          1.1792250769189283,
          1.2891340290651705,
          1.9697894053141263
         ],
         "yaxis": "y"
        },
        {
         "hovertemplate": "friendly_id=17AY43-9-2<br>month=%{x}<br>kwh=%{y}<extra></extra>",
         "legendgroup": "17AY43-9-2",
         "line": {
          "color": "#FF97FF",
          "dash": "solid"
         },
         "marker": {
          "symbol": "circle"
         },
         "mode": "lines",
         "name": "17AY43-9-2",
         "showlegend": true,
         "type": "scattergl",
         "x": [
          "2024-01-01",
          "2024-02-01",
          "2024-03-01",
          "2024-04-01",
          "2024-05-01",
          "2024-06-01"
         ],
         "xaxis": "x",
         "y": [
          1.227645999105254,
          1.145666584628131,
          0.9396776577022463,
          1.0193487140744535,
          1.299034912208257,
          1.8143775025539781
         ],
         "yaxis": "y"
        },
        {
         "hovertemplate": "friendly_id=17AY43-9-2-ZA<br>month=%{x}<br>kwh=%{y}<extra></extra>",
         "legendgroup": "17AY43-9-2-ZA",
         "line": {
          "color": "#FECB52",
          "dash": "solid"
         },
         "marker": {
          "symbol": "circle"
         },
         "mode": "lines",
         "name": "17AY43-9-2-ZA",
         "showlegend": true,
         "type": "scattergl",
         "x": [
          "2024-01-01",
          "2024-02-01",
          "2024-03-01",
          "2024-04-01",
          "2024-05-01",
          "2024-06-01"
         ],
         "xaxis": "x",
         "y": [
          1.16301831725987,
          1.0997153711860812,
          0.9652411437705821,
          0.9952386786888222,
          1.253033767072385,
          1.7346378816835277
         ],
         "yaxis": "y"
        },
        {
         "hovertemplate": "friendly_id=17AY44-1<br>month=%{x}<br>kwh=%{y}<extra></extra>",
         "legendgroup": "17AY44-1",
         "line": {
          "color": "#636efa",
          "dash": "solid"
         },
         "marker": {
          "symbol": "circle"
         },
         "mode": "lines",
         "name": "17AY44-1",
         "showlegend": true,
         "type": "scattergl",
         "x": [
          "2024-01-01",
          "2024-02-01",
          "2024-03-01",
          "2024-04-01",
          "2024-05-01",
          "2024-06-01"
         ],
         "xaxis": "x",
         "y": [
          1.8647494027202143,
          1.7528128078368612,
          1.547820916708509,
          1.572638892376097,
          1.995149372949539,
          2.795262133272038
         ],
         "yaxis": "y"
        },
        {
         "hovertemplate": "friendly_id=17AY44-1ZA<br>month=%{x}<br>kwh=%{y}<extra></extra>",
         "legendgroup": "17AY44-1ZA",
         "line": {
          "color": "#EF553B",
          "dash": "solid"
         },
         "marker": {
          "symbol": "circle"
         },
         "mode": "lines",
         "name": "17AY44-1ZA",
         "showlegend": true,
         "type": "scattergl",
         "x": [
          "2024-01-01",
          "2024-02-01",
          "2024-03-01",
          "2024-04-01",
          "2024-05-01",
          "2024-06-01"
         ],
         "xaxis": "x",
         "y": [
          4.126201009353535,
          4.056796137761419,
          3.9603505089621747,
          3.9706343241991395,
          4.192476036735622,
          4.618784840932921
         ],
         "yaxis": "y"
        },
        {
         "hovertemplate": "friendly_id=17AY46<br>month=%{x}<br>kwh=%{y}<extra></extra>",
         "legendgroup": "17AY46",
         "line": {
          "color": "#00cc96",
          "dash": "solid"
         },
         "marker": {
          "symbol": "circle"
         },
         "mode": "lines",
         "name": "17AY46",
         "showlegend": true,
         "type": "scattergl",
         "x": [
          "2024-01-01",
          "2024-02-01",
          "2024-03-01",
          "2024-04-01",
          "2024-05-01",
          "2024-06-01"
         ],
         "xaxis": "x",
         "y": [
          1.1765473744610155,
          1.135069255008183,
          1.0000480405832055,
          0.903876980339401,
          1.2289718923598374,
          1.8066533379985577
         ],
         "yaxis": "y"
        },
        {
         "hovertemplate": "friendly_id=17AY4X<br>month=%{x}<br>kwh=%{y}<extra></extra>",
         "legendgroup": "17AY4X",
         "line": {
          "color": "#ab63fa",
          "dash": "solid"
         },
         "marker": {
          "symbol": "circle"
         },
         "mode": "lines",
         "name": "17AY4X",
         "showlegend": true,
         "type": "scattergl",
         "x": [
          "2024-01-01",
          "2024-02-01",
          "2024-03-01",
          "2024-04-01",
          "2024-05-01",
          "2024-06-01"
         ],
         "xaxis": "x",
         "y": [
          0.7898833196796655,
          0.6898175055240207,
          0.589070380800172,
          0.6678312129121607,
          0.8388001825722637,
          1.1640165567682133
         ],
         "yaxis": "y"
        },
        {
         "hovertemplate": "friendly_id=17AY5<br>month=%{x}<br>kwh=%{y}<extra></extra>",
         "legendgroup": "17AY5",
         "line": {
          "color": "#FFA15A",
          "dash": "solid"
         },
         "marker": {
          "symbol": "circle"
         },
         "mode": "lines",
         "name": "17AY5",
         "showlegend": true,
         "type": "scattergl",
         "x": [
          "2024-01-01",
          "2024-02-01",
          "2024-03-01",
          "2024-04-01",
          "2024-05-01",
          "2024-06-01"
         ],
         "xaxis": "x",
         "y": [
          0.884951172078023,
          0.8356953461757788,
          0.7374201563120846,
          0.7608079817243744,
          0.945048779639753,
          1.3297602680872367
         ],
         "yaxis": "y"
        },
        {
         "hovertemplate": "friendly_id=17AY51<br>month=%{x}<br>kwh=%{y}<extra></extra>",
         "legendgroup": "17AY51",
         "line": {
          "color": "#19d3f3",
          "dash": "solid"
         },
         "marker": {
          "symbol": "circle"
         },
         "mode": "lines",
         "name": "17AY51",
         "showlegend": true,
         "type": "scattergl",
         "x": [
          "2024-01-01",
          "2024-02-01",
          "2024-03-01",
          "2024-04-01",
          "2024-05-01",
          "2024-06-01"
         ],
         "xaxis": "x",
         "y": [
          1.3765304928433184,
          1.2968967221301093,
          1.1342046939595505,
          1.127189602055176,
          1.4643909379492992,
          1.9706856155955081
         ],
         "yaxis": "y"
        },
        {
         "hovertemplate": "friendly_id=17AY51ZA<br>month=%{x}<br>kwh=%{y}<extra></extra>",
         "legendgroup": "17AY51ZA",
         "line": {
          "color": "#FF6692",
          "dash": "solid"
         },
         "marker": {
          "symbol": "circle"
         },
         "mode": "lines",
         "name": "17AY51ZA",
         "showlegend": true,
         "type": "scattergl",
         "x": [
          "2024-01-01",
          "2024-02-01",
          "2024-03-01",
          "2024-04-01",
          "2024-05-01",
          "2024-06-01"
         ],
         "xaxis": "x",
         "y": [
          1.533429602077336,
          1.4433610554687426,
          1.2597757694609228,
          1.3078525979334052,
          1.6495201719355301,
          2.2881654046912576
         ],
         "yaxis": "y"
        },
        {
         "hovertemplate": "friendly_id=17AY52<br>month=%{x}<br>kwh=%{y}<extra></extra>",
         "legendgroup": "17AY52",
         "line": {
          "color": "#B6E880",
          "dash": "solid"
         },
         "marker": {
          "symbol": "circle"
         },
         "mode": "lines",
         "name": "17AY52",
         "showlegend": true,
         "type": "scattergl",
         "x": [
          "2024-01-01",
          "2024-02-01",
          "2024-03-01",
          "2024-04-01",
          "2024-05-01",
          "2024-06-01"
         ],
         "xaxis": "x",
         "y": [
          1.7444366299122775,
          1.6513322555517629,
          1.4068080038054127,
          1.4902808015162043,
          1.8786778904633858,
          2.58330759798413
         ],
         "yaxis": "y"
        },
        {
         "hovertemplate": "friendly_id=17AY54<br>month=%{x}<br>kwh=%{y}<extra></extra>",
         "legendgroup": "17AY54",
         "line": {
          "color": "#FF97FF",
          "dash": "solid"
         },
         "marker": {
          "symbol": "circle"
         },
         "mode": "lines",
         "name": "17AY54",
         "showlegend": true,
         "type": "scattergl",
         "x": [
          "2024-01-01",
          "2024-02-01",
          "2024-03-01",
          "2024-04-01",
          "2024-05-01",
          "2024-06-01"
         ],
         "xaxis": "x",
         "y": [
          1.8113891987254087,
          1.6980940791564727,
          1.4877941921762627,
          1.5246474666256324,
          1.9184027999192326,
          2.1572786497278518
         ],
         "yaxis": "y"
        },
        {
         "hovertemplate": "friendly_id=17AY55<br>month=%{x}<br>kwh=%{y}<extra></extra>",
         "legendgroup": "17AY55",
         "line": {
          "color": "#FECB52",
          "dash": "solid"
         },
         "marker": {
          "symbol": "circle"
         },
         "mode": "lines",
         "name": "17AY55",
         "showlegend": true,
         "type": "scattergl",
         "x": [
          "2024-01-01",
          "2024-02-01",
          "2024-03-01",
          "2024-04-01",
          "2024-05-01",
          "2024-06-01"
         ],
         "xaxis": "x",
         "y": [
          1.20863886822829,
          1.1191022279781808,
          0.9867554918316193,
          1.015948582169762,
          1.2759432224555973,
          1.7962548183613887
         ],
         "yaxis": "y"
        },
        {
         "hovertemplate": "friendly_id=17AY55-1<br>month=%{x}<br>kwh=%{y}<extra></extra>",
         "legendgroup": "17AY55-1",
         "line": {
          "color": "#636efa",
          "dash": "solid"
         },
         "marker": {
          "symbol": "circle"
         },
         "mode": "lines",
         "name": "17AY55-1",
         "showlegend": true,
         "type": "scattergl",
         "x": [
          "2024-01-01",
          "2024-02-01",
          "2024-03-01",
          "2024-04-01",
          "2024-05-01",
          "2024-06-01"
         ],
         "xaxis": "x",
         "y": [
          1.204677565838728,
          1.0549106324005402,
          0.8930838528933546,
          1.0246197863334834,
          1.2810160233016374,
          1.781084350163223
         ],
         "yaxis": "y"
        },
        {
         "hovertemplate": "friendly_id=17AY56<br>month=%{x}<br>kwh=%{y}<extra></extra>",
         "legendgroup": "17AY56",
         "line": {
          "color": "#EF553B",
          "dash": "solid"
         },
         "marker": {
          "symbol": "circle"
         },
         "mode": "lines",
         "name": "17AY56",
         "showlegend": true,
         "type": "scattergl",
         "x": [
          "2024-01-01",
          "2024-02-01",
          "2024-03-01",
          "2024-04-01",
          "2024-05-01",
          "2024-06-01"
         ],
         "xaxis": "x",
         "y": [
          1.8684991813677843,
          1.7383076860460576,
          1.4099560439651386,
          1.5703976663675183,
          1.9683559929050358,
          2.7661344382309982
         ],
         "yaxis": "y"
        },
        {
         "hovertemplate": "friendly_id=17AY57<br>month=%{x}<br>kwh=%{y}<extra></extra>",
         "legendgroup": "17AY57",
         "line": {
          "color": "#00cc96",
          "dash": "solid"
         },
         "marker": {
          "symbol": "circle"
         },
         "mode": "lines",
         "name": "17AY57",
         "showlegend": true,
         "type": "scattergl",
         "x": [
          "2024-01-01",
          "2024-02-01",
          "2024-03-01",
          "2024-04-01",
          "2024-05-01",
          "2024-06-01"
         ],
         "xaxis": "x",
         "y": [
          1.364905440442932,
          1.2782269863945912,
          1.1267986992672883,
          1.1511535018055525,
          1.4418275992744294,
          1.9717649316495698
         ],
         "yaxis": "y"
        },
        {
         "hovertemplate": "friendly_id=17AY59-1-1<br>month=%{x}<br>kwh=%{y}<extra></extra>",
         "legendgroup": "17AY59-1-1",
         "line": {
          "color": "#ab63fa",
          "dash": "solid"
         },
         "marker": {
          "symbol": "circle"
         },
         "mode": "lines",
         "name": "17AY59-1-1",
         "showlegend": true,
         "type": "scattergl",
         "x": [
          "2024-01-01",
          "2024-02-01",
          "2024-03-01",
          "2024-04-01",
          "2024-05-01",
          "2024-06-01"
         ],
         "xaxis": "x",
         "y": [
          1.094361781002554,
          1.0282212474418395,
          0.9028117679113804,
          0.9304659122348907,
          1.1344569847020503,
          1.6383358590510506
         ],
         "yaxis": "y"
        },
        {
         "hovertemplate": "friendly_id=17AY59-10<br>month=%{x}<br>kwh=%{y}<extra></extra>",
         "legendgroup": "17AY59-10",
         "line": {
          "color": "#FFA15A",
          "dash": "solid"
         },
         "marker": {
          "symbol": "circle"
         },
         "mode": "lines",
         "name": "17AY59-10",
         "showlegend": true,
         "type": "scattergl",
         "x": [
          "2024-01-01",
          "2024-02-01",
          "2024-03-01",
          "2024-04-01",
          "2024-05-01",
          "2024-06-01"
         ],
         "xaxis": "x",
         "y": [
          0.6431142385374633,
          0.6035519883949122,
          0.5296356202586998,
          0.5425291721594191,
          0.6547974238383144,
          0.9497398764834132
         ],
         "yaxis": "y"
        },
        {
         "hovertemplate": "friendly_id=17AY59-13<br>month=%{x}<br>kwh=%{y}<extra></extra>",
         "legendgroup": "17AY59-13",
         "line": {
          "color": "#19d3f3",
          "dash": "solid"
         },
         "marker": {
          "symbol": "circle"
         },
         "mode": "lines",
         "name": "17AY59-13",
         "showlegend": true,
         "type": "scattergl",
         "x": [
          "2024-01-01",
          "2024-02-01",
          "2024-03-01",
          "2024-04-01",
          "2024-05-01",
          "2024-06-01"
         ],
         "xaxis": "x",
         "y": [
          2.4545191777794635,
          2.304502157145644,
          2.0297240599007935,
          2.0846362708064006,
          2.4901876987705935,
          3.271805919832121
         ],
         "yaxis": "y"
        },
        {
         "hovertemplate": "friendly_id=17AY59-2<br>month=%{x}<br>kwh=%{y}<extra></extra>",
         "legendgroup": "17AY59-2",
         "line": {
          "color": "#FF6692",
          "dash": "solid"
         },
         "marker": {
          "symbol": "circle"
         },
         "mode": "lines",
         "name": "17AY59-2",
         "showlegend": true,
         "type": "scattergl",
         "x": [
          "2024-01-01",
          "2024-02-01",
          "2024-03-01",
          "2024-04-01",
          "2024-05-01",
          "2024-06-01"
         ],
         "xaxis": "x",
         "y": [
          1.6759476509309221,
          1.5705975995050099,
          1.3789754845320574,
          1.2296034467448587,
          1.7803427339894298,
          2.4867859753458887
         ],
         "yaxis": "y"
        },
        {
         "hovertemplate": "friendly_id=17AY59-4<br>month=%{x}<br>kwh=%{y}<extra></extra>",
         "legendgroup": "17AY59-4",
         "line": {
          "color": "#B6E880",
          "dash": "solid"
         },
         "marker": {
          "symbol": "circle"
         },
         "mode": "lines",
         "name": "17AY59-4",
         "showlegend": true,
         "type": "scattergl",
         "x": [
          "2024-01-01",
          "2024-02-01",
          "2024-03-01",
          "2024-04-01",
          "2024-05-01",
          "2024-06-01"
         ],
         "xaxis": "x",
         "y": [
          1.1864774765197788,
          1.2801629389126596,
          1.127173709690079,
          1.1266228817133728,
          1.4696802331840275,
          2.029681725001088
         ],
         "yaxis": "y"
        },
        {
         "hovertemplate": "friendly_id=17AY59-7<br>month=%{x}<br>kwh=%{y}<extra></extra>",
         "legendgroup": "17AY59-7",
         "line": {
          "color": "#FF97FF",
          "dash": "solid"
         },
         "marker": {
          "symbol": "circle"
         },
         "mode": "lines",
         "name": "17AY59-7",
         "showlegend": true,
         "type": "scattergl",
         "x": [
          "2024-01-01",
          "2024-02-01",
          "2024-03-01",
          "2024-04-01",
          "2024-05-01",
          "2024-06-01"
         ],
         "xaxis": "x",
         "y": [
          0.9391830168098494,
          0.8746049480046849,
          0.7724095412654483,
          0.7975209983223146,
          0.8682235483085822,
          1.3891696838655831
         ],
         "yaxis": "y"
        },
        {
         "hovertemplate": "friendly_id=17AY60<br>month=%{x}<br>kwh=%{y}<extra></extra>",
         "legendgroup": "17AY60",
         "line": {
          "color": "#FECB52",
          "dash": "solid"
         },
         "marker": {
          "symbol": "circle"
         },
         "mode": "lines",
         "name": "17AY60",
         "showlegend": true,
         "type": "scattergl",
         "x": [
          "2024-01-01",
          "2024-02-01",
          "2024-03-01",
          "2024-04-01",
          "2024-05-01",
          "2024-06-01"
         ],
         "xaxis": "x",
         "y": [
          1.018882772189177,
          0.9567795736992526,
          0.8226595974091786,
          0.8695417135820863,
          1.0840097120795429,
          1.526425205691808
         ],
         "yaxis": "y"
        },
        {
         "hovertemplate": "friendly_id=17AY61-1<br>month=%{x}<br>kwh=%{y}<extra></extra>",
         "legendgroup": "17AY61-1",
         "line": {
          "color": "#636efa",
          "dash": "solid"
         },
         "marker": {
          "symbol": "circle"
         },
         "mode": "lines",
         "name": "17AY61-1",
         "showlegend": true,
         "type": "scattergl",
         "x": [
          "2024-01-01",
          "2024-02-01",
          "2024-03-01",
          "2024-04-01",
          "2024-05-01",
          "2024-06-01"
         ],
         "xaxis": "x",
         "y": [
          1.1695967135349334,
          0.9936118377698151,
          0.9614730477970579,
          0.9963052039225045,
          1.2388488505525774,
          1.4909040798482092
         ],
         "yaxis": "y"
        },
        {
         "hovertemplate": "friendly_id=17AY61-1ZC<br>month=%{x}<br>kwh=%{y}<extra></extra>",
         "legendgroup": "17AY61-1ZC",
         "line": {
          "color": "#EF553B",
          "dash": "solid"
         },
         "marker": {
          "symbol": "circle"
         },
         "mode": "lines",
         "name": "17AY61-1ZC",
         "showlegend": true,
         "type": "scattergl",
         "x": [
          "2024-01-01",
          "2024-02-01",
          "2024-03-01",
          "2024-04-01",
          "2024-05-01",
          "2024-06-01"
         ],
         "xaxis": "x",
         "y": [
          1.9416049331486462,
          1.7704583741219215,
          1.6117427900937475,
          1.6612316790203097,
          2.0912204396987084,
          2.889396397584256
         ],
         "yaxis": "y"
        },
        {
         "hovertemplate": "friendly_id=17AY62X-1<br>month=%{x}<br>kwh=%{y}<extra></extra>",
         "legendgroup": "17AY62X-1",
         "line": {
          "color": "#00cc96",
          "dash": "solid"
         },
         "marker": {
          "symbol": "circle"
         },
         "mode": "lines",
         "name": "17AY62X-1",
         "showlegend": true,
         "type": "scattergl",
         "x": [
          "2024-01-01",
          "2024-02-01",
          "2024-03-01",
          "2024-04-01",
          "2024-05-01",
          "2024-06-01"
         ],
         "xaxis": "x",
         "y": [
          2.1278665151966214,
          2.0057628383821537,
          1.7729511487024174,
          1.8119590372074934,
          2.291083771040161,
          3.190776737882662
         ],
         "yaxis": "y"
        },
        {
         "hovertemplate": "friendly_id=17AY63<br>month=%{x}<br>kwh=%{y}<extra></extra>",
         "legendgroup": "17AY63",
         "line": {
          "color": "#ab63fa",
          "dash": "solid"
         },
         "marker": {
          "symbol": "circle"
         },
         "mode": "lines",
         "name": "17AY63",
         "showlegend": true,
         "type": "scattergl",
         "x": [
          "2024-01-01",
          "2024-02-01",
          "2024-03-01",
          "2024-04-01",
          "2024-05-01",
          "2024-06-01"
         ],
         "xaxis": "x",
         "y": [
          2.0924092598473485,
          1.9457884795477083,
          1.6978957432744917,
          1.7562864814225954,
          2.2097758672339576,
          3.0878656614979145
         ],
         "yaxis": "y"
        },
        {
         "hovertemplate": "friendly_id=17AY64<br>month=%{x}<br>kwh=%{y}<extra></extra>",
         "legendgroup": "17AY64",
         "line": {
          "color": "#FFA15A",
          "dash": "solid"
         },
         "marker": {
          "symbol": "circle"
         },
         "mode": "lines",
         "name": "17AY64",
         "showlegend": true,
         "type": "scattergl",
         "x": [
          "2024-01-01",
          "2024-02-01",
          "2024-03-01",
          "2024-04-01",
          "2024-05-01",
          "2024-06-01"
         ],
         "xaxis": "x",
         "y": [
          1.7059870940803796,
          1.5989791061772387,
          1.3505391314349637,
          1.4188210050548056,
          1.809928291367564,
          2.3355824019116223
         ],
         "yaxis": "y"
        },
        {
         "hovertemplate": "friendly_id=17AY64ZA<br>month=%{x}<br>kwh=%{y}<extra></extra>",
         "legendgroup": "17AY64ZA",
         "line": {
          "color": "#19d3f3",
          "dash": "solid"
         },
         "marker": {
          "symbol": "circle"
         },
         "mode": "lines",
         "name": "17AY64ZA",
         "showlegend": true,
         "type": "scattergl",
         "x": [
          "2024-01-01",
          "2024-02-01",
          "2024-03-01",
          "2024-04-01",
          "2024-05-01",
          "2024-06-01"
         ],
         "xaxis": "x",
         "y": [
          1.0025192232993068,
          0.9493767757498847,
          0.8326822219327576,
          0.8406134542228011,
          1.0766543723863664,
          1.5027686177151323
         ],
         "yaxis": "y"
        },
        {
         "hovertemplate": "friendly_id=17AY70<br>month=%{x}<br>kwh=%{y}<extra></extra>",
         "legendgroup": "17AY70",
         "line": {
          "color": "#FF6692",
          "dash": "solid"
         },
         "marker": {
          "symbol": "circle"
         },
         "mode": "lines",
         "name": "17AY70",
         "showlegend": true,
         "type": "scattergl",
         "x": [
          "2024-01-01",
          "2024-02-01",
          "2024-03-01",
          "2024-04-01",
          "2024-05-01",
          "2024-06-01"
         ],
         "xaxis": "x",
         "y": [
          1.0794470039699169,
          1.0210782540238246,
          0.8997710093418517,
          0.9255392576813514,
          1.161724564424279,
          1.6235173749262068
         ],
         "yaxis": "y"
        },
        {
         "hovertemplate": "friendly_id=17AY73-9<br>month=%{x}<br>kwh=%{y}<extra></extra>",
         "legendgroup": "17AY73-9",
         "line": {
          "color": "#B6E880",
          "dash": "solid"
         },
         "marker": {
          "symbol": "circle"
         },
         "mode": "lines",
         "name": "17AY73-9",
         "showlegend": true,
         "type": "scattergl",
         "x": [
          "2024-01-01",
          "2024-02-01",
          "2024-03-01",
          "2024-04-01",
          "2024-05-01",
          "2024-06-01"
         ],
         "xaxis": "x",
         "y": [
          0.9829616422594164,
          0.9307773722084093,
          0.8201541663825972,
          0.8425578061326584,
          1.062691088327689,
          1.4994942292466755
         ],
         "yaxis": "y"
        },
        {
         "hovertemplate": "friendly_id=17AY74<br>month=%{x}<br>kwh=%{y}<extra></extra>",
         "legendgroup": "17AY74",
         "line": {
          "color": "#FF97FF",
          "dash": "solid"
         },
         "marker": {
          "symbol": "circle"
         },
         "mode": "lines",
         "name": "17AY74",
         "showlegend": true,
         "type": "scattergl",
         "x": [
          "2024-01-01",
          "2024-02-01",
          "2024-03-01",
          "2024-04-01",
          "2024-05-01",
          "2024-06-01"
         ],
         "xaxis": "x",
         "y": [
          1.7343647120577819,
          1.8009530809235446,
          1.58478511404246,
          1.6328286874108404,
          2.032477494431124,
          2.848234444381118
         ],
         "yaxis": "y"
        },
        {
         "hovertemplate": "friendly_id=17B1Y1<br>month=%{x}<br>kwh=%{y}<extra></extra>",
         "legendgroup": "17B1Y1",
         "line": {
          "color": "#FECB52",
          "dash": "solid"
         },
         "marker": {
          "symbol": "circle"
         },
         "mode": "lines",
         "name": "17B1Y1",
         "showlegend": true,
         "type": "scattergl",
         "x": [
          "2024-01-01",
          "2024-02-01",
          "2024-03-01",
          "2024-04-01",
          "2024-05-01",
          "2024-06-01"
         ],
         "xaxis": "x",
         "y": [
          1.0500543188767848,
          0.991365833040104,
          0.8695081922193144,
          0.8648698898835542,
          1.0886341494852785,
          1.5137766497489646
         ],
         "yaxis": "y"
        },
        {
         "hovertemplate": "friendly_id=17B1Y12<br>month=%{x}<br>kwh=%{y}<extra></extra>",
         "legendgroup": "17B1Y12",
         "line": {
          "color": "#636efa",
          "dash": "solid"
         },
         "marker": {
          "symbol": "circle"
         },
         "mode": "lines",
         "name": "17B1Y12",
         "showlegend": true,
         "type": "scattergl",
         "x": [
          "2024-01-01",
          "2024-02-01",
          "2024-03-01",
          "2024-04-01",
          "2024-05-01",
          "2024-06-01"
         ],
         "xaxis": "x",
         "y": [
          0.7444514568676238,
          0.708356795330382,
          0.6181826063607615,
          0.6375682869411179,
          0.7737312130512011,
          1.070531009817808
         ],
         "yaxis": "y"
        },
        {
         "hovertemplate": "friendly_id=17B1Y12ZA<br>month=%{x}<br>kwh=%{y}<extra></extra>",
         "legendgroup": "17B1Y12ZA",
         "line": {
          "color": "#EF553B",
          "dash": "solid"
         },
         "marker": {
          "symbol": "circle"
         },
         "mode": "lines",
         "name": "17B1Y12ZA",
         "showlegend": true,
         "type": "scattergl",
         "x": [
          "2024-01-01",
          "2024-02-01",
          "2024-03-01",
          "2024-04-01",
          "2024-05-01",
          "2024-06-01"
         ],
         "xaxis": "x",
         "y": [
          1.4189326782537153,
          1.3229608520921812,
          1.0485595114079898,
          1.2092924123855053,
          1.4962606425858893,
          2.1064659544720725
         ],
         "yaxis": "y"
        },
        {
         "hovertemplate": "friendly_id=17B1Y3ZA<br>month=%{x}<br>kwh=%{y}<extra></extra>",
         "legendgroup": "17B1Y3ZA",
         "line": {
          "color": "#00cc96",
          "dash": "solid"
         },
         "marker": {
          "symbol": "circle"
         },
         "mode": "lines",
         "name": "17B1Y3ZA",
         "showlegend": true,
         "type": "scattergl",
         "x": [
          "2024-01-01",
          "2024-02-01",
          "2024-03-01",
          "2024-04-01",
          "2024-05-01",
          "2024-06-01"
         ],
         "xaxis": "x",
         "y": [
          1.0310869684716257,
          0.9891224277203641,
          0.8497900744892384,
          0.8821564653397889,
          1.0734412813340415,
          1.4951599251352117
         ],
         "yaxis": "y"
        },
        {
         "hovertemplate": "friendly_id=17B1Y7ZA<br>month=%{x}<br>kwh=%{y}<extra></extra>",
         "legendgroup": "17B1Y7ZA",
         "line": {
          "color": "#ab63fa",
          "dash": "solid"
         },
         "marker": {
          "symbol": "circle"
         },
         "mode": "lines",
         "name": "17B1Y7ZA",
         "showlegend": true,
         "type": "scattergl",
         "x": [
          "2024-01-01",
          "2024-02-01",
          "2024-03-01",
          "2024-04-01",
          "2024-05-01",
          "2024-06-01"
         ],
         "xaxis": "x",
         "y": [
          1.9662362556670723,
          1.878575525436382,
          1.63455801593907,
          1.6870608595868302,
          1.9537757293826479,
          2.3183564936262115
         ],
         "yaxis": "y"
        },
        {
         "hovertemplate": "friendly_id=17BY1<br>month=%{x}<br>kwh=%{y}<extra></extra>",
         "legendgroup": "17BY1",
         "line": {
          "color": "#FFA15A",
          "dash": "solid"
         },
         "marker": {
          "symbol": "circle"
         },
         "mode": "lines",
         "name": "17BY1",
         "showlegend": true,
         "type": "scattergl",
         "x": [
          "2024-01-01",
          "2024-02-01",
          "2024-03-01",
          "2024-04-01",
          "2024-05-01",
          "2024-06-01"
         ],
         "xaxis": "x",
         "y": [
          1.1426762692000818,
          1.0396621722607324,
          0.9583702875478247,
          0.9851854750088826,
          1.2366815973682326,
          1.7429386314483766
         ],
         "yaxis": "y"
        },
        {
         "hovertemplate": "friendly_id=17BY10<br>month=%{x}<br>kwh=%{y}<extra></extra>",
         "legendgroup": "17BY10",
         "line": {
          "color": "#19d3f3",
          "dash": "solid"
         },
         "marker": {
          "symbol": "circle"
         },
         "mode": "lines",
         "name": "17BY10",
         "showlegend": true,
         "type": "scattergl",
         "x": [
          "2024-01-01",
          "2024-02-01",
          "2024-03-01",
          "2024-04-01",
          "2024-05-01",
          "2024-06-01"
         ],
         "xaxis": "x",
         "y": [
          1.592746399859857,
          1.5025784457777454,
          1.315501251168582,
          1.3530609970103573,
          1.6795882070398234,
          1.3448717486515316
         ],
         "yaxis": "y"
        },
        {
         "hovertemplate": "friendly_id=17BY10-1<br>month=%{x}<br>kwh=%{y}<extra></extra>",
         "legendgroup": "17BY10-1",
         "line": {
          "color": "#FF6692",
          "dash": "solid"
         },
         "marker": {
          "symbol": "circle"
         },
         "mode": "lines",
         "name": "17BY10-1",
         "showlegend": true,
         "type": "scattergl",
         "x": [
          "2024-01-01",
          "2024-02-01",
          "2024-03-01",
          "2024-04-01",
          "2024-05-01",
          "2024-06-01"
         ],
         "xaxis": "x",
         "y": [
          1.4409701944855504,
          1.3736096241644937,
          0.9200657317104928,
          1.026436104028135,
          1.4475991521393177,
          2.106580766110934
         ],
         "yaxis": "y"
        },
        {
         "hovertemplate": "friendly_id=17BY11<br>month=%{x}<br>kwh=%{y}<extra></extra>",
         "legendgroup": "17BY11",
         "line": {
          "color": "#B6E880",
          "dash": "solid"
         },
         "marker": {
          "symbol": "circle"
         },
         "mode": "lines",
         "name": "17BY11",
         "showlegend": true,
         "type": "scattergl",
         "x": [
          "2024-01-01",
          "2024-02-01",
          "2024-03-01",
          "2024-04-01",
          "2024-05-01",
          "2024-06-01"
         ],
         "xaxis": "x",
         "y": [
          0.7577611712034603,
          0.7332739188496002,
          0.6366023167055654,
          0.6581558195356996,
          0.7657393696929252,
          0.996509582729047
         ],
         "yaxis": "y"
        },
        {
         "hovertemplate": "friendly_id=17BY13<br>month=%{x}<br>kwh=%{y}<extra></extra>",
         "legendgroup": "17BY13",
         "line": {
          "color": "#FF97FF",
          "dash": "solid"
         },
         "marker": {
          "symbol": "circle"
         },
         "mode": "lines",
         "name": "17BY13",
         "showlegend": true,
         "type": "scattergl",
         "x": [
          "2024-01-01",
          "2024-02-01",
          "2024-03-01",
          "2024-04-01",
          "2024-05-01",
          "2024-06-01"
         ],
         "xaxis": "x",
         "y": [
          2.153208174960763,
          2.05757076693884,
          1.7862777314421836,
          1.8407021428946364,
          2.2727893889712356,
          3.15830915995899
         ],
         "yaxis": "y"
        },
        {
         "hovertemplate": "friendly_id=17BY13-1<br>month=%{x}<br>kwh=%{y}<extra></extra>",
         "legendgroup": "17BY13-1",
         "line": {
          "color": "#FECB52",
          "dash": "solid"
         },
         "marker": {
          "symbol": "circle"
         },
         "mode": "lines",
         "name": "17BY13-1",
         "showlegend": true,
         "type": "scattergl",
         "x": [
          "2024-01-01",
          "2024-02-01",
          "2024-03-01",
          "2024-04-01",
          "2024-05-01",
          "2024-06-01"
         ],
         "xaxis": "x",
         "y": [
          1.6813854256983696,
          1.6149286614459173,
          1.3544971204052703,
          1.4367642051253156,
          1.7195182550823478,
          2.437077166765642
         ],
         "yaxis": "y"
        },
        {
         "hovertemplate": "friendly_id=17BY13-2X<br>month=%{x}<br>kwh=%{y}<extra></extra>",
         "legendgroup": "17BY13-2X",
         "line": {
          "color": "#636efa",
          "dash": "solid"
         },
         "marker": {
          "symbol": "circle"
         },
         "mode": "lines",
         "name": "17BY13-2X",
         "showlegend": true,
         "type": "scattergl",
         "x": [
          "2024-01-01",
          "2024-02-01",
          "2024-03-01",
          "2024-04-01",
          "2024-05-01",
          "2024-06-01"
         ],
         "xaxis": "x",
         "y": [
          0.8614164003254725,
          0.7861277291876783,
          0.78401792383827,
          0.7255645942178675,
          1.0095078550853187,
          1.3959028870243018
         ],
         "yaxis": "y"
        },
        {
         "hovertemplate": "friendly_id=17BY14<br>month=%{x}<br>kwh=%{y}<extra></extra>",
         "legendgroup": "17BY14",
         "line": {
          "color": "#EF553B",
          "dash": "solid"
         },
         "marker": {
          "symbol": "circle"
         },
         "mode": "lines",
         "name": "17BY14",
         "showlegend": true,
         "type": "scattergl",
         "x": [
          "2024-01-01",
          "2024-02-01",
          "2024-03-01",
          "2024-04-01",
          "2024-05-01",
          "2024-06-01"
         ],
         "xaxis": "x",
         "y": [
          0.731374508195026,
          0.7073307308309366,
          0.6134149667661793,
          0.6266373786883433,
          0.7754261581755729,
          1.0682878067280177
         ],
         "yaxis": "y"
        },
        {
         "hovertemplate": "friendly_id=17BY14ZA<br>month=%{x}<br>kwh=%{y}<extra></extra>",
         "legendgroup": "17BY14ZA",
         "line": {
          "color": "#00cc96",
          "dash": "solid"
         },
         "marker": {
          "symbol": "circle"
         },
         "mode": "lines",
         "name": "17BY14ZA",
         "showlegend": true,
         "type": "scattergl",
         "x": [
          "2024-01-01",
          "2024-02-01",
          "2024-03-01",
          "2024-04-01",
          "2024-05-01",
          "2024-06-01"
         ],
         "xaxis": "x",
         "y": [
          1.6511551386136454,
          1.5647610450857135,
          1.3696265151447642,
          1.4030286189572931,
          1.725722490624274,
          2.3943197692285163
         ],
         "yaxis": "y"
        },
        {
         "hovertemplate": "friendly_id=17BY16<br>month=%{x}<br>kwh=%{y}<extra></extra>",
         "legendgroup": "17BY16",
         "line": {
          "color": "#ab63fa",
          "dash": "solid"
         },
         "marker": {
          "symbol": "circle"
         },
         "mode": "lines",
         "name": "17BY16",
         "showlegend": true,
         "type": "scattergl",
         "x": [
          "2024-01-01",
          "2024-02-01",
          "2024-03-01",
          "2024-04-01",
          "2024-05-01",
          "2024-06-01"
         ],
         "xaxis": "x",
         "y": [
          1.1513878988101014,
          1.0933860115017462,
          0.9505208017624869,
          0.9821975878559992,
          1.0361651692977958,
          1.6713668138356848
         ],
         "yaxis": "y"
        },
        {
         "hovertemplate": "friendly_id=17BY16ZA<br>month=%{x}<br>kwh=%{y}<extra></extra>",
         "legendgroup": "17BY16ZA",
         "line": {
          "color": "#FFA15A",
          "dash": "solid"
         },
         "marker": {
          "symbol": "circle"
         },
         "mode": "lines",
         "name": "17BY16ZA",
         "showlegend": true,
         "type": "scattergl",
         "x": [
          "2024-01-01",
          "2024-02-01",
          "2024-03-01",
          "2024-04-01",
          "2024-05-01",
          "2024-06-01"
         ],
         "xaxis": "x",
         "y": [
          1.3066421689165815,
          1.2571835784803926,
          1.0830983995172794,
          1.1111612456799114,
          1.3826303027170337,
          1.890299718270653
         ],
         "yaxis": "y"
        },
        {
         "hovertemplate": "friendly_id=17BY19<br>month=%{x}<br>kwh=%{y}<extra></extra>",
         "legendgroup": "17BY19",
         "line": {
          "color": "#19d3f3",
          "dash": "solid"
         },
         "marker": {
          "symbol": "circle"
         },
         "mode": "lines",
         "name": "17BY19",
         "showlegend": true,
         "type": "scattergl",
         "x": [
          "2024-01-01",
          "2024-02-01",
          "2024-03-01",
          "2024-04-01",
          "2024-05-01",
          "2024-06-01"
         ],
         "xaxis": "x",
         "y": [
          2.271354178570224,
          2.1508065976422888,
          1.8720302297933262,
          1.9210429026015905,
          2.3672324323949074,
          3.301700179425818
         ],
         "yaxis": "y"
        },
        {
         "hovertemplate": "friendly_id=17BY3-1<br>month=%{x}<br>kwh=%{y}<extra></extra>",
         "legendgroup": "17BY3-1",
         "line": {
          "color": "#FF6692",
          "dash": "solid"
         },
         "marker": {
          "symbol": "circle"
         },
         "mode": "lines",
         "name": "17BY3-1",
         "showlegend": true,
         "type": "scattergl",
         "x": [
          "2024-01-01",
          "2024-02-01",
          "2024-03-01",
          "2024-04-01",
          "2024-05-01",
          "2024-06-01"
         ],
         "xaxis": "x",
         "y": [
          10.796114704188001,
          10.610889639899026,
          10.298110725683953,
          10.400693881949165,
          11.038402191281182,
          11.948551186488588
         ],
         "yaxis": "y"
        },
        {
         "hovertemplate": "friendly_id=17BY31-1-1<br>month=%{x}<br>kwh=%{y}<extra></extra>",
         "legendgroup": "17BY31-1-1",
         "line": {
          "color": "#B6E880",
          "dash": "solid"
         },
         "marker": {
          "symbol": "circle"
         },
         "mode": "lines",
         "name": "17BY31-1-1",
         "showlegend": true,
         "type": "scattergl",
         "x": [
          "2024-01-01",
          "2024-02-01",
          "2024-03-01",
          "2024-04-01",
          "2024-05-01",
          "2024-06-01"
         ],
         "xaxis": "x",
         "y": [
          1.6081318572394656,
          1.53436820406566,
          1.3075307193349246,
          1.3104424512720367,
          1.6983558140387889,
          2.3146418846806855
         ],
         "yaxis": "y"
        },
        {
         "hovertemplate": "friendly_id=17BY31-1-A-ZB<br>month=%{x}<br>kwh=%{y}<extra></extra>",
         "legendgroup": "17BY31-1-A-ZB",
         "line": {
          "color": "#FF97FF",
          "dash": "solid"
         },
         "marker": {
          "symbol": "circle"
         },
         "mode": "lines",
         "name": "17BY31-1-A-ZB",
         "showlegend": true,
         "type": "scattergl",
         "x": [
          "2024-01-01",
          "2024-02-01",
          "2024-03-01",
          "2024-04-01",
          "2024-05-01",
          "2024-06-01"
         ],
         "xaxis": "x",
         "y": [
          1.2302475805444237,
          1.1856033422657237,
          1.0279872113512187,
          1.064370915314866,
          1.3092910541121598,
          1.78489496773184
         ],
         "yaxis": "y"
        },
        {
         "hovertemplate": "friendly_id=17BY31-1-AZA<br>month=%{x}<br>kwh=%{y}<extra></extra>",
         "legendgroup": "17BY31-1-AZA",
         "line": {
          "color": "#FECB52",
          "dash": "solid"
         },
         "marker": {
          "symbol": "circle"
         },
         "mode": "lines",
         "name": "17BY31-1-AZA",
         "showlegend": true,
         "type": "scattergl",
         "x": [
          "2024-01-01",
          "2024-02-01",
          "2024-03-01",
          "2024-04-01",
          "2024-05-01",
          "2024-06-01"
         ],
         "xaxis": "x",
         "y": [
          2.317739052933161,
          2.09050532457296,
          1.9269985416151307,
          1.9245994207149908,
          2.4438417308968012,
          3.3142252678731006
         ],
         "yaxis": "y"
        },
        {
         "hovertemplate": "friendly_id=17BY31-2<br>month=%{x}<br>kwh=%{y}<extra></extra>",
         "legendgroup": "17BY31-2",
         "line": {
          "color": "#636efa",
          "dash": "solid"
         },
         "marker": {
          "symbol": "circle"
         },
         "mode": "lines",
         "name": "17BY31-2",
         "showlegend": true,
         "type": "scattergl",
         "x": [
          "2024-01-01",
          "2024-02-01",
          "2024-03-01",
          "2024-04-01",
          "2024-05-01",
          "2024-06-01"
         ],
         "xaxis": "x",
         "y": [
          1.8245391682387322,
          1.73324319019125,
          1.5013961900422879,
          1.5601354120165054,
          1.930105341987752,
          2.6600075412072
         ],
         "yaxis": "y"
        },
        {
         "hovertemplate": "friendly_id=17BY41-2-1<br>month=%{x}<br>kwh=%{y}<extra></extra>",
         "legendgroup": "17BY41-2-1",
         "line": {
          "color": "#EF553B",
          "dash": "solid"
         },
         "marker": {
          "symbol": "circle"
         },
         "mode": "lines",
         "name": "17BY41-2-1",
         "showlegend": true,
         "type": "scattergl",
         "x": [
          "2024-01-01",
          "2024-02-01",
          "2024-03-01",
          "2024-04-01",
          "2024-05-01",
          "2024-06-01"
         ],
         "xaxis": "x",
         "y": [
          1.3974327004809757,
          1.3226611986348722,
          1.1545070849826446,
          1.1898218239794416,
          1.4768682828890949,
          2.0163760278387572
         ],
         "yaxis": "y"
        },
        {
         "hovertemplate": "friendly_id=17BY42<br>month=%{x}<br>kwh=%{y}<extra></extra>",
         "legendgroup": "17BY42",
         "line": {
          "color": "#00cc96",
          "dash": "solid"
         },
         "marker": {
          "symbol": "circle"
         },
         "mode": "lines",
         "name": "17BY42",
         "showlegend": true,
         "type": "scattergl",
         "x": [
          "2024-01-01",
          "2024-02-01",
          "2024-03-01",
          "2024-04-01",
          "2024-05-01",
          "2024-06-01"
         ],
         "xaxis": "x",
         "y": [
          1.8899315474907146,
          1.806985714238688,
          1.5717864372114891,
          1.6062199839528997,
          1.9851926659034802,
          2.7741308915659166
         ],
         "yaxis": "y"
        },
        {
         "hovertemplate": "friendly_id=17BY43<br>month=%{x}<br>kwh=%{y}<extra></extra>",
         "legendgroup": "17BY43",
         "line": {
          "color": "#ab63fa",
          "dash": "solid"
         },
         "marker": {
          "symbol": "circle"
         },
         "mode": "lines",
         "name": "17BY43",
         "showlegend": true,
         "type": "scattergl",
         "x": [
          "2024-01-01",
          "2024-02-01",
          "2024-03-01",
          "2024-04-01",
          "2024-05-01",
          "2024-06-01"
         ],
         "xaxis": "x",
         "y": [
          1.4269205814019794,
          1.3663795467357829,
          1.184015993840597,
          1.20392049375588,
          1.5170890436927493,
          2.076778507806816
         ],
         "yaxis": "y"
        },
        {
         "hovertemplate": "friendly_id=17BY8-3<br>month=%{x}<br>kwh=%{y}<extra></extra>",
         "legendgroup": "17BY8-3",
         "line": {
          "color": "#FFA15A",
          "dash": "solid"
         },
         "marker": {
          "symbol": "circle"
         },
         "mode": "lines",
         "name": "17BY8-3",
         "showlegend": true,
         "type": "scattergl",
         "x": [
          "2024-01-01",
          "2024-02-01",
          "2024-03-01",
          "2024-04-01",
          "2024-05-01",
          "2024-06-01"
         ],
         "xaxis": "x",
         "y": [
          1.8597342471025928,
          2.1608876315328693,
          1.845081098680214,
          1.9823758358825951,
          2.4642472162041273,
          3.3352125816517915
         ],
         "yaxis": "y"
        },
        {
         "hovertemplate": "friendly_id=17BY8-9<br>month=%{x}<br>kwh=%{y}<extra></extra>",
         "legendgroup": "17BY8-9",
         "line": {
          "color": "#19d3f3",
          "dash": "solid"
         },
         "marker": {
          "symbol": "circle"
         },
         "mode": "lines",
         "name": "17BY8-9",
         "showlegend": true,
         "type": "scattergl",
         "x": [
          "2024-01-01",
          "2024-02-01",
          "2024-03-01",
          "2024-04-01",
          "2024-05-01",
          "2024-06-01"
         ],
         "xaxis": "x",
         "y": [
          1.2478549582999932,
          1.1169404176843574,
          1.019634846408925,
          1.058650386729724,
          1.3055629903740227,
          1.7496066212969232
         ],
         "yaxis": "y"
        },
        {
         "hovertemplate": "friendly_id=17BY9<br>month=%{x}<br>kwh=%{y}<extra></extra>",
         "legendgroup": "17BY9",
         "line": {
          "color": "#FF6692",
          "dash": "solid"
         },
         "marker": {
          "symbol": "circle"
         },
         "mode": "lines",
         "name": "17BY9",
         "showlegend": true,
         "type": "scattergl",
         "x": [
          "2024-01-01",
          "2024-02-01",
          "2024-03-01",
          "2024-04-01",
          "2024-05-01",
          "2024-06-01"
         ],
         "xaxis": "x",
         "y": [
          1.1229608634657204,
          1.0787357086899385,
          0.924220869275469,
          0.8531343287951751,
          1.187344310007507,
          1.624130343128513
         ],
         "yaxis": "y"
        },
        {
         "hovertemplate": "friendly_id=17CY12<br>month=%{x}<br>kwh=%{y}<extra></extra>",
         "legendgroup": "17CY12",
         "line": {
          "color": "#B6E880",
          "dash": "solid"
         },
         "marker": {
          "symbol": "circle"
         },
         "mode": "lines",
         "name": "17CY12",
         "showlegend": true,
         "type": "scattergl",
         "x": [
          "2024-01-01",
          "2024-02-01",
          "2024-03-01",
          "2024-04-01",
          "2024-05-01",
          "2024-06-01"
         ],
         "xaxis": "x",
         "y": [
          0.9322523667338293,
          0.8356155043973458,
          0.7639973921291486,
          0.7924099057949457,
          0.996271959174259,
          1.3828480728794075
         ],
         "yaxis": "y"
        },
        {
         "hovertemplate": "friendly_id=17CY15-11<br>month=%{x}<br>kwh=%{y}<extra></extra>",
         "legendgroup": "17CY15-11",
         "line": {
          "color": "#FF97FF",
          "dash": "solid"
         },
         "marker": {
          "symbol": "circle"
         },
         "mode": "lines",
         "name": "17CY15-11",
         "showlegend": true,
         "type": "scattergl",
         "x": [
          "2024-01-01",
          "2024-02-01",
          "2024-03-01",
          "2024-04-01",
          "2024-05-01",
          "2024-06-01"
         ],
         "xaxis": "x",
         "y": [
          1.1353502453867839,
          1.0732235322758188,
          0.9340674016074364,
          0.9735144890298177,
          1.1975094406099513,
          1.7092345432104756
         ],
         "yaxis": "y"
        },
        {
         "hovertemplate": "friendly_id=17CY15-3<br>month=%{x}<br>kwh=%{y}<extra></extra>",
         "legendgroup": "17CY15-3",
         "line": {
          "color": "#FECB52",
          "dash": "solid"
         },
         "marker": {
          "symbol": "circle"
         },
         "mode": "lines",
         "name": "17CY15-3",
         "showlegend": true,
         "type": "scattergl",
         "x": [
          "2024-01-01",
          "2024-02-01",
          "2024-03-01",
          "2024-04-01",
          "2024-05-01",
          "2024-06-01"
         ],
         "xaxis": "x",
         "y": [
          0.9305638446701466,
          0.875648449083456,
          0.7519848012718365,
          0.7124509024248481,
          0.9957693157873703,
          1.362375463635542
         ],
         "yaxis": "y"
        },
        {
         "hovertemplate": "friendly_id=17CY15-4-1<br>month=%{x}<br>kwh=%{y}<extra></extra>",
         "legendgroup": "17CY15-4-1",
         "line": {
          "color": "#636efa",
          "dash": "solid"
         },
         "marker": {
          "symbol": "circle"
         },
         "mode": "lines",
         "name": "17CY15-4-1",
         "showlegend": true,
         "type": "scattergl",
         "x": [
          "2024-01-01",
          "2024-02-01",
          "2024-03-01",
          "2024-04-01",
          "2024-05-01",
          "2024-06-01"
         ],
         "xaxis": "x",
         "y": [
          1.005009843736903,
          0.9464337917571768,
          0.8307924495024901,
          0.865000879578933,
          1.0722155694389253,
          1.5217942625301577
         ],
         "yaxis": "y"
        },
        {
         "hovertemplate": "friendly_id=17CY15-4-1ZA<br>month=%{x}<br>kwh=%{y}<extra></extra>",
         "legendgroup": "17CY15-4-1ZA",
         "line": {
          "color": "#EF553B",
          "dash": "solid"
         },
         "marker": {
          "symbol": "circle"
         },
         "mode": "lines",
         "name": "17CY15-4-1ZA",
         "showlegend": true,
         "type": "scattergl",
         "x": [
          "2024-01-01",
          "2024-02-01",
          "2024-03-01",
          "2024-04-01",
          "2024-05-01",
          "2024-06-01"
         ],
         "xaxis": "x",
         "y": [
          2.0970007810469666,
          1.9202753115440947,
          1.6991280605924797,
          1.6732429103383266,
          2.1978966417709995,
          3.080466166140126
         ],
         "yaxis": "y"
        },
        {
         "hovertemplate": "friendly_id=17CY15-4-2<br>month=%{x}<br>kwh=%{y}<extra></extra>",
         "legendgroup": "17CY15-4-2",
         "line": {
          "color": "#00cc96",
          "dash": "solid"
         },
         "marker": {
          "symbol": "circle"
         },
         "mode": "lines",
         "name": "17CY15-4-2",
         "showlegend": true,
         "type": "scattergl",
         "x": [
          "2024-01-01",
          "2024-02-01",
          "2024-03-01",
          "2024-04-01",
          "2024-05-01",
          "2024-06-01"
         ],
         "xaxis": "x",
         "y": [
          1.835347999480101,
          1.729096254313551,
          1.5141117143722127,
          1.5604799305583867,
          1.9558162564822403,
          2.6853074172305162
         ],
         "yaxis": "y"
        },
        {
         "hovertemplate": "friendly_id=17CY21X<br>month=%{x}<br>kwh=%{y}<extra></extra>",
         "legendgroup": "17CY21X",
         "line": {
          "color": "#ab63fa",
          "dash": "solid"
         },
         "marker": {
          "symbol": "circle"
         },
         "mode": "lines",
         "name": "17CY21X",
         "showlegend": true,
         "type": "scattergl",
         "x": [
          "2024-01-01",
          "2024-02-01",
          "2024-03-01",
          "2024-04-01",
          "2024-05-01",
          "2024-06-01"
         ],
         "xaxis": "x",
         "y": [
          1.2750904151150115,
          1.2026489299810987,
          1.057848047391002,
          1.0854853124330373,
          1.3744806207673825,
          1.9286910521831706
         ],
         "yaxis": "y"
        },
        {
         "hovertemplate": "friendly_id=17CY22-2<br>month=%{x}<br>kwh=%{y}<extra></extra>",
         "legendgroup": "17CY22-2",
         "line": {
          "color": "#FFA15A",
          "dash": "solid"
         },
         "marker": {
          "symbol": "circle"
         },
         "mode": "lines",
         "name": "17CY22-2",
         "showlegend": true,
         "type": "scattergl",
         "x": [
          "2024-01-01",
          "2024-02-01",
          "2024-03-01",
          "2024-04-01",
          "2024-05-01",
          "2024-06-01"
         ],
         "xaxis": "x",
         "y": [
          1.7114317645569803,
          1.6201063803145002,
          1.4088105382628568,
          1.1790595626516875,
          1.3890095470224755,
          2.5465885392533707
         ],
         "yaxis": "y"
        },
        {
         "hovertemplate": "friendly_id=17CY23-1-TA1<br>month=%{x}<br>kwh=%{y}<extra></extra>",
         "legendgroup": "17CY23-1-TA1",
         "line": {
          "color": "#19d3f3",
          "dash": "solid"
         },
         "marker": {
          "symbol": "circle"
         },
         "mode": "lines",
         "name": "17CY23-1-TA1",
         "showlegend": true,
         "type": "scattergl",
         "x": [
          "2024-01-01",
          "2024-02-01",
          "2024-03-01",
          "2024-04-01",
          "2024-05-01",
          "2024-06-01"
         ],
         "xaxis": "x",
         "y": [
          1.7728017283275943,
          1.6722480809781006,
          1.4619550840841262,
          1.5195210530382246,
          1.9000304199402887,
          2.605259662752232
         ],
         "yaxis": "y"
        },
        {
         "hovertemplate": "friendly_id=17CY25<br>month=%{x}<br>kwh=%{y}<extra></extra>",
         "legendgroup": "17CY25",
         "line": {
          "color": "#FF6692",
          "dash": "solid"
         },
         "marker": {
          "symbol": "circle"
         },
         "mode": "lines",
         "name": "17CY25",
         "showlegend": true,
         "type": "scattergl",
         "x": [
          "2024-01-01",
          "2024-02-01",
          "2024-03-01",
          "2024-04-01",
          "2024-05-01",
          "2024-06-01"
         ],
         "xaxis": "x",
         "y": [
          1.30849782680776,
          1.2188529430274722,
          0.9026520429068905,
          0.5405905733812904,
          0.6335216070973588,
          0.8933378407117006
         ],
         "yaxis": "y"
        },
        {
         "hovertemplate": "friendly_id=17DY13-1<br>month=%{x}<br>kwh=%{y}<extra></extra>",
         "legendgroup": "17DY13-1",
         "line": {
          "color": "#B6E880",
          "dash": "solid"
         },
         "marker": {
          "symbol": "circle"
         },
         "mode": "lines",
         "name": "17DY13-1",
         "showlegend": true,
         "type": "scattergl",
         "x": [
          "2024-01-01",
          "2024-02-01",
          "2024-03-01",
          "2024-04-01",
          "2024-05-01",
          "2024-06-01"
         ],
         "xaxis": "x",
         "y": [
          1.7742045639764779,
          1.5717175011759337,
          1.5072842973866392,
          1.6233751656084752,
          2.0036228038729282,
          2.7193801773417428
         ],
         "yaxis": "y"
        },
        {
         "hovertemplate": "friendly_id=17DY17<br>month=%{x}<br>kwh=%{y}<extra></extra>",
         "legendgroup": "17DY17",
         "line": {
          "color": "#FF97FF",
          "dash": "solid"
         },
         "marker": {
          "symbol": "circle"
         },
         "mode": "lines",
         "name": "17DY17",
         "showlegend": true,
         "type": "scattergl",
         "x": [
          "2024-01-01",
          "2024-02-01",
          "2024-03-01",
          "2024-04-01",
          "2024-05-01",
          "2024-06-01"
         ],
         "xaxis": "x",
         "y": [
          1.3542620823611857,
          1.2977394117218193,
          1.1259236780872246,
          1.1104018733095975,
          1.4368401192878992,
          1.9695085344851566
         ],
         "yaxis": "y"
        },
        {
         "hovertemplate": "friendly_id=17DY4<br>month=%{x}<br>kwh=%{y}<extra></extra>",
         "legendgroup": "17DY4",
         "line": {
          "color": "#FECB52",
          "dash": "solid"
         },
         "marker": {
          "symbol": "circle"
         },
         "mode": "lines",
         "name": "17DY4",
         "showlegend": true,
         "type": "scattergl",
         "x": [
          "2024-01-01",
          "2024-02-01",
          "2024-03-01",
          "2024-04-01",
          "2024-05-01",
          "2024-06-01"
         ],
         "xaxis": "x",
         "y": [
          0.9673450147276426,
          0.9016252902038573,
          0.7910025814395247,
          0.8202955200648917,
          1.036622797491287,
          1.4357470828791516
         ],
         "yaxis": "y"
        },
        {
         "hovertemplate": "friendly_id=17EY12-3<br>month=%{x}<br>kwh=%{y}<extra></extra>",
         "legendgroup": "17EY12-3",
         "line": {
          "color": "#636efa",
          "dash": "solid"
         },
         "marker": {
          "symbol": "circle"
         },
         "mode": "lines",
         "name": "17EY12-3",
         "showlegend": true,
         "type": "scattergl",
         "x": [
          "2024-01-01",
          "2024-02-01",
          "2024-03-01",
          "2024-04-01",
          "2024-05-01",
          "2024-06-01"
         ],
         "xaxis": "x",
         "y": [
          1.2669862512171552,
          1.2711941287788349,
          1.1006529410978558,
          1.1436309082481357,
          1.4113503093549151,
          1.7402303080732169
         ],
         "yaxis": "y"
        },
        {
         "hovertemplate": "friendly_id=17EY15<br>month=%{x}<br>kwh=%{y}<extra></extra>",
         "legendgroup": "17EY15",
         "line": {
          "color": "#EF553B",
          "dash": "solid"
         },
         "marker": {
          "symbol": "circle"
         },
         "mode": "lines",
         "name": "17EY15",
         "showlegend": true,
         "type": "scattergl",
         "x": [
          "2024-01-01",
          "2024-02-01",
          "2024-03-01",
          "2024-04-01",
          "2024-05-01",
          "2024-06-01"
         ],
         "xaxis": "x",
         "y": [
          1.2441971992782406,
          0.9895534351911692,
          0.8968839859947358,
          0.977304307196919,
          1.3235224292704846,
          1.8221448288016795
         ],
         "yaxis": "y"
        },
        {
         "hovertemplate": "friendly_id=17EY17<br>month=%{x}<br>kwh=%{y}<extra></extra>",
         "legendgroup": "17EY17",
         "line": {
          "color": "#00cc96",
          "dash": "solid"
         },
         "marker": {
          "symbol": "circle"
         },
         "mode": "lines",
         "name": "17EY17",
         "showlegend": true,
         "type": "scattergl",
         "x": [
          "2024-01-01",
          "2024-02-01",
          "2024-03-01",
          "2024-04-01",
          "2024-05-01",
          "2024-06-01"
         ],
         "xaxis": "x",
         "y": [
          1.2818380159713336,
          0.9314342224832466,
          1.0593799541005233,
          1.0917956166774563,
          1.3585806074486406,
          1.8756111354069425
         ],
         "yaxis": "y"
        },
        {
         "hovertemplate": "friendly_id=17EY3-1<br>month=%{x}<br>kwh=%{y}<extra></extra>",
         "legendgroup": "17EY3-1",
         "line": {
          "color": "#ab63fa",
          "dash": "solid"
         },
         "marker": {
          "symbol": "circle"
         },
         "mode": "lines",
         "name": "17EY3-1",
         "showlegend": true,
         "type": "scattergl",
         "x": [
          "2024-01-01",
          "2024-02-01",
          "2024-03-01",
          "2024-04-01",
          "2024-05-01",
          "2024-06-01"
         ],
         "xaxis": "x",
         "y": [
          0.856869246850474,
          0.8434816173628118,
          0.7350852329551587,
          0.7619897118478189,
          0.9613628067626959,
          1.3201552194416617
         ],
         "yaxis": "y"
        },
        {
         "hovertemplate": "friendly_id=17F1Y10-1<br>month=%{x}<br>kwh=%{y}<extra></extra>",
         "legendgroup": "17F1Y10-1",
         "line": {
          "color": "#FFA15A",
          "dash": "solid"
         },
         "marker": {
          "symbol": "circle"
         },
         "mode": "lines",
         "name": "17F1Y10-1",
         "showlegend": true,
         "type": "scattergl",
         "x": [
          "2024-01-01",
          "2024-02-01",
          "2024-03-01",
          "2024-04-01",
          "2024-05-01",
          "2024-06-01"
         ],
         "xaxis": "x",
         "y": [
          1.6037639974404334,
          1.389247603227408,
          1.3365628929421463,
          1.3793243529561539,
          1.7415531584108148,
          2.423533245552854
         ],
         "yaxis": "y"
        },
        {
         "hovertemplate": "friendly_id=17F1Y11-3-2<br>month=%{x}<br>kwh=%{y}<extra></extra>",
         "legendgroup": "17F1Y11-3-2",
         "line": {
          "color": "#19d3f3",
          "dash": "solid"
         },
         "marker": {
          "symbol": "circle"
         },
         "mode": "lines",
         "name": "17F1Y11-3-2",
         "showlegend": true,
         "type": "scattergl",
         "x": [
          "2024-01-01",
          "2024-02-01",
          "2024-03-01",
          "2024-04-01",
          "2024-05-01",
          "2024-06-01"
         ],
         "xaxis": "x",
         "y": [
          1.0717304961930005,
          1.022491599557694,
          0.8958317623157428,
          0.9225783957770531,
          1.1494249181289735,
          1.5258371030390583
         ],
         "yaxis": "y"
        },
        {
         "hovertemplate": "friendly_id=17F1Y11-7<br>month=%{x}<br>kwh=%{y}<extra></extra>",
         "legendgroup": "17F1Y11-7",
         "line": {
          "color": "#FF6692",
          "dash": "solid"
         },
         "marker": {
          "symbol": "circle"
         },
         "mode": "lines",
         "name": "17F1Y11-7",
         "showlegend": true,
         "type": "scattergl",
         "x": [
          "2024-01-01",
          "2024-02-01",
          "2024-03-01",
          "2024-04-01",
          "2024-05-01",
          "2024-06-01"
         ],
         "xaxis": "x",
         "y": [
          2.4155636401400047,
          2.2820504352309863,
          1.9858394584671706,
          2.059774093954543,
          2.596050123804018,
          3.575881910368574
         ],
         "yaxis": "y"
        },
        {
         "hovertemplate": "friendly_id=17F1Y19<br>month=%{x}<br>kwh=%{y}<extra></extra>",
         "legendgroup": "17F1Y19",
         "line": {
          "color": "#B6E880",
          "dash": "solid"
         },
         "marker": {
          "symbol": "circle"
         },
         "mode": "lines",
         "name": "17F1Y19",
         "showlegend": true,
         "type": "scattergl",
         "x": [
          "2024-01-01",
          "2024-02-01",
          "2024-03-01",
          "2024-04-01",
          "2024-05-01",
          "2024-06-01"
         ],
         "xaxis": "x",
         "y": [
          1.7966822606122566,
          1.6938379430496715,
          1.4809674346702497,
          1.5228252637555824,
          1.9174530208864096,
          2.6745323953226046
         ],
         "yaxis": "y"
        },
        {
         "hovertemplate": "friendly_id=17F1Y19-1<br>month=%{x}<br>kwh=%{y}<extra></extra>",
         "legendgroup": "17F1Y19-1",
         "line": {
          "color": "#FF97FF",
          "dash": "solid"
         },
         "marker": {
          "symbol": "circle"
         },
         "mode": "lines",
         "name": "17F1Y19-1",
         "showlegend": true,
         "type": "scattergl",
         "x": [
          "2024-01-01",
          "2024-02-01",
          "2024-03-01",
          "2024-04-01",
          "2024-05-01",
          "2024-06-01"
         ],
         "xaxis": "x",
         "y": [
          1.0371138111621152,
          0.9523983112091625,
          0.7986218192772023,
          0.8817611427632285,
          1.1213903030160304,
          1.5459818096204305
         ],
         "yaxis": "y"
        },
        {
         "hovertemplate": "friendly_id=17F1Y19-2<br>month=%{x}<br>kwh=%{y}<extra></extra>",
         "legendgroup": "17F1Y19-2",
         "line": {
          "color": "#FECB52",
          "dash": "solid"
         },
         "marker": {
          "symbol": "circle"
         },
         "mode": "lines",
         "name": "17F1Y19-2",
         "showlegend": true,
         "type": "scattergl",
         "x": [
          "2024-01-01",
          "2024-02-01",
          "2024-03-01",
          "2024-04-01",
          "2024-05-01",
          "2024-06-01"
         ],
         "xaxis": "x",
         "y": [
          1.4848800273367355,
          1.3955511052273761,
          1.2177877541141167,
          1.2631579342148578,
          1.5860777910358976,
          2.2134233107963666
         ],
         "yaxis": "y"
        },
        {
         "hovertemplate": "friendly_id=17F1Y19-3<br>month=%{x}<br>kwh=%{y}<extra></extra>",
         "legendgroup": "17F1Y19-3",
         "line": {
          "color": "#636efa",
          "dash": "solid"
         },
         "marker": {
          "symbol": "circle"
         },
         "mode": "lines",
         "name": "17F1Y19-3",
         "showlegend": true,
         "type": "scattergl",
         "x": [
          "2024-01-01",
          "2024-02-01",
          "2024-03-01",
          "2024-04-01",
          "2024-05-01",
          "2024-06-01"
         ],
         "xaxis": "x",
         "y": [
          1.99928651427826,
          1.749772038473881,
          1.6688571341094018,
          1.7055412400457537,
          2.0957036545496863,
          2.9976538780813335
         ],
         "yaxis": "y"
        },
        {
         "hovertemplate": "friendly_id=17F1Y24-2<br>month=%{x}<br>kwh=%{y}<extra></extra>",
         "legendgroup": "17F1Y24-2",
         "line": {
          "color": "#EF553B",
          "dash": "solid"
         },
         "marker": {
          "symbol": "circle"
         },
         "mode": "lines",
         "name": "17F1Y24-2",
         "showlegend": true,
         "type": "scattergl",
         "x": [
          "2024-01-01",
          "2024-02-01",
          "2024-03-01",
          "2024-04-01",
          "2024-05-01",
          "2024-06-01"
         ],
         "xaxis": "x",
         "y": [
          0.9001550881165274,
          0.8410812279354157,
          0.7140024111882655,
          0.76405760589612,
          0.9590659182311674,
          1.353082245876022
         ],
         "yaxis": "y"
        },
        {
         "hovertemplate": "friendly_id=17F1Y24-2ZA<br>month=%{x}<br>kwh=%{y}<extra></extra>",
         "legendgroup": "17F1Y24-2ZA",
         "line": {
          "color": "#00cc96",
          "dash": "solid"
         },
         "marker": {
          "symbol": "circle"
         },
         "mode": "lines",
         "name": "17F1Y24-2ZA",
         "showlegend": true,
         "type": "scattergl",
         "x": [
          "2024-01-01",
          "2024-02-01",
          "2024-03-01",
          "2024-04-01",
          "2024-05-01",
          "2024-06-01"
         ],
         "xaxis": "x",
         "y": [
          1.489801274101845,
          1.4167757838660908,
          1.2371172924486438,
          1.2412969995586267,
          1.6182374784360614,
          2.233877265696746
         ],
         "yaxis": "y"
        },
        {
         "hovertemplate": "friendly_id=17F1Y24-6<br>month=%{x}<br>kwh=%{y}<extra></extra>",
         "legendgroup": "17F1Y24-6",
         "line": {
          "color": "#ab63fa",
          "dash": "solid"
         },
         "marker": {
          "symbol": "circle"
         },
         "mode": "lines",
         "name": "17F1Y24-6",
         "showlegend": true,
         "type": "scattergl",
         "x": [
          "2024-01-01",
          "2024-02-01",
          "2024-03-01",
          "2024-04-01",
          "2024-05-01",
          "2024-06-01"
         ],
         "xaxis": "x",
         "y": [
          1.0654945925474961,
          1.0026951844588967,
          0.881256145540321,
          0.9081068236475509,
          1.0957288410865647,
          0.9810772786702914
         ],
         "yaxis": "y"
        },
        {
         "hovertemplate": "friendly_id=17F1Y25-1<br>month=%{x}<br>kwh=%{y}<extra></extra>",
         "legendgroup": "17F1Y25-1",
         "line": {
          "color": "#FFA15A",
          "dash": "solid"
         },
         "marker": {
          "symbol": "circle"
         },
         "mode": "lines",
         "name": "17F1Y25-1",
         "showlegend": true,
         "type": "scattergl",
         "x": [
          "2024-01-01",
          "2024-02-01",
          "2024-03-01",
          "2024-04-01",
          "2024-05-01",
          "2024-06-01"
         ],
         "xaxis": "x",
         "y": [
          1.157141098366531,
          1.0870500667379925,
          0.9523764214660961,
          0.987962507743782,
          1.236514084461696,
          1.4397067844800893
         ],
         "yaxis": "y"
        },
        {
         "hovertemplate": "friendly_id=17F1Y25-7<br>month=%{x}<br>kwh=%{y}<extra></extra>",
         "legendgroup": "17F1Y25-7",
         "line": {
          "color": "#19d3f3",
          "dash": "solid"
         },
         "marker": {
          "symbol": "circle"
         },
         "mode": "lines",
         "name": "17F1Y25-7",
         "showlegend": true,
         "type": "scattergl",
         "x": [
          "2024-01-01",
          "2024-02-01",
          "2024-03-01",
          "2024-04-01",
          "2024-05-01",
          "2024-06-01"
         ],
         "xaxis": "x",
         "y": [
          0.7712742505575806,
          0.7219521895157961,
          0.6288824475464448,
          0.6400527175184407,
          0.7935523093981982,
          0.8513524639805369
         ],
         "yaxis": "y"
        },
        {
         "hovertemplate": "friendly_id=17F1Y25-7ZA<br>month=%{x}<br>kwh=%{y}<extra></extra>",
         "legendgroup": "17F1Y25-7ZA",
         "line": {
          "color": "#FF6692",
          "dash": "solid"
         },
         "marker": {
          "symbol": "circle"
         },
         "mode": "lines",
         "name": "17F1Y25-7ZA",
         "showlegend": true,
         "type": "scattergl",
         "x": [
          "2024-01-01",
          "2024-02-01",
          "2024-03-01",
          "2024-04-01",
          "2024-05-01",
          "2024-06-01"
         ],
         "xaxis": "x",
         "y": [
          1.3912880590606653,
          1.3039532238066613,
          1.1465360594658873,
          1.1763550283895587,
          1.4878985903273783,
          2.057357691804647
         ],
         "yaxis": "y"
        },
        {
         "hovertemplate": "friendly_id=17F1Y27<br>month=%{x}<br>kwh=%{y}<extra></extra>",
         "legendgroup": "17F1Y27",
         "line": {
          "color": "#B6E880",
          "dash": "solid"
         },
         "marker": {
          "symbol": "circle"
         },
         "mode": "lines",
         "name": "17F1Y27",
         "showlegend": true,
         "type": "scattergl",
         "x": [
          "2024-01-01",
          "2024-02-01",
          "2024-03-01",
          "2024-04-01",
          "2024-05-01",
          "2024-06-01"
         ],
         "xaxis": "x",
         "y": [
          1.0495043119098844,
          0.9877272246069545,
          0.679125136792614,
          0.8910030415936994,
          1.12117723944915,
          1.564251447670315
         ],
         "yaxis": "y"
        },
        {
         "hovertemplate": "friendly_id=17F1Y29-2<br>month=%{x}<br>kwh=%{y}<extra></extra>",
         "legendgroup": "17F1Y29-2",
         "line": {
          "color": "#FF97FF",
          "dash": "solid"
         },
         "marker": {
          "symbol": "circle"
         },
         "mode": "lines",
         "name": "17F1Y29-2",
         "showlegend": true,
         "type": "scattergl",
         "x": [
          "2024-01-01",
          "2024-02-01",
          "2024-03-01",
          "2024-04-01",
          "2024-05-01",
          "2024-06-01"
         ],
         "xaxis": "x",
         "y": [
          1.009480900150994,
          0.9470925118025763,
          0.7905305243990458,
          0.766740909321647,
          1.079312347912487,
          1.5028750947600915
         ],
         "yaxis": "y"
        },
        {
         "hovertemplate": "friendly_id=17F1Y30<br>month=%{x}<br>kwh=%{y}<extra></extra>",
         "legendgroup": "17F1Y30",
         "line": {
          "color": "#FECB52",
          "dash": "solid"
         },
         "marker": {
          "symbol": "circle"
         },
         "mode": "lines",
         "name": "17F1Y30",
         "showlegend": true,
         "type": "scattergl",
         "x": [
          "2024-01-01",
          "2024-02-01",
          "2024-03-01",
          "2024-04-01",
          "2024-05-01",
          "2024-06-01"
         ],
         "xaxis": "x",
         "y": [
          2.2054681481819984,
          2.1320635275750006,
          1.8634320926728576,
          1.9180201205648195,
          2.4364742650476376,
          3.3755566741021354
         ],
         "yaxis": "y"
        },
        {
         "hovertemplate": "friendly_id=17F1Y33-3<br>month=%{x}<br>kwh=%{y}<extra></extra>",
         "legendgroup": "17F1Y33-3",
         "line": {
          "color": "#636efa",
          "dash": "solid"
         },
         "marker": {
          "symbol": "circle"
         },
         "mode": "lines",
         "name": "17F1Y33-3",
         "showlegend": true,
         "type": "scattergl",
         "x": [
          "2024-01-01",
          "2024-02-01",
          "2024-03-01",
          "2024-04-01",
          "2024-05-01",
          "2024-06-01"
         ],
         "xaxis": "x",
         "y": [
          1.1195932357031952,
          1.08541034327777,
          0.9646015480039898,
          0.9923944298545653,
          1.2415947551163533,
          1.715742497660294
         ],
         "yaxis": "y"
        },
        {
         "hovertemplate": "friendly_id=17F1Y34<br>month=%{x}<br>kwh=%{y}<extra></extra>",
         "legendgroup": "17F1Y34",
         "line": {
          "color": "#EF553B",
          "dash": "solid"
         },
         "marker": {
          "symbol": "circle"
         },
         "mode": "lines",
         "name": "17F1Y34",
         "showlegend": true,
         "type": "scattergl",
         "x": [
          "2024-01-01",
          "2024-02-01",
          "2024-03-01",
          "2024-04-01",
          "2024-05-01",
          "2024-06-01"
         ],
         "xaxis": "x",
         "y": [
          2.2165219671635894,
          1.9472316664330223,
          1.761654551164355,
          1.8741108748580586,
          2.3697325238419884,
          3.241334524218027
         ],
         "yaxis": "y"
        },
        {
         "hovertemplate": "friendly_id=17F1Y34X<br>month=%{x}<br>kwh=%{y}<extra></extra>",
         "legendgroup": "17F1Y34X",
         "line": {
          "color": "#00cc96",
          "dash": "solid"
         },
         "marker": {
          "symbol": "circle"
         },
         "mode": "lines",
         "name": "17F1Y34X",
         "showlegend": true,
         "type": "scattergl",
         "x": [
          "2024-01-01",
          "2024-02-01",
          "2024-03-01",
          "2024-04-01",
          "2024-05-01",
          "2024-06-01"
         ],
         "xaxis": "x",
         "y": [
          1.5326053992004212,
          1.5488675674845067,
          1.3582703422576494,
          1.3956198905780253,
          1.7533762536924817,
          1.7938432734714365
         ],
         "yaxis": "y"
        },
        {
         "hovertemplate": "friendly_id=17F1Y37<br>month=%{x}<br>kwh=%{y}<extra></extra>",
         "legendgroup": "17F1Y37",
         "line": {
          "color": "#ab63fa",
          "dash": "solid"
         },
         "marker": {
          "symbol": "circle"
         },
         "mode": "lines",
         "name": "17F1Y37",
         "showlegend": true,
         "type": "scattergl",
         "x": [
          "2024-01-01",
          "2024-02-01",
          "2024-03-01",
          "2024-04-01",
          "2024-05-01",
          "2024-06-01"
         ],
         "xaxis": "x",
         "y": [
          1.313384123660634,
          1.210375258480153,
          1.0923688560341829,
          1.0676342332594344,
          1.4055038586759379,
          1.9249993470780529
         ],
         "yaxis": "y"
        },
        {
         "hovertemplate": "friendly_id=17F1Y4<br>month=%{x}<br>kwh=%{y}<extra></extra>",
         "legendgroup": "17F1Y4",
         "line": {
          "color": "#FFA15A",
          "dash": "solid"
         },
         "marker": {
          "symbol": "circle"
         },
         "mode": "lines",
         "name": "17F1Y4",
         "showlegend": true,
         "type": "scattergl",
         "x": [
          "2024-01-01",
          "2024-02-01",
          "2024-03-01",
          "2024-04-01",
          "2024-05-01",
          "2024-06-01"
         ],
         "xaxis": "x",
         "y": [
          2.6530063768363066,
          2.6139468514653035,
          2.5268994948108046,
          2.5512678276232865,
          2.6928145108135957,
          2.9328957758602643
         ],
         "yaxis": "y"
        },
        {
         "hovertemplate": "friendly_id=17F1Y6<br>month=%{x}<br>kwh=%{y}<extra></extra>",
         "legendgroup": "17F1Y6",
         "line": {
          "color": "#19d3f3",
          "dash": "solid"
         },
         "marker": {
          "symbol": "circle"
         },
         "mode": "lines",
         "name": "17F1Y6",
         "showlegend": true,
         "type": "scattergl",
         "x": [
          "2024-01-01",
          "2024-02-01",
          "2024-03-01",
          "2024-04-01",
          "2024-05-01",
          "2024-06-01"
         ],
         "xaxis": "x",
         "y": [
          1.6445577293742573,
          1.5544128047043728,
          1.357112977652963,
          1.4051198233913134,
          1.7649726738395584,
          2.4257452766964196
         ],
         "yaxis": "y"
        },
        {
         "hovertemplate": "friendly_id=17F1Y7-3<br>month=%{x}<br>kwh=%{y}<extra></extra>",
         "legendgroup": "17F1Y7-3",
         "line": {
          "color": "#FF6692",
          "dash": "solid"
         },
         "marker": {
          "symbol": "circle"
         },
         "mode": "lines",
         "name": "17F1Y7-3",
         "showlegend": true,
         "type": "scattergl",
         "x": [
          "2024-01-01",
          "2024-02-01",
          "2024-03-01",
          "2024-04-01",
          "2024-05-01",
          "2024-06-01"
         ],
         "xaxis": "x",
         "y": [
          1.5762585244278022,
          1.4878672752706206,
          1.3021512888243958,
          1.336768894056776,
          1.680789457549873,
          2.371781532961074
         ],
         "yaxis": "y"
        },
        {
         "hovertemplate": "friendly_id=17F1Y7-3ZA<br>month=%{x}<br>kwh=%{y}<extra></extra>",
         "legendgroup": "17F1Y7-3ZA",
         "line": {
          "color": "#B6E880",
          "dash": "solid"
         },
         "marker": {
          "symbol": "circle"
         },
         "mode": "lines",
         "name": "17F1Y7-3ZA",
         "showlegend": true,
         "type": "scattergl",
         "x": [
          "2024-01-01",
          "2024-02-01",
          "2024-03-01",
          "2024-04-01",
          "2024-05-01",
          "2024-06-01"
         ],
         "xaxis": "x",
         "y": [
          1.159333185312688,
          1.229719560632502,
          1.0615175488229935,
          1.1322597344183616,
          1.4274132194947844,
          1.982709587779361
         ],
         "yaxis": "y"
        },
        {
         "hovertemplate": "friendly_id=17F2Y3<br>month=%{x}<br>kwh=%{y}<extra></extra>",
         "legendgroup": "17F2Y3",
         "line": {
          "color": "#FF97FF",
          "dash": "solid"
         },
         "marker": {
          "symbol": "circle"
         },
         "mode": "lines",
         "name": "17F2Y3",
         "showlegend": true,
         "type": "scattergl",
         "x": [
          "2024-01-01",
          "2024-02-01",
          "2024-03-01",
          "2024-04-01",
          "2024-05-01",
          "2024-06-01"
         ],
         "xaxis": "x",
         "y": [
          2.6386604573277297,
          2.596384380885876,
          2.539897305997685,
          2.5397081389369727,
          2.6493234176289207,
          2.92712268663287
         ],
         "yaxis": "y"
        },
        {
         "hovertemplate": "friendly_id=17FY13<br>month=%{x}<br>kwh=%{y}<extra></extra>",
         "legendgroup": "17FY13",
         "line": {
          "color": "#FECB52",
          "dash": "solid"
         },
         "marker": {
          "symbol": "circle"
         },
         "mode": "lines",
         "name": "17FY13",
         "showlegend": true,
         "type": "scattergl",
         "x": [
          "2024-01-01",
          "2024-02-01",
          "2024-03-01",
          "2024-04-01",
          "2024-05-01",
          "2024-06-01"
         ],
         "xaxis": "x",
         "y": [
          1.1859673469955634,
          1.115035486716905,
          0.984144244656135,
          1.0092729181027238,
          1.2617281578332116,
          1.7789719480305568
         ],
         "yaxis": "y"
        },
        {
         "hovertemplate": "friendly_id=17FY14<br>month=%{x}<br>kwh=%{y}<extra></extra>",
         "legendgroup": "17FY14",
         "line": {
          "color": "#636efa",
          "dash": "solid"
         },
         "marker": {
          "symbol": "circle"
         },
         "mode": "lines",
         "name": "17FY14",
         "showlegend": true,
         "type": "scattergl",
         "x": [
          "2024-01-01",
          "2024-02-01",
          "2024-03-01",
          "2024-04-01",
          "2024-05-01",
          "2024-06-01"
         ],
         "xaxis": "x",
         "y": [
          1.5478116389098402,
          1.372793728726222,
          1.349016280272684,
          1.3853608788549687,
          1.5792679521575372,
          2.417872848081187
         ],
         "yaxis": "y"
        },
        {
         "hovertemplate": "friendly_id=17FY15<br>month=%{x}<br>kwh=%{y}<extra></extra>",
         "legendgroup": "17FY15",
         "line": {
          "color": "#EF553B",
          "dash": "solid"
         },
         "marker": {
          "symbol": "circle"
         },
         "mode": "lines",
         "name": "17FY15",
         "showlegend": true,
         "type": "scattergl",
         "x": [
          "2024-01-01",
          "2024-02-01",
          "2024-03-01",
          "2024-04-01",
          "2024-05-01",
          "2024-06-01"
         ],
         "xaxis": "x",
         "y": [
          1.6757577076245445,
          1.5745254440484933,
          1.3775077110535179,
          1.4252500438498623,
          1.7865850724735546,
          2.490351418547243
         ],
         "yaxis": "y"
        },
        {
         "hovertemplate": "friendly_id=17FY15-2<br>month=%{x}<br>kwh=%{y}<extra></extra>",
         "legendgroup": "17FY15-2",
         "line": {
          "color": "#00cc96",
          "dash": "solid"
         },
         "marker": {
          "symbol": "circle"
         },
         "mode": "lines",
         "name": "17FY15-2",
         "showlegend": true,
         "type": "scattergl",
         "x": [
          "2024-01-01",
          "2024-02-01",
          "2024-03-01",
          "2024-04-01",
          "2024-05-01",
          "2024-06-01"
         ],
         "xaxis": "x",
         "y": [
          1.141845438995496,
          1.0794421820179505,
          0.9452220000821091,
          0.9703679993396693,
          1.2326282984655261,
          1.4666303131076355
         ],
         "yaxis": "y"
        },
        {
         "hovertemplate": "friendly_id=17FY19<br>month=%{x}<br>kwh=%{y}<extra></extra>",
         "legendgroup": "17FY19",
         "line": {
          "color": "#ab63fa",
          "dash": "solid"
         },
         "marker": {
          "symbol": "circle"
         },
         "mode": "lines",
         "name": "17FY19",
         "showlegend": true,
         "type": "scattergl",
         "x": [
          "2024-01-01",
          "2024-02-01",
          "2024-03-01",
          "2024-04-01",
          "2024-05-01",
          "2024-06-01"
         ],
         "xaxis": "x",
         "y": [
          3.1719546401798455,
          3.1279434333113163,
          3.029618505417458,
          3.066964550189292,
          3.223925250446687,
          3.537815571720416
         ],
         "yaxis": "y"
        },
        {
         "hovertemplate": "friendly_id=17FY19-1<br>month=%{x}<br>kwh=%{y}<extra></extra>",
         "legendgroup": "17FY19-1",
         "line": {
          "color": "#FFA15A",
          "dash": "solid"
         },
         "marker": {
          "symbol": "circle"
         },
         "mode": "lines",
         "name": "17FY19-1",
         "showlegend": true,
         "type": "scattergl",
         "x": [
          "2024-01-01",
          "2024-02-01",
          "2024-03-01",
          "2024-04-01",
          "2024-05-01",
          "2024-06-01"
         ],
         "xaxis": "x",
         "y": [
          1.3127669824689026,
          1.241822604089199,
          1.086213118083658,
          1.119463070369875,
          1.400907694183189,
          1.3755986032571839
         ],
         "yaxis": "y"
        },
        {
         "hovertemplate": "friendly_id=17FY19-1ZA<br>month=%{x}<br>kwh=%{y}<extra></extra>",
         "legendgroup": "17FY19-1ZA",
         "line": {
          "color": "#19d3f3",
          "dash": "solid"
         },
         "marker": {
          "symbol": "circle"
         },
         "mode": "lines",
         "name": "17FY19-1ZA",
         "showlegend": true,
         "type": "scattergl",
         "x": [
          "2024-01-01",
          "2024-02-01",
          "2024-03-01",
          "2024-04-01",
          "2024-05-01",
          "2024-06-01"
         ],
         "xaxis": "x",
         "y": [
          1.076845668456922,
          1.0013354245672113,
          0.8889934423664008,
          0.8760049419484727,
          1.1433228756694263,
          1.5886508022640795
         ],
         "yaxis": "y"
        },
        {
         "hovertemplate": "friendly_id=17FY2<br>month=%{x}<br>kwh=%{y}<extra></extra>",
         "legendgroup": "17FY2",
         "line": {
          "color": "#FF6692",
          "dash": "solid"
         },
         "marker": {
          "symbol": "circle"
         },
         "mode": "lines",
         "name": "17FY2",
         "showlegend": true,
         "type": "scattergl",
         "x": [
          "2024-01-01",
          "2024-02-01",
          "2024-03-01",
          "2024-04-01",
          "2024-05-01",
          "2024-06-01"
         ],
         "xaxis": "x",
         "y": [
          1.681572906260722,
          1.7526712196608873,
          1.5308738223683787,
          1.5766308350725524,
          1.9802449139015834,
          2.784749739338501
         ],
         "yaxis": "y"
        },
        {
         "hovertemplate": "friendly_id=17FY23<br>month=%{x}<br>kwh=%{y}<extra></extra>",
         "legendgroup": "17FY23",
         "line": {
          "color": "#B6E880",
          "dash": "solid"
         },
         "marker": {
          "symbol": "circle"
         },
         "mode": "lines",
         "name": "17FY23",
         "showlegend": true,
         "type": "scattergl",
         "x": [
          "2024-01-01",
          "2024-02-01",
          "2024-03-01",
          "2024-04-01",
          "2024-05-01",
          "2024-06-01"
         ],
         "xaxis": "x",
         "y": [
          1.8718894220223727,
          1.7620342477155384,
          1.5422318785169045,
          1.6008465416664168,
          2.013013608596447,
          2.750769865134214
         ],
         "yaxis": "y"
        },
        {
         "hovertemplate": "friendly_id=17FY24<br>month=%{x}<br>kwh=%{y}<extra></extra>",
         "legendgroup": "17FY24",
         "line": {
          "color": "#FF97FF",
          "dash": "solid"
         },
         "marker": {
          "symbol": "circle"
         },
         "mode": "lines",
         "name": "17FY24",
         "showlegend": true,
         "type": "scattergl",
         "x": [
          "2024-01-01",
          "2024-02-01",
          "2024-03-01",
          "2024-04-01",
          "2024-05-01",
          "2024-06-01"
         ],
         "xaxis": "x",
         "y": [
          1.859989671344509,
          1.7230442130680517,
          1.5182819691455702,
          1.5646179612462106,
          1.9645741616347159,
          2.745745968089173
         ],
         "yaxis": "y"
        },
        {
         "hovertemplate": "friendly_id=17FY28-2<br>month=%{x}<br>kwh=%{y}<extra></extra>",
         "legendgroup": "17FY28-2",
         "line": {
          "color": "#FECB52",
          "dash": "solid"
         },
         "marker": {
          "symbol": "circle"
         },
         "mode": "lines",
         "name": "17FY28-2",
         "showlegend": true,
         "type": "scattergl",
         "x": [
          "2024-01-01",
          "2024-02-01",
          "2024-03-01",
          "2024-04-01",
          "2024-05-01",
          "2024-06-01"
         ],
         "xaxis": "x",
         "y": [
          0.6628820671395238,
          0.6283473062490491,
          0.5505766796427936,
          0.5621731159172803,
          0.6845655429875761,
          0.9845429094882064
         ],
         "yaxis": "y"
        },
        {
         "hovertemplate": "friendly_id=17FY30<br>month=%{x}<br>kwh=%{y}<extra></extra>",
         "legendgroup": "17FY30",
         "line": {
          "color": "#636efa",
          "dash": "solid"
         },
         "marker": {
          "symbol": "circle"
         },
         "mode": "lines",
         "name": "17FY30",
         "showlegend": true,
         "type": "scattergl",
         "x": [
          "2024-01-01",
          "2024-02-01",
          "2024-03-01",
          "2024-04-01",
          "2024-05-01",
          "2024-06-01"
         ],
         "xaxis": "x",
         "y": [
          1.5258101371396438,
          1.4517519520044024,
          1.2665344460185837,
          1.3140199947700562,
          1.6401155109813506,
          2.304021328577414
         ],
         "yaxis": "y"
        },
        {
         "hovertemplate": "friendly_id=17FY7<br>month=%{x}<br>kwh=%{y}<extra></extra>",
         "legendgroup": "17FY7",
         "line": {
          "color": "#EF553B",
          "dash": "solid"
         },
         "marker": {
          "symbol": "circle"
         },
         "mode": "lines",
         "name": "17FY7",
         "showlegend": true,
         "type": "scattergl",
         "x": [
          "2024-01-01",
          "2024-02-01",
          "2024-03-01",
          "2024-04-01",
          "2024-05-01",
          "2024-06-01"
         ],
         "xaxis": "x",
         "y": [
          1.9002635838012616,
          1.8032313387289656,
          1.5796122819570406,
          1.6362429590901069,
          2.047772299210375,
          2.836847894223832
         ],
         "yaxis": "y"
        },
        {
         "hovertemplate": "friendly_id=17FY8<br>month=%{x}<br>kwh=%{y}<extra></extra>",
         "legendgroup": "17FY8",
         "line": {
          "color": "#00cc96",
          "dash": "solid"
         },
         "marker": {
          "symbol": "circle"
         },
         "mode": "lines",
         "name": "17FY8",
         "showlegend": true,
         "type": "scattergl",
         "x": [
          "2024-01-01",
          "2024-02-01",
          "2024-03-01",
          "2024-04-01",
          "2024-05-01",
          "2024-06-01"
         ],
         "xaxis": "x",
         "y": [
          2.1542124428908482,
          2.0066472345969797,
          1.734297529552963,
          1.832593350460549,
          2.2967892916894517,
          3.179170669618614
         ],
         "yaxis": "y"
        },
        {
         "hovertemplate": "friendly_id=17FY9ZA<br>month=%{x}<br>kwh=%{y}<extra></extra>",
         "legendgroup": "17FY9ZA",
         "line": {
          "color": "#ab63fa",
          "dash": "solid"
         },
         "marker": {
          "symbol": "circle"
         },
         "mode": "lines",
         "name": "17FY9ZA",
         "showlegend": true,
         "type": "scattergl",
         "x": [
          "2024-01-01",
          "2024-02-01",
          "2024-03-01",
          "2024-04-01",
          "2024-05-01",
          "2024-06-01"
         ],
         "xaxis": "x",
         "y": [
          1.8854963507729554,
          1.763807759603416,
          1.388836311813691,
          1.5872233966958917,
          1.9940044337048053,
          2.776983519559432
         ],
         "yaxis": "y"
        },
        {
         "hovertemplate": "friendly_id=17FY9ZB<br>month=%{x}<br>kwh=%{y}<extra></extra>",
         "legendgroup": "17FY9ZB",
         "line": {
          "color": "#FFA15A",
          "dash": "solid"
         },
         "marker": {
          "symbol": "circle"
         },
         "mode": "lines",
         "name": "17FY9ZB",
         "showlegend": true,
         "type": "scattergl",
         "x": [
          "2024-01-01",
          "2024-02-01",
          "2024-03-01",
          "2024-04-01",
          "2024-05-01",
          "2024-06-01"
         ],
         "xaxis": "x",
         "y": [
          1.8477898353524813,
          1.7352065629201894,
          1.5206212302887265,
          1.569458458304548,
          1.9770857979845184,
          2.728736910396215
         ],
         "yaxis": "y"
        },
        {
         "hovertemplate": "friendly_id=17FYX<br>month=%{x}<br>kwh=%{y}<extra></extra>",
         "legendgroup": "17FYX",
         "line": {
          "color": "#19d3f3",
          "dash": "solid"
         },
         "marker": {
          "symbol": "circle"
         },
         "mode": "lines",
         "name": "17FYX",
         "showlegend": true,
         "type": "scattergl",
         "x": [
          "2024-01-01",
          "2024-02-01",
          "2024-03-01",
          "2024-04-01",
          "2024-05-01",
          "2024-06-01"
         ],
         "xaxis": "x",
         "y": [
          1.3156617161369892,
          1.231486294161491,
          0.9497273302023764,
          1.1259388770259853,
          1.408387759420441,
          1.9700697475969715
         ],
         "yaxis": "y"
        },
        {
         "hovertemplate": "friendly_id=17FYXZA<br>month=%{x}<br>kwh=%{y}<extra></extra>",
         "legendgroup": "17FYXZA",
         "line": {
          "color": "#FF6692",
          "dash": "solid"
         },
         "marker": {
          "symbol": "circle"
         },
         "mode": "lines",
         "name": "17FYXZA",
         "showlegend": true,
         "type": "scattergl",
         "x": [
          "2024-01-01",
          "2024-02-01",
          "2024-03-01",
          "2024-04-01",
          "2024-05-01",
          "2024-06-01"
         ],
         "xaxis": "x",
         "y": [
          1.7650226178737773,
          1.9261315695978733,
          1.6919793172119681,
          1.7484249368488314,
          2.2106478809641947,
          3.019582203656079
         ],
         "yaxis": "y"
        },
        {
         "hovertemplate": "friendly_id=17GY11<br>month=%{x}<br>kwh=%{y}<extra></extra>",
         "legendgroup": "17GY11",
         "line": {
          "color": "#B6E880",
          "dash": "solid"
         },
         "marker": {
          "symbol": "circle"
         },
         "mode": "lines",
         "name": "17GY11",
         "showlegend": true,
         "type": "scattergl",
         "x": [
          "2024-01-01",
          "2024-02-01",
          "2024-03-01",
          "2024-04-01",
          "2024-05-01",
          "2024-06-01"
         ],
         "xaxis": "x",
         "y": [
          1.155307474034183,
          1.0870152144805139,
          0.9534831942818748,
          0.976943258321517,
          1.222805824863675,
          1.6742464671367503
         ],
         "yaxis": "y"
        },
        {
         "hovertemplate": "friendly_id=17GY11-ZB<br>month=%{x}<br>kwh=%{y}<extra></extra>",
         "legendgroup": "17GY11-ZB",
         "line": {
          "color": "#FF97FF",
          "dash": "solid"
         },
         "marker": {
          "symbol": "circle"
         },
         "mode": "lines",
         "name": "17GY11-ZB",
         "showlegend": true,
         "type": "scattergl",
         "x": [
          "2024-01-01",
          "2024-02-01",
          "2024-03-01",
          "2024-04-01",
          "2024-05-01",
          "2024-06-01"
         ],
         "xaxis": "x",
         "y": [
          1.1141731672426372,
          0.9846934358185288,
          0.9229385161432747,
          0.9564245405761593,
          1.1772317188362784,
          1.6136949462077521
         ],
         "yaxis": "y"
        },
        {
         "hovertemplate": "friendly_id=17GY12<br>month=%{x}<br>kwh=%{y}<extra></extra>",
         "legendgroup": "17GY12",
         "line": {
          "color": "#FECB52",
          "dash": "solid"
         },
         "marker": {
          "symbol": "circle"
         },
         "mode": "lines",
         "name": "17GY12",
         "showlegend": true,
         "type": "scattergl",
         "x": [
          "2024-01-01",
          "2024-02-01",
          "2024-03-01",
          "2024-04-01",
          "2024-05-01",
          "2024-06-01"
         ],
         "xaxis": "x",
         "y": [
          1.200995894158703,
          1.1052435115954913,
          1.2486563746933899,
          1.2848018552134894,
          1.5768432306518758,
          2.1788571482461108
         ],
         "yaxis": "y"
        },
        {
         "hovertemplate": "friendly_id=17GY4<br>month=%{x}<br>kwh=%{y}<extra></extra>",
         "legendgroup": "17GY4",
         "line": {
          "color": "#636efa",
          "dash": "solid"
         },
         "marker": {
          "symbol": "circle"
         },
         "mode": "lines",
         "name": "17GY4",
         "showlegend": true,
         "type": "scattergl",
         "x": [
          "2024-01-01",
          "2024-02-01",
          "2024-03-01",
          "2024-04-01",
          "2024-05-01",
          "2024-06-01"
         ],
         "xaxis": "x",
         "y": [
          1.0250922857144005,
          0.9550154467273128,
          0.855423102333087,
          0.8708280233762992,
          1.0687996028981301,
          1.4976411456572065
         ],
         "yaxis": "y"
        },
        {
         "hovertemplate": "friendly_id=17HY1<br>month=%{x}<br>kwh=%{y}<extra></extra>",
         "legendgroup": "17HY1",
         "line": {
          "color": "#EF553B",
          "dash": "solid"
         },
         "marker": {
          "symbol": "circle"
         },
         "mode": "lines",
         "name": "17HY1",
         "showlegend": true,
         "type": "scattergl",
         "x": [
          "2024-01-01",
          "2024-02-01",
          "2024-03-01",
          "2024-04-01",
          "2024-05-01",
          "2024-06-01"
         ],
         "xaxis": "x",
         "y": [
          1.7135324751761565,
          1.4898000880895077,
          1.5418997914764343,
          1.3413794342976963,
          1.9351790855815278,
          2.559527018509271
         ],
         "yaxis": "y"
        },
        {
         "hovertemplate": "friendly_id=17HY15<br>month=%{x}<br>kwh=%{y}<extra></extra>",
         "legendgroup": "17HY15",
         "line": {
          "color": "#00cc96",
          "dash": "solid"
         },
         "marker": {
          "symbol": "circle"
         },
         "mode": "lines",
         "name": "17HY15",
         "showlegend": true,
         "type": "scattergl",
         "x": [
          "2024-01-01",
          "2024-02-01",
          "2024-03-01",
          "2024-04-01",
          "2024-05-01",
          "2024-06-01"
         ],
         "xaxis": "x",
         "y": [
          0.929119527613339,
          0.8945591669944722,
          0.7700071829684044,
          0.7951258579958318,
          0.9850326307731775,
          1.3357993020934016
         ],
         "yaxis": "y"
        },
        {
         "hovertemplate": "friendly_id=17HY15-1<br>month=%{x}<br>kwh=%{y}<extra></extra>",
         "legendgroup": "17HY15-1",
         "line": {
          "color": "#ab63fa",
          "dash": "solid"
         },
         "marker": {
          "symbol": "circle"
         },
         "mode": "lines",
         "name": "17HY15-1",
         "showlegend": true,
         "type": "scattergl",
         "x": [
          "2024-01-01",
          "2024-02-01",
          "2024-03-01",
          "2024-04-01",
          "2024-05-01",
          "2024-06-01"
         ],
         "xaxis": "x",
         "y": [
          1.592890034861835,
          1.506665202131064,
          1.331466513590827,
          1.3693007408231284,
          1.6856787295085578,
          2.3126002434361363
         ],
         "yaxis": "y"
        },
        {
         "hovertemplate": "friendly_id=17HY15-1ZA<br>month=%{x}<br>kwh=%{y}<extra></extra>",
         "legendgroup": "17HY15-1ZA",
         "line": {
          "color": "#FFA15A",
          "dash": "solid"
         },
         "marker": {
          "symbol": "circle"
         },
         "mode": "lines",
         "name": "17HY15-1ZA",
         "showlegend": true,
         "type": "scattergl",
         "x": [
          "2024-01-01",
          "2024-02-01",
          "2024-03-01",
          "2024-04-01",
          "2024-05-01",
          "2024-06-01"
         ],
         "xaxis": "x",
         "y": [
          1.9573780999822288,
          1.8733232543600782,
          1.3509663385064927,
          1.6273909595022444,
          2.055977795821912,
          2.891416235066441
         ],
         "yaxis": "y"
        },
        {
         "hovertemplate": "friendly_id=17HY16-1<br>month=%{x}<br>kwh=%{y}<extra></extra>",
         "legendgroup": "17HY16-1",
         "line": {
          "color": "#19d3f3",
          "dash": "solid"
         },
         "marker": {
          "symbol": "circle"
         },
         "mode": "lines",
         "name": "17HY16-1",
         "showlegend": true,
         "type": "scattergl",
         "x": [
          "2024-01-01",
          "2024-02-01",
          "2024-03-01",
          "2024-04-01",
          "2024-05-01",
          "2024-06-01"
         ],
         "xaxis": "x",
         "y": [
          2.0909010595207045,
          1.9600285375657323,
          1.7226649303017771,
          1.7714288401761145,
          2.203003819667889,
          3.019693032423894
         ],
         "yaxis": "y"
        },
        {
         "hovertemplate": "friendly_id=17HY16-2<br>month=%{x}<br>kwh=%{y}<extra></extra>",
         "legendgroup": "17HY16-2",
         "line": {
          "color": "#FF6692",
          "dash": "solid"
         },
         "marker": {
          "symbol": "circle"
         },
         "mode": "lines",
         "name": "17HY16-2",
         "showlegend": true,
         "type": "scattergl",
         "x": [
          "2024-01-01",
          "2024-02-01",
          "2024-03-01",
          "2024-04-01",
          "2024-05-01",
          "2024-06-01"
         ],
         "xaxis": "x",
         "y": [
          1.03157731494444,
          1.1112528553500982,
          0.9707516451469972,
          0.9860730279245095,
          1.171320015982347,
          1.6857918223031418
         ],
         "yaxis": "y"
        },
        {
         "hovertemplate": "friendly_id=17HY16-4<br>month=%{x}<br>kwh=%{y}<extra></extra>",
         "legendgroup": "17HY16-4",
         "line": {
          "color": "#B6E880",
          "dash": "solid"
         },
         "marker": {
          "symbol": "circle"
         },
         "mode": "lines",
         "name": "17HY16-4",
         "showlegend": true,
         "type": "scattergl",
         "x": [
          "2024-01-01",
          "2024-02-01",
          "2024-03-01",
          "2024-04-01",
          "2024-05-01",
          "2024-06-01"
         ],
         "xaxis": "x",
         "y": [
          2.034232990602099,
          2.0313681654324,
          1.7579228831409257,
          1.8049034840182432,
          2.241776347439342,
          2.858123213707995
         ],
         "yaxis": "y"
        },
        {
         "hovertemplate": "friendly_id=17HY16-4ZA<br>month=%{x}<br>kwh=%{y}<extra></extra>",
         "legendgroup": "17HY16-4ZA",
         "line": {
          "color": "#FF97FF",
          "dash": "solid"
         },
         "marker": {
          "symbol": "circle"
         },
         "mode": "lines",
         "name": "17HY16-4ZA",
         "showlegend": true,
         "type": "scattergl",
         "x": [
          "2024-01-01",
          "2024-02-01",
          "2024-03-01",
          "2024-04-01",
          "2024-05-01",
          "2024-06-01"
         ],
         "xaxis": "x",
         "y": [
          1.2269189159963199,
          1.2144158155792746,
          1.0488305709333383,
          1.084373067937823,
          1.3437730722346324,
          1.7986877594069763
         ],
         "yaxis": "y"
        },
        {
         "hovertemplate": "friendly_id=17HY16-4ZB<br>month=%{x}<br>kwh=%{y}<extra></extra>",
         "legendgroup": "17HY16-4ZB",
         "line": {
          "color": "#FECB52",
          "dash": "solid"
         },
         "marker": {
          "symbol": "circle"
         },
         "mode": "lines",
         "name": "17HY16-4ZB",
         "showlegend": true,
         "type": "scattergl",
         "x": [
          "2024-01-01",
          "2024-02-01",
          "2024-03-01",
          "2024-04-01",
          "2024-05-01",
          "2024-06-01"
         ],
         "xaxis": "x",
         "y": [
          0.9738233338543681,
          1.1946296194415404,
          1.0471388015022143,
          1.0765252997176744,
          1.3266448631536234,
          1.8138552217180064
         ],
         "yaxis": "y"
        },
        {
         "hovertemplate": "friendly_id=17HY21<br>month=%{x}<br>kwh=%{y}<extra></extra>",
         "legendgroup": "17HY21",
         "line": {
          "color": "#636efa",
          "dash": "solid"
         },
         "marker": {
          "symbol": "circle"
         },
         "mode": "lines",
         "name": "17HY21",
         "showlegend": true,
         "type": "scattergl",
         "x": [
          "2024-01-01",
          "2024-02-01",
          "2024-03-01",
          "2024-04-01",
          "2024-05-01",
          "2024-06-01"
         ],
         "xaxis": "x",
         "y": [
          1.8725762676447726,
          1.784569341132381,
          1.5410060181709995,
          1.5946877148836547,
          1.8402176673012427,
          2.673314763551307
         ],
         "yaxis": "y"
        },
        {
         "hovertemplate": "friendly_id=17HY5<br>month=%{x}<br>kwh=%{y}<extra></extra>",
         "legendgroup": "17HY5",
         "line": {
          "color": "#EF553B",
          "dash": "solid"
         },
         "marker": {
          "symbol": "circle"
         },
         "mode": "lines",
         "name": "17HY5",
         "showlegend": true,
         "type": "scattergl",
         "x": [
          "2024-01-01",
          "2024-02-01",
          "2024-03-01",
          "2024-04-01",
          "2024-05-01",
          "2024-06-01"
         ],
         "xaxis": "x",
         "y": [
          2.2027844473644307,
          2.1091680541131805,
          1.8296275262197434,
          1.4561166741549307,
          2.344132477506275,
          3.19371377252081
         ],
         "yaxis": "y"
        },
        {
         "hovertemplate": "friendly_id=17HY6<br>month=%{x}<br>kwh=%{y}<extra></extra>",
         "legendgroup": "17HY6",
         "line": {
          "color": "#00cc96",
          "dash": "solid"
         },
         "marker": {
          "symbol": "circle"
         },
         "mode": "lines",
         "name": "17HY6",
         "showlegend": true,
         "type": "scattergl",
         "x": [
          "2024-01-01",
          "2024-02-01",
          "2024-03-01",
          "2024-04-01",
          "2024-05-01",
          "2024-06-01"
         ],
         "xaxis": "x",
         "y": [
          1.205860491593925,
          1.4987833155112242,
          1.2984291253781668,
          1.3332688062286957,
          1.657346001097515,
          2.071251252897117
         ],
         "yaxis": "y"
        },
        {
         "hovertemplate": "friendly_id=17HY7<br>month=%{x}<br>kwh=%{y}<extra></extra>",
         "legendgroup": "17HY7",
         "line": {
          "color": "#ab63fa",
          "dash": "solid"
         },
         "marker": {
          "symbol": "circle"
         },
         "mode": "lines",
         "name": "17HY7",
         "showlegend": true,
         "type": "scattergl",
         "x": [
          "2024-01-01",
          "2024-02-01",
          "2024-03-01",
          "2024-04-01",
          "2024-05-01",
          "2024-06-01"
         ],
         "xaxis": "x",
         "y": [
          0.9987569892836545,
          0.957128576064285,
          0.8039212540685825,
          0.8578032264464638,
          1.0109737939698706,
          1.4412336220992745
         ],
         "yaxis": "y"
        },
        {
         "hovertemplate": "friendly_id=17HY7ZA<br>month=%{x}<br>kwh=%{y}<extra></extra>",
         "legendgroup": "17HY7ZA",
         "line": {
          "color": "#FFA15A",
          "dash": "solid"
         },
         "marker": {
          "symbol": "circle"
         },
         "mode": "lines",
         "name": "17HY7ZA",
         "showlegend": true,
         "type": "scattergl",
         "x": [
          "2024-01-01",
          "2024-02-01",
          "2024-03-01",
          "2024-04-01",
          "2024-05-01",
          "2024-06-01"
         ],
         "xaxis": "x",
         "y": [
          1.807715086778103,
          1.732774652876123,
          1.488519519327343,
          1.534530114305494,
          1.899156630810012,
          1.9017871516260894
         ],
         "yaxis": "y"
        },
        {
         "hovertemplate": "friendly_id=17Y100<br>month=%{x}<br>kwh=%{y}<extra></extra>",
         "legendgroup": "17Y100",
         "line": {
          "color": "#19d3f3",
          "dash": "solid"
         },
         "marker": {
          "symbol": "circle"
         },
         "mode": "lines",
         "name": "17Y100",
         "showlegend": true,
         "type": "scattergl",
         "x": [
          "2024-01-01",
          "2024-02-01",
          "2024-03-01",
          "2024-04-01",
          "2024-05-01",
          "2024-06-01"
         ],
         "xaxis": "x",
         "y": [
          1.3255299441456823,
          1.236288052404133,
          1.1076814293044839,
          1.1369390142243418,
          1.3909107839950616,
          1.9358913005707892
         ],
         "yaxis": "y"
        },
        {
         "hovertemplate": "friendly_id=17Y103X-1<br>month=%{x}<br>kwh=%{y}<extra></extra>",
         "legendgroup": "17Y103X-1",
         "line": {
          "color": "#FF6692",
          "dash": "solid"
         },
         "marker": {
          "symbol": "circle"
         },
         "mode": "lines",
         "name": "17Y103X-1",
         "showlegend": true,
         "type": "scattergl",
         "x": [
          "2024-01-01",
          "2024-02-01",
          "2024-03-01",
          "2024-04-01",
          "2024-05-01",
          "2024-06-01"
         ],
         "xaxis": "x",
         "y": [
          1.2002422097078096,
          1.1075909178314478,
          0.9837037308632318,
          1.009862576615388,
          1.1556913628592138,
          1.735411984602839
         ],
         "yaxis": "y"
        },
        {
         "hovertemplate": "friendly_id=17Y107X-4<br>month=%{x}<br>kwh=%{y}<extra></extra>",
         "legendgroup": "17Y107X-4",
         "line": {
          "color": "#B6E880",
          "dash": "solid"
         },
         "marker": {
          "symbol": "circle"
         },
         "mode": "lines",
         "name": "17Y107X-4",
         "showlegend": true,
         "type": "scattergl",
         "x": [
          "2024-01-01",
          "2024-02-01",
          "2024-03-01",
          "2024-04-01",
          "2024-05-01",
          "2024-06-01"
         ],
         "xaxis": "x",
         "y": [
          1.8986544869829791,
          1.7386534758107177,
          1.5342459618207998,
          1.5931732540369232,
          1.9671051928342778,
          2.6669352125731947
         ],
         "yaxis": "y"
        },
        {
         "hovertemplate": "friendly_id=17Y11<br>month=%{x}<br>kwh=%{y}<extra></extra>",
         "legendgroup": "17Y11",
         "line": {
          "color": "#FF97FF",
          "dash": "solid"
         },
         "marker": {
          "symbol": "circle"
         },
         "mode": "lines",
         "name": "17Y11",
         "showlegend": true,
         "type": "scattergl",
         "x": [
          "2024-01-01",
          "2024-02-01",
          "2024-03-01",
          "2024-04-01",
          "2024-05-01",
          "2024-06-01"
         ],
         "xaxis": "x",
         "y": [
          2.3016085965804853,
          2.205482345454614,
          1.920423125414095,
          1.9797116589814774,
          2.503497665678713,
          3.44796245630525
         ],
         "yaxis": "y"
        },
        {
         "hovertemplate": "friendly_id=17Y11-2<br>month=%{x}<br>kwh=%{y}<extra></extra>",
         "legendgroup": "17Y11-2",
         "line": {
          "color": "#FECB52",
          "dash": "solid"
         },
         "marker": {
          "symbol": "circle"
         },
         "mode": "lines",
         "name": "17Y11-2",
         "showlegend": true,
         "type": "scattergl",
         "x": [
          "2024-01-01",
          "2024-02-01",
          "2024-03-01",
          "2024-04-01",
          "2024-05-01",
          "2024-06-01"
         ],
         "xaxis": "x",
         "y": [
          1.7043756225703661,
          1.4654682531056542,
          1.6828722550245363,
          1.8120550432484284,
          2.2666238894016986,
          3.1018757275932702
         ],
         "yaxis": "y"
        },
        {
         "hovertemplate": "friendly_id=17Y111<br>month=%{x}<br>kwh=%{y}<extra></extra>",
         "legendgroup": "17Y111",
         "line": {
          "color": "#636efa",
          "dash": "solid"
         },
         "marker": {
          "symbol": "circle"
         },
         "mode": "lines",
         "name": "17Y111",
         "showlegend": true,
         "type": "scattergl",
         "x": [
          "2024-01-01",
          "2024-02-01",
          "2024-03-01",
          "2024-04-01",
          "2024-05-01",
          "2024-06-01"
         ],
         "xaxis": "x",
         "y": [
          1.3652657864428837,
          1.2384901226708693,
          1.115540726502578,
          1.1545866116767738,
          1.4173677429681717,
          1.9403914888527196
         ],
         "yaxis": "y"
        },
        {
         "hovertemplate": "friendly_id=17Y118X<br>month=%{x}<br>kwh=%{y}<extra></extra>",
         "legendgroup": "17Y118X",
         "line": {
          "color": "#EF553B",
          "dash": "solid"
         },
         "marker": {
          "symbol": "circle"
         },
         "mode": "lines",
         "name": "17Y118X",
         "showlegend": true,
         "type": "scattergl",
         "x": [
          "2024-01-01",
          "2024-02-01",
          "2024-03-01",
          "2024-04-01",
          "2024-05-01",
          "2024-06-01"
         ],
         "xaxis": "x",
         "y": [
          0.8591726828622483,
          0.7904884881411537,
          0.698544811806933,
          0.7181624999325221,
          0.848468799369339,
          1.112447144494408
         ],
         "yaxis": "y"
        },
        {
         "hovertemplate": "friendly_id=17Y12-1<br>month=%{x}<br>kwh=%{y}<extra></extra>",
         "legendgroup": "17Y12-1",
         "line": {
          "color": "#00cc96",
          "dash": "solid"
         },
         "marker": {
          "symbol": "circle"
         },
         "mode": "lines",
         "name": "17Y12-1",
         "showlegend": true,
         "type": "scattergl",
         "x": [
          "2024-01-01",
          "2024-02-01",
          "2024-03-01",
          "2024-04-01",
          "2024-05-01",
          "2024-06-01"
         ],
         "xaxis": "x",
         "y": [
          1.4000501929816358,
          1.5486565010680113,
          1.3645328915528299,
          1.361875459732738,
          1.7597428486161601,
          2.452844328299824
         ],
         "yaxis": "y"
        },
        {
         "hovertemplate": "friendly_id=17Y12-A<br>month=%{x}<br>kwh=%{y}<extra></extra>",
         "legendgroup": "17Y12-A",
         "line": {
          "color": "#ab63fa",
          "dash": "solid"
         },
         "marker": {
          "symbol": "circle"
         },
         "mode": "lines",
         "name": "17Y12-A",
         "showlegend": true,
         "type": "scattergl",
         "x": [
          "2024-01-01",
          "2024-02-01",
          "2024-03-01",
          "2024-04-01",
          "2024-05-01",
          "2024-06-01"
         ],
         "xaxis": "x",
         "y": [
          1.947220786556612,
          1.879617170544229,
          1.5844576645454138,
          1.7119393309940023,
          2.1508908237048177,
          2.985264962549753
         ],
         "yaxis": "y"
        },
        {
         "hovertemplate": "friendly_id=17Y12-D<br>month=%{x}<br>kwh=%{y}<extra></extra>",
         "legendgroup": "17Y12-D",
         "line": {
          "color": "#FFA15A",
          "dash": "solid"
         },
         "marker": {
          "symbol": "circle"
         },
         "mode": "lines",
         "name": "17Y12-D",
         "showlegend": true,
         "type": "scattergl",
         "x": [
          "2024-01-01",
          "2024-02-01",
          "2024-03-01",
          "2024-04-01",
          "2024-05-01",
          "2024-06-01"
         ],
         "xaxis": "x",
         "y": [
          1.8659747639031992,
          1.613443063951305,
          1.3377567879658634,
          1.5930168172132761,
          2.0098565635540364,
          2.132194865927673
         ],
         "yaxis": "y"
        },
        {
         "hovertemplate": "friendly_id=17Y12-X<br>month=%{x}<br>kwh=%{y}<extra></extra>",
         "legendgroup": "17Y12-X",
         "line": {
          "color": "#19d3f3",
          "dash": "solid"
         },
         "marker": {
          "symbol": "circle"
         },
         "mode": "lines",
         "name": "17Y12-X",
         "showlegend": true,
         "type": "scattergl",
         "x": [
          "2024-01-01",
          "2024-02-01",
          "2024-03-01",
          "2024-04-01",
          "2024-05-01",
          "2024-06-01"
         ],
         "xaxis": "x",
         "y": [
          0.7450060020852822,
          0.6953793953060904,
          0.6066841519163629,
          0.6327884403491562,
          0.790352559231835,
          1.0955658854879822
         ],
         "yaxis": "y"
        },
        {
         "hovertemplate": "friendly_id=17Y121<br>month=%{x}<br>kwh=%{y}<extra></extra>",
         "legendgroup": "17Y121",
         "line": {
          "color": "#FF6692",
          "dash": "solid"
         },
         "marker": {
          "symbol": "circle"
         },
         "mode": "lines",
         "name": "17Y121",
         "showlegend": true,
         "type": "scattergl",
         "x": [
          "2024-01-01",
          "2024-02-01",
          "2024-03-01",
          "2024-04-01",
          "2024-05-01",
          "2024-06-01"
         ],
         "xaxis": "x",
         "y": [
          1.6843893063164046,
          1.567206709247334,
          1.385752009541643,
          1.421643840465182,
          1.7613286902470942,
          2.395947479786733
         ],
         "yaxis": "y"
        },
        {
         "hovertemplate": "friendly_id=17Y123<br>month=%{x}<br>kwh=%{y}<extra></extra>",
         "legendgroup": "17Y123",
         "line": {
          "color": "#B6E880",
          "dash": "solid"
         },
         "marker": {
          "symbol": "circle"
         },
         "mode": "lines",
         "name": "17Y123",
         "showlegend": true,
         "type": "scattergl",
         "x": [
          "2024-01-01",
          "2024-02-01",
          "2024-03-01",
          "2024-04-01",
          "2024-05-01",
          "2024-06-01"
         ],
         "xaxis": "x",
         "y": [
          1.1559692472622785,
          1.068049212141266,
          0.9481613599080133,
          0.9792485771498475,
          1.2012039533920051,
          1.5528199408246295
         ],
         "yaxis": "y"
        },
        {
         "hovertemplate": "friendly_id=17Y124-1ZA<br>month=%{x}<br>kwh=%{y}<extra></extra>",
         "legendgroup": "17Y124-1ZA",
         "line": {
          "color": "#FF97FF",
          "dash": "solid"
         },
         "marker": {
          "symbol": "circle"
         },
         "mode": "lines",
         "name": "17Y124-1ZA",
         "showlegend": true,
         "type": "scattergl",
         "x": [
          "2024-01-01",
          "2024-02-01",
          "2024-03-01",
          "2024-04-01",
          "2024-05-01",
          "2024-06-01"
         ],
         "xaxis": "x",
         "y": [
          1.6857538216457704,
          1.5640339196694675,
          1.3891020133644678,
          1.3163393698416348,
          1.7152929454000214,
          2.396780360911852
         ],
         "yaxis": "y"
        },
        {
         "hovertemplate": "friendly_id=17Y124-2<br>month=%{x}<br>kwh=%{y}<extra></extra>",
         "legendgroup": "17Y124-2",
         "line": {
          "color": "#FECB52",
          "dash": "solid"
         },
         "marker": {
          "symbol": "circle"
         },
         "mode": "lines",
         "name": "17Y124-2",
         "showlegend": true,
         "type": "scattergl",
         "x": [
          "2024-01-01",
          "2024-02-01",
          "2024-03-01",
          "2024-04-01",
          "2024-05-01",
          "2024-06-01"
         ],
         "xaxis": "x",
         "y": [
          1.1827843061985166,
          1.0994227410169066,
          0.9619710508763084,
          0.9964161805150692,
          1.232299139125677,
          1.6549900806378877
         ],
         "yaxis": "y"
        },
        {
         "hovertemplate": "friendly_id=17Y124-3<br>month=%{x}<br>kwh=%{y}<extra></extra>",
         "legendgroup": "17Y124-3",
         "line": {
          "color": "#636efa",
          "dash": "solid"
         },
         "marker": {
          "symbol": "circle"
         },
         "mode": "lines",
         "name": "17Y124-3",
         "showlegend": true,
         "type": "scattergl",
         "x": [
          "2024-01-01",
          "2024-02-01",
          "2024-03-01",
          "2024-04-01",
          "2024-05-01",
          "2024-06-01"
         ],
         "xaxis": "x",
         "y": [
          1.3279938727521428,
          1.2426184531972597,
          1.1039005563907578,
          0.7485464736207422,
          1.391759479996424,
          1.9213938991635706
         ],
         "yaxis": "y"
        },
        {
         "hovertemplate": "friendly_id=17Y124-3-2<br>month=%{x}<br>kwh=%{y}<extra></extra>",
         "legendgroup": "17Y124-3-2",
         "line": {
          "color": "#EF553B",
          "dash": "solid"
         },
         "marker": {
          "symbol": "circle"
         },
         "mode": "lines",
         "name": "17Y124-3-2",
         "showlegend": true,
         "type": "scattergl",
         "x": [
          "2024-01-01",
          "2024-02-01",
          "2024-03-01",
          "2024-04-01",
          "2024-05-01",
          "2024-06-01"
         ],
         "xaxis": "x",
         "y": [
          1.7383584897940951,
          1.6021562814875492,
          1.2219779572028626,
          1.4260357322335406,
          1.804008711457744,
          2.4927191474302233
         ],
         "yaxis": "y"
        },
        {
         "hovertemplate": "friendly_id=17Y124-3-2ZB<br>month=%{x}<br>kwh=%{y}<extra></extra>",
         "legendgroup": "17Y124-3-2ZB",
         "line": {
          "color": "#00cc96",
          "dash": "solid"
         },
         "marker": {
          "symbol": "circle"
         },
         "mode": "lines",
         "name": "17Y124-3-2ZB",
         "showlegend": true,
         "type": "scattergl",
         "x": [
          "2024-01-01",
          "2024-02-01",
          "2024-03-01",
          "2024-04-01",
          "2024-05-01",
          "2024-06-01"
         ],
         "xaxis": "x",
         "y": [
          1.2071963027460513,
          1.0596296265456777,
          0.9872256128585183,
          1.0146539321081498,
          1.249309038577371,
          1.734998415211823
         ],
         "yaxis": "y"
        },
        {
         "hovertemplate": "friendly_id=17Y124-3-3<br>month=%{x}<br>kwh=%{y}<extra></extra>",
         "legendgroup": "17Y124-3-3",
         "line": {
          "color": "#ab63fa",
          "dash": "solid"
         },
         "marker": {
          "symbol": "circle"
         },
         "mode": "lines",
         "name": "17Y124-3-3",
         "showlegend": true,
         "type": "scattergl",
         "x": [
          "2024-01-01",
          "2024-02-01",
          "2024-03-01",
          "2024-04-01",
          "2024-05-01",
          "2024-06-01"
         ],
         "xaxis": "x",
         "y": [
          0.6481498000247861,
          0.564857540960535,
          0.5329564122533348,
          0.543663872363522,
          0.6701933082373447,
          0.9279094192166447
         ],
         "yaxis": "y"
        },
        {
         "hovertemplate": "friendly_id=17Y124-3-4<br>month=%{x}<br>kwh=%{y}<extra></extra>",
         "legendgroup": "17Y124-3-4",
         "line": {
          "color": "#FFA15A",
          "dash": "solid"
         },
         "marker": {
          "symbol": "circle"
         },
         "mode": "lines",
         "name": "17Y124-3-4",
         "showlegend": true,
         "type": "scattergl",
         "x": [
          "2024-01-01",
          "2024-02-01",
          "2024-03-01",
          "2024-04-01",
          "2024-05-01",
          "2024-06-01"
         ],
         "xaxis": "x",
         "y": [
          0.8832397326605023,
          0.7366281090677878,
          0.7303060635400278,
          0.6746448860125819,
          0.9222377431285865,
          1.2634519159065476
         ],
         "yaxis": "y"
        },
        {
         "hovertemplate": "friendly_id=17Y124-3-5<br>month=%{x}<br>kwh=%{y}<extra></extra>",
         "legendgroup": "17Y124-3-5",
         "line": {
          "color": "#19d3f3",
          "dash": "solid"
         },
         "marker": {
          "symbol": "circle"
         },
         "mode": "lines",
         "name": "17Y124-3-5",
         "showlegend": true,
         "type": "scattergl",
         "x": [
          "2024-01-01",
          "2024-02-01",
          "2024-03-01",
          "2024-04-01",
          "2024-05-01",
          "2024-06-01"
         ],
         "xaxis": "x",
         "y": [
          2.341436437269483,
          2.171642393194901,
          1.9171003534873834,
          1.9764668994397732,
          2.267603019510196,
          3.3671869827144696
         ],
         "yaxis": "y"
        },
        {
         "hovertemplate": "friendly_id=17Y124-3-6<br>month=%{x}<br>kwh=%{y}<extra></extra>",
         "legendgroup": "17Y124-3-6",
         "line": {
          "color": "#FF6692",
          "dash": "solid"
         },
         "marker": {
          "symbol": "circle"
         },
         "mode": "lines",
         "name": "17Y124-3-6",
         "showlegend": true,
         "type": "scattergl",
         "x": [
          "2024-01-01",
          "2024-02-01",
          "2024-03-01",
          "2024-04-01",
          "2024-05-01",
          "2024-06-01"
         ],
         "xaxis": "x",
         "y": [
          2.077302206493779,
          1.7315785885677604,
          1.8681855888310726,
          1.9132599669903922,
          2.347937771252006,
          3.223872685622388
         ],
         "yaxis": "y"
        },
        {
         "hovertemplate": "friendly_id=17Y124-3-6ZB<br>month=%{x}<br>kwh=%{y}<extra></extra>",
         "legendgroup": "17Y124-3-6ZB",
         "line": {
          "color": "#B6E880",
          "dash": "solid"
         },
         "marker": {
          "symbol": "circle"
         },
         "mode": "lines",
         "name": "17Y124-3-6ZB",
         "showlegend": true,
         "type": "scattergl",
         "x": [
          "2024-01-01",
          "2024-02-01",
          "2024-03-01",
          "2024-04-01",
          "2024-05-01",
          "2024-06-01"
         ],
         "xaxis": "x",
         "y": [
          1.2337047513660202,
          0.8828871410742465,
          0.98321500600311,
          1.0448216358342395,
          1.2787451649650183,
          1.7662933856296916
         ],
         "yaxis": "y"
        },
        {
         "hovertemplate": "friendly_id=17Y124-3-7<br>month=%{x}<br>kwh=%{y}<extra></extra>",
         "legendgroup": "17Y124-3-7",
         "line": {
          "color": "#FF97FF",
          "dash": "solid"
         },
         "marker": {
          "symbol": "circle"
         },
         "mode": "lines",
         "name": "17Y124-3-7",
         "showlegend": true,
         "type": "scattergl",
         "x": [
          "2024-01-01",
          "2024-02-01",
          "2024-03-01",
          "2024-04-01",
          "2024-05-01",
          "2024-06-01"
         ],
         "xaxis": "x",
         "y": [
          2.0740218187758788,
          1.9216220482702664,
          1.7087906387200584,
          1.7551459913190703,
          2.1573768814790553,
          2.977711911258969
         ],
         "yaxis": "y"
        },
        {
         "hovertemplate": "friendly_id=17Y124-3ZA<br>month=%{x}<br>kwh=%{y}<extra></extra>",
         "legendgroup": "17Y124-3ZA",
         "line": {
          "color": "#FECB52",
          "dash": "solid"
         },
         "marker": {
          "symbol": "circle"
         },
         "mode": "lines",
         "name": "17Y124-3ZA",
         "showlegend": true,
         "type": "scattergl",
         "x": [
          "2024-01-01",
          "2024-02-01",
          "2024-03-01",
          "2024-04-01",
          "2024-05-01",
          "2024-06-01"
         ],
         "xaxis": "x",
         "y": [
          1.0462026614968667,
          0.9739521756317283,
          0.8677825383192792,
          0.7144450766978779,
          1.0179229759466635,
          1.5034634368999422
         ],
         "yaxis": "y"
        },
        {
         "hovertemplate": "friendly_id=17Y124-3ZB<br>month=%{x}<br>kwh=%{y}<extra></extra>",
         "legendgroup": "17Y124-3ZB",
         "line": {
          "color": "#636efa",
          "dash": "solid"
         },
         "marker": {
          "symbol": "circle"
         },
         "mode": "lines",
         "name": "17Y124-3ZB",
         "showlegend": true,
         "type": "scattergl",
         "x": [
          "2024-01-01",
          "2024-02-01",
          "2024-03-01",
          "2024-04-01",
          "2024-05-01",
          "2024-06-01"
         ],
         "xaxis": "x",
         "y": [
          1.5145551284078025,
          1.4422061383337732,
          1.2813306793487533,
          1.3196967456072877,
          1.6167283216077117,
          2.223522383834009
         ],
         "yaxis": "y"
        },
        {
         "hovertemplate": "friendly_id=17Y124-5<br>month=%{x}<br>kwh=%{y}<extra></extra>",
         "legendgroup": "17Y124-5",
         "line": {
          "color": "#EF553B",
          "dash": "solid"
         },
         "marker": {
          "symbol": "circle"
         },
         "mode": "lines",
         "name": "17Y124-5",
         "showlegend": true,
         "type": "scattergl",
         "x": [
          "2024-01-01",
          "2024-02-01",
          "2024-03-01",
          "2024-04-01",
          "2024-05-01",
          "2024-06-01"
         ],
         "xaxis": "x",
         "y": [
          1.221967086162004,
          1.1276947287468346,
          0.7737889548138859,
          0.9324422572762171,
          1.2693718785171801,
          1.7479643580594515
         ],
         "yaxis": "y"
        },
        {
         "hovertemplate": "friendly_id=17Y124-6<br>month=%{x}<br>kwh=%{y}<extra></extra>",
         "legendgroup": "17Y124-6",
         "line": {
          "color": "#00cc96",
          "dash": "solid"
         },
         "marker": {
          "symbol": "circle"
         },
         "mode": "lines",
         "name": "17Y124-6",
         "showlegend": true,
         "type": "scattergl",
         "x": [
          "2024-01-01",
          "2024-02-01",
          "2024-03-01",
          "2024-04-01",
          "2024-05-01",
          "2024-06-01"
         ],
         "xaxis": "x",
         "y": [
          1.6288260016690774,
          1.5900334220947705,
          1.490891427843079,
          1.5344286069723125,
          1.888069535866786,
          2.6332148596855687
         ],
         "yaxis": "y"
        },
        {
         "hovertemplate": "friendly_id=17Y124-6ZA<br>month=%{x}<br>kwh=%{y}<extra></extra>",
         "legendgroup": "17Y124-6ZA",
         "line": {
          "color": "#ab63fa",
          "dash": "solid"
         },
         "marker": {
          "symbol": "circle"
         },
         "mode": "lines",
         "name": "17Y124-6ZA",
         "showlegend": true,
         "type": "scattergl",
         "x": [
          "2024-01-01",
          "2024-02-01",
          "2024-03-01",
          "2024-04-01",
          "2024-05-01",
          "2024-06-01"
         ],
         "xaxis": "x",
         "y": [
          2.281868836228845,
          2.110639049484225,
          1.775232582570898,
          1.4137990180198834,
          2.379534406763491,
          3.2696716638125665
         ],
         "yaxis": "y"
        },
        {
         "hovertemplate": "friendly_id=17Y124-7-1<br>month=%{x}<br>kwh=%{y}<extra></extra>",
         "legendgroup": "17Y124-7-1",
         "line": {
          "color": "#FFA15A",
          "dash": "solid"
         },
         "marker": {
          "symbol": "circle"
         },
         "mode": "lines",
         "name": "17Y124-7-1",
         "showlegend": true,
         "type": "scattergl",
         "x": [
          "2024-01-01",
          "2024-02-01",
          "2024-03-01",
          "2024-04-01",
          "2024-05-01",
          "2024-06-01"
         ],
         "xaxis": "x",
         "y": [
          1.5865917589797383,
          1.466223116998716,
          1.4834281320473495,
          1.5221069758278107,
          1.8872650073092148,
          2.548591693513253
         ],
         "yaxis": "y"
        },
        {
         "hovertemplate": "friendly_id=17Y124-9<br>month=%{x}<br>kwh=%{y}<extra></extra>",
         "legendgroup": "17Y124-9",
         "line": {
          "color": "#19d3f3",
          "dash": "solid"
         },
         "marker": {
          "symbol": "circle"
         },
         "mode": "lines",
         "name": "17Y124-9",
         "showlegend": true,
         "type": "scattergl",
         "x": [
          "2024-01-01",
          "2024-02-01",
          "2024-03-01",
          "2024-04-01",
          "2024-05-01",
          "2024-06-01"
         ],
         "xaxis": "x",
         "y": [
          0.9634001761356987,
          0.8880541073592272,
          0.7882719466416676,
          0.8077367551267078,
          0.9968882797147008,
          1.3687342105817035
         ],
         "yaxis": "y"
        },
        {
         "hovertemplate": "friendly_id=17Y124-9ZA<br>month=%{x}<br>kwh=%{y}<extra></extra>",
         "legendgroup": "17Y124-9ZA",
         "line": {
          "color": "#FF6692",
          "dash": "solid"
         },
         "marker": {
          "symbol": "circle"
         },
         "mode": "lines",
         "name": "17Y124-9ZA",
         "showlegend": true,
         "type": "scattergl",
         "x": [
          "2024-01-01",
          "2024-02-01",
          "2024-03-01",
          "2024-04-01",
          "2024-05-01",
          "2024-06-01"
         ],
         "xaxis": "x",
         "y": [
          1.2098002582516887,
          1.0682505634765347,
          0.8620160011480428,
          1.0202357629246412,
          1.255048822960669,
          1.7124531363104352
         ],
         "yaxis": "y"
        },
        {
         "hovertemplate": "friendly_id=17Y125<br>month=%{x}<br>kwh=%{y}<extra></extra>",
         "legendgroup": "17Y125",
         "line": {
          "color": "#B6E880",
          "dash": "solid"
         },
         "marker": {
          "symbol": "circle"
         },
         "mode": "lines",
         "name": "17Y125",
         "showlegend": true,
         "type": "scattergl",
         "x": [
          "2024-01-01",
          "2024-02-01",
          "2024-03-01",
          "2024-04-01",
          "2024-05-01",
          "2024-06-01"
         ],
         "xaxis": "x",
         "y": [
          2.5495819338865493,
          2.3867699246952587,
          2.1173647149467074,
          2.169737939590582,
          2.6979430497068964,
          3.6855399678967435
         ],
         "yaxis": "y"
        },
        {
         "hovertemplate": "friendly_id=17Y126<br>month=%{x}<br>kwh=%{y}<extra></extra>",
         "legendgroup": "17Y126",
         "line": {
          "color": "#FF97FF",
          "dash": "solid"
         },
         "marker": {
          "symbol": "circle"
         },
         "mode": "lines",
         "name": "17Y126",
         "showlegend": true,
         "type": "scattergl",
         "x": [
          "2024-01-01",
          "2024-02-01",
          "2024-03-01",
          "2024-04-01",
          "2024-05-01",
          "2024-06-01"
         ],
         "xaxis": "x",
         "y": [
          1.3839611758686983,
          1.275891777418546,
          1.1427535659214403,
          1.0502197520394736,
          1.3409975998728079,
          1.7063349689881606
         ],
         "yaxis": "y"
        },
        {
         "hovertemplate": "friendly_id=17Y128-1<br>month=%{x}<br>kwh=%{y}<extra></extra>",
         "legendgroup": "17Y128-1",
         "line": {
          "color": "#FECB52",
          "dash": "solid"
         },
         "marker": {
          "symbol": "circle"
         },
         "mode": "lines",
         "name": "17Y128-1",
         "showlegend": true,
         "type": "scattergl",
         "x": [
          "2024-01-01",
          "2024-02-01",
          "2024-03-01",
          "2024-04-01",
          "2024-05-01",
          "2024-06-01"
         ],
         "xaxis": "x",
         "y": [
          1.6772240928970326,
          1.5607659193221708,
          1.3875988252162779,
          1.423311079050998,
          1.7590648014318073,
          2.4395006168060713
         ],
         "yaxis": "y"
        },
        {
         "hovertemplate": "friendly_id=17Y128-1ZA<br>month=%{x}<br>kwh=%{y}<extra></extra>",
         "legendgroup": "17Y128-1ZA",
         "line": {
          "color": "#636efa",
          "dash": "solid"
         },
         "marker": {
          "symbol": "circle"
         },
         "mode": "lines",
         "name": "17Y128-1ZA",
         "showlegend": true,
         "type": "scattergl",
         "x": [
          "2024-01-01",
          "2024-02-01",
          "2024-03-01",
          "2024-04-01",
          "2024-05-01",
          "2024-06-01"
         ],
         "xaxis": "x",
         "y": [
          1.0142958889613916,
          0.9358229376925723,
          0.7455641996464543,
          0.8341421987702892,
          1.0551026968250894,
          1.4466638333217716
         ],
         "yaxis": "y"
        },
        {
         "hovertemplate": "friendly_id=17Y129-2<br>month=%{x}<br>kwh=%{y}<extra></extra>",
         "legendgroup": "17Y129-2",
         "line": {
          "color": "#EF553B",
          "dash": "solid"
         },
         "marker": {
          "symbol": "circle"
         },
         "mode": "lines",
         "name": "17Y129-2",
         "showlegend": true,
         "type": "scattergl",
         "x": [
          "2024-01-01",
          "2024-02-01",
          "2024-03-01",
          "2024-04-01",
          "2024-05-01",
          "2024-06-01"
         ],
         "xaxis": "x",
         "y": [
          1.6096162725920617,
          1.480170157998338,
          1.321659651300489,
          1.346664347471486,
          1.5461770650553903,
          1.2947244798664406
         ],
         "yaxis": "y"
        },
        {
         "hovertemplate": "friendly_id=17Y129-4<br>month=%{x}<br>kwh=%{y}<extra></extra>",
         "legendgroup": "17Y129-4",
         "line": {
          "color": "#00cc96",
          "dash": "solid"
         },
         "marker": {
          "symbol": "circle"
         },
         "mode": "lines",
         "name": "17Y129-4",
         "showlegend": true,
         "type": "scattergl",
         "x": [
          "2024-01-01",
          "2024-02-01",
          "2024-03-01",
          "2024-04-01",
          "2024-05-01",
          "2024-06-01"
         ],
         "xaxis": "x",
         "y": [
          1.1762287669089928,
          1.0870075436061115,
          0.9653599614206908,
          0.9930950386500351,
          1.2241154351550962,
          1.7057436353523996
         ],
         "yaxis": "y"
        },
        {
         "hovertemplate": "friendly_id=17Y12B-1<br>month=%{x}<br>kwh=%{y}<extra></extra>",
         "legendgroup": "17Y12B-1",
         "line": {
          "color": "#ab63fa",
          "dash": "solid"
         },
         "marker": {
          "symbol": "circle"
         },
         "mode": "lines",
         "name": "17Y12B-1",
         "showlegend": true,
         "type": "scattergl",
         "x": [
          "2024-01-01",
          "2024-02-01",
          "2024-03-01",
          "2024-04-01",
          "2024-05-01",
          "2024-06-01"
         ],
         "xaxis": "x",
         "y": [
          1.2621445435420553,
          1.175762813977598,
          1.1633892082027653,
          1.2125671472648256,
          1.5172653888031684,
          2.0919874151819546
         ],
         "yaxis": "y"
        },
        {
         "hovertemplate": "friendly_id=17Y130<br>month=%{x}<br>kwh=%{y}<extra></extra>",
         "legendgroup": "17Y130",
         "line": {
          "color": "#FFA15A",
          "dash": "solid"
         },
         "marker": {
          "symbol": "circle"
         },
         "mode": "lines",
         "name": "17Y130",
         "showlegend": true,
         "type": "scattergl",
         "x": [
          "2024-01-01",
          "2024-02-01",
          "2024-03-01",
          "2024-04-01",
          "2024-05-01",
          "2024-06-01"
         ],
         "xaxis": "x",
         "y": [
          2.0325152152368533,
          1.8795931854390604,
          1.6692937838048716,
          1.7138605811092065,
          2.0969545458203513,
          2.917233777790368
         ],
         "yaxis": "y"
        },
        {
         "hovertemplate": "friendly_id=17Y132<br>month=%{x}<br>kwh=%{y}<extra></extra>",
         "legendgroup": "17Y132",
         "line": {
          "color": "#19d3f3",
          "dash": "solid"
         },
         "marker": {
          "symbol": "circle"
         },
         "mode": "lines",
         "name": "17Y132",
         "showlegend": true,
         "type": "scattergl",
         "x": [
          "2024-01-01",
          "2024-02-01",
          "2024-03-01",
          "2024-04-01",
          "2024-05-01",
          "2024-06-01"
         ],
         "xaxis": "x",
         "y": [
          2.3465836094916455,
          2.1731035871695843,
          1.9301779399541474,
          1.9714155684070032,
          2.4206514971040316,
          3.3397287110858263
         ],
         "yaxis": "y"
        },
        {
         "hovertemplate": "friendly_id=17Y132-1<br>month=%{x}<br>kwh=%{y}<extra></extra>",
         "legendgroup": "17Y132-1",
         "line": {
          "color": "#FF6692",
          "dash": "solid"
         },
         "marker": {
          "symbol": "circle"
         },
         "mode": "lines",
         "name": "17Y132-1",
         "showlegend": true,
         "type": "scattergl",
         "x": [
          "2024-01-01",
          "2024-02-01",
          "2024-03-01",
          "2024-04-01",
          "2024-05-01",
          "2024-06-01"
         ],
         "xaxis": "x",
         "y": [
          1.2314024752707817,
          1.1470029114719564,
          1.0160543342815205,
          1.0450901674101185,
          1.104836447591155,
          1.7319196442417315
         ],
         "yaxis": "y"
        },
        {
         "hovertemplate": "friendly_id=17Y134<br>month=%{x}<br>kwh=%{y}<extra></extra>",
         "legendgroup": "17Y134",
         "line": {
          "color": "#B6E880",
          "dash": "solid"
         },
         "marker": {
          "symbol": "circle"
         },
         "mode": "lines",
         "name": "17Y134",
         "showlegend": true,
         "type": "scattergl",
         "x": [
          "2024-01-01",
          "2024-02-01",
          "2024-03-01",
          "2024-04-01",
          "2024-05-01",
          "2024-06-01"
         ],
         "xaxis": "x",
         "y": [
          0.9816185353028243,
          0.9320098518935913,
          0.8140182932241484,
          0.8328099971177968,
          0.989324150637319,
          1.3705637246037186
         ],
         "yaxis": "y"
        },
        {
         "hovertemplate": "friendly_id=17Y135-1<br>month=%{x}<br>kwh=%{y}<extra></extra>",
         "legendgroup": "17Y135-1",
         "line": {
          "color": "#FF97FF",
          "dash": "solid"
         },
         "marker": {
          "symbol": "circle"
         },
         "mode": "lines",
         "name": "17Y135-1",
         "showlegend": true,
         "type": "scattergl",
         "x": [
          "2024-01-01",
          "2024-02-01",
          "2024-03-01",
          "2024-04-01",
          "2024-05-01",
          "2024-06-01"
         ],
         "xaxis": "x",
         "y": [
          1.471989011581019,
          1.3902102080354062,
          1.2054668019115655,
          1.2470855343825198,
          1.549402078281762,
          2.089422768842877
         ],
         "yaxis": "y"
        },
        {
         "hovertemplate": "friendly_id=17Y136<br>month=%{x}<br>kwh=%{y}<extra></extra>",
         "legendgroup": "17Y136",
         "line": {
          "color": "#FECB52",
          "dash": "solid"
         },
         "marker": {
          "symbol": "circle"
         },
         "mode": "lines",
         "name": "17Y136",
         "showlegend": true,
         "type": "scattergl",
         "x": [
          "2024-01-01",
          "2024-02-01",
          "2024-03-01",
          "2024-04-01",
          "2024-05-01",
          "2024-06-01"
         ],
         "xaxis": "x",
         "y": [
          1.3825281226636028,
          1.2385880423247992,
          1.1476080703066462,
          1.181952636583311,
          1.4647594377381925,
          2.0051270638469516
         ],
         "yaxis": "y"
        },
        {
         "hovertemplate": "friendly_id=17Y137-1<br>month=%{x}<br>kwh=%{y}<extra></extra>",
         "legendgroup": "17Y137-1",
         "line": {
          "color": "#636efa",
          "dash": "solid"
         },
         "marker": {
          "symbol": "circle"
         },
         "mode": "lines",
         "name": "17Y137-1",
         "showlegend": true,
         "type": "scattergl",
         "x": [
          "2024-01-01",
          "2024-02-01",
          "2024-03-01",
          "2024-04-01",
          "2024-05-01",
          "2024-06-01"
         ],
         "xaxis": "x",
         "y": [
          1.5954870559977525,
          1.5169856133010156,
          1.3114623989944871,
          1.3601671474065546,
          1.6800818614352877,
          2.293777302491117
         ],
         "yaxis": "y"
        },
        {
         "hovertemplate": "friendly_id=17Y138<br>month=%{x}<br>kwh=%{y}<extra></extra>",
         "legendgroup": "17Y138",
         "line": {
          "color": "#EF553B",
          "dash": "solid"
         },
         "marker": {
          "symbol": "circle"
         },
         "mode": "lines",
         "name": "17Y138",
         "showlegend": true,
         "type": "scattergl",
         "x": [
          "2024-01-01",
          "2024-02-01",
          "2024-03-01",
          "2024-04-01",
          "2024-05-01",
          "2024-06-01"
         ],
         "xaxis": "x",
         "y": [
          1.0551180153119168,
          1.0037605263402714,
          0.8687638940287863,
          0.8957248101029295,
          1.0174033786603325,
          1.5386729866390632
         ],
         "yaxis": "y"
        },
        {
         "hovertemplate": "friendly_id=17Y142-1<br>month=%{x}<br>kwh=%{y}<extra></extra>",
         "legendgroup": "17Y142-1",
         "line": {
          "color": "#00cc96",
          "dash": "solid"
         },
         "marker": {
          "symbol": "circle"
         },
         "mode": "lines",
         "name": "17Y142-1",
         "showlegend": true,
         "type": "scattergl",
         "x": [
          "2024-01-01",
          "2024-02-01",
          "2024-03-01",
          "2024-04-01",
          "2024-05-01",
          "2024-06-01"
         ],
         "xaxis": "x",
         "y": [
          0.9878867942662205,
          0.9450733731466753,
          0.8125812126497084,
          0.8447791888457914,
          1.052312111600548,
          1.4473196487644735
         ],
         "yaxis": "y"
        },
        {
         "hovertemplate": "friendly_id=17Y145-1<br>month=%{x}<br>kwh=%{y}<extra></extra>",
         "legendgroup": "17Y145-1",
         "line": {
          "color": "#ab63fa",
          "dash": "solid"
         },
         "marker": {
          "symbol": "circle"
         },
         "mode": "lines",
         "name": "17Y145-1",
         "showlegend": true,
         "type": "scattergl",
         "x": [
          "2024-01-01",
          "2024-02-01",
          "2024-03-01",
          "2024-04-01",
          "2024-05-01",
          "2024-06-01"
         ],
         "xaxis": "x",
         "y": [
          1.2494519771468067,
          1.3221813559603224,
          1.133785250639731,
          1.0189941456184783,
          1.3826832302585563,
          1.9508908448435198
         ],
         "yaxis": "y"
        },
        {
         "hovertemplate": "friendly_id=17Y145-1ZA<br>month=%{x}<br>kwh=%{y}<extra></extra>",
         "legendgroup": "17Y145-1ZA",
         "line": {
          "color": "#FFA15A",
          "dash": "solid"
         },
         "marker": {
          "symbol": "circle"
         },
         "mode": "lines",
         "name": "17Y145-1ZA",
         "showlegend": true,
         "type": "scattergl",
         "x": [
          "2024-01-01",
          "2024-02-01",
          "2024-03-01",
          "2024-04-01",
          "2024-05-01",
          "2024-06-01"
         ],
         "xaxis": "x",
         "y": [
          2.180855346121196,
          2.0773000406223274,
          1.7348344814708914,
          1.857160380490971,
          1.9002140651326247,
          3.154431639035781
         ],
         "yaxis": "y"
        },
        {
         "hovertemplate": "friendly_id=17Y146<br>month=%{x}<br>kwh=%{y}<extra></extra>",
         "legendgroup": "17Y146",
         "line": {
          "color": "#19d3f3",
          "dash": "solid"
         },
         "marker": {
          "symbol": "circle"
         },
         "mode": "lines",
         "name": "17Y146",
         "showlegend": true,
         "type": "scattergl",
         "x": [
          "2024-01-01",
          "2024-02-01",
          "2024-03-01",
          "2024-04-01",
          "2024-05-01",
          "2024-06-01"
         ],
         "xaxis": "x",
         "y": [
          2.1330497313525156,
          1.7536302995241337,
          1.8170518088080365,
          1.8794373156222122,
          2.1092405382611696,
          2.139675432986206
         ],
         "yaxis": "y"
        },
        {
         "hovertemplate": "friendly_id=17Y15-1<br>month=%{x}<br>kwh=%{y}<extra></extra>",
         "legendgroup": "17Y15-1",
         "line": {
          "color": "#FF6692",
          "dash": "solid"
         },
         "marker": {
          "symbol": "circle"
         },
         "mode": "lines",
         "name": "17Y15-1",
         "showlegend": true,
         "type": "scattergl",
         "x": [
          "2024-01-01",
          "2024-02-01",
          "2024-03-01",
          "2024-04-01",
          "2024-05-01",
          "2024-06-01"
         ],
         "xaxis": "x",
         "y": [
          1.4123429687158504,
          1.3169430907964368,
          1.157954214656345,
          1.2023057764664706,
          1.5163805265471768,
          1.7419511361787083
         ],
         "yaxis": "y"
        },
        {
         "hovertemplate": "friendly_id=17Y15-1ZA<br>month=%{x}<br>kwh=%{y}<extra></extra>",
         "legendgroup": "17Y15-1ZA",
         "line": {
          "color": "#B6E880",
          "dash": "solid"
         },
         "marker": {
          "symbol": "circle"
         },
         "mode": "lines",
         "name": "17Y15-1ZA",
         "showlegend": true,
         "type": "scattergl",
         "x": [
          "2024-01-01",
          "2024-02-01",
          "2024-03-01",
          "2024-04-01",
          "2024-05-01",
          "2024-06-01"
         ],
         "xaxis": "x",
         "y": [
          1.3882991903849577,
          1.2916097179385613,
          1.141419677163852,
          1.1836406135837416,
          1.2204990831444507,
          2.0355015141817234
         ],
         "yaxis": "y"
        },
        {
         "hovertemplate": "friendly_id=17Y15-1ZB<br>month=%{x}<br>kwh=%{y}<extra></extra>",
         "legendgroup": "17Y15-1ZB",
         "line": {
          "color": "#FF97FF",
          "dash": "solid"
         },
         "marker": {
          "symbol": "circle"
         },
         "mode": "lines",
         "name": "17Y15-1ZB",
         "showlegend": true,
         "type": "scattergl",
         "x": [
          "2024-01-01",
          "2024-02-01",
          "2024-03-01",
          "2024-04-01",
          "2024-05-01",
          "2024-06-01"
         ],
         "xaxis": "x",
         "y": [
          1.3381697512144441,
          1.2462136533445325,
          1.034578430403067,
          1.0740378236535293,
          1.4252082732923865,
          1.9836956026999812
         ],
         "yaxis": "y"
        },
        {
         "hovertemplate": "friendly_id=17Y15-X<br>month=%{x}<br>kwh=%{y}<extra></extra>",
         "legendgroup": "17Y15-X",
         "line": {
          "color": "#FECB52",
          "dash": "solid"
         },
         "marker": {
          "symbol": "circle"
         },
         "mode": "lines",
         "name": "17Y15-X",
         "showlegend": true,
         "type": "scattergl",
         "x": [
          "2024-01-01",
          "2024-02-01",
          "2024-03-01",
          "2024-04-01",
          "2024-05-01",
          "2024-06-01"
         ],
         "xaxis": "x",
         "y": [
          2.0653547548712825,
          1.9360548405204805,
          1.6934279464419573,
          1.7298145650546835,
          2.1725187553233853,
          3.0241930971294684
         ],
         "yaxis": "y"
        },
        {
         "hovertemplate": "friendly_id=17Y15-X-ZB<br>month=%{x}<br>kwh=%{y}<extra></extra>",
         "legendgroup": "17Y15-X-ZB",
         "line": {
          "color": "#636efa",
          "dash": "solid"
         },
         "marker": {
          "symbol": "circle"
         },
         "mode": "lines",
         "name": "17Y15-X-ZB",
         "showlegend": true,
         "type": "scattergl",
         "x": [
          "2024-01-01",
          "2024-02-01",
          "2024-03-01",
          "2024-04-01",
          "2024-05-01",
          "2024-06-01"
         ],
         "xaxis": "x",
         "y": [
          0.49429888015204565,
          0.468521228229393,
          0.41286314359298776,
          0.4221061093894421,
          0.5297318255897057,
          0.7445720922339116
         ],
         "yaxis": "y"
        },
        {
         "hovertemplate": "friendly_id=17Y15-XZA<br>month=%{x}<br>kwh=%{y}<extra></extra>",
         "legendgroup": "17Y15-XZA",
         "line": {
          "color": "#EF553B",
          "dash": "solid"
         },
         "marker": {
          "symbol": "circle"
         },
         "mode": "lines",
         "name": "17Y15-XZA",
         "showlegend": true,
         "type": "scattergl",
         "x": [
          "2024-01-01",
          "2024-02-01",
          "2024-03-01",
          "2024-04-01",
          "2024-05-01",
          "2024-06-01"
         ],
         "xaxis": "x",
         "y": [
          0.8966517607607422,
          1.005051416734495,
          0.8754591931101691,
          0.9083567464808382,
          1.1310139642045411,
          1.5838256549819028
         ],
         "yaxis": "y"
        },
        {
         "hovertemplate": "friendly_id=17Y151<br>month=%{x}<br>kwh=%{y}<extra></extra>",
         "legendgroup": "17Y151",
         "line": {
          "color": "#00cc96",
          "dash": "solid"
         },
         "marker": {
          "symbol": "circle"
         },
         "mode": "lines",
         "name": "17Y151",
         "showlegend": true,
         "type": "scattergl",
         "x": [
          "2024-01-01",
          "2024-02-01",
          "2024-03-01",
          "2024-04-01",
          "2024-05-01",
          "2024-06-01"
         ],
         "xaxis": "x",
         "y": [
          1.4039464806453807,
          1.404119270647729,
          1.2141356747278416,
          1.246067539716694,
          1.560885330947093,
          2.098252198552413
         ],
         "yaxis": "y"
        },
        {
         "hovertemplate": "friendly_id=17Y153<br>month=%{x}<br>kwh=%{y}<extra></extra>",
         "legendgroup": "17Y153",
         "line": {
          "color": "#ab63fa",
          "dash": "solid"
         },
         "marker": {
          "symbol": "circle"
         },
         "mode": "lines",
         "name": "17Y153",
         "showlegend": true,
         "type": "scattergl",
         "x": [
          "2024-01-01",
          "2024-02-01",
          "2024-03-01",
          "2024-04-01",
          "2024-05-01",
          "2024-06-01"
         ],
         "xaxis": "x",
         "y": [
          1.1595401766953646,
          1.116524947722914,
          0.9686376154388852,
          0.9905234702622081,
          1.214597391809142,
          1.7001102458018311
         ],
         "yaxis": "y"
        },
        {
         "hovertemplate": "friendly_id=17Y155<br>month=%{x}<br>kwh=%{y}<extra></extra>",
         "legendgroup": "17Y155",
         "line": {
          "color": "#FFA15A",
          "dash": "solid"
         },
         "marker": {
          "symbol": "circle"
         },
         "mode": "lines",
         "name": "17Y155",
         "showlegend": true,
         "type": "scattergl",
         "x": [
          "2024-01-01",
          "2024-02-01",
          "2024-03-01",
          "2024-04-01",
          "2024-05-01",
          "2024-06-01"
         ],
         "xaxis": "x",
         "y": [
          1.4410438112366313,
          1.386205584996244,
          1.1950000375580854,
          1.238573836101708,
          1.5355030984795017,
          2.0700350589281444
         ],
         "yaxis": "y"
        },
        {
         "hovertemplate": "friendly_id=17Y157-1<br>month=%{x}<br>kwh=%{y}<extra></extra>",
         "legendgroup": "17Y157-1",
         "line": {
          "color": "#19d3f3",
          "dash": "solid"
         },
         "marker": {
          "symbol": "circle"
         },
         "mode": "lines",
         "name": "17Y157-1",
         "showlegend": true,
         "type": "scattergl",
         "x": [
          "2024-01-01",
          "2024-02-01",
          "2024-03-01",
          "2024-04-01",
          "2024-05-01",
          "2024-06-01"
         ],
         "xaxis": "x",
         "y": [
          1.5596633446166828,
          1.5059974524970643,
          1.291492199740835,
          1.3291419413716345,
          1.6496507737924297,
          2.2749758888697373
         ],
         "yaxis": "y"
        },
        {
         "hovertemplate": "friendly_id=17Y160-5<br>month=%{x}<br>kwh=%{y}<extra></extra>",
         "legendgroup": "17Y160-5",
         "line": {
          "color": "#FF6692",
          "dash": "solid"
         },
         "marker": {
          "symbol": "circle"
         },
         "mode": "lines",
         "name": "17Y160-5",
         "showlegend": true,
         "type": "scattergl",
         "x": [
          "2024-01-01",
          "2024-02-01",
          "2024-03-01",
          "2024-04-01",
          "2024-05-01",
          "2024-06-01"
         ],
         "xaxis": "x",
         "y": [
          2.0443410270422153,
          1.940156473869024,
          1.6768408630946978,
          1.7419703980025707,
          2.1768266901127475,
          2.9062414073421112
         ],
         "yaxis": "y"
        },
        {
         "hovertemplate": "friendly_id=17Y160-B-1<br>month=%{x}<br>kwh=%{y}<extra></extra>",
         "legendgroup": "17Y160-B-1",
         "line": {
          "color": "#B6E880",
          "dash": "solid"
         },
         "marker": {
          "symbol": "circle"
         },
         "mode": "lines",
         "name": "17Y160-B-1",
         "showlegend": true,
         "type": "scattergl",
         "x": [
          "2024-01-01",
          "2024-02-01",
          "2024-03-01",
          "2024-04-01",
          "2024-05-01",
          "2024-06-01"
         ],
         "xaxis": "x",
         "y": [
          1.0592612420089245,
          1.0043326536715746,
          0.8739974529006681,
          0.9074560177085671,
          1.1127942449949606,
          1.5186570334006377
         ],
         "yaxis": "y"
        },
        {
         "hovertemplate": "friendly_id=17Y160-B-1-3A<br>month=%{x}<br>kwh=%{y}<extra></extra>",
         "legendgroup": "17Y160-B-1-3A",
         "line": {
          "color": "#FF97FF",
          "dash": "solid"
         },
         "marker": {
          "symbol": "circle"
         },
         "mode": "lines",
         "name": "17Y160-B-1-3A",
         "showlegend": true,
         "type": "scattergl",
         "x": [
          "2024-01-01",
          "2024-02-01",
          "2024-03-01",
          "2024-04-01",
          "2024-05-01",
          "2024-06-01"
         ],
         "xaxis": "x",
         "y": [
          0.885931826636868,
          0.7881390850708208,
          0.7241367590113056,
          0.7511355546510442,
          0.9318175302953335,
          1.268353287174097
         ],
         "yaxis": "y"
        },
        {
         "hovertemplate": "friendly_id=17Y160CZA<br>month=%{x}<br>kwh=%{y}<extra></extra>",
         "legendgroup": "17Y160CZA",
         "line": {
          "color": "#FECB52",
          "dash": "solid"
         },
         "marker": {
          "symbol": "circle"
         },
         "mode": "lines",
         "name": "17Y160CZA",
         "showlegend": true,
         "type": "scattergl",
         "x": [
          "2024-01-01",
          "2024-02-01",
          "2024-03-01",
          "2024-04-01",
          "2024-05-01",
          "2024-06-01"
         ],
         "xaxis": "x",
         "y": [
          0.7646323340055126,
          0.7267406415430049,
          0.6318421320588924,
          0.6552896322420209,
          0.8017422593557828,
          1.1068488375168546
         ],
         "yaxis": "y"
        },
        {
         "hovertemplate": "friendly_id=17Y161-1<br>month=%{x}<br>kwh=%{y}<extra></extra>",
         "legendgroup": "17Y161-1",
         "line": {
          "color": "#636efa",
          "dash": "solid"
         },
         "marker": {
          "symbol": "circle"
         },
         "mode": "lines",
         "name": "17Y161-1",
         "showlegend": true,
         "type": "scattergl",
         "x": [
          "2024-01-01",
          "2024-02-01",
          "2024-03-01",
          "2024-04-01",
          "2024-05-01",
          "2024-06-01"
         ],
         "xaxis": "x",
         "y": [
          0.9693036343305603,
          0.9284267483092883,
          0.8038624627420016,
          0.7604632219457964,
          1.0212434323791084,
          1.4029487537550516
         ],
         "yaxis": "y"
        },
        {
         "hovertemplate": "friendly_id=17Y163-2<br>month=%{x}<br>kwh=%{y}<extra></extra>",
         "legendgroup": "17Y163-2",
         "line": {
          "color": "#EF553B",
          "dash": "solid"
         },
         "marker": {
          "symbol": "circle"
         },
         "mode": "lines",
         "name": "17Y163-2",
         "showlegend": true,
         "type": "scattergl",
         "x": [
          "2024-01-01",
          "2024-02-01",
          "2024-03-01",
          "2024-04-01",
          "2024-05-01",
          "2024-06-01"
         ],
         "xaxis": "x",
         "y": [
          1.3079235666164375,
          1.2330071694172344,
          1.0408706855501904,
          1.1069168947302261,
          1.358856889985859,
          1.8586141781593708
         ],
         "yaxis": "y"
        },
        {
         "hovertemplate": "friendly_id=17Y163-B<br>month=%{x}<br>kwh=%{y}<extra></extra>",
         "legendgroup": "17Y163-B",
         "line": {
          "color": "#00cc96",
          "dash": "solid"
         },
         "marker": {
          "symbol": "circle"
         },
         "mode": "lines",
         "name": "17Y163-B",
         "showlegend": true,
         "type": "scattergl",
         "x": [
          "2024-01-01",
          "2024-02-01",
          "2024-03-01",
          "2024-04-01",
          "2024-05-01",
          "2024-06-01"
         ],
         "xaxis": "x",
         "y": [
          0.7299402325174337,
          0.7150544806315055,
          0.6259360780333842,
          0.6446505353445434,
          0.7969982414195763,
          1.0983899378498225
         ],
         "yaxis": "y"
        },
        {
         "hovertemplate": "friendly_id=17Y166X<br>month=%{x}<br>kwh=%{y}<extra></extra>",
         "legendgroup": "17Y166X",
         "line": {
          "color": "#ab63fa",
          "dash": "solid"
         },
         "marker": {
          "symbol": "circle"
         },
         "mode": "lines",
         "name": "17Y166X",
         "showlegend": true,
         "type": "scattergl",
         "x": [
          "2024-01-01",
          "2024-02-01",
          "2024-03-01",
          "2024-04-01",
          "2024-05-01",
          "2024-06-01"
         ],
         "xaxis": "x",
         "y": [
          1.6942661350442547,
          1.6102872400611588,
          1.3867475120672128,
          1.43884324025744,
          1.7414320370329142,
          2.429299341044137
         ],
         "yaxis": "y"
        },
        {
         "hovertemplate": "friendly_id=17Y169<br>month=%{x}<br>kwh=%{y}<extra></extra>",
         "legendgroup": "17Y169",
         "line": {
          "color": "#FFA15A",
          "dash": "solid"
         },
         "marker": {
          "symbol": "circle"
         },
         "mode": "lines",
         "name": "17Y169",
         "showlegend": true,
         "type": "scattergl",
         "x": [
          "2024-01-01",
          "2024-02-01",
          "2024-03-01",
          "2024-04-01",
          "2024-05-01",
          "2024-06-01"
         ],
         "xaxis": "x",
         "y": [
          1.5647861169434876,
          1.516281929022581,
          1.3054574131693848,
          1.3476084233759928,
          1.6712094051809605,
          1.7425088369801751
         ],
         "yaxis": "y"
        },
        {
         "hovertemplate": "friendly_id=17Y169ZA<br>month=%{x}<br>kwh=%{y}<extra></extra>",
         "legendgroup": "17Y169ZA",
         "line": {
          "color": "#19d3f3",
          "dash": "solid"
         },
         "marker": {
          "symbol": "circle"
         },
         "mode": "lines",
         "name": "17Y169ZA",
         "showlegend": true,
         "type": "scattergl",
         "x": [
          "2024-01-01",
          "2024-02-01",
          "2024-03-01",
          "2024-04-01",
          "2024-05-01",
          "2024-06-01"
         ],
         "xaxis": "x",
         "y": [
          1.8388451509816726,
          1.7636016466673234,
          1.5259610457153852,
          1.574150516201375,
          1.9617316313823467,
          2.651358036768935
         ],
         "yaxis": "y"
        },
        {
         "hovertemplate": "friendly_id=17Y172X<br>month=%{x}<br>kwh=%{y}<extra></extra>",
         "legendgroup": "17Y172X",
         "line": {
          "color": "#FF6692",
          "dash": "solid"
         },
         "marker": {
          "symbol": "circle"
         },
         "mode": "lines",
         "name": "17Y172X",
         "showlegend": true,
         "type": "scattergl",
         "x": [
          "2024-01-01",
          "2024-02-01",
          "2024-03-01",
          "2024-04-01",
          "2024-05-01",
          "2024-06-01"
         ],
         "xaxis": "x",
         "y": [
          3.485771071871145,
          3.440592511005587,
          3.346926298960638,
          3.351571611111983,
          3.52056665104602,
          3.878146913352766
         ],
         "yaxis": "y"
        },
        {
         "hovertemplate": "friendly_id=17Y175<br>month=%{x}<br>kwh=%{y}<extra></extra>",
         "legendgroup": "17Y175",
         "line": {
          "color": "#B6E880",
          "dash": "solid"
         },
         "marker": {
          "symbol": "circle"
         },
         "mode": "lines",
         "name": "17Y175",
         "showlegend": true,
         "type": "scattergl",
         "x": [
          "2024-01-01",
          "2024-02-01",
          "2024-03-01",
          "2024-04-01",
          "2024-05-01",
          "2024-06-01"
         ],
         "xaxis": "x",
         "y": [
          1.3412305173986017,
          1.2857377863061834,
          1.1089292187518538,
          1.1442441404907093,
          1.398901620175534,
          1.7499457228719568
         ],
         "yaxis": "y"
        },
        {
         "hovertemplate": "friendly_id=17Y177<br>month=%{x}<br>kwh=%{y}<extra></extra>",
         "legendgroup": "17Y177",
         "line": {
          "color": "#FF97FF",
          "dash": "solid"
         },
         "marker": {
          "symbol": "circle"
         },
         "mode": "lines",
         "name": "17Y177",
         "showlegend": true,
         "type": "scattergl",
         "x": [
          "2024-01-01",
          "2024-02-01",
          "2024-03-01",
          "2024-04-01",
          "2024-05-01",
          "2024-06-01"
         ],
         "xaxis": "x",
         "y": [
          1.8946810766416662,
          1.5447477661492017,
          1.558996989971808,
          1.6049568477880989,
          1.979226141736865,
          2.767021422350781
         ],
         "yaxis": "y"
        },
        {
         "hovertemplate": "friendly_id=17Y18-2<br>month=%{x}<br>kwh=%{y}<extra></extra>",
         "legendgroup": "17Y18-2",
         "line": {
          "color": "#FECB52",
          "dash": "solid"
         },
         "marker": {
          "symbol": "circle"
         },
         "mode": "lines",
         "name": "17Y18-2",
         "showlegend": true,
         "type": "scattergl",
         "x": [
          "2024-01-01",
          "2024-02-01",
          "2024-03-01",
          "2024-04-01",
          "2024-05-01",
          "2024-06-01"
         ],
         "xaxis": "x",
         "y": [
          1.0521726541609198,
          0.9877530765195055,
          0.8673995968545497,
          0.8885698847931489,
          1.1176468256256493,
          1.5673309635141253
         ],
         "yaxis": "y"
        },
        {
         "hovertemplate": "friendly_id=17Y18-2ZA<br>month=%{x}<br>kwh=%{y}<extra></extra>",
         "legendgroup": "17Y18-2ZA",
         "line": {
          "color": "#636efa",
          "dash": "solid"
         },
         "marker": {
          "symbol": "circle"
         },
         "mode": "lines",
         "name": "17Y18-2ZA",
         "showlegend": true,
         "type": "scattergl",
         "x": [
          "2024-01-01",
          "2024-02-01",
          "2024-03-01",
          "2024-04-01",
          "2024-05-01",
          "2024-06-01"
         ],
         "xaxis": "x",
         "y": [
          2.2194474417532706,
          1.891003094698945,
          1.8507958784680356,
          1.880898887711719,
          2.3707219039625653,
          3.329622386373698
         ],
         "yaxis": "y"
        },
        {
         "hovertemplate": "friendly_id=17Y18-3ZA<br>month=%{x}<br>kwh=%{y}<extra></extra>",
         "legendgroup": "17Y18-3ZA",
         "line": {
          "color": "#EF553B",
          "dash": "solid"
         },
         "marker": {
          "symbol": "circle"
         },
         "mode": "lines",
         "name": "17Y18-3ZA",
         "showlegend": true,
         "type": "scattergl",
         "x": [
          "2024-01-01",
          "2024-02-01",
          "2024-03-01",
          "2024-04-01",
          "2024-05-01",
          "2024-06-01"
         ],
         "xaxis": "x",
         "y": [
          1.3968580187396338,
          1.3169445817886862,
          1.1576105183867598,
          1.184890091299082,
          1.2800902817922066,
          2.0383136349830426
         ],
         "yaxis": "y"
        },
        {
         "hovertemplate": "friendly_id=17Y22-1-1<br>month=%{x}<br>kwh=%{y}<extra></extra>",
         "legendgroup": "17Y22-1-1",
         "line": {
          "color": "#00cc96",
          "dash": "solid"
         },
         "marker": {
          "symbol": "circle"
         },
         "mode": "lines",
         "name": "17Y22-1-1",
         "showlegend": true,
         "type": "scattergl",
         "x": [
          "2024-01-01",
          "2024-02-01",
          "2024-03-01",
          "2024-04-01",
          "2024-05-01",
          "2024-06-01"
         ],
         "xaxis": "x",
         "y": [
          1.32382409527117,
          1.2544773582047992,
          1.0947027485039096,
          1.134347287224705,
          1.4142461870394005,
          1.4593804419197738
         ],
         "yaxis": "y"
        },
        {
         "hovertemplate": "friendly_id=17Y23-1-1<br>month=%{x}<br>kwh=%{y}<extra></extra>",
         "legendgroup": "17Y23-1-1",
         "line": {
          "color": "#ab63fa",
          "dash": "solid"
         },
         "marker": {
          "symbol": "circle"
         },
         "mode": "lines",
         "name": "17Y23-1-1",
         "showlegend": true,
         "type": "scattergl",
         "x": [
          "2024-01-01",
          "2024-02-01",
          "2024-03-01",
          "2024-04-01",
          "2024-05-01",
          "2024-06-01"
         ],
         "xaxis": "x",
         "y": [
          1.7833187885849935,
          1.6875859331224017,
          1.4910898710814582,
          1.5207840212064456,
          1.9139011023708814,
          2.630004188850223
         ],
         "yaxis": "y"
        },
        {
         "hovertemplate": "friendly_id=17Y23-3<br>month=%{x}<br>kwh=%{y}<extra></extra>",
         "legendgroup": "17Y23-3",
         "line": {
          "color": "#FFA15A",
          "dash": "solid"
         },
         "marker": {
          "symbol": "circle"
         },
         "mode": "lines",
         "name": "17Y23-3",
         "showlegend": true,
         "type": "scattergl",
         "x": [
          "2024-01-01",
          "2024-02-01",
          "2024-03-01",
          "2024-04-01",
          "2024-05-01",
          "2024-06-01"
         ],
         "xaxis": "x",
         "y": [
          2.305643415456096,
          2.165656676159573,
          1.906203594249909,
          1.751945672416104,
          2.46755002095279,
          3.4862113311199963
         ],
         "yaxis": "y"
        },
        {
         "hovertemplate": "friendly_id=17Y23-7<br>month=%{x}<br>kwh=%{y}<extra></extra>",
         "legendgroup": "17Y23-7",
         "line": {
          "color": "#19d3f3",
          "dash": "solid"
         },
         "marker": {
          "symbol": "circle"
         },
         "mode": "lines",
         "name": "17Y23-7",
         "showlegend": true,
         "type": "scattergl",
         "x": [
          "2024-01-01",
          "2024-02-01",
          "2024-03-01",
          "2024-04-01",
          "2024-05-01",
          "2024-06-01"
         ],
         "xaxis": "x",
         "y": [
          1.2848707795728074,
          1.2097788767957154,
          0.9350531567639925,
          1.0929281727781957,
          1.3907848785848493,
          1.905303653387623
         ],
         "yaxis": "y"
        },
        {
         "hovertemplate": "friendly_id=17Y3<br>month=%{x}<br>kwh=%{y}<extra></extra>",
         "legendgroup": "17Y3",
         "line": {
          "color": "#FF6692",
          "dash": "solid"
         },
         "marker": {
          "symbol": "circle"
         },
         "mode": "lines",
         "name": "17Y3",
         "showlegend": true,
         "type": "scattergl",
         "x": [
          "2024-01-01",
          "2024-02-01",
          "2024-03-01",
          "2024-04-01",
          "2024-05-01",
          "2024-06-01"
         ],
         "xaxis": "x",
         "y": [
          1.6961630045722327,
          1.5790145088814165,
          1.3905225759506548,
          1.4281969535173045,
          1.7856666660450509,
          2.518785510730861
         ],
         "yaxis": "y"
        },
        {
         "hovertemplate": "friendly_id=17Y30-3<br>month=%{x}<br>kwh=%{y}<extra></extra>",
         "legendgroup": "17Y30-3",
         "line": {
          "color": "#B6E880",
          "dash": "solid"
         },
         "marker": {
          "symbol": "circle"
         },
         "mode": "lines",
         "name": "17Y30-3",
         "showlegend": true,
         "type": "scattergl",
         "x": [
          "2024-01-01",
          "2024-02-01",
          "2024-03-01",
          "2024-04-01",
          "2024-05-01",
          "2024-06-01"
         ],
         "xaxis": "x",
         "y": [
          0.8202187811012092,
          0.7701352648596084,
          0.6686505037478302,
          0.7006927482662579,
          0.8728490478092552,
          1.225044970081341
         ],
         "yaxis": "y"
        },
        {
         "hovertemplate": "friendly_id=17Y34-4-1<br>month=%{x}<br>kwh=%{y}<extra></extra>",
         "legendgroup": "17Y34-4-1",
         "line": {
          "color": "#FF97FF",
          "dash": "solid"
         },
         "marker": {
          "symbol": "circle"
         },
         "mode": "lines",
         "name": "17Y34-4-1",
         "showlegend": true,
         "type": "scattergl",
         "x": [
          "2024-01-01",
          "2024-02-01",
          "2024-03-01",
          "2024-04-01",
          "2024-05-01",
          "2024-06-01"
         ],
         "xaxis": "x",
         "y": [
          1.4567253270865554,
          1.3668632318621856,
          1.164066261908681,
          1.2464156178031336,
          1.5692940196596568,
          2.1560940730563507
         ],
         "yaxis": "y"
        },
        {
         "hovertemplate": "friendly_id=17Y34-B<br>month=%{x}<br>kwh=%{y}<extra></extra>",
         "legendgroup": "17Y34-B",
         "line": {
          "color": "#FECB52",
          "dash": "solid"
         },
         "marker": {
          "symbol": "circle"
         },
         "mode": "lines",
         "name": "17Y34-B",
         "showlegend": true,
         "type": "scattergl",
         "x": [
          "2024-01-01",
          "2024-02-01",
          "2024-03-01",
          "2024-04-01",
          "2024-05-01",
          "2024-06-01"
         ],
         "xaxis": "x",
         "y": [
          2.095482046584642,
          2.4036667000542398,
          2.1135869604492976,
          2.194880036254496,
          2.7326918303954293,
          3.8138140906117317
         ],
         "yaxis": "y"
        },
        {
         "hovertemplate": "friendly_id=17Y41-D<br>month=%{x}<br>kwh=%{y}<extra></extra>",
         "legendgroup": "17Y41-D",
         "line": {
          "color": "#636efa",
          "dash": "solid"
         },
         "marker": {
          "symbol": "circle"
         },
         "mode": "lines",
         "name": "17Y41-D",
         "showlegend": true,
         "type": "scattergl",
         "x": [
          "2024-01-01",
          "2024-02-01",
          "2024-03-01",
          "2024-04-01",
          "2024-05-01",
          "2024-06-01"
         ],
         "xaxis": "x",
         "y": [
          1.88082992942436,
          1.7688221492143439,
          1.4912085308189569,
          1.5992824795987142,
          2.007596983848603,
          2.799468548388662
         ],
         "yaxis": "y"
        },
        {
         "hovertemplate": "friendly_id=17Y44<br>month=%{x}<br>kwh=%{y}<extra></extra>",
         "legendgroup": "17Y44",
         "line": {
          "color": "#EF553B",
          "dash": "solid"
         },
         "marker": {
          "symbol": "circle"
         },
         "mode": "lines",
         "name": "17Y44",
         "showlegend": true,
         "type": "scattergl",
         "x": [
          "2024-01-01",
          "2024-02-01",
          "2024-03-01",
          "2024-04-01",
          "2024-05-01",
          "2024-06-01"
         ],
         "xaxis": "x",
         "y": [
          1.344958575026701,
          1.2649615959338114,
          1.1146017311242702,
          1.1553246665137251,
          1.2753252577129306,
          2.0007809087923936
         ],
         "yaxis": "y"
        },
        {
         "hovertemplate": "friendly_id=17Y47-X<br>month=%{x}<br>kwh=%{y}<extra></extra>",
         "legendgroup": "17Y47-X",
         "line": {
          "color": "#00cc96",
          "dash": "solid"
         },
         "marker": {
          "symbol": "circle"
         },
         "mode": "lines",
         "name": "17Y47-X",
         "showlegend": true,
         "type": "scattergl",
         "x": [
          "2024-01-01",
          "2024-02-01",
          "2024-03-01",
          "2024-04-01",
          "2024-05-01",
          "2024-06-01"
         ],
         "xaxis": "x",
         "y": [
          1.9886127520165253,
          1.625273762295431,
          1.569953934072935,
          1.6910891331090976,
          2.1333837754008544,
          2.962627238462194
         ],
         "yaxis": "y"
        },
        {
         "hovertemplate": "friendly_id=17Y47-XZA<br>month=%{x}<br>kwh=%{y}<extra></extra>",
         "legendgroup": "17Y47-XZA",
         "line": {
          "color": "#ab63fa",
          "dash": "solid"
         },
         "marker": {
          "symbol": "circle"
         },
         "mode": "lines",
         "name": "17Y47-XZA",
         "showlegend": true,
         "type": "scattergl",
         "x": [
          "2024-01-01",
          "2024-02-01",
          "2024-03-01",
          "2024-04-01",
          "2024-05-01",
          "2024-06-01"
         ],
         "xaxis": "x",
         "y": [
          0.9603050467938248,
          0.9138811652209929,
          0.7934680688923114,
          0.8006999396349375,
          1.033846473675415,
          1.4305045664997063
         ],
         "yaxis": "y"
        },
        {
         "hovertemplate": "friendly_id=17Y47-XZB<br>month=%{x}<br>kwh=%{y}<extra></extra>",
         "legendgroup": "17Y47-XZB",
         "line": {
          "color": "#FFA15A",
          "dash": "solid"
         },
         "marker": {
          "symbol": "circle"
         },
         "mode": "lines",
         "name": "17Y47-XZB",
         "showlegend": true,
         "type": "scattergl",
         "x": [
          "2024-01-01",
          "2024-02-01",
          "2024-03-01",
          "2024-04-01",
          "2024-05-01",
          "2024-06-01"
         ],
         "xaxis": "x",
         "y": [
          2.2955676590054463,
          2.2889582224749248,
          1.987077389418696,
          2.092621919356025,
          2.6266467298509664,
          3.4857721986353916
         ],
         "yaxis": "y"
        },
        {
         "hovertemplate": "friendly_id=17Y47-XZC<br>month=%{x}<br>kwh=%{y}<extra></extra>",
         "legendgroup": "17Y47-XZC",
         "line": {
          "color": "#19d3f3",
          "dash": "solid"
         },
         "marker": {
          "symbol": "circle"
         },
         "mode": "lines",
         "name": "17Y47-XZC",
         "showlegend": true,
         "type": "scattergl",
         "x": [
          "2024-01-01",
          "2024-02-01",
          "2024-03-01",
          "2024-04-01",
          "2024-05-01",
          "2024-06-01"
         ],
         "xaxis": "x",
         "y": [
          1.745964672826352,
          1.6395193331731013,
          1.4378663810821286,
          1.4829852473930352,
          1.891962759138617,
          2.6015957837058594
         ],
         "yaxis": "y"
        },
        {
         "hovertemplate": "friendly_id=17Y48-A<br>month=%{x}<br>kwh=%{y}<extra></extra>",
         "legendgroup": "17Y48-A",
         "line": {
          "color": "#FF6692",
          "dash": "solid"
         },
         "marker": {
          "symbol": "circle"
         },
         "mode": "lines",
         "name": "17Y48-A",
         "showlegend": true,
         "type": "scattergl",
         "x": [
          "2024-01-01",
          "2024-02-01",
          "2024-03-01",
          "2024-04-01",
          "2024-05-01",
          "2024-06-01"
         ],
         "xaxis": "x",
         "y": [
          1.0649283611531661,
          0.999917896005861,
          0.8723837979974038,
          0.904001268421832,
          1.1409179715403777,
          1.580476885658505
         ],
         "yaxis": "y"
        },
        {
         "hovertemplate": "friendly_id=17Y48-AZA<br>month=%{x}<br>kwh=%{y}<extra></extra>",
         "legendgroup": "17Y48-AZA",
         "line": {
          "color": "#B6E880",
          "dash": "solid"
         },
         "marker": {
          "symbol": "circle"
         },
         "mode": "lines",
         "name": "17Y48-AZA",
         "showlegend": true,
         "type": "scattergl",
         "x": [
          "2024-01-01",
          "2024-02-01",
          "2024-03-01",
          "2024-04-01",
          "2024-05-01",
          "2024-06-01"
         ],
         "xaxis": "x",
         "y": [
          0.9614131281267739,
          0.9007092758880934,
          0.7920382103324483,
          0.8179200433442472,
          0.9026939575116648,
          1.4044206262963714
         ],
         "yaxis": "y"
        },
        {
         "hovertemplate": "friendly_id=17Y48A<br>month=%{x}<br>kwh=%{y}<extra></extra>",
         "legendgroup": "17Y48A",
         "line": {
          "color": "#FF97FF",
          "dash": "solid"
         },
         "marker": {
          "symbol": "circle"
         },
         "mode": "lines",
         "name": "17Y48A",
         "showlegend": true,
         "type": "scattergl",
         "x": [
          "2024-01-01",
          "2024-02-01",
          "2024-03-01",
          "2024-04-01",
          "2024-05-01",
          "2024-06-01"
         ],
         "xaxis": "x",
         "y": [
          1.8594986285880957,
          1.730079527848187,
          1.3983487381106476,
          1.5731972212951102,
          1.9828630752392227,
          2.7134622998039823
         ],
         "yaxis": "y"
        },
        {
         "hovertemplate": "friendly_id=17Y50<br>month=%{x}<br>kwh=%{y}<extra></extra>",
         "legendgroup": "17Y50",
         "line": {
          "color": "#FECB52",
          "dash": "solid"
         },
         "marker": {
          "symbol": "circle"
         },
         "mode": "lines",
         "name": "17Y50",
         "showlegend": true,
         "type": "scattergl",
         "x": [
          "2024-01-01",
          "2024-02-01",
          "2024-03-01",
          "2024-04-01",
          "2024-05-01",
          "2024-06-01"
         ],
         "xaxis": "x",
         "y": [
          2.29145971071577,
          1.9474989980925357,
          1.903287316480326,
          1.9772213814137856,
          2.463961941161974,
          3.442253199407376
         ],
         "yaxis": "y"
        },
        {
         "hovertemplate": "friendly_id=17Y50ZA<br>month=%{x}<br>kwh=%{y}<extra></extra>",
         "legendgroup": "17Y50ZA",
         "line": {
          "color": "#636efa",
          "dash": "solid"
         },
         "marker": {
          "symbol": "circle"
         },
         "mode": "lines",
         "name": "17Y50ZA",
         "showlegend": true,
         "type": "scattergl",
         "x": [
          "2024-01-01",
          "2024-02-01",
          "2024-03-01",
          "2024-04-01",
          "2024-05-01",
          "2024-06-01"
         ],
         "xaxis": "x",
         "y": [
          0.8385095396695033,
          0.8638751477021822,
          0.7441509240952668,
          0.7359295000285212,
          0.8828772980947361,
          1.346292777423123
         ],
         "yaxis": "y"
        },
        {
         "hovertemplate": "friendly_id=17Y51<br>month=%{x}<br>kwh=%{y}<extra></extra>",
         "legendgroup": "17Y51",
         "line": {
          "color": "#EF553B",
          "dash": "solid"
         },
         "marker": {
          "symbol": "circle"
         },
         "mode": "lines",
         "name": "17Y51",
         "showlegend": true,
         "type": "scattergl",
         "x": [
          "2024-01-01",
          "2024-02-01",
          "2024-03-01",
          "2024-04-01",
          "2024-05-01",
          "2024-06-01"
         ],
         "xaxis": "x",
         "y": [
          1.144709090199508,
          1.1189405772199423,
          0.9758143483439329,
          1.0157305372235663,
          1.2263805870324633,
          1.7668147885372583
         ],
         "yaxis": "y"
        },
        {
         "hovertemplate": "friendly_id=17Y55<br>month=%{x}<br>kwh=%{y}<extra></extra>",
         "legendgroup": "17Y55",
         "line": {
          "color": "#00cc96",
          "dash": "solid"
         },
         "marker": {
          "symbol": "circle"
         },
         "mode": "lines",
         "name": "17Y55",
         "showlegend": true,
         "type": "scattergl",
         "x": [
          "2024-01-01",
          "2024-02-01",
          "2024-03-01",
          "2024-04-01",
          "2024-05-01",
          "2024-06-01"
         ],
         "xaxis": "x",
         "y": [
          1.6517759515224004,
          1.5476738056893402,
          1.353321282441414,
          1.4043662741373848,
          1.7721510893546215,
          2.449479830897786
         ],
         "yaxis": "y"
        },
        {
         "hovertemplate": "friendly_id=17Y60-1<br>month=%{x}<br>kwh=%{y}<extra></extra>",
         "legendgroup": "17Y60-1",
         "line": {
          "color": "#ab63fa",
          "dash": "solid"
         },
         "marker": {
          "symbol": "circle"
         },
         "mode": "lines",
         "name": "17Y60-1",
         "showlegend": true,
         "type": "scattergl",
         "x": [
          "2024-01-01",
          "2024-02-01",
          "2024-03-01",
          "2024-04-01",
          "2024-05-01",
          "2024-06-01"
         ],
         "xaxis": "x",
         "y": [
          0.8843678756546922,
          0.8265706658450032,
          0.7293718230747102,
          0.7593018187687407,
          0.9522089130714492,
          1.3029605337524184
         ],
         "yaxis": "y"
        },
        {
         "hovertemplate": "friendly_id=17Y60-1ZA<br>month=%{x}<br>kwh=%{y}<extra></extra>",
         "legendgroup": "17Y60-1ZA",
         "line": {
          "color": "#FFA15A",
          "dash": "solid"
         },
         "marker": {
          "symbol": "circle"
         },
         "mode": "lines",
         "name": "17Y60-1ZA",
         "showlegend": true,
         "type": "scattergl",
         "x": [
          "2024-01-01",
          "2024-02-01",
          "2024-03-01",
          "2024-04-01",
          "2024-05-01",
          "2024-06-01"
         ],
         "xaxis": "x",
         "y": [
          1.216154154955949,
          1.1415683482089094,
          1.0051756781143513,
          1.0361618206286667,
          1.1998031569793026,
          1.8172384793834804
         ],
         "yaxis": "y"
        },
        {
         "hovertemplate": "friendly_id=17Y61-1<br>month=%{x}<br>kwh=%{y}<extra></extra>",
         "legendgroup": "17Y61-1",
         "line": {
          "color": "#19d3f3",
          "dash": "solid"
         },
         "marker": {
          "symbol": "circle"
         },
         "mode": "lines",
         "name": "17Y61-1",
         "showlegend": true,
         "type": "scattergl",
         "x": [
          "2024-01-01",
          "2024-02-01",
          "2024-03-01",
          "2024-04-01",
          "2024-05-01",
          "2024-06-01"
         ],
         "xaxis": "x",
         "y": [
          1.039502382502938,
          0.9788948375343537,
          0.8366210317259255,
          0.881138758953445,
          1.1110632731908137,
          1.5408890932928272
         ],
         "yaxis": "y"
        },
        {
         "hovertemplate": "friendly_id=17Y61-2<br>month=%{x}<br>kwh=%{y}<extra></extra>",
         "legendgroup": "17Y61-2",
         "line": {
          "color": "#FF6692",
          "dash": "solid"
         },
         "marker": {
          "symbol": "circle"
         },
         "mode": "lines",
         "name": "17Y61-2",
         "showlegend": true,
         "type": "scattergl",
         "x": [
          "2024-01-01",
          "2024-02-01",
          "2024-03-01",
          "2024-04-01",
          "2024-05-01",
          "2024-06-01"
         ],
         "xaxis": "x",
         "y": [
          1.1637581021977519,
          1.0996977759717026,
          0.9598481589791883,
          0.9913784245733209,
          1.2406318495289859,
          1.7194818740034725
         ],
         "yaxis": "y"
        },
        {
         "hovertemplate": "friendly_id=17Y61-2ZA<br>month=%{x}<br>kwh=%{y}<extra></extra>",
         "legendgroup": "17Y61-2ZA",
         "line": {
          "color": "#B6E880",
          "dash": "solid"
         },
         "marker": {
          "symbol": "circle"
         },
         "mode": "lines",
         "name": "17Y61-2ZA",
         "showlegend": true,
         "type": "scattergl",
         "x": [
          "2024-01-01",
          "2024-02-01",
          "2024-03-01",
          "2024-04-01",
          "2024-05-01",
          "2024-06-01"
         ],
         "xaxis": "x",
         "y": [
          1.478638273230535,
          1.399746931851149,
          1.2241154533550986,
          1.2642109360426497,
          1.6078530907222324,
          2.1815183143556176
         ],
         "yaxis": "y"
        },
        {
         "hovertemplate": "friendly_id=17Y67<br>month=%{x}<br>kwh=%{y}<extra></extra>",
         "legendgroup": "17Y67",
         "line": {
          "color": "#FF97FF",
          "dash": "solid"
         },
         "marker": {
          "symbol": "circle"
         },
         "mode": "lines",
         "name": "17Y67",
         "showlegend": true,
         "type": "scattergl",
         "x": [
          "2024-01-01",
          "2024-02-01",
          "2024-03-01",
          "2024-04-01",
          "2024-05-01",
          "2024-06-01"
         ],
         "xaxis": "x",
         "y": [
          1.687052407472422,
          1.603339908351521,
          1.3984672398918008,
          1.4469944225139857,
          1.8283369300133896,
          2.5124820700167594
         ],
         "yaxis": "y"
        },
        {
         "hovertemplate": "friendly_id=17Y72-1<br>month=%{x}<br>kwh=%{y}<extra></extra>",
         "legendgroup": "17Y72-1",
         "line": {
          "color": "#FECB52",
          "dash": "solid"
         },
         "marker": {
          "symbol": "circle"
         },
         "mode": "lines",
         "name": "17Y72-1",
         "showlegend": true,
         "type": "scattergl",
         "x": [
          "2024-01-01",
          "2024-02-01",
          "2024-03-01",
          "2024-04-01",
          "2024-05-01",
          "2024-06-01"
         ],
         "xaxis": "x",
         "y": [
          1.1950096991812516,
          1.0117899760749616,
          0.9900803184015464,
          1.0188277774378847,
          1.2839240290743585,
          1.780322295637473
         ],
         "yaxis": "y"
        },
        {
         "hovertemplate": "friendly_id=17Y73<br>month=%{x}<br>kwh=%{y}<extra></extra>",
         "legendgroup": "17Y73",
         "line": {
          "color": "#636efa",
          "dash": "solid"
         },
         "marker": {
          "symbol": "circle"
         },
         "mode": "lines",
         "name": "17Y73",
         "showlegend": true,
         "type": "scattergl",
         "x": [
          "2024-01-01",
          "2024-02-01",
          "2024-03-01",
          "2024-04-01",
          "2024-05-01",
          "2024-06-01"
         ],
         "xaxis": "x",
         "y": [
          1.1441670590230808,
          1.0702548078273837,
          0.9504104992147591,
          0.9811398801456792,
          1.2347511736442696,
          1.708247595713678
         ],
         "yaxis": "y"
        },
        {
         "hovertemplate": "friendly_id=17Y81<br>month=%{x}<br>kwh=%{y}<extra></extra>",
         "legendgroup": "17Y81",
         "line": {
          "color": "#EF553B",
          "dash": "solid"
         },
         "marker": {
          "symbol": "circle"
         },
         "mode": "lines",
         "name": "17Y81",
         "showlegend": true,
         "type": "scattergl",
         "x": [
          "2024-01-01",
          "2024-02-01",
          "2024-03-01",
          "2024-04-01",
          "2024-05-01",
          "2024-06-01"
         ],
         "xaxis": "x",
         "y": [
          1.214146477607728,
          1.3643821838644885,
          1.2507499707456116,
          1.2841982701275745,
          1.6202831275470915,
          2.246897497614567
         ],
         "yaxis": "y"
        },
        {
         "hovertemplate": "friendly_id=17Y84<br>month=%{x}<br>kwh=%{y}<extra></extra>",
         "legendgroup": "17Y84",
         "line": {
          "color": "#00cc96",
          "dash": "solid"
         },
         "marker": {
          "symbol": "circle"
         },
         "mode": "lines",
         "name": "17Y84",
         "showlegend": true,
         "type": "scattergl",
         "x": [
          "2024-01-01",
          "2024-02-01",
          "2024-03-01",
          "2024-04-01",
          "2024-05-01",
          "2024-06-01"
         ],
         "xaxis": "x",
         "y": [
          1.6862954004447075,
          1.646084571183123,
          1.5284896698382455,
          1.577985789862823,
          1.9899862158090305,
          2.7534471830511245
         ],
         "yaxis": "y"
        },
        {
         "hovertemplate": "friendly_id=17Y86-2-1<br>month=%{x}<br>kwh=%{y}<extra></extra>",
         "legendgroup": "17Y86-2-1",
         "line": {
          "color": "#ab63fa",
          "dash": "solid"
         },
         "marker": {
          "symbol": "circle"
         },
         "mode": "lines",
         "name": "17Y86-2-1",
         "showlegend": true,
         "type": "scattergl",
         "x": [
          "2024-01-01",
          "2024-02-01",
          "2024-03-01",
          "2024-04-01",
          "2024-05-01",
          "2024-06-01"
         ],
         "xaxis": "x",
         "y": [
          1.4951539676219148,
          1.4711888729956366,
          1.2397439564220316,
          1.2792018911168508,
          1.6534927011616858,
          2.3067381844598867
         ],
         "yaxis": "y"
        },
        {
         "hovertemplate": "friendly_id=17Y86-8ZA<br>month=%{x}<br>kwh=%{y}<extra></extra>",
         "legendgroup": "17Y86-8ZA",
         "line": {
          "color": "#FFA15A",
          "dash": "solid"
         },
         "marker": {
          "symbol": "circle"
         },
         "mode": "lines",
         "name": "17Y86-8ZA",
         "showlegend": true,
         "type": "scattergl",
         "x": [
          "2024-01-01",
          "2024-02-01",
          "2024-03-01",
          "2024-04-01",
          "2024-05-01",
          "2024-06-01"
         ],
         "xaxis": "x",
         "y": [
          1.705810503217725,
          2.019251219264123,
          1.7834891669101602,
          1.835274847080375,
          1.672382237185221,
          3.2096173730770814
         ],
         "yaxis": "y"
        },
        {
         "hovertemplate": "friendly_id=17Y86-9<br>month=%{x}<br>kwh=%{y}<extra></extra>",
         "legendgroup": "17Y86-9",
         "line": {
          "color": "#19d3f3",
          "dash": "solid"
         },
         "marker": {
          "symbol": "circle"
         },
         "mode": "lines",
         "name": "17Y86-9",
         "showlegend": true,
         "type": "scattergl",
         "x": [
          "2024-01-01",
          "2024-02-01",
          "2024-03-01",
          "2024-04-01",
          "2024-05-01",
          "2024-06-01"
         ],
         "xaxis": "x",
         "y": [
          1.5364976036153992,
          1.4436296973755287,
          1.260585625730639,
          1.119206898266552,
          1.631402068457082,
          2.248029606146797
         ],
         "yaxis": "y"
        },
        {
         "hovertemplate": "friendly_id=17Y90ZA<br>month=%{x}<br>kwh=%{y}<extra></extra>",
         "legendgroup": "17Y90ZA",
         "line": {
          "color": "#FF6692",
          "dash": "solid"
         },
         "marker": {
          "symbol": "circle"
         },
         "mode": "lines",
         "name": "17Y90ZA",
         "showlegend": true,
         "type": "scattergl",
         "x": [
          "2024-01-01",
          "2024-02-01",
          "2024-03-01",
          "2024-04-01",
          "2024-05-01",
          "2024-06-01"
         ],
         "xaxis": "x",
         "y": [
          0.6629555879027358,
          0.6545115450809654,
          0.5744932715653672,
          0.5935080932028567,
          0.7456026165417978,
          1.0390438162544144
         ],
         "yaxis": "y"
        },
        {
         "hovertemplate": "friendly_id=17Y91<br>month=%{x}<br>kwh=%{y}<extra></extra>",
         "legendgroup": "17Y91",
         "line": {
          "color": "#B6E880",
          "dash": "solid"
         },
         "marker": {
          "symbol": "circle"
         },
         "mode": "lines",
         "name": "17Y91",
         "showlegend": true,
         "type": "scattergl",
         "x": [
          "2024-01-01",
          "2024-02-01",
          "2024-03-01",
          "2024-04-01",
          "2024-05-01",
          "2024-06-01"
         ],
         "xaxis": "x",
         "y": [
          0.956920438358895,
          0.8792087783942186,
          0.7951301848109592,
          0.8632541791998066,
          1.018686201815196,
          1.5011101485522433
         ],
         "yaxis": "y"
        },
        {
         "hovertemplate": "friendly_id=17Y91-1-1<br>month=%{x}<br>kwh=%{y}<extra></extra>",
         "legendgroup": "17Y91-1-1",
         "line": {
          "color": "#FF97FF",
          "dash": "solid"
         },
         "marker": {
          "symbol": "circle"
         },
         "mode": "lines",
         "name": "17Y91-1-1",
         "showlegend": true,
         "type": "scattergl",
         "x": [
          "2024-01-01",
          "2024-02-01",
          "2024-03-01",
          "2024-04-01",
          "2024-05-01",
          "2024-06-01"
         ],
         "xaxis": "x",
         "y": [
          2.266653358636194,
          2.0099098936291995,
          1.8658999101723437,
          1.723979377792467,
          2.422382733260637,
          3.35244266584643
         ],
         "yaxis": "y"
        },
        {
         "hovertemplate": "friendly_id=17Y91-1-3<br>month=%{x}<br>kwh=%{y}<extra></extra>",
         "legendgroup": "17Y91-1-3",
         "line": {
          "color": "#FECB52",
          "dash": "solid"
         },
         "marker": {
          "symbol": "circle"
         },
         "mode": "lines",
         "name": "17Y91-1-3",
         "showlegend": true,
         "type": "scattergl",
         "x": [
          "2024-01-01",
          "2024-02-01",
          "2024-03-01",
          "2024-04-01",
          "2024-05-01",
          "2024-06-01"
         ],
         "xaxis": "x",
         "y": [
          1.2307124260486244,
          1.1525027749561125,
          0.982473518988318,
          1.0489116107024072,
          1.2984264150143376,
          1.7737104947981757
         ],
         "yaxis": "y"
        },
        {
         "hovertemplate": "friendly_id=17Y91-3-1<br>month=%{x}<br>kwh=%{y}<extra></extra>",
         "legendgroup": "17Y91-3-1",
         "line": {
          "color": "#636efa",
          "dash": "solid"
         },
         "marker": {
          "symbol": "circle"
         },
         "mode": "lines",
         "name": "17Y91-3-1",
         "showlegend": true,
         "type": "scattergl",
         "x": [
          "2024-01-01",
          "2024-02-01",
          "2024-03-01",
          "2024-04-01",
          "2024-05-01",
          "2024-06-01"
         ],
         "xaxis": "x",
         "y": [
          1.1436183158335607,
          1.044028613511757,
          0.9280875131981097,
          0.9656575316303948,
          1.074361945706753,
          1.6131925001109617
         ],
         "yaxis": "y"
        },
        {
         "hovertemplate": "friendly_id=17Y91-4-1ZA<br>month=%{x}<br>kwh=%{y}<extra></extra>",
         "legendgroup": "17Y91-4-1ZA",
         "line": {
          "color": "#EF553B",
          "dash": "solid"
         },
         "marker": {
          "symbol": "circle"
         },
         "mode": "lines",
         "name": "17Y91-4-1ZA",
         "showlegend": true,
         "type": "scattergl",
         "x": [
          "2024-01-01",
          "2024-02-01",
          "2024-03-01",
          "2024-04-01",
          "2024-05-01",
          "2024-06-01"
         ],
         "xaxis": "x",
         "y": [
          1.8226742915831078,
          1.6503213810121282,
          1.5299221637825091,
          1.5571078466532438,
          1.9180119961904092,
          2.6713712318226785
         ],
         "yaxis": "y"
        },
        {
         "hovertemplate": "friendly_id=17Y91-7<br>month=%{x}<br>kwh=%{y}<extra></extra>",
         "legendgroup": "17Y91-7",
         "line": {
          "color": "#00cc96",
          "dash": "solid"
         },
         "marker": {
          "symbol": "circle"
         },
         "mode": "lines",
         "name": "17Y91-7",
         "showlegend": true,
         "type": "scattergl",
         "x": [
          "2024-01-01",
          "2024-02-01",
          "2024-03-01",
          "2024-04-01",
          "2024-05-01",
          "2024-06-01"
         ],
         "xaxis": "x",
         "y": [
          1.1678044330302073,
          1.1341018512156809,
          1.0763094675778604,
          1.0954280244912675,
          1.3474080567188729,
          1.860444452678579
         ],
         "yaxis": "y"
        },
        {
         "hovertemplate": "friendly_id=17Y92ZA<br>month=%{x}<br>kwh=%{y}<extra></extra>",
         "legendgroup": "17Y92ZA",
         "line": {
          "color": "#ab63fa",
          "dash": "solid"
         },
         "marker": {
          "symbol": "circle"
         },
         "mode": "lines",
         "name": "17Y92ZA",
         "showlegend": true,
         "type": "scattergl",
         "x": [
          "2024-01-01",
          "2024-02-01",
          "2024-03-01",
          "2024-04-01",
          "2024-05-01",
          "2024-06-01"
         ],
         "xaxis": "x",
         "y": [
          1.3141909649829824,
          1.2266663288563953,
          1.0835890409549336,
          1.1162455513340577,
          1.1996617705190114,
          1.9359430722124518
         ],
         "yaxis": "y"
        },
        {
         "hovertemplate": "friendly_id=17Y92ZB<br>month=%{x}<br>kwh=%{y}<extra></extra>",
         "legendgroup": "17Y92ZB",
         "line": {
          "color": "#FFA15A",
          "dash": "solid"
         },
         "marker": {
          "symbol": "circle"
         },
         "mode": "lines",
         "name": "17Y92ZB",
         "showlegend": true,
         "type": "scattergl",
         "x": [
          "2024-01-01",
          "2024-02-01",
          "2024-03-01",
          "2024-04-01",
          "2024-05-01",
          "2024-06-01"
         ],
         "xaxis": "x",
         "y": [
          2.092407488563183,
          1.9703273100532388,
          1.728230593319292,
          1.4762346270328042,
          2.2236898718205835,
          3.102072846135605
         ],
         "yaxis": "y"
        },
        {
         "hovertemplate": "friendly_id=17Y95-1<br>month=%{x}<br>kwh=%{y}<extra></extra>",
         "legendgroup": "17Y95-1",
         "line": {
          "color": "#19d3f3",
          "dash": "solid"
         },
         "marker": {
          "symbol": "circle"
         },
         "mode": "lines",
         "name": "17Y95-1",
         "showlegend": true,
         "type": "scattergl",
         "x": [
          "2024-01-01",
          "2024-02-01",
          "2024-03-01",
          "2024-04-01",
          "2024-05-01",
          "2024-06-01"
         ],
         "xaxis": "x",
         "y": [
          1.6445887577911509,
          1.5289279355801166,
          1.3549500802840984,
          1.3905989434239086,
          1.721543092091704,
          2.343674029692575
         ],
         "yaxis": "y"
        }
       ],
       "layout": {
        "legend": {
         "title": {
          "text": "friendly_id"
         },
         "tracegroupgap": 0
        },
        "template": {
         "data": {
          "bar": [
           {
            "error_x": {
             "color": "#2a3f5f"
            },
            "error_y": {
             "color": "#2a3f5f"
            },
            "marker": {
             "line": {
              "color": "#E5ECF6",
              "width": 0.5
             },
             "pattern": {
              "fillmode": "overlay",
              "size": 10,
              "solidity": 0.2
             }
            },
            "type": "bar"
           }
          ],
          "barpolar": [
           {
            "marker": {
             "line": {
              "color": "#E5ECF6",
              "width": 0.5
             },
             "pattern": {
              "fillmode": "overlay",
              "size": 10,
              "solidity": 0.2
             }
            },
            "type": "barpolar"
           }
          ],
          "carpet": [
           {
            "aaxis": {
             "endlinecolor": "#2a3f5f",
             "gridcolor": "white",
             "linecolor": "white",
             "minorgridcolor": "white",
             "startlinecolor": "#2a3f5f"
            },
            "baxis": {
             "endlinecolor": "#2a3f5f",
             "gridcolor": "white",
             "linecolor": "white",
             "minorgridcolor": "white",
             "startlinecolor": "#2a3f5f"
            },
            "type": "carpet"
           }
          ],
          "choropleth": [
           {
            "colorbar": {
             "outlinewidth": 0,
             "ticks": ""
            },
            "type": "choropleth"
           }
          ],
          "contour": [
           {
            "colorbar": {
             "outlinewidth": 0,
             "ticks": ""
            },
            "colorscale": [
             [
              0,
              "#0d0887"
             ],
             [
              0.1111111111111111,
              "#46039f"
             ],
             [
              0.2222222222222222,
              "#7201a8"
             ],
             [
              0.3333333333333333,
              "#9c179e"
             ],
             [
              0.4444444444444444,
              "#bd3786"
             ],
             [
              0.5555555555555556,
              "#d8576b"
             ],
             [
              0.6666666666666666,
              "#ed7953"
             ],
             [
              0.7777777777777778,
              "#fb9f3a"
             ],
             [
              0.8888888888888888,
              "#fdca26"
             ],
             [
              1,
              "#f0f921"
             ]
            ],
            "type": "contour"
           }
          ],
          "contourcarpet": [
           {
            "colorbar": {
             "outlinewidth": 0,
             "ticks": ""
            },
            "type": "contourcarpet"
           }
          ],
          "heatmap": [
           {
            "colorbar": {
             "outlinewidth": 0,
             "ticks": ""
            },
            "colorscale": [
             [
              0,
              "#0d0887"
             ],
             [
              0.1111111111111111,
              "#46039f"
             ],
             [
              0.2222222222222222,
              "#7201a8"
             ],
             [
              0.3333333333333333,
              "#9c179e"
             ],
             [
              0.4444444444444444,
              "#bd3786"
             ],
             [
              0.5555555555555556,
              "#d8576b"
             ],
             [
              0.6666666666666666,
              "#ed7953"
             ],
             [
              0.7777777777777778,
              "#fb9f3a"
             ],
             [
              0.8888888888888888,
              "#fdca26"
             ],
             [
              1,
              "#f0f921"
             ]
            ],
            "type": "heatmap"
           }
          ],
          "heatmapgl": [
           {
            "colorbar": {
             "outlinewidth": 0,
             "ticks": ""
            },
            "colorscale": [
             [
              0,
              "#0d0887"
             ],
             [
              0.1111111111111111,
              "#46039f"
             ],
             [
              0.2222222222222222,
              "#7201a8"
             ],
             [
              0.3333333333333333,
              "#9c179e"
             ],
             [
              0.4444444444444444,
              "#bd3786"
             ],
             [
              0.5555555555555556,
              "#d8576b"
             ],
             [
              0.6666666666666666,
              "#ed7953"
             ],
             [
              0.7777777777777778,
              "#fb9f3a"
             ],
             [
              0.8888888888888888,
              "#fdca26"
             ],
             [
              1,
              "#f0f921"
             ]
            ],
            "type": "heatmapgl"
           }
          ],
          "histogram": [
           {
            "marker": {
             "pattern": {
              "fillmode": "overlay",
              "size": 10,
              "solidity": 0.2
             }
            },
            "type": "histogram"
           }
          ],
          "histogram2d": [
           {
            "colorbar": {
             "outlinewidth": 0,
             "ticks": ""
            },
            "colorscale": [
             [
              0,
              "#0d0887"
             ],
             [
              0.1111111111111111,
              "#46039f"
             ],
             [
              0.2222222222222222,
              "#7201a8"
             ],
             [
              0.3333333333333333,
              "#9c179e"
             ],
             [
              0.4444444444444444,
              "#bd3786"
             ],
             [
              0.5555555555555556,
              "#d8576b"
             ],
             [
              0.6666666666666666,
              "#ed7953"
             ],
             [
              0.7777777777777778,
              "#fb9f3a"
             ],
             [
              0.8888888888888888,
              "#fdca26"
             ],
             [
              1,
              "#f0f921"
             ]
            ],
            "type": "histogram2d"
           }
          ],
          "histogram2dcontour": [
           {
            "colorbar": {
             "outlinewidth": 0,
             "ticks": ""
            },
            "colorscale": [
             [
              0,
              "#0d0887"
             ],
             [
              0.1111111111111111,
              "#46039f"
             ],
             [
              0.2222222222222222,
              "#7201a8"
             ],
             [
              0.3333333333333333,
              "#9c179e"
             ],
             [
              0.4444444444444444,
              "#bd3786"
             ],
             [
              0.5555555555555556,
              "#d8576b"
             ],
             [
              0.6666666666666666,
              "#ed7953"
             ],
             [
              0.7777777777777778,
              "#fb9f3a"
             ],
             [
              0.8888888888888888,
              "#fdca26"
             ],
             [
              1,
              "#f0f921"
             ]
            ],
            "type": "histogram2dcontour"
           }
          ],
          "mesh3d": [
           {
            "colorbar": {
             "outlinewidth": 0,
             "ticks": ""
            },
            "type": "mesh3d"
           }
          ],
          "parcoords": [
           {
            "line": {
             "colorbar": {
              "outlinewidth": 0,
              "ticks": ""
             }
            },
            "type": "parcoords"
           }
          ],
          "pie": [
           {
            "automargin": true,
            "type": "pie"
           }
          ],
          "scatter": [
           {
            "marker": {
             "colorbar": {
              "outlinewidth": 0,
              "ticks": ""
             }
            },
            "type": "scatter"
           }
          ],
          "scatter3d": [
           {
            "line": {
             "colorbar": {
              "outlinewidth": 0,
              "ticks": ""
             }
            },
            "marker": {
             "colorbar": {
              "outlinewidth": 0,
              "ticks": ""
             }
            },
            "type": "scatter3d"
           }
          ],
          "scattercarpet": [
           {
            "marker": {
             "colorbar": {
              "outlinewidth": 0,
              "ticks": ""
             }
            },
            "type": "scattercarpet"
           }
          ],
          "scattergeo": [
           {
            "marker": {
             "colorbar": {
              "outlinewidth": 0,
              "ticks": ""
             }
            },
            "type": "scattergeo"
           }
          ],
          "scattergl": [
           {
            "marker": {
             "colorbar": {
              "outlinewidth": 0,
              "ticks": ""
             }
            },
            "type": "scattergl"
           }
          ],
          "scattermapbox": [
           {
            "marker": {
             "colorbar": {
              "outlinewidth": 0,
              "ticks": ""
             }
            },
            "type": "scattermapbox"
           }
          ],
          "scatterpolar": [
           {
            "marker": {
             "colorbar": {
              "outlinewidth": 0,
              "ticks": ""
             }
            },
            "type": "scatterpolar"
           }
          ],
          "scatterpolargl": [
           {
            "marker": {
             "colorbar": {
              "outlinewidth": 0,
              "ticks": ""
             }
            },
            "type": "scatterpolargl"
           }
          ],
          "scatterternary": [
           {
            "marker": {
             "colorbar": {
              "outlinewidth": 0,
              "ticks": ""
             }
            },
            "type": "scatterternary"
           }
          ],
          "surface": [
           {
            "colorbar": {
             "outlinewidth": 0,
             "ticks": ""
            },
            "colorscale": [
             [
              0,
              "#0d0887"
             ],
             [
              0.1111111111111111,
              "#46039f"
             ],
             [
              0.2222222222222222,
              "#7201a8"
             ],
             [
              0.3333333333333333,
              "#9c179e"
             ],
             [
              0.4444444444444444,
              "#bd3786"
             ],
             [
              0.5555555555555556,
              "#d8576b"
             ],
             [
              0.6666666666666666,
              "#ed7953"
             ],
             [
              0.7777777777777778,
              "#fb9f3a"
             ],
             [
              0.8888888888888888,
              "#fdca26"
             ],
             [
              1,
              "#f0f921"
             ]
            ],
            "type": "surface"
           }
          ],
          "table": [
           {
            "cells": {
             "fill": {
              "color": "#EBF0F8"
             },
             "line": {
              "color": "white"
             }
            },
            "header": {
             "fill": {
              "color": "#C8D4E3"
             },
             "line": {
              "color": "white"
             }
            },
            "type": "table"
           }
          ]
         },
         "layout": {
          "annotationdefaults": {
           "arrowcolor": "#2a3f5f",
           "arrowhead": 0,
           "arrowwidth": 1
          },
          "autotypenumbers": "strict",
          "coloraxis": {
           "colorbar": {
            "outlinewidth": 0,
            "ticks": ""
           }
          },
          "colorscale": {
           "diverging": [
            [
             0,
             "#8e0152"
            ],
            [
             0.1,
             "#c51b7d"
            ],
            [
             0.2,
             "#de77ae"
            ],
            [
             0.3,
             "#f1b6da"
            ],
            [
             0.4,
             "#fde0ef"
            ],
            [
             0.5,
             "#f7f7f7"
            ],
            [
             0.6,
             "#e6f5d0"
            ],
            [
             0.7,
             "#b8e186"
            ],
            [
             0.8,
             "#7fbc41"
            ],
            [
             0.9,
             "#4d9221"
            ],
            [
             1,
             "#276419"
            ]
           ],
           "sequential": [
            [
             0,
             "#0d0887"
            ],
            [
             0.1111111111111111,
             "#46039f"
            ],
            [
             0.2222222222222222,
             "#7201a8"
            ],
            [
             0.3333333333333333,
             "#9c179e"
            ],
            [
             0.4444444444444444,
             "#bd3786"
            ],
            [
             0.5555555555555556,
             "#d8576b"
            ],
            [
             0.6666666666666666,
             "#ed7953"
            ],
            [
             0.7777777777777778,
             "#fb9f3a"
            ],
            [
             0.8888888888888888,
             "#fdca26"
            ],
            [
             1,
             "#f0f921"
            ]
           ],
           "sequentialminus": [
            [
             0,
             "#0d0887"
            ],
            [
             0.1111111111111111,
             "#46039f"
            ],
            [
             0.2222222222222222,
             "#7201a8"
            ],
            [
             0.3333333333333333,
             "#9c179e"
            ],
            [
             0.4444444444444444,
             "#bd3786"
            ],
            [
             0.5555555555555556,
             "#d8576b"
            ],
            [
             0.6666666666666666,
             "#ed7953"
            ],
            [
             0.7777777777777778,
             "#fb9f3a"
            ],
            [
             0.8888888888888888,
             "#fdca26"
            ],
            [
             1,
             "#f0f921"
            ]
           ]
          },
          "colorway": [
           "#636efa",
           "#EF553B",
           "#00cc96",
           "#ab63fa",
           "#FFA15A",
           "#19d3f3",
           "#FF6692",
           "#B6E880",
           "#FF97FF",
           "#FECB52"
          ],
          "font": {
           "color": "#2a3f5f"
          },
          "geo": {
           "bgcolor": "white",
           "lakecolor": "white",
           "landcolor": "#E5ECF6",
           "showlakes": true,
           "showland": true,
           "subunitcolor": "white"
          },
          "hoverlabel": {
           "align": "left"
          },
          "hovermode": "closest",
          "mapbox": {
           "style": "light"
          },
          "paper_bgcolor": "white",
          "plot_bgcolor": "#E5ECF6",
          "polar": {
           "angularaxis": {
            "gridcolor": "white",
            "linecolor": "white",
            "ticks": ""
           },
           "bgcolor": "#E5ECF6",
           "radialaxis": {
            "gridcolor": "white",
            "linecolor": "white",
            "ticks": ""
           }
          },
          "scene": {
           "xaxis": {
            "backgroundcolor": "#E5ECF6",
            "gridcolor": "white",
            "gridwidth": 2,
            "linecolor": "white",
            "showbackground": true,
            "ticks": "",
            "zerolinecolor": "white"
           },
           "yaxis": {
            "backgroundcolor": "#E5ECF6",
            "gridcolor": "white",
            "gridwidth": 2,
            "linecolor": "white",
            "showbackground": true,
            "ticks": "",
            "zerolinecolor": "white"
           },
           "zaxis": {
            "backgroundcolor": "#E5ECF6",
            "gridcolor": "white",
            "gridwidth": 2,
            "linecolor": "white",
            "showbackground": true,
            "ticks": "",
            "zerolinecolor": "white"
           }
          },
          "shapedefaults": {
           "line": {
            "color": "#2a3f5f"
           }
          },
          "ternary": {
           "aaxis": {
            "gridcolor": "white",
            "linecolor": "white",
            "ticks": ""
           },
           "baxis": {
            "gridcolor": "white",
            "linecolor": "white",
            "ticks": ""
           },
           "bgcolor": "#E5ECF6",
           "caxis": {
            "gridcolor": "white",
            "linecolor": "white",
            "ticks": ""
           }
          },
          "title": {
           "x": 0.05
          },
          "xaxis": {
           "automargin": true,
           "gridcolor": "white",
           "linecolor": "white",
           "ticks": "",
           "title": {
            "standoff": 15
           },
           "zerolinecolor": "white",
           "zerolinewidth": 2
          },
          "yaxis": {
           "automargin": true,
           "gridcolor": "white",
           "linecolor": "white",
           "ticks": "",
           "title": {
            "standoff": 15
           },
           "zerolinecolor": "white",
           "zerolinewidth": 2
          }
         }
        },
        "title": {
         "text": "Average Hourly Consumption in each Month by Meter"
        },
        "xaxis": {
         "anchor": "y",
         "domain": [
          0,
          1
         ],
         "title": {
          "text": "month"
         }
        },
        "yaxis": {
         "anchor": "x",
         "domain": [
          0,
          1
         ],
         "title": {
          "text": "kwh"
         }
        }
       }
      }
     },
     "metadata": {},
     "output_type": "display_data"
    }
   ],
   "source": [
    "# Plot graph\n",
    "px.line(meter_month_df, x='month', y='kwh', \n",
    "        title='Average Hourly Consumption in each Month by Meter',\n",
    "        color='friendly_id')"
   ]
  },
  {
   "cell_type": "markdown",
   "id": "f5ae43fa",
   "metadata": {},
   "source": [
    "### Use Case 2: by phase and month"
   ]
  },
  {
   "cell_type": "code",
   "execution_count": 23,
   "id": "e9ae9b6f",
   "metadata": {},
   "outputs": [
    {
     "data": {
      "text/html": [
       "<div>\n",
       "<style scoped>\n",
       "    .dataframe tbody tr th:only-of-type {\n",
       "        vertical-align: middle;\n",
       "    }\n",
       "\n",
       "    .dataframe tbody tr th {\n",
       "        vertical-align: top;\n",
       "    }\n",
       "\n",
       "    .dataframe thead th {\n",
       "        text-align: right;\n",
       "    }\n",
       "</style>\n",
       "<table border=\"1\" class=\"dataframe\">\n",
       "  <thead>\n",
       "    <tr style=\"text-align: right;\">\n",
       "      <th></th>\n",
       "      <th>phases</th>\n",
       "      <th>month</th>\n",
       "      <th>kwh</th>\n",
       "    </tr>\n",
       "  </thead>\n",
       "  <tbody>\n",
       "    <tr>\n",
       "      <th>0</th>\n",
       "      <td>A</td>\n",
       "      <td>2024-01-01</td>\n",
       "      <td>1.543567</td>\n",
       "    </tr>\n",
       "    <tr>\n",
       "      <th>1</th>\n",
       "      <td>A</td>\n",
       "      <td>2024-02-01</td>\n",
       "      <td>1.460182</td>\n",
       "    </tr>\n",
       "    <tr>\n",
       "      <th>2</th>\n",
       "      <td>A</td>\n",
       "      <td>2024-03-01</td>\n",
       "      <td>1.296972</td>\n",
       "    </tr>\n",
       "    <tr>\n",
       "      <th>3</th>\n",
       "      <td>A</td>\n",
       "      <td>2024-04-01</td>\n",
       "      <td>1.327771</td>\n",
       "    </tr>\n",
       "    <tr>\n",
       "      <th>4</th>\n",
       "      <td>A</td>\n",
       "      <td>2024-05-01</td>\n",
       "      <td>1.632292</td>\n",
       "    </tr>\n",
       "    <tr>\n",
       "      <th>5</th>\n",
       "      <td>A</td>\n",
       "      <td>2024-06-01</td>\n",
       "      <td>2.183106</td>\n",
       "    </tr>\n",
       "    <tr>\n",
       "      <th>6</th>\n",
       "      <td>B</td>\n",
       "      <td>2024-01-01</td>\n",
       "      <td>1.516935</td>\n",
       "    </tr>\n",
       "    <tr>\n",
       "      <th>7</th>\n",
       "      <td>B</td>\n",
       "      <td>2024-02-01</td>\n",
       "      <td>1.426269</td>\n",
       "    </tr>\n",
       "    <tr>\n",
       "      <th>8</th>\n",
       "      <td>B</td>\n",
       "      <td>2024-03-01</td>\n",
       "      <td>1.263031</td>\n",
       "    </tr>\n",
       "    <tr>\n",
       "      <th>9</th>\n",
       "      <td>B</td>\n",
       "      <td>2024-04-01</td>\n",
       "      <td>1.306747</td>\n",
       "    </tr>\n",
       "    <tr>\n",
       "      <th>10</th>\n",
       "      <td>B</td>\n",
       "      <td>2024-05-01</td>\n",
       "      <td>1.621886</td>\n",
       "    </tr>\n",
       "    <tr>\n",
       "      <th>11</th>\n",
       "      <td>B</td>\n",
       "      <td>2024-06-01</td>\n",
       "      <td>2.215553</td>\n",
       "    </tr>\n",
       "    <tr>\n",
       "      <th>12</th>\n",
       "      <td>C</td>\n",
       "      <td>2024-01-01</td>\n",
       "      <td>1.471771</td>\n",
       "    </tr>\n",
       "    <tr>\n",
       "      <th>13</th>\n",
       "      <td>C</td>\n",
       "      <td>2024-02-01</td>\n",
       "      <td>1.368351</td>\n",
       "    </tr>\n",
       "    <tr>\n",
       "      <th>14</th>\n",
       "      <td>C</td>\n",
       "      <td>2024-03-01</td>\n",
       "      <td>1.216561</td>\n",
       "    </tr>\n",
       "    <tr>\n",
       "      <th>15</th>\n",
       "      <td>C</td>\n",
       "      <td>2024-04-01</td>\n",
       "      <td>1.243912</td>\n",
       "    </tr>\n",
       "    <tr>\n",
       "      <th>16</th>\n",
       "      <td>C</td>\n",
       "      <td>2024-05-01</td>\n",
       "      <td>1.557236</td>\n",
       "    </tr>\n",
       "    <tr>\n",
       "      <th>17</th>\n",
       "      <td>C</td>\n",
       "      <td>2024-06-01</td>\n",
       "      <td>2.153892</td>\n",
       "    </tr>\n",
       "  </tbody>\n",
       "</table>\n",
       "</div>"
      ],
      "text/plain": [
       "   phases       month       kwh\n",
       "0       A  2024-01-01  1.543567\n",
       "1       A  2024-02-01  1.460182\n",
       "2       A  2024-03-01  1.296972\n",
       "3       A  2024-04-01  1.327771\n",
       "4       A  2024-05-01  1.632292\n",
       "5       A  2024-06-01  2.183106\n",
       "6       B  2024-01-01  1.516935\n",
       "7       B  2024-02-01  1.426269\n",
       "8       B  2024-03-01  1.263031\n",
       "9       B  2024-04-01  1.306747\n",
       "10      B  2024-05-01  1.621886\n",
       "11      B  2024-06-01  2.215553\n",
       "12      C  2024-01-01  1.471771\n",
       "13      C  2024-02-01  1.368351\n",
       "14      C  2024-03-01  1.216561\n",
       "15      C  2024-04-01  1.243912\n",
       "16      C  2024-05-01  1.557236\n",
       "17      C  2024-06-01  2.153892"
      ]
     },
     "execution_count": 23,
     "metadata": {},
     "output_type": "execute_result"
    }
   ],
   "source": [
    "phases_month_df = meter_consumption_df.groupby(['phases', 'month'])['kwh'].mean().reset_index()\n",
    "phases_month_df"
   ]
  },
  {
   "cell_type": "code",
   "execution_count": 24,
   "id": "f4183eb4",
   "metadata": {},
   "outputs": [
    {
     "data": {
      "application/vnd.plotly.v1+json": {
       "config": {
        "plotlyServerURL": "https://plot.ly"
       },
       "data": [
        {
         "hovertemplate": "phases=A<br>month=%{x}<br>kwh=%{y}<extra></extra>",
         "legendgroup": "A",
         "line": {
          "color": "#636efa",
          "dash": "solid"
         },
         "marker": {
          "symbol": "circle"
         },
         "mode": "lines",
         "name": "A",
         "orientation": "v",
         "showlegend": true,
         "type": "scatter",
         "x": [
          "2024-01-01",
          "2024-02-01",
          "2024-03-01",
          "2024-04-01",
          "2024-05-01",
          "2024-06-01"
         ],
         "xaxis": "x",
         "y": [
          1.543567409170798,
          1.4601818452823963,
          1.296972308967621,
          1.3277711386852984,
          1.632291566554538,
          2.1831064204585604
         ],
         "yaxis": "y"
        },
        {
         "hovertemplate": "phases=B<br>month=%{x}<br>kwh=%{y}<extra></extra>",
         "legendgroup": "B",
         "line": {
          "color": "#EF553B",
          "dash": "solid"
         },
         "marker": {
          "symbol": "circle"
         },
         "mode": "lines",
         "name": "B",
         "orientation": "v",
         "showlegend": true,
         "type": "scatter",
         "x": [
          "2024-01-01",
          "2024-02-01",
          "2024-03-01",
          "2024-04-01",
          "2024-05-01",
          "2024-06-01"
         ],
         "xaxis": "x",
         "y": [
          1.5169346828517107,
          1.4262688403899866,
          1.2630307229888176,
          1.3067468061189322,
          1.621886008555606,
          2.215553242986417
         ],
         "yaxis": "y"
        },
        {
         "hovertemplate": "phases=C<br>month=%{x}<br>kwh=%{y}<extra></extra>",
         "legendgroup": "C",
         "line": {
          "color": "#00cc96",
          "dash": "solid"
         },
         "marker": {
          "symbol": "circle"
         },
         "mode": "lines",
         "name": "C",
         "orientation": "v",
         "showlegend": true,
         "type": "scatter",
         "x": [
          "2024-01-01",
          "2024-02-01",
          "2024-03-01",
          "2024-04-01",
          "2024-05-01",
          "2024-06-01"
         ],
         "xaxis": "x",
         "y": [
          1.4717712109343737,
          1.3683508416826629,
          1.2165614895730457,
          1.2439123395084986,
          1.5572359468861854,
          2.1538918457104566
         ],
         "yaxis": "y"
        }
       ],
       "layout": {
        "legend": {
         "title": {
          "text": "phases"
         },
         "tracegroupgap": 0
        },
        "template": {
         "data": {
          "bar": [
           {
            "error_x": {
             "color": "#2a3f5f"
            },
            "error_y": {
             "color": "#2a3f5f"
            },
            "marker": {
             "line": {
              "color": "#E5ECF6",
              "width": 0.5
             },
             "pattern": {
              "fillmode": "overlay",
              "size": 10,
              "solidity": 0.2
             }
            },
            "type": "bar"
           }
          ],
          "barpolar": [
           {
            "marker": {
             "line": {
              "color": "#E5ECF6",
              "width": 0.5
             },
             "pattern": {
              "fillmode": "overlay",
              "size": 10,
              "solidity": 0.2
             }
            },
            "type": "barpolar"
           }
          ],
          "carpet": [
           {
            "aaxis": {
             "endlinecolor": "#2a3f5f",
             "gridcolor": "white",
             "linecolor": "white",
             "minorgridcolor": "white",
             "startlinecolor": "#2a3f5f"
            },
            "baxis": {
             "endlinecolor": "#2a3f5f",
             "gridcolor": "white",
             "linecolor": "white",
             "minorgridcolor": "white",
             "startlinecolor": "#2a3f5f"
            },
            "type": "carpet"
           }
          ],
          "choropleth": [
           {
            "colorbar": {
             "outlinewidth": 0,
             "ticks": ""
            },
            "type": "choropleth"
           }
          ],
          "contour": [
           {
            "colorbar": {
             "outlinewidth": 0,
             "ticks": ""
            },
            "colorscale": [
             [
              0,
              "#0d0887"
             ],
             [
              0.1111111111111111,
              "#46039f"
             ],
             [
              0.2222222222222222,
              "#7201a8"
             ],
             [
              0.3333333333333333,
              "#9c179e"
             ],
             [
              0.4444444444444444,
              "#bd3786"
             ],
             [
              0.5555555555555556,
              "#d8576b"
             ],
             [
              0.6666666666666666,
              "#ed7953"
             ],
             [
              0.7777777777777778,
              "#fb9f3a"
             ],
             [
              0.8888888888888888,
              "#fdca26"
             ],
             [
              1,
              "#f0f921"
             ]
            ],
            "type": "contour"
           }
          ],
          "contourcarpet": [
           {
            "colorbar": {
             "outlinewidth": 0,
             "ticks": ""
            },
            "type": "contourcarpet"
           }
          ],
          "heatmap": [
           {
            "colorbar": {
             "outlinewidth": 0,
             "ticks": ""
            },
            "colorscale": [
             [
              0,
              "#0d0887"
             ],
             [
              0.1111111111111111,
              "#46039f"
             ],
             [
              0.2222222222222222,
              "#7201a8"
             ],
             [
              0.3333333333333333,
              "#9c179e"
             ],
             [
              0.4444444444444444,
              "#bd3786"
             ],
             [
              0.5555555555555556,
              "#d8576b"
             ],
             [
              0.6666666666666666,
              "#ed7953"
             ],
             [
              0.7777777777777778,
              "#fb9f3a"
             ],
             [
              0.8888888888888888,
              "#fdca26"
             ],
             [
              1,
              "#f0f921"
             ]
            ],
            "type": "heatmap"
           }
          ],
          "heatmapgl": [
           {
            "colorbar": {
             "outlinewidth": 0,
             "ticks": ""
            },
            "colorscale": [
             [
              0,
              "#0d0887"
             ],
             [
              0.1111111111111111,
              "#46039f"
             ],
             [
              0.2222222222222222,
              "#7201a8"
             ],
             [
              0.3333333333333333,
              "#9c179e"
             ],
             [
              0.4444444444444444,
              "#bd3786"
             ],
             [
              0.5555555555555556,
              "#d8576b"
             ],
             [
              0.6666666666666666,
              "#ed7953"
             ],
             [
              0.7777777777777778,
              "#fb9f3a"
             ],
             [
              0.8888888888888888,
              "#fdca26"
             ],
             [
              1,
              "#f0f921"
             ]
            ],
            "type": "heatmapgl"
           }
          ],
          "histogram": [
           {
            "marker": {
             "pattern": {
              "fillmode": "overlay",
              "size": 10,
              "solidity": 0.2
             }
            },
            "type": "histogram"
           }
          ],
          "histogram2d": [
           {
            "colorbar": {
             "outlinewidth": 0,
             "ticks": ""
            },
            "colorscale": [
             [
              0,
              "#0d0887"
             ],
             [
              0.1111111111111111,
              "#46039f"
             ],
             [
              0.2222222222222222,
              "#7201a8"
             ],
             [
              0.3333333333333333,
              "#9c179e"
             ],
             [
              0.4444444444444444,
              "#bd3786"
             ],
             [
              0.5555555555555556,
              "#d8576b"
             ],
             [
              0.6666666666666666,
              "#ed7953"
             ],
             [
              0.7777777777777778,
              "#fb9f3a"
             ],
             [
              0.8888888888888888,
              "#fdca26"
             ],
             [
              1,
              "#f0f921"
             ]
            ],
            "type": "histogram2d"
           }
          ],
          "histogram2dcontour": [
           {
            "colorbar": {
             "outlinewidth": 0,
             "ticks": ""
            },
            "colorscale": [
             [
              0,
              "#0d0887"
             ],
             [
              0.1111111111111111,
              "#46039f"
             ],
             [
              0.2222222222222222,
              "#7201a8"
             ],
             [
              0.3333333333333333,
              "#9c179e"
             ],
             [
              0.4444444444444444,
              "#bd3786"
             ],
             [
              0.5555555555555556,
              "#d8576b"
             ],
             [
              0.6666666666666666,
              "#ed7953"
             ],
             [
              0.7777777777777778,
              "#fb9f3a"
             ],
             [
              0.8888888888888888,
              "#fdca26"
             ],
             [
              1,
              "#f0f921"
             ]
            ],
            "type": "histogram2dcontour"
           }
          ],
          "mesh3d": [
           {
            "colorbar": {
             "outlinewidth": 0,
             "ticks": ""
            },
            "type": "mesh3d"
           }
          ],
          "parcoords": [
           {
            "line": {
             "colorbar": {
              "outlinewidth": 0,
              "ticks": ""
             }
            },
            "type": "parcoords"
           }
          ],
          "pie": [
           {
            "automargin": true,
            "type": "pie"
           }
          ],
          "scatter": [
           {
            "marker": {
             "colorbar": {
              "outlinewidth": 0,
              "ticks": ""
             }
            },
            "type": "scatter"
           }
          ],
          "scatter3d": [
           {
            "line": {
             "colorbar": {
              "outlinewidth": 0,
              "ticks": ""
             }
            },
            "marker": {
             "colorbar": {
              "outlinewidth": 0,
              "ticks": ""
             }
            },
            "type": "scatter3d"
           }
          ],
          "scattercarpet": [
           {
            "marker": {
             "colorbar": {
              "outlinewidth": 0,
              "ticks": ""
             }
            },
            "type": "scattercarpet"
           }
          ],
          "scattergeo": [
           {
            "marker": {
             "colorbar": {
              "outlinewidth": 0,
              "ticks": ""
             }
            },
            "type": "scattergeo"
           }
          ],
          "scattergl": [
           {
            "marker": {
             "colorbar": {
              "outlinewidth": 0,
              "ticks": ""
             }
            },
            "type": "scattergl"
           }
          ],
          "scattermapbox": [
           {
            "marker": {
             "colorbar": {
              "outlinewidth": 0,
              "ticks": ""
             }
            },
            "type": "scattermapbox"
           }
          ],
          "scatterpolar": [
           {
            "marker": {
             "colorbar": {
              "outlinewidth": 0,
              "ticks": ""
             }
            },
            "type": "scatterpolar"
           }
          ],
          "scatterpolargl": [
           {
            "marker": {
             "colorbar": {
              "outlinewidth": 0,
              "ticks": ""
             }
            },
            "type": "scatterpolargl"
           }
          ],
          "scatterternary": [
           {
            "marker": {
             "colorbar": {
              "outlinewidth": 0,
              "ticks": ""
             }
            },
            "type": "scatterternary"
           }
          ],
          "surface": [
           {
            "colorbar": {
             "outlinewidth": 0,
             "ticks": ""
            },
            "colorscale": [
             [
              0,
              "#0d0887"
             ],
             [
              0.1111111111111111,
              "#46039f"
             ],
             [
              0.2222222222222222,
              "#7201a8"
             ],
             [
              0.3333333333333333,
              "#9c179e"
             ],
             [
              0.4444444444444444,
              "#bd3786"
             ],
             [
              0.5555555555555556,
              "#d8576b"
             ],
             [
              0.6666666666666666,
              "#ed7953"
             ],
             [
              0.7777777777777778,
              "#fb9f3a"
             ],
             [
              0.8888888888888888,
              "#fdca26"
             ],
             [
              1,
              "#f0f921"
             ]
            ],
            "type": "surface"
           }
          ],
          "table": [
           {
            "cells": {
             "fill": {
              "color": "#EBF0F8"
             },
             "line": {
              "color": "white"
             }
            },
            "header": {
             "fill": {
              "color": "#C8D4E3"
             },
             "line": {
              "color": "white"
             }
            },
            "type": "table"
           }
          ]
         },
         "layout": {
          "annotationdefaults": {
           "arrowcolor": "#2a3f5f",
           "arrowhead": 0,
           "arrowwidth": 1
          },
          "autotypenumbers": "strict",
          "coloraxis": {
           "colorbar": {
            "outlinewidth": 0,
            "ticks": ""
           }
          },
          "colorscale": {
           "diverging": [
            [
             0,
             "#8e0152"
            ],
            [
             0.1,
             "#c51b7d"
            ],
            [
             0.2,
             "#de77ae"
            ],
            [
             0.3,
             "#f1b6da"
            ],
            [
             0.4,
             "#fde0ef"
            ],
            [
             0.5,
             "#f7f7f7"
            ],
            [
             0.6,
             "#e6f5d0"
            ],
            [
             0.7,
             "#b8e186"
            ],
            [
             0.8,
             "#7fbc41"
            ],
            [
             0.9,
             "#4d9221"
            ],
            [
             1,
             "#276419"
            ]
           ],
           "sequential": [
            [
             0,
             "#0d0887"
            ],
            [
             0.1111111111111111,
             "#46039f"
            ],
            [
             0.2222222222222222,
             "#7201a8"
            ],
            [
             0.3333333333333333,
             "#9c179e"
            ],
            [
             0.4444444444444444,
             "#bd3786"
            ],
            [
             0.5555555555555556,
             "#d8576b"
            ],
            [
             0.6666666666666666,
             "#ed7953"
            ],
            [
             0.7777777777777778,
             "#fb9f3a"
            ],
            [
             0.8888888888888888,
             "#fdca26"
            ],
            [
             1,
             "#f0f921"
            ]
           ],
           "sequentialminus": [
            [
             0,
             "#0d0887"
            ],
            [
             0.1111111111111111,
             "#46039f"
            ],
            [
             0.2222222222222222,
             "#7201a8"
            ],
            [
             0.3333333333333333,
             "#9c179e"
            ],
            [
             0.4444444444444444,
             "#bd3786"
            ],
            [
             0.5555555555555556,
             "#d8576b"
            ],
            [
             0.6666666666666666,
             "#ed7953"
            ],
            [
             0.7777777777777778,
             "#fb9f3a"
            ],
            [
             0.8888888888888888,
             "#fdca26"
            ],
            [
             1,
             "#f0f921"
            ]
           ]
          },
          "colorway": [
           "#636efa",
           "#EF553B",
           "#00cc96",
           "#ab63fa",
           "#FFA15A",
           "#19d3f3",
           "#FF6692",
           "#B6E880",
           "#FF97FF",
           "#FECB52"
          ],
          "font": {
           "color": "#2a3f5f"
          },
          "geo": {
           "bgcolor": "white",
           "lakecolor": "white",
           "landcolor": "#E5ECF6",
           "showlakes": true,
           "showland": true,
           "subunitcolor": "white"
          },
          "hoverlabel": {
           "align": "left"
          },
          "hovermode": "closest",
          "mapbox": {
           "style": "light"
          },
          "paper_bgcolor": "white",
          "plot_bgcolor": "#E5ECF6",
          "polar": {
           "angularaxis": {
            "gridcolor": "white",
            "linecolor": "white",
            "ticks": ""
           },
           "bgcolor": "#E5ECF6",
           "radialaxis": {
            "gridcolor": "white",
            "linecolor": "white",
            "ticks": ""
           }
          },
          "scene": {
           "xaxis": {
            "backgroundcolor": "#E5ECF6",
            "gridcolor": "white",
            "gridwidth": 2,
            "linecolor": "white",
            "showbackground": true,
            "ticks": "",
            "zerolinecolor": "white"
           },
           "yaxis": {
            "backgroundcolor": "#E5ECF6",
            "gridcolor": "white",
            "gridwidth": 2,
            "linecolor": "white",
            "showbackground": true,
            "ticks": "",
            "zerolinecolor": "white"
           },
           "zaxis": {
            "backgroundcolor": "#E5ECF6",
            "gridcolor": "white",
            "gridwidth": 2,
            "linecolor": "white",
            "showbackground": true,
            "ticks": "",
            "zerolinecolor": "white"
           }
          },
          "shapedefaults": {
           "line": {
            "color": "#2a3f5f"
           }
          },
          "ternary": {
           "aaxis": {
            "gridcolor": "white",
            "linecolor": "white",
            "ticks": ""
           },
           "baxis": {
            "gridcolor": "white",
            "linecolor": "white",
            "ticks": ""
           },
           "bgcolor": "#E5ECF6",
           "caxis": {
            "gridcolor": "white",
            "linecolor": "white",
            "ticks": ""
           }
          },
          "title": {
           "x": 0.05
          },
          "xaxis": {
           "automargin": true,
           "gridcolor": "white",
           "linecolor": "white",
           "ticks": "",
           "title": {
            "standoff": 15
           },
           "zerolinecolor": "white",
           "zerolinewidth": 2
          },
          "yaxis": {
           "automargin": true,
           "gridcolor": "white",
           "linecolor": "white",
           "ticks": "",
           "title": {
            "standoff": 15
           },
           "zerolinecolor": "white",
           "zerolinewidth": 2
          }
         }
        },
        "title": {
         "text": "Average Hourly Consumption in each Month by Meter"
        },
        "xaxis": {
         "anchor": "y",
         "domain": [
          0,
          1
         ],
         "title": {
          "text": "month"
         }
        },
        "yaxis": {
         "anchor": "x",
         "domain": [
          0,
          1
         ],
         "title": {
          "text": "kwh"
         }
        }
       }
      }
     },
     "metadata": {},
     "output_type": "display_data"
    }
   ],
   "source": [
    "# Plot graph\n",
    "px.line(phases_month_df, x='month', y='kwh', \n",
    "        title='Average Hourly Consumption in each Month by Meter',\n",
    "        color='phases')"
   ]
  },
  {
   "cell_type": "markdown",
   "id": "99cb7976",
   "metadata": {},
   "source": [
    "### Use Case 3: by phase, cluster and month"
   ]
  },
  {
   "cell_type": "code",
   "execution_count": 25,
   "id": "1040e2b7",
   "metadata": {},
   "outputs": [],
   "source": [
    "cluster_month_df = meter_consumption_df.groupby(['phases', 'junction', 'month'])['kwh'].mean().reset_index()"
   ]
  },
  {
   "cell_type": "code",
   "execution_count": 26,
   "id": "e9a47520",
   "metadata": {},
   "outputs": [
    {
     "data": {
      "application/vnd.plotly.v1+json": {
       "config": {
        "plotlyServerURL": "https://plot.ly"
       },
       "data": [
        {
         "hovertemplate": "phases=A<br>month=%{x}<br>kwh=%{y}<extra></extra>",
         "legendgroup": "A",
         "line": {
          "color": "#636efa",
          "dash": "solid"
         },
         "marker": {
          "symbol": "circle"
         },
         "mode": "lines",
         "name": "A",
         "orientation": "v",
         "showlegend": true,
         "type": "scatter",
         "x": [
          "2024-01-01",
          "2024-02-01",
          "2024-03-01",
          "2024-04-01",
          "2024-05-01",
          "2024-06-01",
          "2024-01-01",
          "2024-02-01",
          "2024-03-01",
          "2024-04-01",
          "2024-05-01",
          "2024-06-01",
          "2024-01-01",
          "2024-02-01",
          "2024-03-01",
          "2024-04-01",
          "2024-05-01",
          "2024-06-01",
          "2024-01-01",
          "2024-02-01",
          "2024-03-01",
          "2024-04-01",
          "2024-05-01",
          "2024-06-01",
          "2024-01-01",
          "2024-02-01",
          "2024-03-01",
          "2024-04-01",
          "2024-05-01",
          "2024-06-01",
          "2024-01-01",
          "2024-02-01",
          "2024-03-01",
          "2024-04-01",
          "2024-05-01",
          "2024-06-01",
          "2024-01-01",
          "2024-02-01",
          "2024-03-01",
          "2024-04-01",
          "2024-05-01",
          "2024-06-01",
          "2024-01-01",
          "2024-02-01",
          "2024-03-01",
          "2024-04-01",
          "2024-05-01",
          "2024-06-01",
          "2024-01-01",
          "2024-02-01",
          "2024-03-01",
          "2024-04-01",
          "2024-05-01",
          "2024-06-01",
          "2024-01-01",
          "2024-02-01",
          "2024-03-01",
          "2024-04-01",
          "2024-05-01",
          "2024-06-01",
          "2024-01-01",
          "2024-02-01",
          "2024-03-01",
          "2024-04-01",
          "2024-05-01",
          "2024-06-01"
         ],
         "xaxis": "x",
         "y": [
          1.072528097533459,
          1.122017948187051,
          0.9856085217345965,
          0.9973319500409471,
          1.2750477039239976,
          1.774205106893903,
          1.7740873881557757,
          1.706385736939165,
          1.5152104069516235,
          1.5537589257180038,
          1.8628837155648397,
          2.4146789315802826,
          1.2952800392893453,
          1.2102355665807139,
          1.0209235821468334,
          1.0983728443537297,
          1.3421583347637551,
          1.899453270586286,
          1.5649846251926365,
          1.405687072897359,
          1.3237191202877965,
          1.3565754407211534,
          1.6734196196283553,
          2.3942729884152496,
          1.144709090199508,
          1.1189405772199423,
          0.9758143483439329,
          1.0157305372235663,
          1.2263805870324633,
          1.7668147885372583,
          1.6517759515224004,
          1.5476738056893402,
          1.353321282441414,
          1.4043662741373848,
          1.7721510893546215,
          2.449479830897786,
          1.687052407472422,
          1.603339908351521,
          1.3984672398918008,
          1.4469944225139857,
          1.8283369300133896,
          2.5124820700167594,
          1.1950096991812516,
          1.0117899760749616,
          0.9900803184015464,
          1.0188277774378847,
          1.2839240290743585,
          1.780322295637473,
          1.5787462707797477,
          1.4999352020162753,
          1.3296857860380509,
          1.3789371361495697,
          1.6945744469102384,
          2.2411457526248104,
          1.4781761732883403,
          1.386774486423167,
          1.2333473055612212,
          1.2500717155384982,
          1.5521010911146986,
          2.0994913356798666,
          1.1436183158335607,
          1.044028613511757,
          0.9280875131981097,
          0.9656575316303948,
          1.074361945706753,
          1.6131925001109617
         ],
         "yaxis": "y"
        },
        {
         "hovertemplate": "phases=B<br>month=%{x}<br>kwh=%{y}<extra></extra>",
         "legendgroup": "B",
         "line": {
          "color": "#EF553B",
          "dash": "solid"
         },
         "marker": {
          "symbol": "circle"
         },
         "mode": "lines",
         "name": "B",
         "orientation": "v",
         "showlegend": true,
         "type": "scatter",
         "x": [
          "2024-01-01",
          "2024-02-01",
          "2024-03-01",
          "2024-04-01",
          "2024-05-01",
          "2024-06-01",
          "2024-01-01",
          "2024-02-01",
          "2024-03-01",
          "2024-04-01",
          "2024-05-01",
          "2024-06-01",
          "2024-01-01",
          "2024-02-01",
          "2024-03-01",
          "2024-04-01",
          "2024-05-01",
          "2024-06-01",
          "2024-01-01",
          "2024-02-01",
          "2024-03-01",
          "2024-04-01",
          "2024-05-01",
          "2024-06-01",
          "2024-01-01",
          "2024-02-01",
          "2024-03-01",
          "2024-04-01",
          "2024-05-01",
          "2024-06-01",
          "2024-01-01",
          "2024-02-01",
          "2024-03-01",
          "2024-04-01",
          "2024-05-01",
          "2024-06-01",
          "2024-01-01",
          "2024-02-01",
          "2024-03-01",
          "2024-04-01",
          "2024-05-01",
          "2024-06-01",
          "2024-01-01",
          "2024-02-01",
          "2024-03-01",
          "2024-04-01",
          "2024-05-01",
          "2024-06-01",
          "2024-01-01",
          "2024-02-01",
          "2024-03-01",
          "2024-04-01",
          "2024-05-01",
          "2024-06-01",
          "2024-01-01",
          "2024-02-01",
          "2024-03-01",
          "2024-04-01",
          "2024-05-01",
          "2024-06-01",
          "2024-01-01",
          "2024-02-01",
          "2024-03-01",
          "2024-04-01",
          "2024-05-01",
          "2024-06-01",
          "2024-01-01",
          "2024-02-01",
          "2024-03-01",
          "2024-04-01",
          "2024-05-01",
          "2024-06-01"
         ],
         "xaxis": "x",
         "y": [
          2.3016085965804853,
          2.205482345454614,
          1.920423125414095,
          1.9797116589814774,
          2.503497665678713,
          3.44796245630525,
          1.5386732343406346,
          1.437321694853284,
          1.2721137100451356,
          1.3186949994564485,
          1.6345965667061975,
          2.2163156498835965,
          1.7912776612046324,
          1.6876738286925634,
          1.4441155406984532,
          1.4552192888002484,
          1.9240786673028403,
          2.673839724452614,
          0.8202187811012092,
          0.7701352648596084,
          0.6686505037478302,
          0.7006927482662579,
          0.8728490478092552,
          1.225044970081341,
          1.7761036868355988,
          1.8852649659582126,
          1.6388266111789893,
          1.7206478270288146,
          2.150992925027543,
          2.984954081834041,
          1.344958575026701,
          1.2649615959338114,
          1.1146017311242702,
          1.1553246665137251,
          1.2753252577129306,
          2.0007809087923936,
          1.3652705536884355,
          1.25702740103387,
          1.1414035189711293,
          1.1846908529943214,
          1.4923619068840381,
          2.041545264902017,
          1.162472678329301,
          1.0089158509540157,
          0.9480005285370684,
          0.9936801359925825,
          1.2637040382091842,
          1.689535372930875,
          1.214146477607728,
          1.3643821838644885,
          1.2507499707456116,
          1.2841982701275745,
          1.6202831275470915,
          2.246897497614567,
          1.5791540248183464,
          1.6446899298784294,
          1.4279395830209434,
          1.4112278788212593,
          1.652425668934663,
          2.588128387894588,
          0.6629555879027358,
          0.6545115450809654,
          0.5744932715653672,
          0.5935080932028567,
          0.7456026165417978,
          1.0390438162544144,
          1.1678044330302073,
          1.1341018512156809,
          1.0763094675778604,
          1.0954280244912675,
          1.3474080567188729,
          1.860444452678579
         ],
         "yaxis": "y"
        },
        {
         "hovertemplate": "phases=C<br>month=%{x}<br>kwh=%{y}<extra></extra>",
         "legendgroup": "C",
         "line": {
          "color": "#00cc96",
          "dash": "solid"
         },
         "marker": {
          "symbol": "circle"
         },
         "mode": "lines",
         "name": "C",
         "orientation": "v",
         "showlegend": true,
         "type": "scatter",
         "x": [
          "2024-01-01",
          "2024-02-01",
          "2024-03-01",
          "2024-04-01",
          "2024-05-01",
          "2024-06-01",
          "2024-01-01",
          "2024-02-01",
          "2024-03-01",
          "2024-04-01",
          "2024-05-01",
          "2024-06-01",
          "2024-01-01",
          "2024-02-01",
          "2024-03-01",
          "2024-04-01",
          "2024-05-01",
          "2024-06-01",
          "2024-01-01",
          "2024-02-01",
          "2024-03-01",
          "2024-04-01",
          "2024-05-01",
          "2024-06-01",
          "2024-01-01",
          "2024-02-01",
          "2024-03-01",
          "2024-04-01",
          "2024-05-01",
          "2024-06-01",
          "2024-01-01",
          "2024-02-01",
          "2024-03-01",
          "2024-04-01",
          "2024-05-01",
          "2024-06-01",
          "2024-01-01",
          "2024-02-01",
          "2024-03-01",
          "2024-04-01",
          "2024-05-01",
          "2024-06-01",
          "2024-01-01",
          "2024-02-01",
          "2024-03-01",
          "2024-04-01",
          "2024-05-01",
          "2024-06-01",
          "2024-01-01",
          "2024-02-01",
          "2024-03-01",
          "2024-04-01",
          "2024-05-01",
          "2024-06-01",
          "2024-01-01",
          "2024-02-01",
          "2024-03-01",
          "2024-04-01",
          "2024-05-01",
          "2024-06-01",
          "2024-01-01",
          "2024-02-01",
          "2024-03-01",
          "2024-04-01",
          "2024-05-01",
          "2024-06-01",
          "2024-01-01",
          "2024-02-01",
          "2024-03-01",
          "2024-04-01",
          "2024-05-01",
          "2024-06-01",
          "2024-01-01",
          "2024-02-01",
          "2024-03-01",
          "2024-04-01",
          "2024-05-01",
          "2024-06-01",
          "2024-01-01",
          "2024-02-01",
          "2024-03-01",
          "2024-04-01",
          "2024-05-01",
          "2024-06-01",
          "2024-01-01",
          "2024-02-01",
          "2024-03-01",
          "2024-04-01",
          "2024-05-01",
          "2024-06-01"
         ],
         "xaxis": "x",
         "y": [
          1.1441670590230808,
          1.0702548078273837,
          0.9504104992147591,
          0.9811398801456792,
          1.2347511736442696,
          1.708247595713678,
          1.6961630045722327,
          1.5790145088814165,
          1.3905225759506548,
          1.4281969535173045,
          1.7856666660450509,
          2.518785510730861,
          1.7043756225703661,
          1.4654682531056542,
          1.6828722550245363,
          1.8120550432484284,
          2.2666238894016986,
          3.1018757275932702,
          1.6917800313339555,
          1.556274349491044,
          1.361867886904681,
          1.5058410984907014,
          1.8926709253540075,
          2.4031490812197935,
          1.265852884349887,
          1.2107323245939834,
          1.0526171008947296,
          1.0867102724381177,
          1.332558738016941,
          1.852289849567616,
          1.5561593715512745,
          1.3985669176690456,
          1.2919353312364483,
          1.3181196212679833,
          1.589486337126807,
          2.311755661623622,
          1.32382409527117,
          1.2544773582047992,
          1.0947027485039096,
          1.134347287224705,
          1.4142461870394005,
          1.4593804419197738,
          1.88082992942436,
          1.7688221492143439,
          1.4912085308189569,
          1.5992824795987142,
          2.007596983848603,
          2.799468548388662,
          1.7476125326605372,
          1.6169081207911125,
          1.4470914433665176,
          1.5168490598732736,
          1.921459934516463,
          2.620124946825788,
          1.4003346815862077,
          1.3094149177672616,
          1.132534753212048,
          1.0901755519229497,
          1.3712521378091254,
          1.97159030205267,
          1.0502610153053205,
          0.9840695070269563,
          0.8672737505945306,
          0.8977318196987037,
          1.0760060350253757,
          1.5600995065679495,
          1.227299585977075,
          1.1594465151190685,
          1.0068615480200709,
          1.0455760398564717,
          1.3198494044806774,
          1.8139630938839724,
          1.6862954004447075,
          1.646084571183123,
          1.5284896698382455,
          1.577985789862823,
          1.9899862158090305,
          2.7534471830511245,
          1.748682892342409,
          1.581206334292656,
          1.4241867145803309,
          1.3864454942474371,
          1.8604045741374873,
          2.5630765803223032,
          1.8226742915831078,
          1.6503213810121282,
          1.5299221637825091,
          1.5571078466532438,
          1.9180119961904092,
          2.6713712318226785
         ],
         "yaxis": "y"
        }
       ],
       "layout": {
        "legend": {
         "title": {
          "text": "phases"
         },
         "tracegroupgap": 0
        },
        "template": {
         "data": {
          "bar": [
           {
            "error_x": {
             "color": "#2a3f5f"
            },
            "error_y": {
             "color": "#2a3f5f"
            },
            "marker": {
             "line": {
              "color": "#E5ECF6",
              "width": 0.5
             },
             "pattern": {
              "fillmode": "overlay",
              "size": 10,
              "solidity": 0.2
             }
            },
            "type": "bar"
           }
          ],
          "barpolar": [
           {
            "marker": {
             "line": {
              "color": "#E5ECF6",
              "width": 0.5
             },
             "pattern": {
              "fillmode": "overlay",
              "size": 10,
              "solidity": 0.2
             }
            },
            "type": "barpolar"
           }
          ],
          "carpet": [
           {
            "aaxis": {
             "endlinecolor": "#2a3f5f",
             "gridcolor": "white",
             "linecolor": "white",
             "minorgridcolor": "white",
             "startlinecolor": "#2a3f5f"
            },
            "baxis": {
             "endlinecolor": "#2a3f5f",
             "gridcolor": "white",
             "linecolor": "white",
             "minorgridcolor": "white",
             "startlinecolor": "#2a3f5f"
            },
            "type": "carpet"
           }
          ],
          "choropleth": [
           {
            "colorbar": {
             "outlinewidth": 0,
             "ticks": ""
            },
            "type": "choropleth"
           }
          ],
          "contour": [
           {
            "colorbar": {
             "outlinewidth": 0,
             "ticks": ""
            },
            "colorscale": [
             [
              0,
              "#0d0887"
             ],
             [
              0.1111111111111111,
              "#46039f"
             ],
             [
              0.2222222222222222,
              "#7201a8"
             ],
             [
              0.3333333333333333,
              "#9c179e"
             ],
             [
              0.4444444444444444,
              "#bd3786"
             ],
             [
              0.5555555555555556,
              "#d8576b"
             ],
             [
              0.6666666666666666,
              "#ed7953"
             ],
             [
              0.7777777777777778,
              "#fb9f3a"
             ],
             [
              0.8888888888888888,
              "#fdca26"
             ],
             [
              1,
              "#f0f921"
             ]
            ],
            "type": "contour"
           }
          ],
          "contourcarpet": [
           {
            "colorbar": {
             "outlinewidth": 0,
             "ticks": ""
            },
            "type": "contourcarpet"
           }
          ],
          "heatmap": [
           {
            "colorbar": {
             "outlinewidth": 0,
             "ticks": ""
            },
            "colorscale": [
             [
              0,
              "#0d0887"
             ],
             [
              0.1111111111111111,
              "#46039f"
             ],
             [
              0.2222222222222222,
              "#7201a8"
             ],
             [
              0.3333333333333333,
              "#9c179e"
             ],
             [
              0.4444444444444444,
              "#bd3786"
             ],
             [
              0.5555555555555556,
              "#d8576b"
             ],
             [
              0.6666666666666666,
              "#ed7953"
             ],
             [
              0.7777777777777778,
              "#fb9f3a"
             ],
             [
              0.8888888888888888,
              "#fdca26"
             ],
             [
              1,
              "#f0f921"
             ]
            ],
            "type": "heatmap"
           }
          ],
          "heatmapgl": [
           {
            "colorbar": {
             "outlinewidth": 0,
             "ticks": ""
            },
            "colorscale": [
             [
              0,
              "#0d0887"
             ],
             [
              0.1111111111111111,
              "#46039f"
             ],
             [
              0.2222222222222222,
              "#7201a8"
             ],
             [
              0.3333333333333333,
              "#9c179e"
             ],
             [
              0.4444444444444444,
              "#bd3786"
             ],
             [
              0.5555555555555556,
              "#d8576b"
             ],
             [
              0.6666666666666666,
              "#ed7953"
             ],
             [
              0.7777777777777778,
              "#fb9f3a"
             ],
             [
              0.8888888888888888,
              "#fdca26"
             ],
             [
              1,
              "#f0f921"
             ]
            ],
            "type": "heatmapgl"
           }
          ],
          "histogram": [
           {
            "marker": {
             "pattern": {
              "fillmode": "overlay",
              "size": 10,
              "solidity": 0.2
             }
            },
            "type": "histogram"
           }
          ],
          "histogram2d": [
           {
            "colorbar": {
             "outlinewidth": 0,
             "ticks": ""
            },
            "colorscale": [
             [
              0,
              "#0d0887"
             ],
             [
              0.1111111111111111,
              "#46039f"
             ],
             [
              0.2222222222222222,
              "#7201a8"
             ],
             [
              0.3333333333333333,
              "#9c179e"
             ],
             [
              0.4444444444444444,
              "#bd3786"
             ],
             [
              0.5555555555555556,
              "#d8576b"
             ],
             [
              0.6666666666666666,
              "#ed7953"
             ],
             [
              0.7777777777777778,
              "#fb9f3a"
             ],
             [
              0.8888888888888888,
              "#fdca26"
             ],
             [
              1,
              "#f0f921"
             ]
            ],
            "type": "histogram2d"
           }
          ],
          "histogram2dcontour": [
           {
            "colorbar": {
             "outlinewidth": 0,
             "ticks": ""
            },
            "colorscale": [
             [
              0,
              "#0d0887"
             ],
             [
              0.1111111111111111,
              "#46039f"
             ],
             [
              0.2222222222222222,
              "#7201a8"
             ],
             [
              0.3333333333333333,
              "#9c179e"
             ],
             [
              0.4444444444444444,
              "#bd3786"
             ],
             [
              0.5555555555555556,
              "#d8576b"
             ],
             [
              0.6666666666666666,
              "#ed7953"
             ],
             [
              0.7777777777777778,
              "#fb9f3a"
             ],
             [
              0.8888888888888888,
              "#fdca26"
             ],
             [
              1,
              "#f0f921"
             ]
            ],
            "type": "histogram2dcontour"
           }
          ],
          "mesh3d": [
           {
            "colorbar": {
             "outlinewidth": 0,
             "ticks": ""
            },
            "type": "mesh3d"
           }
          ],
          "parcoords": [
           {
            "line": {
             "colorbar": {
              "outlinewidth": 0,
              "ticks": ""
             }
            },
            "type": "parcoords"
           }
          ],
          "pie": [
           {
            "automargin": true,
            "type": "pie"
           }
          ],
          "scatter": [
           {
            "marker": {
             "colorbar": {
              "outlinewidth": 0,
              "ticks": ""
             }
            },
            "type": "scatter"
           }
          ],
          "scatter3d": [
           {
            "line": {
             "colorbar": {
              "outlinewidth": 0,
              "ticks": ""
             }
            },
            "marker": {
             "colorbar": {
              "outlinewidth": 0,
              "ticks": ""
             }
            },
            "type": "scatter3d"
           }
          ],
          "scattercarpet": [
           {
            "marker": {
             "colorbar": {
              "outlinewidth": 0,
              "ticks": ""
             }
            },
            "type": "scattercarpet"
           }
          ],
          "scattergeo": [
           {
            "marker": {
             "colorbar": {
              "outlinewidth": 0,
              "ticks": ""
             }
            },
            "type": "scattergeo"
           }
          ],
          "scattergl": [
           {
            "marker": {
             "colorbar": {
              "outlinewidth": 0,
              "ticks": ""
             }
            },
            "type": "scattergl"
           }
          ],
          "scattermapbox": [
           {
            "marker": {
             "colorbar": {
              "outlinewidth": 0,
              "ticks": ""
             }
            },
            "type": "scattermapbox"
           }
          ],
          "scatterpolar": [
           {
            "marker": {
             "colorbar": {
              "outlinewidth": 0,
              "ticks": ""
             }
            },
            "type": "scatterpolar"
           }
          ],
          "scatterpolargl": [
           {
            "marker": {
             "colorbar": {
              "outlinewidth": 0,
              "ticks": ""
             }
            },
            "type": "scatterpolargl"
           }
          ],
          "scatterternary": [
           {
            "marker": {
             "colorbar": {
              "outlinewidth": 0,
              "ticks": ""
             }
            },
            "type": "scatterternary"
           }
          ],
          "surface": [
           {
            "colorbar": {
             "outlinewidth": 0,
             "ticks": ""
            },
            "colorscale": [
             [
              0,
              "#0d0887"
             ],
             [
              0.1111111111111111,
              "#46039f"
             ],
             [
              0.2222222222222222,
              "#7201a8"
             ],
             [
              0.3333333333333333,
              "#9c179e"
             ],
             [
              0.4444444444444444,
              "#bd3786"
             ],
             [
              0.5555555555555556,
              "#d8576b"
             ],
             [
              0.6666666666666666,
              "#ed7953"
             ],
             [
              0.7777777777777778,
              "#fb9f3a"
             ],
             [
              0.8888888888888888,
              "#fdca26"
             ],
             [
              1,
              "#f0f921"
             ]
            ],
            "type": "surface"
           }
          ],
          "table": [
           {
            "cells": {
             "fill": {
              "color": "#EBF0F8"
             },
             "line": {
              "color": "white"
             }
            },
            "header": {
             "fill": {
              "color": "#C8D4E3"
             },
             "line": {
              "color": "white"
             }
            },
            "type": "table"
           }
          ]
         },
         "layout": {
          "annotationdefaults": {
           "arrowcolor": "#2a3f5f",
           "arrowhead": 0,
           "arrowwidth": 1
          },
          "autotypenumbers": "strict",
          "coloraxis": {
           "colorbar": {
            "outlinewidth": 0,
            "ticks": ""
           }
          },
          "colorscale": {
           "diverging": [
            [
             0,
             "#8e0152"
            ],
            [
             0.1,
             "#c51b7d"
            ],
            [
             0.2,
             "#de77ae"
            ],
            [
             0.3,
             "#f1b6da"
            ],
            [
             0.4,
             "#fde0ef"
            ],
            [
             0.5,
             "#f7f7f7"
            ],
            [
             0.6,
             "#e6f5d0"
            ],
            [
             0.7,
             "#b8e186"
            ],
            [
             0.8,
             "#7fbc41"
            ],
            [
             0.9,
             "#4d9221"
            ],
            [
             1,
             "#276419"
            ]
           ],
           "sequential": [
            [
             0,
             "#0d0887"
            ],
            [
             0.1111111111111111,
             "#46039f"
            ],
            [
             0.2222222222222222,
             "#7201a8"
            ],
            [
             0.3333333333333333,
             "#9c179e"
            ],
            [
             0.4444444444444444,
             "#bd3786"
            ],
            [
             0.5555555555555556,
             "#d8576b"
            ],
            [
             0.6666666666666666,
             "#ed7953"
            ],
            [
             0.7777777777777778,
             "#fb9f3a"
            ],
            [
             0.8888888888888888,
             "#fdca26"
            ],
            [
             1,
             "#f0f921"
            ]
           ],
           "sequentialminus": [
            [
             0,
             "#0d0887"
            ],
            [
             0.1111111111111111,
             "#46039f"
            ],
            [
             0.2222222222222222,
             "#7201a8"
            ],
            [
             0.3333333333333333,
             "#9c179e"
            ],
            [
             0.4444444444444444,
             "#bd3786"
            ],
            [
             0.5555555555555556,
             "#d8576b"
            ],
            [
             0.6666666666666666,
             "#ed7953"
            ],
            [
             0.7777777777777778,
             "#fb9f3a"
            ],
            [
             0.8888888888888888,
             "#fdca26"
            ],
            [
             1,
             "#f0f921"
            ]
           ]
          },
          "colorway": [
           "#636efa",
           "#EF553B",
           "#00cc96",
           "#ab63fa",
           "#FFA15A",
           "#19d3f3",
           "#FF6692",
           "#B6E880",
           "#FF97FF",
           "#FECB52"
          ],
          "font": {
           "color": "#2a3f5f"
          },
          "geo": {
           "bgcolor": "white",
           "lakecolor": "white",
           "landcolor": "#E5ECF6",
           "showlakes": true,
           "showland": true,
           "subunitcolor": "white"
          },
          "hoverlabel": {
           "align": "left"
          },
          "hovermode": "closest",
          "mapbox": {
           "style": "light"
          },
          "paper_bgcolor": "white",
          "plot_bgcolor": "#E5ECF6",
          "polar": {
           "angularaxis": {
            "gridcolor": "white",
            "linecolor": "white",
            "ticks": ""
           },
           "bgcolor": "#E5ECF6",
           "radialaxis": {
            "gridcolor": "white",
            "linecolor": "white",
            "ticks": ""
           }
          },
          "scene": {
           "xaxis": {
            "backgroundcolor": "#E5ECF6",
            "gridcolor": "white",
            "gridwidth": 2,
            "linecolor": "white",
            "showbackground": true,
            "ticks": "",
            "zerolinecolor": "white"
           },
           "yaxis": {
            "backgroundcolor": "#E5ECF6",
            "gridcolor": "white",
            "gridwidth": 2,
            "linecolor": "white",
            "showbackground": true,
            "ticks": "",
            "zerolinecolor": "white"
           },
           "zaxis": {
            "backgroundcolor": "#E5ECF6",
            "gridcolor": "white",
            "gridwidth": 2,
            "linecolor": "white",
            "showbackground": true,
            "ticks": "",
            "zerolinecolor": "white"
           }
          },
          "shapedefaults": {
           "line": {
            "color": "#2a3f5f"
           }
          },
          "ternary": {
           "aaxis": {
            "gridcolor": "white",
            "linecolor": "white",
            "ticks": ""
           },
           "baxis": {
            "gridcolor": "white",
            "linecolor": "white",
            "ticks": ""
           },
           "bgcolor": "#E5ECF6",
           "caxis": {
            "gridcolor": "white",
            "linecolor": "white",
            "ticks": ""
           }
          },
          "title": {
           "x": 0.05
          },
          "xaxis": {
           "automargin": true,
           "gridcolor": "white",
           "linecolor": "white",
           "ticks": "",
           "title": {
            "standoff": 15
           },
           "zerolinecolor": "white",
           "zerolinewidth": 2
          },
          "yaxis": {
           "automargin": true,
           "gridcolor": "white",
           "linecolor": "white",
           "ticks": "",
           "title": {
            "standoff": 15
           },
           "zerolinecolor": "white",
           "zerolinewidth": 2
          }
         }
        },
        "title": {
         "text": "Average Hourly Consumption in each Month by Cluster"
        },
        "xaxis": {
         "anchor": "y",
         "domain": [
          0,
          1
         ],
         "title": {
          "text": "month"
         }
        },
        "yaxis": {
         "anchor": "x",
         "domain": [
          0,
          1
         ],
         "title": {
          "text": "kwh"
         }
        }
       }
      }
     },
     "metadata": {},
     "output_type": "display_data"
    }
   ],
   "source": [
    "# Plot graph\n",
    "px.line(cluster_month_df, x='month', y='kwh', \n",
    "        title='Average Hourly Consumption in each Month by Cluster',\n",
    "        color='phases')"
   ]
  },
  {
   "cell_type": "code",
   "execution_count": null,
   "id": "05bf3335",
   "metadata": {},
   "outputs": [],
   "source": []
  }
 ],
 "metadata": {
  "kernelspec": {
   "display_name": "Python 3 (ipykernel)",
   "language": "python",
   "name": "python3"
  },
  "language_info": {
   "codemirror_mode": {
    "name": "ipython",
    "version": 3
   },
   "file_extension": ".py",
   "mimetype": "text/x-python",
   "name": "python",
   "nbconvert_exporter": "python",
   "pygments_lexer": "ipython3",
   "version": "3.11.9"
  }
 },
 "nbformat": 4,
 "nbformat_minor": 5
}
