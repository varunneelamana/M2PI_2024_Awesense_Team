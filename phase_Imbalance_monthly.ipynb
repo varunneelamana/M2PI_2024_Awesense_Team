{
 "cells": [
  {
   "cell_type": "markdown",
   "id": "6d5548af",
   "metadata": {},
   "source": [
    "## Overview"
   ]
  },
  {
   "cell_type": "markdown",
   "id": "14577429",
   "metadata": {},
   "source": [
    "This notebook is intended to:\n",
    "- Demonstrate how to access time series data for meters and SCADAs using Awesense's Energy Data Model (EDM) SQL API.\n",
    "\n",
    "Please refer to the [main_concepts.ipynb](../2_main_concepts/main_concepts.ipynb) notebook for a high-level introduction to and simpler examples of the core views and functions available in Awesense's Energy Data Model (EDM)."
   ]
  },
  {
   "cell_type": "markdown",
   "id": "59d759b0",
   "metadata": {},
   "source": [
    "---"
   ]
  },
  {
   "cell_type": "markdown",
   "id": "dd853fa5",
   "metadata": {},
   "source": [
    "## Set up"
   ]
  },
  {
   "cell_type": "code",
   "execution_count": 1,
   "id": "55bebef7",
   "metadata": {
    "tags": []
   },
   "outputs": [],
   "source": [
    "import getpass\n",
    "import plotly.express as px\n",
    "import plotly.io as pio\n",
    "import time\n",
    "import urllib.parse\n",
    "import pandas as pd\n",
    "\n",
    "# Allow charts to persist between notebook sessions.\n",
    "pio.renderers.default='notebook'"
   ]
  },
  {
   "cell_type": "markdown",
   "id": "b8693057",
   "metadata": {},
   "source": [
    "**Connection**\n",
    "\n",
    "Enter the EDM server address and the login credentials provided by Awesense. If you do not have the credentials, or have any trouble connecting, please contact api@awesense.com.\n",
    "<span style='color:red'> **Please do NOT store the credentials in the notebook, nor share them with anyone.** </span>"
   ]
  },
  {
   "cell_type": "code",
   "execution_count": 2,
   "id": "f9064f1d",
   "metadata": {
    "tags": []
   },
   "outputs": [
    {
     "name": "stdout",
     "output_type": "stream",
     "text": [
      "EDM server address: ········\n",
      "\n",
      "EDM login information\n",
      "Username: ········\n",
      "Password: ········\n"
     ]
    }
   ],
   "source": [
    "edm_address = getpass.getpass(prompt='EDM server address: ')\n",
    "\n",
    "print('\\nEDM login information')\n",
    "edm_name = getpass.getpass(prompt='Username: ')\n",
    "edm_password = getpass.getpass(prompt='Password: ')\n",
    "edm_password = urllib.parse.quote(edm_password)\n",
    "\n",
    "%load_ext sql\n",
    "%sql postgresql://$edm_name:$edm_password@$edm_address/edm\n",
    "%config SqlMagic.displaycon = False\n",
    "%config SqlMagic.feedback = False\n",
    "\n",
    "# Delete the credential variables for security purpose.\n",
    "del edm_name, edm_password"
   ]
  },
  {
   "cell_type": "markdown",
   "id": "17c75524",
   "metadata": {},
   "source": [
    "---"
   ]
  },
  {
   "cell_type": "markdown",
   "id": "262fd82d",
   "metadata": {},
   "source": [
    "## Time Series\n",
    "Various temporary views are created below to optimize query performance within the notebook."
   ]
  },
  {
   "cell_type": "markdown",
   "id": "3ebabd41",
   "metadata": {},
   "source": [
    "### Meter Time Series"
   ]
  },
  {
   "cell_type": "markdown",
   "id": "f26d375c",
   "metadata": {},
   "source": [
    "*High level approach*\n",
    "- Create a temporary view `grid_element_metric`, containing information on meters for grid elements and convenient access to the actual data.\n",
    "- The `grid_get_downstream()` function is used to gather information of meters that are downstream of a specified grid element.\n",
    "- Time series are retrieved using the `ts_data_source_select()` function."
   ]
  },
  {
   "cell_type": "markdown",
   "id": "ba5a41c9",
   "metadata": {},
   "source": [
    "**Grid Element Data**\n",
    "* Create a temporary view `grid_element_metric`. "
   ]
  },
  {
   "cell_type": "code",
   "execution_count": 3,
   "id": "5af0586b",
   "metadata": {
    "tags": []
   },
   "outputs": [
    {
     "data": {
      "text/plain": [
       "[]"
      ]
     },
     "execution_count": 3,
     "metadata": {},
     "output_type": "execute_result"
    }
   ],
   "source": [
    "%%sql\n",
    "    \n",
    "CREATE OR REPLACE TEMPORARY VIEW grid_element_metric AS\n",
    "    SELECT grid_id,\n",
    "            grid_element_id,\n",
    "            phases,\n",
    "            type,\n",
    "            provider,\n",
    "            direction,\n",
    "            friendly_id,\n",
    "            metric_key AS metric,\n",
    "            valid,\n",
    "            timestamp,\n",
    "            value\n",
    "    FROM grid_element_data_source geds\n",
    "    JOIN UNNEST(geds.metrics::TEXT[]) AS metric_key\n",
    "        ON true\n",
    "    LEFT JOIN ts_data_source_select(grid_element_data_source_id, metric_key) AS ts\n",
    "        ON true;"
   ]
  },
  {
   "cell_type": "markdown",
   "id": "585573a6",
   "metadata": {},
   "source": [
    "**Downstream of a Grid** \n",
    "- Specify `grid_id` and `grid_element_id` whose downstream meter data to fetch for."
   ]
  },
  {
   "cell_type": "code",
   "execution_count": 4,
   "id": "6bf7bb0d",
   "metadata": {
    "tags": []
   },
   "outputs": [
    {
     "name": "stdout",
     "output_type": "stream",
     "text": [
      "Grid Id: North Central Zone\n",
      "Grid Element Id: 12373_hvmv\n"
     ]
    }
   ],
   "source": [
    "grid_id = input('Grid Id: ') # awefice\n",
    "grid_element_id = input('Grid Element Id: ') # line_segment_57"
   ]
  },
  {
   "cell_type": "markdown",
   "id": "3f569fd8",
   "metadata": {},
   "source": [
    "Check when this grid was last updated."
   ]
  },
  {
   "cell_type": "code",
   "execution_count": 5,
   "id": "97f44a8b",
   "metadata": {
    "tags": []
   },
   "outputs": [
    {
     "data": {
      "text/html": [
       "<table>\n",
       "    <tr>\n",
       "        <th>last_updated</th>\n",
       "    </tr>\n",
       "    <tr>\n",
       "        <td>2021-01-01 20:00:00+00:00</td>\n",
       "    </tr>\n",
       "</table>"
      ],
      "text/plain": [
       "[(datetime.datetime(2021, 1, 1, 20, 0, tzinfo=datetime.timezone.utc),)]"
      ]
     },
     "execution_count": 5,
     "metadata": {},
     "output_type": "execute_result"
    }
   ],
   "source": [
    "%%sql\n",
    "\n",
    "SELECT last_updated\n",
    "FROM grid\n",
    "WHERE grid_id = '{grid_id}';"
   ]
  },
  {
   "cell_type": "markdown",
   "id": "ca2dd854",
   "metadata": {},
   "source": [
    "- Create a temporary view `meter_data_source` to make it more convenient to access the data sources for the grid elements in the trace for the specified element."
   ]
  },
  {
   "cell_type": "code",
   "execution_count": 6,
   "id": "2e727c4e",
   "metadata": {},
   "outputs": [
    {
     "data": {
      "text/plain": [
       "[]"
      ]
     },
     "execution_count": 6,
     "metadata": {},
     "output_type": "execute_result"
    }
   ],
   "source": [
    "%%sql\n",
    "\n",
    "CREATE OR REPLACE TEMPORARY VIEW meter_data_source2 AS\n",
    "    SELECT meter.grid_id,\n",
    "            meter.grid_element_id,\n",
    "            geds.grid_element_data_source_id,\n",
    "            geds.friendly_id,\n",
    "            geds.phases,\n",
    "            geds.provider,\n",
    "            metric_key as metric,\n",
    "            lower(geds.valid) as start_time,\n",
    "            upper(geds.valid) as end_time\n",
    "    FROM grid_get_downstream('{grid_id}', '{grid_element_id}') AS meter\n",
    "    LEFT JOIN grid_element_data_source geds\n",
    "        ON meter.grid_element_id = geds.grid_element_id\n",
    "        AND meter.grid_id = geds.grid_id\n",
    "        AND geds.type = 'CONSUMER'\n",
    "    JOIN UNNEST(geds.metrics::TEXT[]) AS metric_key\n",
    "        ON true\n",
    "    WHERE meter.type = 'Meter';"
   ]
  },
  {
   "cell_type": "markdown",
   "id": "6bd7aa5f",
   "metadata": {},
   "source": [
    "**Consumption Data**\n",
    "- Create a temporary view `meter_consumption` with the meter readings."
   ]
  },
  {
   "cell_type": "code",
   "execution_count": 7,
   "id": "4fe59e7e",
   "metadata": {},
   "outputs": [
    {
     "data": {
      "text/plain": [
       "[]"
      ]
     },
     "execution_count": 7,
     "metadata": {},
     "output_type": "execute_result"
    }
   ],
   "source": [
    "%%sql\n",
    "\n",
    "CREATE OR REPLACE TEMPORARY VIEW meter_consumption2 AS\n",
    "SELECT meter.grid_id,\n",
    "        meter.grid_element_id,\n",
    "        meter.friendly_id,\n",
    "        timestamp,\n",
    "        value AS kWh,\n",
    "        meter.phases\n",
    "FROM meter_data_source2 meter\n",
    "LEFT JOIN grid_element_metric gem\n",
    "    ON gem.grid_id = meter.grid_id\n",
    "    AND gem.grid_element_id = meter.grid_element_id\n",
    "WHERE gem.metric = 'kWh'\n",
    "   AND gem.type = 'CONSUMER';"
   ]
  },
  {
   "cell_type": "markdown",
   "id": "010b5395",
   "metadata": {},
   "source": [
    "**Summary**\n",
    "- Return a high-level summary of the time series data."
   ]
  },
  {
   "cell_type": "code",
   "execution_count": 8,
   "id": "3c2b162f",
   "metadata": {},
   "outputs": [
    {
     "data": {
      "text/html": [
       "<table>\n",
       "    <tr>\n",
       "        <th>name</th>\n",
       "        <th>value</th>\n",
       "    </tr>\n",
       "    <tr>\n",
       "        <td>Meters Found</td>\n",
       "        <td>316</td>\n",
       "    </tr>\n",
       "    <tr>\n",
       "        <td>Meters w/ Datasources</td>\n",
       "        <td>316</td>\n",
       "    </tr>\n",
       "    <tr>\n",
       "        <td>Common DS Timerange</td>\n",
       "        <td>2021-01-01 08:00:00+00 - </td>\n",
       "    </tr>\n",
       "    <tr>\n",
       "        <td>Common Timeseries Timerange</td>\n",
       "        <td>2021-01-01 05:00:00+00 - 2024-06-14 15:00:00+00</td>\n",
       "    </tr>\n",
       "    <tr>\n",
       "        <td>Total Consumption</td>\n",
       "        <td>33101258.99746662</td>\n",
       "    </tr>\n",
       "</table>"
      ],
      "text/plain": [
       "[('Meters Found', '316'),\n",
       " ('Meters w/ Datasources', '316'),\n",
       " ('Common DS Timerange', '2021-01-01 08:00:00+00 - '),\n",
       " ('Common Timeseries Timerange', '2021-01-01 05:00:00+00 - 2024-06-14 15:00:00+00'),\n",
       " ('Total Consumption', '33101258.99746662')]"
      ]
     },
     "execution_count": 8,
     "metadata": {},
     "output_type": "execute_result"
    }
   ],
   "source": [
    "%%sql\n",
    "\n",
    "WITH ts_stats2 AS (\n",
    "    SELECT SUM(kWh) AS kWh, MIN(timestamp) AS start_timerange, MAX(timestamp) AS end_timerange\n",
    "    FROM meter_consumption2\n",
    ")\n",
    "SELECT name, value FROM (\n",
    "    SELECT 1 AS idx, 'Meters Found' AS name, (SELECT COUNT(DISTINCT grid_element_id) FROM meter_data_source2)::text AS value\n",
    "    UNION\n",
    "    SELECT 2, 'Meters w/ Datasources', (SELECT COUNT(DISTINCT grid_element_id) FROM meter_data_source2 WHERE grid_element_data_source_id IS NOT NULL)::text\n",
    "    UNION\n",
    "    SELECT 3, 'Common DS Timerange', (SELECT CONCAT(MAX(start_time), ' - ',  MIN(end_time)) FROM meter_data_source2)::text\n",
    "    UNION\n",
    "    SELECT 4, 'Common Timeseries Timerange', (SELECT CONCAT(start_timerange, ' - ', end_timerange) FROM ts_stats2)::text\n",
    "    UNION\n",
    "    SELECT 5, 'Total Consumption', (SELECT kwh FROM ts_stats2)::text\n",
    ") x ORDER BY idx\n",
    ";"
   ]
  },
  {
   "cell_type": "markdown",
   "id": "cb8f1b99",
   "metadata": {},
   "source": [
    "**Monthly Time Series**\n",
    "- Aggregate `meter_consumption` data by month and create a data frame `df_meter` for average monthly meter consumption."
   ]
  },
  {
   "cell_type": "code",
   "execution_count": 9,
   "id": "d5f5a0b8",
   "metadata": {},
   "outputs": [],
   "source": [
    "# Save to a Python variable first.\n",
    "monthly_meter = %sql SELECT date_trunc('month', timestamp)::date AS month, \\\n",
    "                            AVG(kWh) AS kwh, \\\n",
    "                            phases \\\n",
    "                        FROM meter_consumption2 \\\n",
    "                        GROUP BY month, phases;\n",
    "                    \n",
    "# Sort the data by date saved as `month`.\n",
    "df_meter2 = monthly_meter.DataFrame().sort_values('month')"
   ]
  },
  {
   "cell_type": "code",
   "execution_count": 26,
   "id": "61b28020",
   "metadata": {},
   "outputs": [
    {
     "data": {
      "text/plain": [
       "month\n",
       "1     16\n",
       "2     16\n",
       "3     16\n",
       "4     16\n",
       "5     16\n",
       "6     16\n",
       "7     12\n",
       "8     12\n",
       "9     12\n",
       "10    12\n",
       "11    12\n",
       "12    12\n",
       "Name: count, dtype: int64"
      ]
     },
     "execution_count": 26,
     "metadata": {},
     "output_type": "execute_result"
    }
   ],
   "source": [
    "#pd.to_datetime(df_meter2['month']).dt.month.value_counts()"
   ]
  },
  {
   "cell_type": "markdown",
   "id": "6adcbe11",
   "metadata": {},
   "source": [
    "**Visualization**\n",
    "- Visualize monthly total consumption for each `grid_element_data_source_id`."
   ]
  },
  {
   "cell_type": "code",
   "execution_count": 11,
   "id": "2f690e59",
   "metadata": {
    "scrolled": true
   },
   "outputs": [
    {
     "data": {
      "text/html": [
       "<div>                            <div id=\"6f99708e-9040-4eff-99dc-645383b6d5da\" class=\"plotly-graph-div\" style=\"height:525px; width:100%;\"></div>            <script type=\"text/javascript\">                require([\"plotly\"], function(Plotly) {                    window.PLOTLYENV=window.PLOTLYENV || {};                                    if (document.getElementById(\"6f99708e-9040-4eff-99dc-645383b6d5da\")) {                    Plotly.newPlot(                        \"6f99708e-9040-4eff-99dc-645383b6d5da\",                        [{\"hovertemplate\":\"phases=B<br>month=%{x}<br>kwh=%{y}<extra></extra>\",\"legendgroup\":\"B\",\"line\":{\"color\":\"#636efa\",\"dash\":\"solid\"},\"marker\":{\"symbol\":\"circle\"},\"mode\":\"lines\",\"name\":\"B\",\"orientation\":\"v\",\"showlegend\":true,\"x\":[\"2021-01-01\",\"2021-02-01\",\"2021-03-01\",\"2021-04-01\",\"2021-05-01\",\"2021-06-01\",\"2021-07-01\",\"2021-08-01\",\"2021-09-01\",\"2021-10-01\",\"2021-11-01\",\"2021-12-01\",\"2022-01-01\",\"2022-02-01\",\"2022-03-01\",\"2022-04-01\",\"2022-05-01\",\"2022-06-01\",\"2022-07-01\",\"2022-08-01\",\"2022-09-01\",\"2022-10-01\",\"2022-11-01\",\"2022-12-01\",\"2023-01-01\",\"2023-02-01\",\"2023-03-01\",\"2023-04-01\",\"2023-05-01\",\"2023-06-01\",\"2023-07-01\",\"2023-08-01\",\"2023-09-01\",\"2023-10-01\",\"2023-11-01\",\"2023-12-01\",\"2024-01-01\",\"2024-02-01\",\"2024-03-01\",\"2024-04-01\",\"2024-05-01\",\"2024-06-01\"],\"xaxis\":\"x\",\"y\":[1.5393511534397397,1.7540573851261225,1.3078188383255949,1.3924632588146926,1.6583482435942765,2.308801252243175,2.5782525190854155,2.639553332546145,2.0370166458101457,1.6355174685116047,1.3242407197811823,1.3200918521319331,1.882520621098324,1.5635365191763162,1.3688641547836473,1.3841636052031654,1.8407600933280137,2.3212137287041688,2.6132466068738376,2.388998617755035,1.9468920683026174,1.338841789694132,1.4182784302789335,1.6143027042587283,1.3821048803716574,1.3844256969591064,1.3406478093687835,1.404399469676389,1.5680864861233916,2.3356874158860252,2.5675156542722966,2.5274593009252397,1.9759343054972123,1.436203489712435,1.3136145730647388,1.345842935337445,1.516934682851705,1.4262688403899986,1.263030722988789,1.3067468061189147,1.6218860085555982,2.15754260695584],\"yaxis\":\"y\",\"type\":\"scatter\"},{\"hovertemplate\":\"phases=C<br>month=%{x}<br>kwh=%{y}<extra></extra>\",\"legendgroup\":\"C\",\"line\":{\"color\":\"#EF553B\",\"dash\":\"solid\"},\"marker\":{\"symbol\":\"circle\"},\"mode\":\"lines\",\"name\":\"C\",\"orientation\":\"v\",\"showlegend\":true,\"x\":[\"2021-01-01\",\"2021-02-01\",\"2021-03-01\",\"2021-04-01\",\"2021-05-01\",\"2021-06-01\",\"2021-07-01\",\"2021-08-01\",\"2021-09-01\",\"2021-10-01\",\"2021-11-01\",\"2021-12-01\",\"2022-01-01\",\"2022-02-01\",\"2022-03-01\",\"2022-04-01\",\"2022-05-01\",\"2022-06-01\",\"2022-07-01\",\"2022-08-01\",\"2022-09-01\",\"2022-10-01\",\"2022-11-01\",\"2022-12-01\",\"2023-01-01\",\"2023-02-01\",\"2023-03-01\",\"2023-04-01\",\"2023-05-01\",\"2023-06-01\",\"2023-07-01\",\"2023-08-01\",\"2023-09-01\",\"2023-10-01\",\"2023-11-01\",\"2023-12-01\",\"2024-01-01\",\"2024-02-01\",\"2024-03-01\",\"2024-04-01\",\"2024-05-01\",\"2024-06-01\"],\"xaxis\":\"x\",\"y\":[1.4779492607453837,1.7007196070143946,1.2743202032406002,1.3370330900285072,1.5848709910146694,2.2416742640356175,2.5265518271738885,2.631256959938167,2.001967086579151,1.5929710738692486,1.295598363230034,1.2851450122250812,1.8474384488010973,1.515953533870812,1.3400246957660096,1.331652940347974,1.7788642191305912,2.2978355473065966,2.540858443863996,2.382364450864557,1.9085790128411044,1.2978354687706148,1.3786487735404924,1.55843171661032,1.3294907628988744,1.3281082442902281,1.2598042431967373,1.3457720240271205,1.5268522974951342,2.2794475240401417,2.523134865243283,2.465784240347734,1.9224078920386198,1.4127459531861837,1.2566110938369897,1.3165812108722783,1.4717712109343748,1.3683508416826562,1.216561489573042,1.2439123395085099,1.5572359468861925,2.1131910894917127],\"yaxis\":\"y\",\"type\":\"scatter\"},{\"hovertemplate\":\"phases=A<br>month=%{x}<br>kwh=%{y}<extra></extra>\",\"legendgroup\":\"A\",\"line\":{\"color\":\"#00cc96\",\"dash\":\"solid\"},\"marker\":{\"symbol\":\"circle\"},\"mode\":\"lines\",\"name\":\"A\",\"orientation\":\"v\",\"showlegend\":true,\"x\":[\"2021-01-01\",\"2021-02-01\",\"2021-03-01\",\"2021-04-01\",\"2021-05-01\",\"2021-06-01\",\"2021-07-01\",\"2021-08-01\",\"2021-09-01\",\"2021-10-01\",\"2021-11-01\",\"2021-12-01\",\"2022-01-01\",\"2022-02-01\",\"2022-03-01\",\"2022-04-01\",\"2022-05-01\",\"2022-06-01\",\"2022-07-01\",\"2022-08-01\",\"2022-09-01\",\"2022-10-01\",\"2022-11-01\",\"2022-12-01\",\"2023-01-01\",\"2023-02-01\",\"2023-03-01\",\"2023-04-01\",\"2023-05-01\",\"2023-06-01\",\"2023-07-01\",\"2023-08-01\",\"2023-09-01\",\"2023-10-01\",\"2023-11-01\",\"2023-12-01\",\"2024-01-01\",\"2024-02-01\",\"2024-03-01\",\"2024-04-01\",\"2024-05-01\",\"2024-06-01\"],\"xaxis\":\"x\",\"y\":[1.5664524738427734,1.787050852691382,1.3325423705359696,1.4186276079868279,1.6517906806801494,2.2509015089545015,2.523925492017117,2.623115116260057,2.0139913269592244,1.635180864977098,1.3445917331852903,1.3468466437895583,1.9027690705252378,1.5837353638099643,1.4019298224748764,1.4015781258462132,1.8133403026678823,2.304390070413969,2.5710091484149746,2.3428125222774705,1.9237723093473484,1.3637207399010731,1.4579125175782703,1.6198407323583663,1.4116717647821309,1.4155225401691114,1.3691973863246951,1.4244162683931698,1.5817136878435318,2.302359845930966,2.5294923926835886,2.4769452436975508,1.9550568679848703,1.4498000906972435,1.3373694255431534,1.366299211404532,1.5435674091708158,1.4601818452823607,1.2969723089676193,1.3277711386852862,1.6322915665545414,2.132501594873489],\"yaxis\":\"y\",\"type\":\"scatter\"}],                        {\"template\":{\"data\":{\"bar\":[{\"error_x\":{\"color\":\"#2a3f5f\"},\"error_y\":{\"color\":\"#2a3f5f\"},\"marker\":{\"line\":{\"color\":\"#E5ECF6\",\"width\":0.5},\"pattern\":{\"fillmode\":\"overlay\",\"size\":10,\"solidity\":0.2}},\"type\":\"bar\"}],\"barpolar\":[{\"marker\":{\"line\":{\"color\":\"#E5ECF6\",\"width\":0.5},\"pattern\":{\"fillmode\":\"overlay\",\"size\":10,\"solidity\":0.2}},\"type\":\"barpolar\"}],\"carpet\":[{\"aaxis\":{\"endlinecolor\":\"#2a3f5f\",\"gridcolor\":\"white\",\"linecolor\":\"white\",\"minorgridcolor\":\"white\",\"startlinecolor\":\"#2a3f5f\"},\"baxis\":{\"endlinecolor\":\"#2a3f5f\",\"gridcolor\":\"white\",\"linecolor\":\"white\",\"minorgridcolor\":\"white\",\"startlinecolor\":\"#2a3f5f\"},\"type\":\"carpet\"}],\"choropleth\":[{\"colorbar\":{\"outlinewidth\":0,\"ticks\":\"\"},\"type\":\"choropleth\"}],\"contour\":[{\"colorbar\":{\"outlinewidth\":0,\"ticks\":\"\"},\"colorscale\":[[0.0,\"#0d0887\"],[0.1111111111111111,\"#46039f\"],[0.2222222222222222,\"#7201a8\"],[0.3333333333333333,\"#9c179e\"],[0.4444444444444444,\"#bd3786\"],[0.5555555555555556,\"#d8576b\"],[0.6666666666666666,\"#ed7953\"],[0.7777777777777778,\"#fb9f3a\"],[0.8888888888888888,\"#fdca26\"],[1.0,\"#f0f921\"]],\"type\":\"contour\"}],\"contourcarpet\":[{\"colorbar\":{\"outlinewidth\":0,\"ticks\":\"\"},\"type\":\"contourcarpet\"}],\"heatmap\":[{\"colorbar\":{\"outlinewidth\":0,\"ticks\":\"\"},\"colorscale\":[[0.0,\"#0d0887\"],[0.1111111111111111,\"#46039f\"],[0.2222222222222222,\"#7201a8\"],[0.3333333333333333,\"#9c179e\"],[0.4444444444444444,\"#bd3786\"],[0.5555555555555556,\"#d8576b\"],[0.6666666666666666,\"#ed7953\"],[0.7777777777777778,\"#fb9f3a\"],[0.8888888888888888,\"#fdca26\"],[1.0,\"#f0f921\"]],\"type\":\"heatmap\"}],\"heatmapgl\":[{\"colorbar\":{\"outlinewidth\":0,\"ticks\":\"\"},\"colorscale\":[[0.0,\"#0d0887\"],[0.1111111111111111,\"#46039f\"],[0.2222222222222222,\"#7201a8\"],[0.3333333333333333,\"#9c179e\"],[0.4444444444444444,\"#bd3786\"],[0.5555555555555556,\"#d8576b\"],[0.6666666666666666,\"#ed7953\"],[0.7777777777777778,\"#fb9f3a\"],[0.8888888888888888,\"#fdca26\"],[1.0,\"#f0f921\"]],\"type\":\"heatmapgl\"}],\"histogram\":[{\"marker\":{\"pattern\":{\"fillmode\":\"overlay\",\"size\":10,\"solidity\":0.2}},\"type\":\"histogram\"}],\"histogram2d\":[{\"colorbar\":{\"outlinewidth\":0,\"ticks\":\"\"},\"colorscale\":[[0.0,\"#0d0887\"],[0.1111111111111111,\"#46039f\"],[0.2222222222222222,\"#7201a8\"],[0.3333333333333333,\"#9c179e\"],[0.4444444444444444,\"#bd3786\"],[0.5555555555555556,\"#d8576b\"],[0.6666666666666666,\"#ed7953\"],[0.7777777777777778,\"#fb9f3a\"],[0.8888888888888888,\"#fdca26\"],[1.0,\"#f0f921\"]],\"type\":\"histogram2d\"}],\"histogram2dcontour\":[{\"colorbar\":{\"outlinewidth\":0,\"ticks\":\"\"},\"colorscale\":[[0.0,\"#0d0887\"],[0.1111111111111111,\"#46039f\"],[0.2222222222222222,\"#7201a8\"],[0.3333333333333333,\"#9c179e\"],[0.4444444444444444,\"#bd3786\"],[0.5555555555555556,\"#d8576b\"],[0.6666666666666666,\"#ed7953\"],[0.7777777777777778,\"#fb9f3a\"],[0.8888888888888888,\"#fdca26\"],[1.0,\"#f0f921\"]],\"type\":\"histogram2dcontour\"}],\"mesh3d\":[{\"colorbar\":{\"outlinewidth\":0,\"ticks\":\"\"},\"type\":\"mesh3d\"}],\"parcoords\":[{\"line\":{\"colorbar\":{\"outlinewidth\":0,\"ticks\":\"\"}},\"type\":\"parcoords\"}],\"pie\":[{\"automargin\":true,\"type\":\"pie\"}],\"scatter\":[{\"marker\":{\"colorbar\":{\"outlinewidth\":0,\"ticks\":\"\"}},\"type\":\"scatter\"}],\"scatter3d\":[{\"line\":{\"colorbar\":{\"outlinewidth\":0,\"ticks\":\"\"}},\"marker\":{\"colorbar\":{\"outlinewidth\":0,\"ticks\":\"\"}},\"type\":\"scatter3d\"}],\"scattercarpet\":[{\"marker\":{\"colorbar\":{\"outlinewidth\":0,\"ticks\":\"\"}},\"type\":\"scattercarpet\"}],\"scattergeo\":[{\"marker\":{\"colorbar\":{\"outlinewidth\":0,\"ticks\":\"\"}},\"type\":\"scattergeo\"}],\"scattergl\":[{\"marker\":{\"colorbar\":{\"outlinewidth\":0,\"ticks\":\"\"}},\"type\":\"scattergl\"}],\"scattermapbox\":[{\"marker\":{\"colorbar\":{\"outlinewidth\":0,\"ticks\":\"\"}},\"type\":\"scattermapbox\"}],\"scatterpolar\":[{\"marker\":{\"colorbar\":{\"outlinewidth\":0,\"ticks\":\"\"}},\"type\":\"scatterpolar\"}],\"scatterpolargl\":[{\"marker\":{\"colorbar\":{\"outlinewidth\":0,\"ticks\":\"\"}},\"type\":\"scatterpolargl\"}],\"scatterternary\":[{\"marker\":{\"colorbar\":{\"outlinewidth\":0,\"ticks\":\"\"}},\"type\":\"scatterternary\"}],\"surface\":[{\"colorbar\":{\"outlinewidth\":0,\"ticks\":\"\"},\"colorscale\":[[0.0,\"#0d0887\"],[0.1111111111111111,\"#46039f\"],[0.2222222222222222,\"#7201a8\"],[0.3333333333333333,\"#9c179e\"],[0.4444444444444444,\"#bd3786\"],[0.5555555555555556,\"#d8576b\"],[0.6666666666666666,\"#ed7953\"],[0.7777777777777778,\"#fb9f3a\"],[0.8888888888888888,\"#fdca26\"],[1.0,\"#f0f921\"]],\"type\":\"surface\"}],\"table\":[{\"cells\":{\"fill\":{\"color\":\"#EBF0F8\"},\"line\":{\"color\":\"white\"}},\"header\":{\"fill\":{\"color\":\"#C8D4E3\"},\"line\":{\"color\":\"white\"}},\"type\":\"table\"}]},\"layout\":{\"annotationdefaults\":{\"arrowcolor\":\"#2a3f5f\",\"arrowhead\":0,\"arrowwidth\":1},\"autotypenumbers\":\"strict\",\"coloraxis\":{\"colorbar\":{\"outlinewidth\":0,\"ticks\":\"\"}},\"colorscale\":{\"diverging\":[[0,\"#8e0152\"],[0.1,\"#c51b7d\"],[0.2,\"#de77ae\"],[0.3,\"#f1b6da\"],[0.4,\"#fde0ef\"],[0.5,\"#f7f7f7\"],[0.6,\"#e6f5d0\"],[0.7,\"#b8e186\"],[0.8,\"#7fbc41\"],[0.9,\"#4d9221\"],[1,\"#276419\"]],\"sequential\":[[0.0,\"#0d0887\"],[0.1111111111111111,\"#46039f\"],[0.2222222222222222,\"#7201a8\"],[0.3333333333333333,\"#9c179e\"],[0.4444444444444444,\"#bd3786\"],[0.5555555555555556,\"#d8576b\"],[0.6666666666666666,\"#ed7953\"],[0.7777777777777778,\"#fb9f3a\"],[0.8888888888888888,\"#fdca26\"],[1.0,\"#f0f921\"]],\"sequentialminus\":[[0.0,\"#0d0887\"],[0.1111111111111111,\"#46039f\"],[0.2222222222222222,\"#7201a8\"],[0.3333333333333333,\"#9c179e\"],[0.4444444444444444,\"#bd3786\"],[0.5555555555555556,\"#d8576b\"],[0.6666666666666666,\"#ed7953\"],[0.7777777777777778,\"#fb9f3a\"],[0.8888888888888888,\"#fdca26\"],[1.0,\"#f0f921\"]]},\"colorway\":[\"#636efa\",\"#EF553B\",\"#00cc96\",\"#ab63fa\",\"#FFA15A\",\"#19d3f3\",\"#FF6692\",\"#B6E880\",\"#FF97FF\",\"#FECB52\"],\"font\":{\"color\":\"#2a3f5f\"},\"geo\":{\"bgcolor\":\"white\",\"lakecolor\":\"white\",\"landcolor\":\"#E5ECF6\",\"showlakes\":true,\"showland\":true,\"subunitcolor\":\"white\"},\"hoverlabel\":{\"align\":\"left\"},\"hovermode\":\"closest\",\"mapbox\":{\"style\":\"light\"},\"paper_bgcolor\":\"white\",\"plot_bgcolor\":\"#E5ECF6\",\"polar\":{\"angularaxis\":{\"gridcolor\":\"white\",\"linecolor\":\"white\",\"ticks\":\"\"},\"bgcolor\":\"#E5ECF6\",\"radialaxis\":{\"gridcolor\":\"white\",\"linecolor\":\"white\",\"ticks\":\"\"}},\"scene\":{\"xaxis\":{\"backgroundcolor\":\"#E5ECF6\",\"gridcolor\":\"white\",\"gridwidth\":2,\"linecolor\":\"white\",\"showbackground\":true,\"ticks\":\"\",\"zerolinecolor\":\"white\"},\"yaxis\":{\"backgroundcolor\":\"#E5ECF6\",\"gridcolor\":\"white\",\"gridwidth\":2,\"linecolor\":\"white\",\"showbackground\":true,\"ticks\":\"\",\"zerolinecolor\":\"white\"},\"zaxis\":{\"backgroundcolor\":\"#E5ECF6\",\"gridcolor\":\"white\",\"gridwidth\":2,\"linecolor\":\"white\",\"showbackground\":true,\"ticks\":\"\",\"zerolinecolor\":\"white\"}},\"shapedefaults\":{\"line\":{\"color\":\"#2a3f5f\"}},\"ternary\":{\"aaxis\":{\"gridcolor\":\"white\",\"linecolor\":\"white\",\"ticks\":\"\"},\"baxis\":{\"gridcolor\":\"white\",\"linecolor\":\"white\",\"ticks\":\"\"},\"bgcolor\":\"#E5ECF6\",\"caxis\":{\"gridcolor\":\"white\",\"linecolor\":\"white\",\"ticks\":\"\"}},\"title\":{\"x\":0.05},\"xaxis\":{\"automargin\":true,\"gridcolor\":\"white\",\"linecolor\":\"white\",\"ticks\":\"\",\"title\":{\"standoff\":15},\"zerolinecolor\":\"white\",\"zerolinewidth\":2},\"yaxis\":{\"automargin\":true,\"gridcolor\":\"white\",\"linecolor\":\"white\",\"ticks\":\"\",\"title\":{\"standoff\":15},\"zerolinecolor\":\"white\",\"zerolinewidth\":2}}},\"xaxis\":{\"anchor\":\"y\",\"domain\":[0.0,1.0],\"title\":{\"text\":\"month\"}},\"yaxis\":{\"anchor\":\"x\",\"domain\":[0.0,1.0],\"title\":{\"text\":\"kwh\"}},\"legend\":{\"title\":{\"text\":\"phases\"},\"tracegroupgap\":0},\"title\":{\"text\":\"Average hourly Consumption by Month and Phase (w\\\\ ABC)\"}},                        {\"responsive\": true}                    ).then(function(){\n",
       "                            \n",
       "var gd = document.getElementById('6f99708e-9040-4eff-99dc-645383b6d5da');\n",
       "var x = new MutationObserver(function (mutations, observer) {{\n",
       "        var display = window.getComputedStyle(gd).display;\n",
       "        if (!display || display === 'none') {{\n",
       "            console.log([gd, 'removed!']);\n",
       "            Plotly.purge(gd);\n",
       "            observer.disconnect();\n",
       "        }}\n",
       "}});\n",
       "\n",
       "// Listen for the removal of the full notebook cells\n",
       "var notebookContainer = gd.closest('#notebook-container');\n",
       "if (notebookContainer) {{\n",
       "    x.observe(notebookContainer, {childList: true});\n",
       "}}\n",
       "\n",
       "// Listen for the clearing of the current output cell\n",
       "var outputEl = gd.closest('.output');\n",
       "if (outputEl) {{\n",
       "    x.observe(outputEl, {childList: true});\n",
       "}}\n",
       "\n",
       "                        })                };                });            </script>        </div>"
      ]
     },
     "metadata": {},
     "output_type": "display_data"
    }
   ],
   "source": [
    "# Plot graph\n",
    "px.line(df_meter2[df_meter2['phases'] != \"ABC\"], x='month', y='kwh', \n",
    "        title='Average hourly Consumption by Month and Phase (w\\ ABC)',\n",
    "        color='phases')\n",
    "#grid_get_downstream()"
   ]
  },
  {
   "cell_type": "code",
   "execution_count": 74,
   "id": "ee5bc630",
   "metadata": {},
   "outputs": [],
   "source": [
    "#check = %sql SELECT date_trunc('month', timestamp)::date AS month,timestamp, kWh, phases FROM meter_consumption2 \\\n",
    "#        WHERE (date(timestamp) >='2021-01-01') AND (date(timestamp) < '2021-02-01');\n",
    "#check2 = check.DataFrame()"
   ]
  },
  {
   "cell_type": "code",
   "execution_count": 75,
   "id": "465bb5bc",
   "metadata": {
    "scrolled": true
   },
   "outputs": [
    {
     "data": {
      "text/plain": [
       "2.392630979415936"
      ]
     },
     "execution_count": 75,
     "metadata": {},
     "output_type": "execute_result"
    }
   ],
   "source": [
    "#check2[check2['phases']=='C']['kwh'].sum()/check2[check2['phases']=='C']['kwh'].count()"
   ]
  },
  {
   "cell_type": "markdown",
   "id": "fe53234c",
   "metadata": {},
   "source": [
    "---"
   ]
  },
  {
   "cell_type": "markdown",
   "id": "5f3c877f",
   "metadata": {},
   "source": [
    "### SCADA Time Series"
   ]
  },
  {
   "cell_type": "markdown",
   "id": "b1532866",
   "metadata": {},
   "source": [
    "*High level approach*\n",
    "- Create a temporary view `grid_element_metric`, containing information on SCADAs for grid elements and convenient access to the actual data.\n",
    "- The `grid_get_sources()` function is used for switches that are top feeders of a specified element.\n",
    "- Time series are retrieved using the `ts_data_source_select()` function."
   ]
  },
  {
   "cell_type": "markdown",
   "id": "2ac23cd8",
   "metadata": {},
   "source": [
    "**Grid Element Data**\n",
    "* Create a temporary view `grid_element_metric`.\n",
    "\n",
    "*Please note that the below is the same view as the one from the **Meters Time Series** section. No need to re-run this `Grid Element Data` section if it was already done above.*"
   ]
  },
  {
   "cell_type": "code",
   "execution_count": 11,
   "id": "375da6c5",
   "metadata": {},
   "outputs": [
    {
     "data": {
      "text/plain": [
       "[]"
      ]
     },
     "execution_count": 11,
     "metadata": {},
     "output_type": "execute_result"
    }
   ],
   "source": [
    "%%sql\n",
    "\n",
    "CREATE OR REPLACE TEMPORARY VIEW grid_element_metric AS\n",
    "    SELECT grid_id,\n",
    "            grid_element_id,\n",
    "            phases,\n",
    "            type,\n",
    "            provider,\n",
    "            direction,\n",
    "            friendly_id,\n",
    "            metric_key AS metric,\n",
    "            valid,\n",
    "            timestamp,\n",
    "            value\n",
    "    FROM grid_element_data_source geds\n",
    "    JOIN UNNEST(geds.metrics::TEXT[]) AS metric_key\n",
    "        ON true\n",
    "    LEFT JOIN ts_data_source_select(grid_element_data_source_id, metric_key) AS ts\n",
    "        ON true;"
   ]
  },
  {
   "cell_type": "markdown",
   "id": "26618ce1",
   "metadata": {},
   "source": [
    "**Sources of a Grid** \n",
    "- Fetch the SCADA data for the specified `grid_id` and `grid_element_id`."
   ]
  },
  {
   "cell_type": "code",
   "execution_count": 12,
   "id": "e636d7c4",
   "metadata": {},
   "outputs": [
    {
     "name": "stdout",
     "output_type": "stream",
     "text": [
      "Grid Id: awefice\n",
      "Grid Element Id: line_segment_57\n"
     ]
    }
   ],
   "source": [
    "grid_id = input('Grid Id: ') # awefice\n",
    "grid_element_id = input('Grid Element Id: ') # line_segment_57"
   ]
  },
  {
   "cell_type": "markdown",
   "id": "c1d0ad7d",
   "metadata": {},
   "source": [
    "- Create a temporary view `scada_data_source` to make it more convenient to access the data sources for the source grid elements in the trace for the specified element."
   ]
  },
  {
   "cell_type": "code",
   "execution_count": 13,
   "id": "345e3d18",
   "metadata": {},
   "outputs": [
    {
     "data": {
      "text/plain": [
       "[]"
      ]
     },
     "execution_count": 13,
     "metadata": {},
     "output_type": "execute_result"
    }
   ],
   "source": [
    "%%sql\n",
    "\n",
    "CREATE OR REPLACE TEMPORARY VIEW scada_data_source AS\n",
    "    SELECT scada.grid_element_id,\n",
    "            scada.grid_id,\n",
    "            geds.friendly_id,\n",
    "            geds.provider,\n",
    "            metric_key as metric,\n",
    "            geds.grid_element_data_source_id,\n",
    "            lower(geds.valid) as start_time,\n",
    "            upper(geds.valid) as end_time\n",
    "    FROM grid_get_sources('{grid_id}', '{grid_element_id}', 'true') AS scada\n",
    "        LEFT JOIN grid_element_data_source geds\n",
    "            ON scada.grid_element_id = geds.grid_element_id\n",
    "            AND scada.grid_id = geds.grid_id\n",
    "            AND geds.type = 'SENSOR'\n",
    "    JOIN UNNEST(geds.metrics::TEXT[]) AS metric_key\n",
    "        ON true\n",
    "    WHERE scada.type = 'CircuitBreaker';"
   ]
  },
  {
   "cell_type": "markdown",
   "id": "51e81a53",
   "metadata": {},
   "source": [
    "**SCADA Time Series**\n",
    "- Create a temporary view `scada_time_series` with the SCADA readings."
   ]
  },
  {
   "cell_type": "code",
   "execution_count": 14,
   "id": "836947a2",
   "metadata": {},
   "outputs": [
    {
     "data": {
      "text/plain": [
       "[]"
      ]
     },
     "execution_count": 14,
     "metadata": {},
     "output_type": "execute_result"
    }
   ],
   "source": [
    "%%sql\n",
    "\n",
    "CREATE OR REPLACE TEMPORARY VIEW scada_time_series AS\n",
    "SELECT gem.type, \n",
    "        gem.grid_id,\n",
    "        gem.grid_element_id ,\n",
    "        scada.friendly_id,\n",
    "        timestamp,\n",
    "        value AS kWh\n",
    "FROM scada_data_source scada\n",
    "LEFT JOIN grid_element_metric gem\n",
    "    ON gem.grid_id = scada.grid_id\n",
    "    AND gem.grid_element_id = scada.grid_element_id\n",
    "WHERE gem.metric = 'kWh'\n",
    "   AND gem.type = 'SENSOR';"
   ]
  },
  {
   "cell_type": "markdown",
   "id": "c580b42f",
   "metadata": {},
   "source": [
    "**Summary**\n",
    "- Return a high-level summary of the time series data."
   ]
  },
  {
   "cell_type": "code",
   "execution_count": 15,
   "id": "65a1c1d2",
   "metadata": {},
   "outputs": [
    {
     "data": {
      "text/html": [
       "<table>\n",
       "    <tr>\n",
       "        <th>name</th>\n",
       "        <th>value</th>\n",
       "    </tr>\n",
       "    <tr>\n",
       "        <td>SCADAs Found</td>\n",
       "        <td>1</td>\n",
       "    </tr>\n",
       "    <tr>\n",
       "        <td>SCADAs w/ Datasources</td>\n",
       "        <td>1</td>\n",
       "    </tr>\n",
       "    <tr>\n",
       "        <td>Common DS Timerange</td>\n",
       "        <td>2021-01-01 08:01:00+00</td>\n",
       "    </tr>\n",
       "    <tr>\n",
       "        <td>Common Timeseries Timerange</td>\n",
       "        <td>2021-01-01 08:00:00+00 - 2024-02-07 17:00:00+00</td>\n",
       "    </tr>\n",
       "    <tr>\n",
       "        <td>Total Distribution</td>\n",
       "        <td>425158.6579999982</td>\n",
       "    </tr>\n",
       "</table>"
      ],
      "text/plain": [
       "[('SCADAs Found', '1'),\n",
       " ('SCADAs w/ Datasources', '1'),\n",
       " ('Common DS Timerange', '2021-01-01 08:01:00+00'),\n",
       " ('Common Timeseries Timerange', '2021-01-01 08:00:00+00 - 2024-02-07 17:00:00+00'),\n",
       " ('Total Distribution', '425158.6579999982')]"
      ]
     },
     "execution_count": 15,
     "metadata": {},
     "output_type": "execute_result"
    }
   ],
   "source": [
    "%%sql\n",
    "\n",
    "WITH ts_stats AS (\n",
    "    SELECT SUM(kWh) AS kWh, MIN(timestamp) AS start_timerange, MAX(timestamp) AS end_timerange\n",
    "    FROM scada_time_series\n",
    ")\n",
    "SELECT name, value FROM (\n",
    "    SELECT 1 AS idx, 'SCADAs Found' AS name, (SELECT COUNT(DISTINCT grid_element_id) FROM scada_data_source)::text AS value\n",
    "    UNION\n",
    "    SELECT 2, 'SCADAs w/ Datasources', (SELECT COUNT(DISTINCT grid_element_id) FROM scada_data_source WHERE grid_element_data_source_id IS NOT NULL)::text\n",
    "    UNION\n",
    "    SELECT 3, 'Common DS Timerange', (SELECT CONCAT(MAX(start_time), MIN(end_time)) FROM scada_data_source)::text\n",
    "    UNION\n",
    "    SELECT 4, 'Common Timeseries Timerange', (SELECT CONCAT(start_timerange, ' - ', end_timerange) FROM ts_stats)::text\n",
    "    UNION\n",
    "    SELECT 5, 'Total Distribution', (SELECT kWh FROM ts_stats)::text\n",
    ") x\n",
    "ORDER BY idx"
   ]
  },
  {
   "cell_type": "markdown",
   "id": "92f5ce13",
   "metadata": {},
   "source": [
    "**Monthly Time Series**\n",
    "- Aggregate `scada_time_series` data by month and create a data frame `df_scada` for average monthly SCADA distribution."
   ]
  },
  {
   "cell_type": "code",
   "execution_count": 16,
   "id": "2e3b5290",
   "metadata": {},
   "outputs": [],
   "source": [
    "# Save to a Python variable first.\n",
    "monthly_scada = %sql SELECT friendly_id, \\\n",
    "                            date_trunc('month', timestamp)::date AS month, \\\n",
    "                            AVG(kWh) AS kwh \\\n",
    "                        FROM scada_time_series \\\n",
    "                        GROUP BY friendly_id, month;\n",
    "                    \n",
    "# Sort the data by date saved as `month`.\n",
    "df_scada = monthly_scada.DataFrame().sort_values('month')"
   ]
  },
  {
   "cell_type": "markdown",
   "id": "3959e9b9",
   "metadata": {},
   "source": [
    "**Visualization**\n",
    "- Visualize monthly total distribution for each SCADA."
   ]
  },
  {
   "cell_type": "code",
   "execution_count": 17,
   "id": "67c6e1d1",
   "metadata": {},
   "outputs": [
    {
     "data": {
      "text/html": [
       "<div>                            <div id=\"7713b733-905b-43d4-b273-6dc30afd73e8\" class=\"plotly-graph-div\" style=\"height:525px; width:100%;\"></div>            <script type=\"text/javascript\">                require([\"plotly\"], function(Plotly) {                    window.PLOTLYENV=window.PLOTLYENV || {};                                    if (document.getElementById(\"7713b733-905b-43d4-b273-6dc30afd73e8\")) {                    Plotly.newPlot(                        \"7713b733-905b-43d4-b273-6dc30afd73e8\",                        [{\"hovertemplate\":\"friendly_id=scada_sensor_8<br>month=%{x}<br>kwh=%{y}<extra></extra>\",\"legendgroup\":\"scada_sensor_8\",\"line\":{\"color\":\"#636efa\",\"dash\":\"solid\"},\"marker\":{\"symbol\":\"circle\"},\"mode\":\"lines\",\"name\":\"scada_sensor_8\",\"orientation\":\"v\",\"showlegend\":true,\"x\":[\"2021-01-01\",\"2021-02-01\",\"2021-03-01\",\"2021-04-01\",\"2021-05-01\",\"2021-06-01\",\"2021-07-01\",\"2021-08-01\",\"2021-09-01\",\"2021-10-01\",\"2021-11-01\",\"2021-12-01\",\"2022-01-01\",\"2022-02-01\",\"2022-03-01\",\"2022-04-01\",\"2022-05-01\",\"2022-06-01\",\"2022-07-01\",\"2022-08-01\",\"2022-09-01\",\"2022-10-01\",\"2022-11-01\",\"2022-12-01\",\"2023-01-01\",\"2023-02-01\",\"2023-03-01\",\"2023-04-01\",\"2023-05-01\",\"2023-06-01\",\"2023-07-01\",\"2023-08-01\",\"2023-09-01\",\"2023-10-01\",\"2023-11-01\",\"2023-12-01\",\"2024-01-01\",\"2024-02-01\"],\"xaxis\":\"x\",\"y\":[35.228368206521736,32.700464285714304,24.71095698924734,11.53901388888891,1.4919999999999998,-0.904020833333334,-4.731454301075266,-1.6319556451612909,4.981490277777782,13.06550268817204,25.202547222222215,30.252962365591355,38.023686827957,33.57207142857141,23.309010752688184,11.034506944444455,-0.4175013440860221,1.0132124999999998,-4.3071048387096775,0.45592473118279525,6.28662361111112,13.123588709677428,26.02699027777777,33.288485215053754,37.816330645161266,33.19214136904769,21.322474462365587,11.22457499999999,1.540877688172043,-0.26491388888888856,-1.0798454301075253,0.5287930107526887,7.305477777777777,14.675373655913974,26.40998611111112,34.72933870967741,36.83101209677419,37.18217283950617],\"yaxis\":\"y\",\"type\":\"scatter\"}],                        {\"template\":{\"data\":{\"bar\":[{\"error_x\":{\"color\":\"#2a3f5f\"},\"error_y\":{\"color\":\"#2a3f5f\"},\"marker\":{\"line\":{\"color\":\"#E5ECF6\",\"width\":0.5},\"pattern\":{\"fillmode\":\"overlay\",\"size\":10,\"solidity\":0.2}},\"type\":\"bar\"}],\"barpolar\":[{\"marker\":{\"line\":{\"color\":\"#E5ECF6\",\"width\":0.5},\"pattern\":{\"fillmode\":\"overlay\",\"size\":10,\"solidity\":0.2}},\"type\":\"barpolar\"}],\"carpet\":[{\"aaxis\":{\"endlinecolor\":\"#2a3f5f\",\"gridcolor\":\"white\",\"linecolor\":\"white\",\"minorgridcolor\":\"white\",\"startlinecolor\":\"#2a3f5f\"},\"baxis\":{\"endlinecolor\":\"#2a3f5f\",\"gridcolor\":\"white\",\"linecolor\":\"white\",\"minorgridcolor\":\"white\",\"startlinecolor\":\"#2a3f5f\"},\"type\":\"carpet\"}],\"choropleth\":[{\"colorbar\":{\"outlinewidth\":0,\"ticks\":\"\"},\"type\":\"choropleth\"}],\"contour\":[{\"colorbar\":{\"outlinewidth\":0,\"ticks\":\"\"},\"colorscale\":[[0.0,\"#0d0887\"],[0.1111111111111111,\"#46039f\"],[0.2222222222222222,\"#7201a8\"],[0.3333333333333333,\"#9c179e\"],[0.4444444444444444,\"#bd3786\"],[0.5555555555555556,\"#d8576b\"],[0.6666666666666666,\"#ed7953\"],[0.7777777777777778,\"#fb9f3a\"],[0.8888888888888888,\"#fdca26\"],[1.0,\"#f0f921\"]],\"type\":\"contour\"}],\"contourcarpet\":[{\"colorbar\":{\"outlinewidth\":0,\"ticks\":\"\"},\"type\":\"contourcarpet\"}],\"heatmap\":[{\"colorbar\":{\"outlinewidth\":0,\"ticks\":\"\"},\"colorscale\":[[0.0,\"#0d0887\"],[0.1111111111111111,\"#46039f\"],[0.2222222222222222,\"#7201a8\"],[0.3333333333333333,\"#9c179e\"],[0.4444444444444444,\"#bd3786\"],[0.5555555555555556,\"#d8576b\"],[0.6666666666666666,\"#ed7953\"],[0.7777777777777778,\"#fb9f3a\"],[0.8888888888888888,\"#fdca26\"],[1.0,\"#f0f921\"]],\"type\":\"heatmap\"}],\"heatmapgl\":[{\"colorbar\":{\"outlinewidth\":0,\"ticks\":\"\"},\"colorscale\":[[0.0,\"#0d0887\"],[0.1111111111111111,\"#46039f\"],[0.2222222222222222,\"#7201a8\"],[0.3333333333333333,\"#9c179e\"],[0.4444444444444444,\"#bd3786\"],[0.5555555555555556,\"#d8576b\"],[0.6666666666666666,\"#ed7953\"],[0.7777777777777778,\"#fb9f3a\"],[0.8888888888888888,\"#fdca26\"],[1.0,\"#f0f921\"]],\"type\":\"heatmapgl\"}],\"histogram\":[{\"marker\":{\"pattern\":{\"fillmode\":\"overlay\",\"size\":10,\"solidity\":0.2}},\"type\":\"histogram\"}],\"histogram2d\":[{\"colorbar\":{\"outlinewidth\":0,\"ticks\":\"\"},\"colorscale\":[[0.0,\"#0d0887\"],[0.1111111111111111,\"#46039f\"],[0.2222222222222222,\"#7201a8\"],[0.3333333333333333,\"#9c179e\"],[0.4444444444444444,\"#bd3786\"],[0.5555555555555556,\"#d8576b\"],[0.6666666666666666,\"#ed7953\"],[0.7777777777777778,\"#fb9f3a\"],[0.8888888888888888,\"#fdca26\"],[1.0,\"#f0f921\"]],\"type\":\"histogram2d\"}],\"histogram2dcontour\":[{\"colorbar\":{\"outlinewidth\":0,\"ticks\":\"\"},\"colorscale\":[[0.0,\"#0d0887\"],[0.1111111111111111,\"#46039f\"],[0.2222222222222222,\"#7201a8\"],[0.3333333333333333,\"#9c179e\"],[0.4444444444444444,\"#bd3786\"],[0.5555555555555556,\"#d8576b\"],[0.6666666666666666,\"#ed7953\"],[0.7777777777777778,\"#fb9f3a\"],[0.8888888888888888,\"#fdca26\"],[1.0,\"#f0f921\"]],\"type\":\"histogram2dcontour\"}],\"mesh3d\":[{\"colorbar\":{\"outlinewidth\":0,\"ticks\":\"\"},\"type\":\"mesh3d\"}],\"parcoords\":[{\"line\":{\"colorbar\":{\"outlinewidth\":0,\"ticks\":\"\"}},\"type\":\"parcoords\"}],\"pie\":[{\"automargin\":true,\"type\":\"pie\"}],\"scatter\":[{\"marker\":{\"colorbar\":{\"outlinewidth\":0,\"ticks\":\"\"}},\"type\":\"scatter\"}],\"scatter3d\":[{\"line\":{\"colorbar\":{\"outlinewidth\":0,\"ticks\":\"\"}},\"marker\":{\"colorbar\":{\"outlinewidth\":0,\"ticks\":\"\"}},\"type\":\"scatter3d\"}],\"scattercarpet\":[{\"marker\":{\"colorbar\":{\"outlinewidth\":0,\"ticks\":\"\"}},\"type\":\"scattercarpet\"}],\"scattergeo\":[{\"marker\":{\"colorbar\":{\"outlinewidth\":0,\"ticks\":\"\"}},\"type\":\"scattergeo\"}],\"scattergl\":[{\"marker\":{\"colorbar\":{\"outlinewidth\":0,\"ticks\":\"\"}},\"type\":\"scattergl\"}],\"scattermapbox\":[{\"marker\":{\"colorbar\":{\"outlinewidth\":0,\"ticks\":\"\"}},\"type\":\"scattermapbox\"}],\"scatterpolar\":[{\"marker\":{\"colorbar\":{\"outlinewidth\":0,\"ticks\":\"\"}},\"type\":\"scatterpolar\"}],\"scatterpolargl\":[{\"marker\":{\"colorbar\":{\"outlinewidth\":0,\"ticks\":\"\"}},\"type\":\"scatterpolargl\"}],\"scatterternary\":[{\"marker\":{\"colorbar\":{\"outlinewidth\":0,\"ticks\":\"\"}},\"type\":\"scatterternary\"}],\"surface\":[{\"colorbar\":{\"outlinewidth\":0,\"ticks\":\"\"},\"colorscale\":[[0.0,\"#0d0887\"],[0.1111111111111111,\"#46039f\"],[0.2222222222222222,\"#7201a8\"],[0.3333333333333333,\"#9c179e\"],[0.4444444444444444,\"#bd3786\"],[0.5555555555555556,\"#d8576b\"],[0.6666666666666666,\"#ed7953\"],[0.7777777777777778,\"#fb9f3a\"],[0.8888888888888888,\"#fdca26\"],[1.0,\"#f0f921\"]],\"type\":\"surface\"}],\"table\":[{\"cells\":{\"fill\":{\"color\":\"#EBF0F8\"},\"line\":{\"color\":\"white\"}},\"header\":{\"fill\":{\"color\":\"#C8D4E3\"},\"line\":{\"color\":\"white\"}},\"type\":\"table\"}]},\"layout\":{\"annotationdefaults\":{\"arrowcolor\":\"#2a3f5f\",\"arrowhead\":0,\"arrowwidth\":1},\"autotypenumbers\":\"strict\",\"coloraxis\":{\"colorbar\":{\"outlinewidth\":0,\"ticks\":\"\"}},\"colorscale\":{\"diverging\":[[0,\"#8e0152\"],[0.1,\"#c51b7d\"],[0.2,\"#de77ae\"],[0.3,\"#f1b6da\"],[0.4,\"#fde0ef\"],[0.5,\"#f7f7f7\"],[0.6,\"#e6f5d0\"],[0.7,\"#b8e186\"],[0.8,\"#7fbc41\"],[0.9,\"#4d9221\"],[1,\"#276419\"]],\"sequential\":[[0.0,\"#0d0887\"],[0.1111111111111111,\"#46039f\"],[0.2222222222222222,\"#7201a8\"],[0.3333333333333333,\"#9c179e\"],[0.4444444444444444,\"#bd3786\"],[0.5555555555555556,\"#d8576b\"],[0.6666666666666666,\"#ed7953\"],[0.7777777777777778,\"#fb9f3a\"],[0.8888888888888888,\"#fdca26\"],[1.0,\"#f0f921\"]],\"sequentialminus\":[[0.0,\"#0d0887\"],[0.1111111111111111,\"#46039f\"],[0.2222222222222222,\"#7201a8\"],[0.3333333333333333,\"#9c179e\"],[0.4444444444444444,\"#bd3786\"],[0.5555555555555556,\"#d8576b\"],[0.6666666666666666,\"#ed7953\"],[0.7777777777777778,\"#fb9f3a\"],[0.8888888888888888,\"#fdca26\"],[1.0,\"#f0f921\"]]},\"colorway\":[\"#636efa\",\"#EF553B\",\"#00cc96\",\"#ab63fa\",\"#FFA15A\",\"#19d3f3\",\"#FF6692\",\"#B6E880\",\"#FF97FF\",\"#FECB52\"],\"font\":{\"color\":\"#2a3f5f\"},\"geo\":{\"bgcolor\":\"white\",\"lakecolor\":\"white\",\"landcolor\":\"#E5ECF6\",\"showlakes\":true,\"showland\":true,\"subunitcolor\":\"white\"},\"hoverlabel\":{\"align\":\"left\"},\"hovermode\":\"closest\",\"mapbox\":{\"style\":\"light\"},\"paper_bgcolor\":\"white\",\"plot_bgcolor\":\"#E5ECF6\",\"polar\":{\"angularaxis\":{\"gridcolor\":\"white\",\"linecolor\":\"white\",\"ticks\":\"\"},\"bgcolor\":\"#E5ECF6\",\"radialaxis\":{\"gridcolor\":\"white\",\"linecolor\":\"white\",\"ticks\":\"\"}},\"scene\":{\"xaxis\":{\"backgroundcolor\":\"#E5ECF6\",\"gridcolor\":\"white\",\"gridwidth\":2,\"linecolor\":\"white\",\"showbackground\":true,\"ticks\":\"\",\"zerolinecolor\":\"white\"},\"yaxis\":{\"backgroundcolor\":\"#E5ECF6\",\"gridcolor\":\"white\",\"gridwidth\":2,\"linecolor\":\"white\",\"showbackground\":true,\"ticks\":\"\",\"zerolinecolor\":\"white\"},\"zaxis\":{\"backgroundcolor\":\"#E5ECF6\",\"gridcolor\":\"white\",\"gridwidth\":2,\"linecolor\":\"white\",\"showbackground\":true,\"ticks\":\"\",\"zerolinecolor\":\"white\"}},\"shapedefaults\":{\"line\":{\"color\":\"#2a3f5f\"}},\"ternary\":{\"aaxis\":{\"gridcolor\":\"white\",\"linecolor\":\"white\",\"ticks\":\"\"},\"baxis\":{\"gridcolor\":\"white\",\"linecolor\":\"white\",\"ticks\":\"\"},\"bgcolor\":\"#E5ECF6\",\"caxis\":{\"gridcolor\":\"white\",\"linecolor\":\"white\",\"ticks\":\"\"}},\"title\":{\"x\":0.05},\"xaxis\":{\"automargin\":true,\"gridcolor\":\"white\",\"linecolor\":\"white\",\"ticks\":\"\",\"title\":{\"standoff\":15},\"zerolinecolor\":\"white\",\"zerolinewidth\":2},\"yaxis\":{\"automargin\":true,\"gridcolor\":\"white\",\"linecolor\":\"white\",\"ticks\":\"\",\"title\":{\"standoff\":15},\"zerolinecolor\":\"white\",\"zerolinewidth\":2}}},\"xaxis\":{\"anchor\":\"y\",\"domain\":[0.0,1.0],\"title\":{\"text\":\"month\"}},\"yaxis\":{\"anchor\":\"x\",\"domain\":[0.0,1.0],\"title\":{\"text\":\"kwh\"}},\"legend\":{\"title\":{\"text\":\"friendly_id\"},\"tracegroupgap\":0},\"title\":{\"text\":\"Average Hourly Distribution by SCADA\"}},                        {\"responsive\": true}                    ).then(function(){\n",
       "                            \n",
       "var gd = document.getElementById('7713b733-905b-43d4-b273-6dc30afd73e8');\n",
       "var x = new MutationObserver(function (mutations, observer) {{\n",
       "        var display = window.getComputedStyle(gd).display;\n",
       "        if (!display || display === 'none') {{\n",
       "            console.log([gd, 'removed!']);\n",
       "            Plotly.purge(gd);\n",
       "            observer.disconnect();\n",
       "        }}\n",
       "}});\n",
       "\n",
       "// Listen for the removal of the full notebook cells\n",
       "var notebookContainer = gd.closest('#notebook-container');\n",
       "if (notebookContainer) {{\n",
       "    x.observe(notebookContainer, {childList: true});\n",
       "}}\n",
       "\n",
       "// Listen for the clearing of the current output cell\n",
       "var outputEl = gd.closest('.output');\n",
       "if (outputEl) {{\n",
       "    x.observe(outputEl, {childList: true});\n",
       "}}\n",
       "\n",
       "                        })                };                });            </script>        </div>"
      ]
     },
     "metadata": {},
     "output_type": "display_data"
    }
   ],
   "source": [
    "# Plot graph\n",
    "px.line(df_scada, x='month', y='kwh', \n",
    "        title='Average Hourly Distribution by SCADA',\n",
    "        color='friendly_id')"
   ]
  },
  {
   "cell_type": "markdown",
   "id": "f8ee9a10",
   "metadata": {},
   "source": [
    "---"
   ]
  }
 ],
 "metadata": {
  "kernelspec": {
   "display_name": "Python 3 (ipykernel)",
   "language": "python",
   "name": "python3"
  },
  "language_info": {
   "codemirror_mode": {
    "name": "ipython",
    "version": 3
   },
   "file_extension": ".py",
   "mimetype": "text/x-python",
   "name": "python",
   "nbconvert_exporter": "python",
   "pygments_lexer": "ipython3",
   "version": "3.11.5"
  }
 },
 "nbformat": 4,
 "nbformat_minor": 5
}
