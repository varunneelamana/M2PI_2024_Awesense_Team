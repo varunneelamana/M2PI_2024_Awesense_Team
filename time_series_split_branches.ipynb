{
 "cells": [
  {
   "cell_type": "markdown",
   "id": "6d5548af",
   "metadata": {},
   "source": [
    "## Overview"
   ]
  },
  {
   "cell_type": "markdown",
   "id": "14577429",
   "metadata": {},
   "source": [
    "This notebook is intended to:\n",
    "- Demonstrate how to access time series data for meters and SCADAs using Awesense's Energy Data Model (EDM) SQL API.\n",
    "\n",
    "Please refer to the [main_concepts.ipynb](../2_main_concepts/main_concepts.ipynb) notebook for a high-level introduction to and simpler examples of the core views and functions available in Awesense's Energy Data Model (EDM)."
   ]
  },
  {
   "cell_type": "markdown",
   "id": "59d759b0",
   "metadata": {},
   "source": [
    "---"
   ]
  },
  {
   "cell_type": "markdown",
   "id": "dd853fa5",
   "metadata": {},
   "source": [
    "## Set up"
   ]
  },
  {
   "cell_type": "code",
   "execution_count": 293,
   "id": "55bebef7",
   "metadata": {
    "tags": []
   },
   "outputs": [],
   "source": [
    "import getpass\n",
    "import plotly.express as px\n",
    "import plotly.io as pio\n",
    "import time\n",
    "import urllib.parse\n",
    "import pandas as pd\n",
    "\n",
    "# Allow charts to persist between notebook sessions.\n",
    "pio.renderers.default='notebook'"
   ]
  },
  {
   "cell_type": "markdown",
   "id": "b8693057",
   "metadata": {},
   "source": [
    "**Connection**\n",
    "\n",
    "Enter the EDM server address and the login credentials provided by Awesense. If you do not have the credentials, or have any trouble connecting, please contact api@awesense.com.\n",
    "<span style='color:red'> **Please do NOT store the credentials in the notebook, nor share them with anyone.** </span>"
   ]
  },
  {
   "cell_type": "code",
   "execution_count": 294,
   "id": "f9064f1d",
   "metadata": {
    "tags": []
   },
   "outputs": [
    {
     "name": "stdout",
     "output_type": "stream",
     "text": [
      "EDM server address: ········\n",
      "\n",
      "EDM login information\n",
      "Username: ········\n",
      "Password: ········\n",
      "The sql extension is already loaded. To reload it, use:\n",
      "  %reload_ext sql\n"
     ]
    }
   ],
   "source": [
    "edm_address = getpass.getpass(prompt='EDM server address: ')\n",
    "\n",
    "print('\\nEDM login information')\n",
    "edm_name = getpass.getpass(prompt='Username: ')\n",
    "edm_password = getpass.getpass(prompt='Password: ')\n",
    "edm_password = urllib.parse.quote(edm_password)\n",
    "\n",
    "%load_ext sql\n",
    "%sql postgresql://$edm_name:$edm_password@$edm_address/edm\n",
    "%config SqlMagic.displaycon = False\n",
    "%config SqlMagic.feedback = False\n",
    "\n",
    "# Delete the credential variables for security purpose.\n",
    "del edm_name, edm_password"
   ]
  },
  {
   "cell_type": "markdown",
   "id": "17c75524",
   "metadata": {},
   "source": [
    "---"
   ]
  },
  {
   "cell_type": "markdown",
   "id": "262fd82d",
   "metadata": {},
   "source": [
    "## Time Series\n",
    "Various temporary views are created below to optimize query performance within the notebook."
   ]
  },
  {
   "cell_type": "markdown",
   "id": "3ebabd41",
   "metadata": {},
   "source": [
    "### Meter Time Series"
   ]
  },
  {
   "cell_type": "markdown",
   "id": "f26d375c",
   "metadata": {},
   "source": [
    "*High level approach*\n",
    "- Create a temporary view `grid_element_metric`, containing information on meters for grid elements and convenient access to the actual data.\n",
    "- The `grid_get_downstream()` function is used to gather information of meters that are downstream of a specified grid element.\n",
    "- Time series are retrieved using the `ts_data_source_select()` function."
   ]
  },
  {
   "cell_type": "markdown",
   "id": "585573a6",
   "metadata": {},
   "source": [
    "**Downstream of a Grid** \n",
    "- Specify `grid_id` and `grid_element_id` whose downstream meter data to fetch for."
   ]
  },
  {
   "cell_type": "code",
   "execution_count": 43,
   "id": "6bf7bb0d",
   "metadata": {
    "scrolled": true,
    "tags": []
   },
   "outputs": [
    {
     "name": "stdout",
     "output_type": "stream",
     "text": [
      "Grid Id: North Central Zone\n",
      "Grid Element Id: 12373_hvmv\n"
     ]
    }
   ],
   "source": [
    "grid_id = input('Grid Id: ') # awefice\n",
    "grid_element_id = input('Grid Element Id: ') # line_segment_57"
   ]
  },
  {
   "cell_type": "code",
   "execution_count": 114,
   "id": "4c2d94dd",
   "metadata": {},
   "outputs": [],
   "source": [
    "# grid_id = 'North Central Zone'\n",
    "# grid_element_id = '12373_hvmv'"
   ]
  },
  {
   "cell_type": "code",
   "execution_count": 249,
   "id": "6252413e",
   "metadata": {},
   "outputs": [],
   "source": [
    "grid_id = 'awefice'\n",
    "grid_element_id = 'transformer_6'"
   ]
  },
  {
   "cell_type": "markdown",
   "id": "3f569fd8",
   "metadata": {},
   "source": [
    "Check when this grid was last updated."
   ]
  },
  {
   "cell_type": "code",
   "execution_count": 186,
   "id": "97f44a8b",
   "metadata": {
    "tags": []
   },
   "outputs": [
    {
     "data": {
      "text/html": [
       "<table>\n",
       "    <tr>\n",
       "        <th>last_updated</th>\n",
       "    </tr>\n",
       "    <tr>\n",
       "        <td>2021-01-01 20:00:00+00:00</td>\n",
       "    </tr>\n",
       "</table>"
      ],
      "text/plain": [
       "[(datetime.datetime(2021, 1, 1, 20, 0, tzinfo=datetime.timezone.utc),)]"
      ]
     },
     "execution_count": 186,
     "metadata": {},
     "output_type": "execute_result"
    }
   ],
   "source": [
    "%%sql\n",
    "\n",
    "SELECT last_updated\n",
    "FROM grid\n",
    "WHERE grid_id = '{grid_id}';"
   ]
  },
  {
   "cell_type": "code",
   "execution_count": 250,
   "id": "254257e3",
   "metadata": {},
   "outputs": [
    {
     "name": "stdout",
     "output_type": "stream",
     "text": [
      "First branching includes      grid_element_id terminal1_cn terminal2_cn\n",
      "36  line_segment_136      con_241      con_350\n",
      "58   line_segment_89      con_241      con_242\n"
     ]
    }
   ],
   "source": [
    "##Finding the first branching after the first element - grid_element_id\n",
    "\n",
    "Tree = %sql SELECT grid_element_id, terminal1_cn, terminal2_cn FROM grid_get_downstream('{grid_id}', '{grid_element_id}');\n",
    "Tree = Tree.DataFrame()\n",
    "\n",
    "AA = Tree[Tree['terminal1_cn']==Tree[Tree['grid_element_id']==grid_element_id]['terminal2_cn'].iloc[0]]\n",
    "if (AA['terminal1_cn'].value_counts()>1).iloc[0]:\n",
    "    print(f\"First branching includes {AA}\")\n",
    "else:\n",
    "    while ((AA['terminal1_cn'].value_counts()==1).iloc[0]):\n",
    "        AA = Tree[Tree['terminal1_cn']==AA['terminal2_cn'].iloc[0]]\n",
    "        if (AA['terminal1_cn'].value_counts()>1).iloc[0]:\n",
    "                print(f\"First branching includes {AA}\")\n",
    "                break\n",
    "                \n"
   ]
  },
  {
   "cell_type": "code",
   "execution_count": null,
   "id": "bc7bde80",
   "metadata": {},
   "outputs": [],
   "source": []
  },
  {
   "cell_type": "code",
   "execution_count": null,
   "id": "253bdc24",
   "metadata": {},
   "outputs": [],
   "source": []
  },
  {
   "cell_type": "code",
   "execution_count": 78,
   "id": "1ab038b1",
   "metadata": {},
   "outputs": [],
   "source": [
    "# %%sql \n",
    "# select * from grid_get_downstream('{grid_id}', '{grid_element_id}')\n",
    "# limit 10;"
   ]
  },
  {
   "cell_type": "code",
   "execution_count": 327,
   "id": "1f8bed7d",
   "metadata": {},
   "outputs": [],
   "source": [
    "grid_id = 'awefice'\n",
    "grid_element_id = 'transformer_2'\n",
    "\n",
    "#Retrieving elements, connections and phases from all elements downstream\n",
    "Tree2 = %sql SELECT grid_element_id, terminal1_cn, terminal2_cn, phases FROM grid_get_downstream('{grid_id}', '{grid_element_id}');\n",
    "Tree2 = Tree2.DataFrame()\n",
    "\n",
    "#Merging elements that come one following the other\n",
    "BB = Tree2.merge(Tree2, left_on='terminal2_cn', right_on='terminal1_cn',suffixes=('_upper', '_lower'))\n",
    "\n",
    "#Tracing elements where the phases change from ABC to non-ABC\n",
    "bif = BB[(BB['phases_upper']=='ABC') & (BB['phases_lower']!='ABC')]\n",
    "bif = bif.reset_index()"
   ]
  },
  {
   "cell_type": "code",
   "execution_count": null,
   "id": "785044b1",
   "metadata": {},
   "outputs": [],
   "source": []
  },
  {
   "cell_type": "code",
   "execution_count": null,
   "id": "ba36ae34",
   "metadata": {},
   "outputs": [],
   "source": []
  },
  {
   "cell_type": "code",
   "execution_count": 206,
   "id": "e52fdd25",
   "metadata": {},
   "outputs": [],
   "source": []
  },
  {
   "cell_type": "code",
   "execution_count": 330,
   "id": "124ff25f",
   "metadata": {},
   "outputs": [
    {
     "name": "stderr",
     "output_type": "stream",
     "text": [
      "/var/folders/03/68xx11110r9b4mpdz752w79r0000gn/T/ipykernel_24179/3654283460.py:15: SettingWithCopyWarning:\n",
      "\n",
      "\n",
      "A value is trying to be set on a copy of a slice from a DataFrame.\n",
      "Try using .loc[row_indexer,col_indexer] = value instead\n",
      "\n",
      "See the caveats in the documentation: https://pandas.pydata.org/pandas-docs/stable/user_guide/indexing.html#returning-a-view-versus-a-copy\n",
      "\n",
      "/var/folders/03/68xx11110r9b4mpdz752w79r0000gn/T/ipykernel_24179/3654283460.py:16: SettingWithCopyWarning:\n",
      "\n",
      "\n",
      "A value is trying to be set on a copy of a slice from a DataFrame.\n",
      "Try using .loc[row_indexer,col_indexer] = value instead\n",
      "\n",
      "See the caveats in the documentation: https://pandas.pydata.org/pandas-docs/stable/user_guide/indexing.html#returning-a-view-versus-a-copy\n",
      "\n",
      "/var/folders/03/68xx11110r9b4mpdz752w79r0000gn/T/ipykernel_24179/3654283460.py:36: FutureWarning:\n",
      "\n",
      "Setting an item of incompatible dtype is deprecated and will raise an error in a future version of pandas. Value '235206.54450411018' has dtype incompatible with int64, please explicitly cast to a compatible dtype first.\n",
      "\n"
     ]
    }
   ],
   "source": [
    "#Finding number of meters and the sum of their consumption in each cluster beneath ABC elements\n",
    "\n",
    "grid_id = 'awefice'\n",
    "grid_element_id = 'transformer_2'\n",
    "\n",
    "#Retrieving elements, connections and phases from all elements downstream\n",
    "Tree2 = %sql SELECT grid_element_id, terminal1_cn, terminal2_cn, phases FROM grid_get_downstream('{grid_id}', '{grid_element_id}');\n",
    "Tree2 = Tree2.DataFrame()\n",
    "\n",
    "#Merging elements that come one following the other\n",
    "BB = Tree2.merge(Tree2, left_on='terminal2_cn', right_on='terminal1_cn',suffixes=('_upper', '_lower'))\n",
    "\n",
    "#Tracing elements where the phases change from ABC to non-ABC\n",
    "bif = BB[(BB['phases_upper']=='ABC') & (BB['phases_lower']!='ABC')]\n",
    "bif['Meters_in_cluster'] = 0\n",
    "bif['Total_consumption'] = 0\n",
    "bif = bif.reset_index()\n",
    "\n",
    "#Calculating consumption and munber of meters in each cluster\n",
    "for ii in range(0,len(bif['grid_element_id_lower'])):\n",
    "#    print(bif['grid_element_id_lower'].iloc[ii])\n",
    "    grid_element_id = bif['grid_element_id_lower'].iloc[ii]\n",
    "    \n",
    "    EE = %sql CREATE OR REPLACE TEMPORARY VIEW grid_element_metric AS SELECT grid_id, grid_element_id, phases, type, provider, direction, friendly_id, metric_key AS metric, valid, timestamp, value \\\n",
    "    FROM grid_element_data_source geds \\\n",
    "    JOIN UNNEST(geds.metrics::TEXT[]) AS metric_key \\\n",
    "        ON true \\\n",
    "    LEFT JOIN ts_data_source_select(grid_element_data_source_id, metric_key) AS ts \\\n",
    "        ON true;\n",
    "\n",
    "    FF = %sql CREATE OR REPLACE TEMPORARY VIEW meter_data_source2 AS \\\n",
    "        SELECT meter.grid_id,\\\n",
    "                meter.grid_element_id,\\\n",
    "                geds.grid_element_data_source_id,\\\n",
    "                geds.friendly_id,\\\n",
    "                geds.phases,\\\n",
    "                geds.provider,\\\n",
    "                metric_key as metric,\\\n",
    "                lower(geds.valid) as start_time,\\\n",
    "                upper(geds.valid) as end_time\\\n",
    "        FROM grid_get_downstream('{grid_id}', '{grid_element_id}') AS meter\\\n",
    "        LEFT JOIN grid_element_data_source geds\\\n",
    "            ON meter.grid_element_id = geds.grid_element_id\\\n",
    "            AND meter.grid_id = geds.grid_id\\\n",
    "            AND geds.type = 'CONSUMER'\\\n",
    "        JOIN UNNEST(geds.metrics::TEXT[]) AS metric_key\\\n",
    "            ON true\\\n",
    "        WHERE meter.type = 'Meter';\n",
    "\n",
    "    GG = %sql CREATE OR REPLACE TEMPORARY VIEW meter_consumption2 AS\\\n",
    "    SELECT meter.grid_id,\\\n",
    "            meter.grid_element_id,\\\n",
    "            meter.friendly_id,\\\n",
    "            timestamp,\\\n",
    "            value AS kWh,\\\n",
    "            meter.phases\\\n",
    "    FROM meter_data_source2 meter\\\n",
    "    LEFT JOIN grid_element_metric gem\\\n",
    "        ON gem.grid_id = meter.grid_id\\\n",
    "        AND gem.grid_element_id = meter.grid_element_id\\\n",
    "    WHERE gem.metric = 'kWh'\\\n",
    "       AND gem.type = 'CONSUMER';\n",
    "\n",
    "    II = %sql CREATE OR REPLACE TEMPORARY VIEW ts_stats2 AS\\\n",
    "        SELECT SUM(kWh) AS kWh, MIN(timestamp) AS start_timerange, MAX(timestamp) AS end_timerange\\\n",
    "        FROM meter_consumption2;\n",
    "\n",
    "    JJ = %sql select COUNT(DISTINCT grid_element_id) FROM meter_data_source2;\n",
    "    KK = %sql SELECT SUM(kWh) AS kWh FROM meter_consumption2;\n",
    "    \n",
    "    bif.loc[ii,'Meters_in_cluster'] = JJ[0][0]\n",
    "    bif.loc[ii,'Total_consumption'] = KK[0][0]"
   ]
  },
  {
   "cell_type": "code",
   "execution_count": 331,
   "id": "7caebdc8",
   "metadata": {
    "scrolled": true
   },
   "outputs": [
    {
     "data": {
      "text/html": [
       "<div>\n",
       "<style scoped>\n",
       "    .dataframe tbody tr th:only-of-type {\n",
       "        vertical-align: middle;\n",
       "    }\n",
       "\n",
       "    .dataframe tbody tr th {\n",
       "        vertical-align: top;\n",
       "    }\n",
       "\n",
       "    .dataframe thead th {\n",
       "        text-align: right;\n",
       "    }\n",
       "</style>\n",
       "<table border=\"1\" class=\"dataframe\">\n",
       "  <thead>\n",
       "    <tr style=\"text-align: right;\">\n",
       "      <th></th>\n",
       "      <th>index</th>\n",
       "      <th>grid_element_id_upper</th>\n",
       "      <th>terminal1_cn_upper</th>\n",
       "      <th>terminal2_cn_upper</th>\n",
       "      <th>phases_upper</th>\n",
       "      <th>grid_element_id_lower</th>\n",
       "      <th>terminal1_cn_lower</th>\n",
       "      <th>terminal2_cn_lower</th>\n",
       "      <th>phases_lower</th>\n",
       "      <th>Meters_in_cluster</th>\n",
       "      <th>Total_consumption</th>\n",
       "    </tr>\n",
       "  </thead>\n",
       "  <tbody>\n",
       "    <tr>\n",
       "      <th>0</th>\n",
       "      <td>1</td>\n",
       "      <td>line_segment_1</td>\n",
       "      <td>con_365</td>\n",
       "      <td>con_60</td>\n",
       "      <td>ABC</td>\n",
       "      <td>switchable_element_25</td>\n",
       "      <td>con_60</td>\n",
       "      <td>con_62</td>\n",
       "      <td>C</td>\n",
       "      <td>3</td>\n",
       "      <td>235206.544504</td>\n",
       "    </tr>\n",
       "    <tr>\n",
       "      <th>1</th>\n",
       "      <td>6</td>\n",
       "      <td>line_segment_12</td>\n",
       "      <td>con_344</td>\n",
       "      <td>con_346</td>\n",
       "      <td>ABC</td>\n",
       "      <td>switchable_element_15</td>\n",
       "      <td>con_346</td>\n",
       "      <td>con_32</td>\n",
       "      <td>A</td>\n",
       "      <td>3</td>\n",
       "      <td>263749.990827</td>\n",
       "    </tr>\n",
       "    <tr>\n",
       "      <th>2</th>\n",
       "      <td>9</td>\n",
       "      <td>line_segment_14</td>\n",
       "      <td>con_26</td>\n",
       "      <td>con_29</td>\n",
       "      <td>ABC</td>\n",
       "      <td>switchable_element_30</td>\n",
       "      <td>con_29</td>\n",
       "      <td>con_84</td>\n",
       "      <td>B</td>\n",
       "      <td>3</td>\n",
       "      <td>287896.044378</td>\n",
       "    </tr>\n",
       "  </tbody>\n",
       "</table>\n",
       "</div>"
      ],
      "text/plain": [
       "   index grid_element_id_upper terminal1_cn_upper terminal2_cn_upper  \\\n",
       "0      1        line_segment_1            con_365             con_60   \n",
       "1      6       line_segment_12            con_344            con_346   \n",
       "2      9       line_segment_14             con_26             con_29   \n",
       "\n",
       "  phases_upper  grid_element_id_lower terminal1_cn_lower terminal2_cn_lower  \\\n",
       "0          ABC  switchable_element_25             con_60             con_62   \n",
       "1          ABC  switchable_element_15            con_346             con_32   \n",
       "2          ABC  switchable_element_30             con_29             con_84   \n",
       "\n",
       "  phases_lower  Meters_in_cluster  Total_consumption  \n",
       "0            C                  3      235206.544504  \n",
       "1            A                  3      263749.990827  \n",
       "2            B                  3      287896.044378  "
      ]
     },
     "execution_count": 331,
     "metadata": {},
     "output_type": "execute_result"
    }
   ],
   "source": [
    "bif"
   ]
  },
  {
   "cell_type": "code",
   "execution_count": null,
   "id": "b3072ec3",
   "metadata": {},
   "outputs": [],
   "source": []
  },
  {
   "cell_type": "code",
   "execution_count": null,
   "id": "2a1ff197",
   "metadata": {},
   "outputs": [],
   "source": []
  },
  {
   "cell_type": "code",
   "execution_count": null,
   "id": "4851cb2b",
   "metadata": {},
   "outputs": [],
   "source": []
  },
  {
   "cell_type": "code",
   "execution_count": null,
   "id": "2686f059",
   "metadata": {},
   "outputs": [],
   "source": []
  },
  {
   "cell_type": "code",
   "execution_count": null,
   "id": "1cb6d8de",
   "metadata": {},
   "outputs": [],
   "source": []
  },
  {
   "cell_type": "code",
   "execution_count": null,
   "id": "97837c2a",
   "metadata": {},
   "outputs": [],
   "source": []
  },
  {
   "cell_type": "code",
   "execution_count": null,
   "id": "4000c4fc",
   "metadata": {},
   "outputs": [],
   "source": []
  }
 ],
 "metadata": {
  "kernelspec": {
   "display_name": "Python 3 (ipykernel)",
   "language": "python",
   "name": "python3"
  },
  "language_info": {
   "codemirror_mode": {
    "name": "ipython",
    "version": 3
   },
   "file_extension": ".py",
   "mimetype": "text/x-python",
   "name": "python",
   "nbconvert_exporter": "python",
   "pygments_lexer": "ipython3",
   "version": "3.11.0"
  }
 },
 "nbformat": 4,
 "nbformat_minor": 5
}
