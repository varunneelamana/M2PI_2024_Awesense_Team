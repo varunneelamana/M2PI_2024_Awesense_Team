{
 "cells": [
  {
   "cell_type": "markdown",
   "id": "6d5548af",
   "metadata": {},
   "source": [
    "## Overview"
   ]
  },
  {
   "cell_type": "markdown",
   "id": "14577429",
   "metadata": {},
   "source": [
    "This notebook is intended to:\n",
    "- Demonstrate how to access time series data for meters and SCADAs using Awesense's Energy Data Model (EDM) SQL API.\n",
    "\n",
    "Please refer to the [main_concepts.ipynb](../2_main_concepts/main_concepts.ipynb) notebook for a high-level introduction to and simpler examples of the core views and functions available in Awesense's Energy Data Model (EDM)."
   ]
  },
  {
   "cell_type": "markdown",
   "id": "59d759b0",
   "metadata": {},
   "source": [
    "---"
   ]
  },
  {
   "cell_type": "markdown",
   "id": "dd853fa5",
   "metadata": {},
   "source": [
    "## Set up"
   ]
  },
  {
   "cell_type": "code",
   "execution_count": 10,
   "id": "55bebef7",
   "metadata": {
    "tags": []
   },
   "outputs": [],
   "source": [
    "import getpass\n",
    "import plotly.express as px\n",
    "import plotly.io as pio\n",
    "import time\n",
    "import urllib.parse\n",
    "import pandas as pd\n",
    "\n",
    "# Allow charts to persist between notebook sessions.\n",
    "pio.renderers.default='notebook'"
   ]
  },
  {
   "cell_type": "markdown",
   "id": "b8693057",
   "metadata": {},
   "source": [
    "**Connection**\n",
    "\n",
    "Enter the EDM server address and the login credentials provided by Awesense. If you do not have the credentials, or have any trouble connecting, please contact api@awesense.com.\n",
    "<span style='color:red'> **Please do NOT store the credentials in the notebook, nor share them with anyone.** </span>"
   ]
  },
  {
   "cell_type": "code",
   "execution_count": 11,
   "id": "f9064f1d",
   "metadata": {
    "tags": []
   },
   "outputs": [
    {
     "name": "stdout",
     "output_type": "stream",
     "text": [
      "EDM server address: ········\n",
      "\n",
      "EDM login information\n",
      "Username: ········\n",
      "Password: ········\n",
      "The sql extension is already loaded. To reload it, use:\n",
      "  %reload_ext sql\n"
     ]
    }
   ],
   "source": [
    "edm_address = getpass.getpass(prompt='EDM server address: ')\n",
    "\n",
    "print('\\nEDM login information')\n",
    "edm_name = getpass.getpass(prompt='Username: ')\n",
    "edm_password = getpass.getpass(prompt='Password: ')\n",
    "edm_password = urllib.parse.quote(edm_password)\n",
    "\n",
    "%load_ext sql\n",
    "%sql postgresql://$edm_name:$edm_password@$edm_address/edm\n",
    "%config SqlMagic.displaycon = False\n",
    "%config SqlMagic.feedback = False\n",
    "\n",
    "# Delete the credential variables for security purpose.\n",
    "del edm_name, edm_password"
   ]
  },
  {
   "cell_type": "markdown",
   "id": "17c75524",
   "metadata": {},
   "source": [
    "---"
   ]
  },
  {
   "cell_type": "markdown",
   "id": "262fd82d",
   "metadata": {},
   "source": [
    "## Time Series\n",
    "Various temporary views are created below to optimize query performance within the notebook."
   ]
  },
  {
   "cell_type": "markdown",
   "id": "3ebabd41",
   "metadata": {},
   "source": [
    "### Meter Time Series"
   ]
  },
  {
   "cell_type": "markdown",
   "id": "f26d375c",
   "metadata": {},
   "source": [
    "*High level approach*\n",
    "- Create a temporary view `grid_element_metric`, containing information on meters for grid elements and convenient access to the actual data.\n",
    "- The `grid_get_downstream()` function is used to gather information of meters that are downstream of a specified grid element.\n",
    "- Time series are retrieved using the `ts_data_source_select()` function."
   ]
  },
  {
   "cell_type": "markdown",
   "id": "585573a6",
   "metadata": {},
   "source": [
    "**Downstream of a Grid** \n",
    "- Specify `grid_id` and `grid_element_id` whose downstream meter data to fetch for."
   ]
  },
  {
   "cell_type": "code",
   "execution_count": 12,
   "id": "6bf7bb0d",
   "metadata": {
    "scrolled": false,
    "tags": []
   },
   "outputs": [
    {
     "name": "stdout",
     "output_type": "stream",
     "text": [
      "Grid Id: awefice\n",
      "Grid Element Id: transformer_2\n"
     ]
    }
   ],
   "source": [
    "grid_id = input('Grid Id: ') # awefice\n",
    "grid_element_id = input('Grid Element Id: ') # line_segment_57"
   ]
  },
  {
   "cell_type": "markdown",
   "id": "3f569fd8",
   "metadata": {},
   "source": [
    "Check when this grid was last updated."
   ]
  },
  {
   "cell_type": "code",
   "execution_count": 4,
   "id": "97f44a8b",
   "metadata": {
    "tags": []
   },
   "outputs": [
    {
     "data": {
      "text/html": [
       "<table>\n",
       "    <tr>\n",
       "        <th>last_updated</th>\n",
       "    </tr>\n",
       "    <tr>\n",
       "        <td>2021-01-01 20:00:00+00:00</td>\n",
       "    </tr>\n",
       "</table>"
      ],
      "text/plain": [
       "[(datetime.datetime(2021, 1, 1, 20, 0, tzinfo=datetime.timezone.utc),)]"
      ]
     },
     "execution_count": 4,
     "metadata": {},
     "output_type": "execute_result"
    }
   ],
   "source": [
    "%%sql\n",
    "\n",
    "SELECT last_updated\n",
    "FROM grid\n",
    "WHERE grid_id = '{grid_id}';"
   ]
  },
  {
   "cell_type": "code",
   "execution_count": 18,
   "id": "254257e3",
   "metadata": {},
   "outputs": [
    {
     "name": "stdout",
     "output_type": "stream",
     "text": [
      "First branching includes     grid_element_id terminal1_cn terminal2_cn\n",
      "7   line_segment_11       con_21       con_24\n",
      "9  line_segment_134       con_21      con_342\n"
     ]
    }
   ],
   "source": [
    "##Finding the first branching after the first element - grid_element_id\n",
    "\n",
    "Tree = %sql SELECT grid_element_id, terminal1_cn, terminal2_cn FROM grid_get_downstream('{grid_id}', '{grid_element_id}');\n",
    "Tree = Tree.DataFrame()\n",
    "\n",
    "AA = Tree[Tree['terminal1_cn']==Tree[Tree['grid_element_id']==grid_element_id]['terminal2_cn'].iloc[0]]\n",
    "if (AA['terminal1_cn'].value_counts()>1).iloc[0]:\n",
    "    print(f\"First branching includes {AA}\")\n",
    "else:\n",
    "    while ((AA['terminal1_cn'].value_counts()==1).iloc[0]):\n",
    "        AA = Tree[Tree['terminal1_cn']==AA['terminal2_cn'].iloc[0]]\n",
    "        if (AA['terminal1_cn'].value_counts()>1).iloc[0]:\n",
    "                print(f\"First branching includes {AA}\")\n",
    "                break\n",
    "                \n"
   ]
  },
  {
   "cell_type": "code",
   "execution_count": null,
   "id": "69dec11f",
   "metadata": {},
   "outputs": [],
   "source": []
  },
  {
   "cell_type": "code",
   "execution_count": null,
   "id": "0fb84b1f",
   "metadata": {},
   "outputs": [],
   "source": []
  },
  {
   "cell_type": "code",
   "execution_count": 28,
   "id": "8204a913",
   "metadata": {},
   "outputs": [
    {
     "data": {
      "text/html": [
       "<table>\n",
       "    <tr>\n",
       "        <th>grid_id</th>\n",
       "        <th>grid_element_id</th>\n",
       "        <th>type</th>\n",
       "        <th>customer_type</th>\n",
       "        <th>phases</th>\n",
       "        <th>is_underground</th>\n",
       "        <th>is_producer</th>\n",
       "        <th>is_consumer</th>\n",
       "        <th>is_switchable</th>\n",
       "        <th>switch_is_open</th>\n",
       "        <th>terminal1_cn</th>\n",
       "        <th>terminal2_cn</th>\n",
       "        <th>power_flow_direction</th>\n",
       "        <th>upstream_grid_element_id</th>\n",
       "        <th>geometry</th>\n",
       "        <th>meta</th>\n",
       "    </tr>\n",
       "    <tr>\n",
       "        <td>awefice</td>\n",
       "        <td>batt_10</td>\n",
       "        <td>Battery</td>\n",
       "        <td>battery</td>\n",
       "        <td>ABC</td>\n",
       "        <td>None</td>\n",
       "        <td>True</td>\n",
       "        <td>True</td>\n",
       "        <td>False</td>\n",
       "        <td>None</td>\n",
       "        <td>con_135_t2</td>\n",
       "        <td>VCN.batt_10</td>\n",
       "        <td>both</td>\n",
       "        <td>None</td>\n",
       "        <td>0101000020E61000000B45A2539AC65EC0DDB431982CA24840</td>\n",
       "        <td>{&#x27;name&#x27;: &#x27;batt_10&#x27;, &#x27;label&#x27;: &#x27;batt_10&#x27;, &#x27;sdp_id&#x27;: None, &#x27;latitude&#x27;: None, &#x27;meter_id&#x27;: &#x27;m_10&#x27;, &#x27;longitude&#x27;: None, &#x27;lv_feeder&#x27;: None, &#x27;mv_feeder&#x27;: None, &#x27;ownership&#x27;: &#x27;private&#x27;, &#x27;make_model&#x27;: &#x27;LG CHEM RESU10H&#x27;, &#x27;enclosure_id&#x27;: None, &#x27;voltage_level&#x27;: &#x27;LV&#x27;, &#x27;capacity_usable&#x27;: 9.6, &#x27;commission_date&#x27;: None, &#x27;capacity_nominal&#x27;: 9.8, &#x27;manufacture_date&#x27;: None, &#x27;efficiency_round_trip&#x27;: 97.96, &#x27;max_peak_charge_power&#x27;: 7.0, &#x27;parent_transformer_id&#x27;: &#x27;transformer_36&#x27;, &#x27;max_peak_discharge_power&#x27;: 7.0, &#x27;max_continuous_charge_power&#x27;: 5.0, &#x27;max_continuous_discharge_power&#x27;: 5.0}</td>\n",
       "    </tr>\n",
       "    <tr>\n",
       "        <td>awefice</td>\n",
       "        <td>batt_4</td>\n",
       "        <td>Battery</td>\n",
       "        <td>battery</td>\n",
       "        <td>C</td>\n",
       "        <td>None</td>\n",
       "        <td>True</td>\n",
       "        <td>True</td>\n",
       "        <td>False</td>\n",
       "        <td>None</td>\n",
       "        <td>con_81_t2</td>\n",
       "        <td>VCN.batt_4</td>\n",
       "        <td>both</td>\n",
       "        <td>None</td>\n",
       "        <td>0101000020E61000006478F578A6C65EC021220BDF3BA24840</td>\n",
       "        <td>{&#x27;name&#x27;: &#x27;batt_4&#x27;, &#x27;label&#x27;: &#x27;batt_4&#x27;, &#x27;sdp_id&#x27;: None, &#x27;latitude&#x27;: None, &#x27;meter_id&#x27;: &#x27;m_4&#x27;, &#x27;longitude&#x27;: None, &#x27;lv_feeder&#x27;: None, &#x27;mv_feeder&#x27;: None, &#x27;ownership&#x27;: &#x27;private&#x27;, &#x27;make_model&#x27;: &#x27;Tesla Powerwall 2&#x27;, &#x27;enclosure_id&#x27;: None, &#x27;voltage_level&#x27;: &#x27;LV&#x27;, &#x27;capacity_usable&#x27;: 13.2, &#x27;commission_date&#x27;: None, &#x27;capacity_nominal&#x27;: 13.5, &#x27;manufacture_date&#x27;: None, &#x27;efficiency_round_trip&#x27;: 97.78, &#x27;max_peak_charge_power&#x27;: 7.0, &#x27;parent_transformer_id&#x27;: &#x27;transformer_26&#x27;, &#x27;max_peak_discharge_power&#x27;: 7.0, &#x27;max_continuous_charge_power&#x27;: 5.0, &#x27;max_continuous_discharge_power&#x27;: 5.0}</td>\n",
       "    </tr>\n",
       "    <tr>\n",
       "        <td>awefice</td>\n",
       "        <td>evch_10</td>\n",
       "        <td>EVCharger</td>\n",
       "        <td>ev_charger</td>\n",
       "        <td>ABC</td>\n",
       "        <td>None</td>\n",
       "        <td>True</td>\n",
       "        <td>True</td>\n",
       "        <td>False</td>\n",
       "        <td>None</td>\n",
       "        <td>con_135_t2</td>\n",
       "        <td>VCN.evch_10</td>\n",
       "        <td>both</td>\n",
       "        <td>None</td>\n",
       "        <td>0101000020E61000000B45A2539AC65EC0DDB431982CA24840</td>\n",
       "        <td>{&#x27;name&#x27;: None, &#x27;label&#x27;: &#x27;evch_10&#x27;, &#x27;sdp_id&#x27;: None, &#x27;latitude&#x27;: None, &#x27;meter_id&#x27;: &#x27;m_10&#x27;, &#x27;longitude&#x27;: None, &#x27;lv_feeder&#x27;: None, &#x27;ownership&#x27;: &#x27;private&#x27;, &#x27;make_model&#x27;: &#x27;ChargePoint Home Flex [CPH50-NEMA14-50-L23]&#x27;, &#x27;rating_kva&#x27;: &#x27;&#x27;, &#x27;max_current&#x27;: 32, &#x27;max_voltage&#x27;: 240, &#x27;is_dc_charger&#x27;: False, &#x27;voltage_level&#x27;: &#x27;LV&#x27;, &#x27;charging_level&#x27;: &#x27;level_2&#x27;, &#x27;connector_type&#x27;: &#x27;NEMA 14-30&#x27;, &#x27;active_charging_power&#x27;: 7680, &#x27;parent_transformer_id&#x27;: &#x27;transformer_36&#x27;, &#x27;active_generation_power&#x27;: 0}</td>\n",
       "    </tr>\n",
       "    <tr>\n",
       "        <td>awefice</td>\n",
       "        <td>evch_12</td>\n",
       "        <td>EVCharger</td>\n",
       "        <td>ev_charger</td>\n",
       "        <td>ABC</td>\n",
       "        <td>None</td>\n",
       "        <td>True</td>\n",
       "        <td>True</td>\n",
       "        <td>False</td>\n",
       "        <td>None</td>\n",
       "        <td>con_152_t2</td>\n",
       "        <td>VCN.evch_12</td>\n",
       "        <td>both</td>\n",
       "        <td>None</td>\n",
       "        <td>0101000020E610000032415CF294C65EC0F99D2EC423A24840</td>\n",
       "        <td>{&#x27;name&#x27;: None, &#x27;label&#x27;: &#x27;evch_12&#x27;, &#x27;sdp_id&#x27;: None, &#x27;latitude&#x27;: None, &#x27;meter_id&#x27;: &#x27;m_12&#x27;, &#x27;longitude&#x27;: None, &#x27;lv_feeder&#x27;: None, &#x27;ownership&#x27;: &#x27;private&#x27;, &#x27;make_model&#x27;: &#x27;Tesla Supercharger [Tesla]&#x27;, &#x27;rating_kva&#x27;: &#x27;&#x27;, &#x27;max_current&#x27;: 330, &#x27;max_voltage&#x27;: 410, &#x27;is_dc_charger&#x27;: True, &#x27;voltage_level&#x27;: &#x27;LV&#x27;, &#x27;charging_level&#x27;: &#x27;level_3&#x27;, &#x27;connector_type&#x27;: &#x27;TESLA&#x27;, &#x27;active_charging_power&#x27;: 135000, &#x27;parent_transformer_id&#x27;: &#x27;transformer_47&#x27;, &#x27;active_generation_power&#x27;: 0}</td>\n",
       "    </tr>\n",
       "    <tr>\n",
       "        <td>awefice</td>\n",
       "        <td>evch_3</td>\n",
       "        <td>EVCharger</td>\n",
       "        <td>ev_charger</td>\n",
       "        <td>A</td>\n",
       "        <td>None</td>\n",
       "        <td>True</td>\n",
       "        <td>True</td>\n",
       "        <td>False</td>\n",
       "        <td>None</td>\n",
       "        <td>con_40_t2</td>\n",
       "        <td>VCN.evch_3</td>\n",
       "        <td>both</td>\n",
       "        <td>None</td>\n",
       "        <td>0101000020E61000005BCDA4FDBEC65EC0E0B44C793CA24840</td>\n",
       "        <td>{&#x27;name&#x27;: None, &#x27;label&#x27;: &#x27;evch_3&#x27;, &#x27;sdp_id&#x27;: None, &#x27;latitude&#x27;: None, &#x27;meter_id&#x27;: &#x27;m_3&#x27;, &#x27;longitude&#x27;: None, &#x27;lv_feeder&#x27;: None, &#x27;ownership&#x27;: &#x27;private&#x27;, &#x27;make_model&#x27;: &#x27;Tesla Gen 3 Wall Connector [1457768-**-*]&#x27;, &#x27;rating_kva&#x27;: &#x27;&#x27;, &#x27;max_current&#x27;: 16, &#x27;max_voltage&#x27;: 240, &#x27;is_dc_charger&#x27;: False, &#x27;voltage_level&#x27;: &#x27;LV&#x27;, &#x27;charging_level&#x27;: &#x27;level_2&#x27;, &#x27;connector_type&#x27;: &#x27;TESLA&#x27;, &#x27;active_charging_power&#x27;: 3840, &#x27;parent_transformer_id&#x27;: &#x27;transformer_16&#x27;, &#x27;active_generation_power&#x27;: 0}</td>\n",
       "    </tr>\n",
       "    <tr>\n",
       "        <td>awefice</td>\n",
       "        <td>line_segment_1</td>\n",
       "        <td>ACLineSegment</td>\n",
       "        <td>line_segment</td>\n",
       "        <td>ABC</td>\n",
       "        <td>False</td>\n",
       "        <td>False</td>\n",
       "        <td>False</td>\n",
       "        <td>False</td>\n",
       "        <td>None</td>\n",
       "        <td>con_365</td>\n",
       "        <td>con_60</td>\n",
       "        <td>both</td>\n",
       "        <td>None</td>\n",
       "        <td>0102000020E610000002000000B4D96C77B5C65EC0C01F5CB538A248405E145099A2C65EC0F1905C1B38A24840</td>\n",
       "        <td>{&#x27;name&#x27;: &#x27;1&#x27;, &#x27;label&#x27;: &#x27;1&#x27;, &#x27;system&#x27;: &#x27;delta&#x27;, &#x27;rating_a&#x27;: 184, &#x27;materials&#x27;: &#x27;Al_Steel&#x27;, &#x27;latitude_1&#x27;: None, &#x27;latitude_2&#x27;: None, &#x27;make_model&#x27;: &#x27;#2 ACSR&#x27;, &#x27;line_length&#x27;: 83.91, &#x27;longitude_1&#x27;: None, &#x27;longitude_2&#x27;: None, &#x27;is_insulated&#x27;: False, &#x27;ph_ph_voltage&#x27;: 12500, &#x27;voltage_level&#x27;: &#x27;MV&#x27;, &#x27;wire_diameter&#x27;: 8.25, &#x27;hvmv_parent_element&#x27;: None, &#x27;is_operation_status&#x27;: True, &#x27;mvlv_parent_element&#x27;: None, &#x27;is_ground_deployable&#x27;: None}</td>\n",
       "    </tr>\n",
       "    <tr>\n",
       "        <td>awefice</td>\n",
       "        <td>line_segment_10</td>\n",
       "        <td>ACLineSegment</td>\n",
       "        <td>line_segment</td>\n",
       "        <td>ABC</td>\n",
       "        <td>False</td>\n",
       "        <td>False</td>\n",
       "        <td>False</td>\n",
       "        <td>False</td>\n",
       "        <td>None</td>\n",
       "        <td>con_9</td>\n",
       "        <td>con_21</td>\n",
       "        <td>both</td>\n",
       "        <td>None</td>\n",
       "        <td>0102000020E6100000020000001986F0DDD3C65EC0DF43F44B3FA2484034B411F9D3C65EC0B95BB5B239A24840</td>\n",
       "        <td>{&#x27;name&#x27;: &#x27;10&#x27;, &#x27;label&#x27;: &#x27;10&#x27;, &#x27;system&#x27;: &#x27;delta&#x27;, &#x27;rating_a&#x27;: 184, &#x27;materials&#x27;: &#x27;Al_Steel&#x27;, &#x27;latitude_1&#x27;: None, &#x27;latitude_2&#x27;: None, &#x27;make_model&#x27;: &#x27;#2 ACSR&#x27;, &#x27;line_length&#x27;: 18.99, &#x27;longitude_1&#x27;: None, &#x27;longitude_2&#x27;: None, &#x27;is_insulated&#x27;: False, &#x27;ph_ph_voltage&#x27;: 12500, &#x27;voltage_level&#x27;: &#x27;MV&#x27;, &#x27;wire_diameter&#x27;: 8.25, &#x27;hvmv_parent_element&#x27;: None, &#x27;is_operation_status&#x27;: True, &#x27;mvlv_parent_element&#x27;: None, &#x27;is_ground_deployable&#x27;: None}</td>\n",
       "    </tr>\n",
       "    <tr>\n",
       "        <td>awefice</td>\n",
       "        <td>line_segment_11</td>\n",
       "        <td>ACLineSegment</td>\n",
       "        <td>line_segment</td>\n",
       "        <td>ABC</td>\n",
       "        <td>False</td>\n",
       "        <td>False</td>\n",
       "        <td>False</td>\n",
       "        <td>False</td>\n",
       "        <td>None</td>\n",
       "        <td>con_21</td>\n",
       "        <td>con_24</td>\n",
       "        <td>both</td>\n",
       "        <td>None</td>\n",
       "        <td>0102000020E61000000200000034B411F9D3C65EC0B95BB5B239A24840D9C5ECFBD3C65EC01F28D71B39A24840</td>\n",
       "        <td>{&#x27;name&#x27;: &#x27;11&#x27;, &#x27;label&#x27;: &#x27;11&#x27;, &#x27;system&#x27;: &#x27;delta&#x27;, &#x27;rating_a&#x27;: 184, &#x27;materials&#x27;: &#x27;Al_Steel&#x27;, &#x27;latitude_1&#x27;: None, &#x27;latitude_2&#x27;: None, &#x27;make_model&#x27;: &#x27;#2 ACSR&#x27;, &#x27;line_length&#x27;: 2.0, &#x27;longitude_1&#x27;: None, &#x27;longitude_2&#x27;: None, &#x27;is_insulated&#x27;: False, &#x27;ph_ph_voltage&#x27;: 12500, &#x27;voltage_level&#x27;: &#x27;MV&#x27;, &#x27;wire_diameter&#x27;: 8.25, &#x27;hvmv_parent_element&#x27;: None, &#x27;is_operation_status&#x27;: True, &#x27;mvlv_parent_element&#x27;: None, &#x27;is_ground_deployable&#x27;: None}</td>\n",
       "    </tr>\n",
       "    <tr>\n",
       "        <td>awefice</td>\n",
       "        <td>line_segment_12</td>\n",
       "        <td>ACLineSegment</td>\n",
       "        <td>line_segment</td>\n",
       "        <td>ABC</td>\n",
       "        <td>False</td>\n",
       "        <td>False</td>\n",
       "        <td>False</td>\n",
       "        <td>False</td>\n",
       "        <td>None</td>\n",
       "        <td>con_344</td>\n",
       "        <td>con_346</td>\n",
       "        <td>both</td>\n",
       "        <td>None</td>\n",
       "        <td>0102000020E61000000200000070CDFA68D3C65EC0585009AE39A2484021086316C3C65EC0A57B822639A24840</td>\n",
       "        <td>{&#x27;name&#x27;: &#x27;12&#x27;, &#x27;label&#x27;: &#x27;12&#x27;, &#x27;system&#x27;: &#x27;delta&#x27;, &#x27;rating_a&#x27;: 184, &#x27;materials&#x27;: &#x27;Al_Steel&#x27;, &#x27;latitude_1&#x27;: None, &#x27;latitude_2&#x27;: None, &#x27;make_model&#x27;: &#x27;#2 ACSR&#x27;, &#x27;line_length&#x27;: 72.6, &#x27;longitude_1&#x27;: None, &#x27;longitude_2&#x27;: None, &#x27;is_insulated&#x27;: False, &#x27;ph_ph_voltage&#x27;: 12500, &#x27;voltage_level&#x27;: &#x27;MV&#x27;, &#x27;wire_diameter&#x27;: 8.25, &#x27;hvmv_parent_element&#x27;: None, &#x27;is_operation_status&#x27;: True, &#x27;mvlv_parent_element&#x27;: None, &#x27;is_ground_deployable&#x27;: None}</td>\n",
       "    </tr>\n",
       "    <tr>\n",
       "        <td>awefice</td>\n",
       "        <td>line_segment_134</td>\n",
       "        <td>ACLineSegment</td>\n",
       "        <td>line_segment</td>\n",
       "        <td>ABC</td>\n",
       "        <td>False</td>\n",
       "        <td>False</td>\n",
       "        <td>False</td>\n",
       "        <td>False</td>\n",
       "        <td>None</td>\n",
       "        <td>con_21</td>\n",
       "        <td>con_342</td>\n",
       "        <td>both</td>\n",
       "        <td>None</td>\n",
       "        <td>0102000020E61000000200000034B411F9D3C65EC0B95BB5B239A24840D92ECC85D3C65EC03F86F8AE39A24840</td>\n",
       "        <td>{&#x27;name&#x27;: &#x27;134&#x27;, &#x27;label&#x27;: &#x27;134&#x27;, &#x27;system&#x27;: &#x27;delta&#x27;, &#x27;rating_a&#x27;: 184, &#x27;materials&#x27;: &#x27;Al_Steel&#x27;, &#x27;latitude_1&#x27;: None, &#x27;latitude_2&#x27;: None, &#x27;make_model&#x27;: &#x27;#2 ACSR&#x27;, &#x27;line_length&#x27;: 2.0, &#x27;longitude_1&#x27;: None, &#x27;longitude_2&#x27;: None, &#x27;is_insulated&#x27;: False, &#x27;ph_ph_voltage&#x27;: 12500, &#x27;voltage_level&#x27;: &#x27;MV&#x27;, &#x27;wire_diameter&#x27;: 8.25, &#x27;hvmv_parent_element&#x27;: None, &#x27;is_operation_status&#x27;: True, &#x27;mvlv_parent_element&#x27;: None, &#x27;is_ground_deployable&#x27;: None}</td>\n",
       "    </tr>\n",
       "</table>"
      ],
      "text/plain": [
       "[('awefice', 'batt_10', 'Battery', 'battery', 'ABC', None, True, True, False, None, 'con_135_t2', 'VCN.batt_10', 'both', None, '0101000020E61000000B45A2539AC65EC0DDB431982CA24840', {'name': 'batt_10', 'label': 'batt_10', 'sdp_id': None, 'latitude': None, 'meter_id': 'm_10', 'longitude': None, 'lv_feeder': None, 'mv_feeder': None, ... (265 characters truncated) ... 'parent_transformer_id': 'transformer_36', 'max_peak_discharge_power': 7.0, 'max_continuous_charge_power': 5.0, 'max_continuous_discharge_power': 5.0}),\n",
       " ('awefice', 'batt_4', 'Battery', 'battery', 'C', None, True, True, False, None, 'con_81_t2', 'VCN.batt_4', 'both', None, '0101000020E61000006478F578A6C65EC021220BDF3BA24840', {'name': 'batt_4', 'label': 'batt_4', 'sdp_id': None, 'latitude': None, 'meter_id': 'm_4', 'longitude': None, 'lv_feeder': None, 'mv_feeder': None, 'o ... (266 characters truncated) ... 'parent_transformer_id': 'transformer_26', 'max_peak_discharge_power': 7.0, 'max_continuous_charge_power': 5.0, 'max_continuous_discharge_power': 5.0}),\n",
       " ('awefice', 'evch_10', 'EVCharger', 'ev_charger', 'ABC', None, True, True, False, None, 'con_135_t2', 'VCN.evch_10', 'both', None, '0101000020E61000000B45A2539AC65EC0DDB431982CA24840', {'name': None, 'label': 'evch_10', 'sdp_id': None, 'latitude': None, 'meter_id': 'm_10', 'longitude': None, 'lv_feeder': None, 'ownership': 'private', ... (180 characters truncated) ... l': 'level_2', 'connector_type': 'NEMA 14-30', 'active_charging_power': 7680, 'parent_transformer_id': 'transformer_36', 'active_generation_power': 0}),\n",
       " ('awefice', 'evch_12', 'EVCharger', 'ev_charger', 'ABC', None, True, True, False, None, 'con_152_t2', 'VCN.evch_12', 'both', None, '0101000020E610000032415CF294C65EC0F99D2EC423A24840', {'name': None, 'label': 'evch_12', 'sdp_id': None, 'latitude': None, 'meter_id': 'm_12', 'longitude': None, 'lv_feeder': None, 'ownership': 'private', ... (160 characters truncated) ... evel': 'level_3', 'connector_type': 'TESLA', 'active_charging_power': 135000, 'parent_transformer_id': 'transformer_47', 'active_generation_power': 0}),\n",
       " ('awefice', 'evch_3', 'EVCharger', 'ev_charger', 'A', None, True, True, False, None, 'con_40_t2', 'VCN.evch_3', 'both', None, '0101000020E61000005BCDA4FDBEC65EC0E0B44C793CA24840', {'name': None, 'label': 'evch_3', 'sdp_id': None, 'latitude': None, 'meter_id': 'm_3', 'longitude': None, 'lv_feeder': None, 'ownership': 'private', ' ... (171 characters truncated) ... _level': 'level_2', 'connector_type': 'TESLA', 'active_charging_power': 3840, 'parent_transformer_id': 'transformer_16', 'active_generation_power': 0}),\n",
       " ('awefice', 'line_segment_1', 'ACLineSegment', 'line_segment', 'ABC', False, False, False, False, None, 'con_365', 'con_60', 'both', None, '0102000020E610000002000000B4D96C77B5C65EC0C01F5CB538A248405E145099A2C65EC0F1905C1B38A24840', {'name': '1', 'label': '1', 'system': 'delta', 'rating_a': 184, 'materials': 'Al_Steel', 'latitude_1': None, 'latitude_2': None, 'make_model': '#2 ACS ... (127 characters truncated) ... el': 'MV', 'wire_diameter': 8.25, 'hvmv_parent_element': None, 'is_operation_status': True, 'mvlv_parent_element': None, 'is_ground_deployable': None}),\n",
       " ('awefice', 'line_segment_10', 'ACLineSegment', 'line_segment', 'ABC', False, False, False, False, None, 'con_9', 'con_21', 'both', None, '0102000020E6100000020000001986F0DDD3C65EC0DF43F44B3FA2484034B411F9D3C65EC0B95BB5B239A24840', {'name': '10', 'label': '10', 'system': 'delta', 'rating_a': 184, 'materials': 'Al_Steel', 'latitude_1': None, 'latitude_2': None, 'make_model': '#2 A ... (129 characters truncated) ... el': 'MV', 'wire_diameter': 8.25, 'hvmv_parent_element': None, 'is_operation_status': True, 'mvlv_parent_element': None, 'is_ground_deployable': None}),\n",
       " ('awefice', 'line_segment_11', 'ACLineSegment', 'line_segment', 'ABC', False, False, False, False, None, 'con_21', 'con_24', 'both', None, '0102000020E61000000200000034B411F9D3C65EC0B95BB5B239A24840D9C5ECFBD3C65EC01F28D71B39A24840', {'name': '11', 'label': '11', 'system': 'delta', 'rating_a': 184, 'materials': 'Al_Steel', 'latitude_1': None, 'latitude_2': None, 'make_model': '#2 A ... (127 characters truncated) ... el': 'MV', 'wire_diameter': 8.25, 'hvmv_parent_element': None, 'is_operation_status': True, 'mvlv_parent_element': None, 'is_ground_deployable': None}),\n",
       " ('awefice', 'line_segment_12', 'ACLineSegment', 'line_segment', 'ABC', False, False, False, False, None, 'con_344', 'con_346', 'both', None, '0102000020E61000000200000070CDFA68D3C65EC0585009AE39A2484021086316C3C65EC0A57B822639A24840', {'name': '12', 'label': '12', 'system': 'delta', 'rating_a': 184, 'materials': 'Al_Steel', 'latitude_1': None, 'latitude_2': None, 'make_model': '#2 A ... (128 characters truncated) ... el': 'MV', 'wire_diameter': 8.25, 'hvmv_parent_element': None, 'is_operation_status': True, 'mvlv_parent_element': None, 'is_ground_deployable': None}),\n",
       " ('awefice', 'line_segment_134', 'ACLineSegment', 'line_segment', 'ABC', False, False, False, False, None, 'con_21', 'con_342', 'both', None, '0102000020E61000000200000034B411F9D3C65EC0B95BB5B239A24840D92ECC85D3C65EC03F86F8AE39A24840', {'name': '134', 'label': '134', 'system': 'delta', 'rating_a': 184, 'materials': 'Al_Steel', 'latitude_1': None, 'latitude_2': None, 'make_model': '#2 ... (129 characters truncated) ... el': 'MV', 'wire_diameter': 8.25, 'hvmv_parent_element': None, 'is_operation_status': True, 'mvlv_parent_element': None, 'is_ground_deployable': None})]"
      ]
     },
     "execution_count": 28,
     "metadata": {},
     "output_type": "execute_result"
    }
   ],
   "source": [
    "%%sql \n",
    "select * from grid_get_downstream('{grid_id}', '{grid_element_id}')\n",
    "limit 10;"
   ]
  },
  {
   "cell_type": "code",
   "execution_count": 39,
   "id": "26e128d3",
   "metadata": {},
   "outputs": [
    {
     "data": {
      "text/html": [
       "<div>\n",
       "<style scoped>\n",
       "    .dataframe tbody tr th:only-of-type {\n",
       "        vertical-align: middle;\n",
       "    }\n",
       "\n",
       "    .dataframe tbody tr th {\n",
       "        vertical-align: top;\n",
       "    }\n",
       "\n",
       "    .dataframe thead th {\n",
       "        text-align: right;\n",
       "    }\n",
       "</style>\n",
       "<table border=\"1\" class=\"dataframe\">\n",
       "  <thead>\n",
       "    <tr style=\"text-align: right;\">\n",
       "      <th></th>\n",
       "      <th>grid_element_id_upper</th>\n",
       "      <th>terminal1_cn_upper</th>\n",
       "      <th>terminal2_cn_upper</th>\n",
       "      <th>phases_upper</th>\n",
       "      <th>grid_element_id_lower</th>\n",
       "      <th>terminal1_cn_lower</th>\n",
       "      <th>terminal2_cn_lower</th>\n",
       "      <th>phases_lower</th>\n",
       "    </tr>\n",
       "  </thead>\n",
       "  <tbody>\n",
       "    <tr>\n",
       "      <th>1</th>\n",
       "      <td>line_segment_1</td>\n",
       "      <td>con_365</td>\n",
       "      <td>con_60</td>\n",
       "      <td>ABC</td>\n",
       "      <td>switchable_element_25</td>\n",
       "      <td>con_60</td>\n",
       "      <td>con_62</td>\n",
       "      <td>C</td>\n",
       "    </tr>\n",
       "    <tr>\n",
       "      <th>6</th>\n",
       "      <td>line_segment_12</td>\n",
       "      <td>con_344</td>\n",
       "      <td>con_346</td>\n",
       "      <td>ABC</td>\n",
       "      <td>switchable_element_15</td>\n",
       "      <td>con_346</td>\n",
       "      <td>con_32</td>\n",
       "      <td>A</td>\n",
       "    </tr>\n",
       "    <tr>\n",
       "      <th>9</th>\n",
       "      <td>line_segment_14</td>\n",
       "      <td>con_26</td>\n",
       "      <td>con_29</td>\n",
       "      <td>ABC</td>\n",
       "      <td>switchable_element_30</td>\n",
       "      <td>con_29</td>\n",
       "      <td>con_84</td>\n",
       "      <td>B</td>\n",
       "    </tr>\n",
       "  </tbody>\n",
       "</table>\n",
       "</div>"
      ],
      "text/plain": [
       "  grid_element_id_upper terminal1_cn_upper terminal2_cn_upper phases_upper  \\\n",
       "1        line_segment_1            con_365             con_60          ABC   \n",
       "6       line_segment_12            con_344            con_346          ABC   \n",
       "9       line_segment_14             con_26             con_29          ABC   \n",
       "\n",
       "   grid_element_id_lower terminal1_cn_lower terminal2_cn_lower phases_lower  \n",
       "1  switchable_element_25             con_60             con_62            C  \n",
       "6  switchable_element_15            con_346             con_32            A  \n",
       "9  switchable_element_30             con_29             con_84            B  "
      ]
     },
     "execution_count": 39,
     "metadata": {},
     "output_type": "execute_result"
    }
   ],
   "source": [
    "#Retrieving elements, connections and phases from all elements downstream\n",
    "Tree2 = %sql SELECT grid_element_id, terminal1_cn, terminal2_cn, phases FROM grid_get_downstream('{grid_id}', '{grid_element_id}');\n",
    "Tree2 = Tree2.DataFrame()\n",
    "\n",
    "#Merging elements that come one following the other\n",
    "BB = Tree2.merge(Tree2, left_on='terminal2_cn', right_on='terminal1_cn',suffixes=('_upper', '_lower'))\n",
    "\n",
    "#Tracing elements where the phases change from ABC to non-ABC\n",
    "BB[(BB['phases_upper']=='ABC') & (BB['phases_lower']!='ABC')]"
   ]
  },
  {
   "cell_type": "code",
   "execution_count": 33,
   "id": "f1140eab",
   "metadata": {},
   "outputs": [],
   "source": []
  },
  {
   "cell_type": "code",
   "execution_count": null,
   "id": "4894d401",
   "metadata": {},
   "outputs": [],
   "source": []
  },
  {
   "cell_type": "code",
   "execution_count": null,
   "id": "7fc4baf8",
   "metadata": {},
   "outputs": [],
   "source": []
  },
  {
   "cell_type": "code",
   "execution_count": null,
   "id": "16c8894c",
   "metadata": {},
   "outputs": [],
   "source": []
  },
  {
   "cell_type": "code",
   "execution_count": null,
   "id": "79b8b2a1",
   "metadata": {},
   "outputs": [],
   "source": []
  },
  {
   "cell_type": "code",
   "execution_count": null,
   "id": "4b133363",
   "metadata": {},
   "outputs": [],
   "source": []
  }
 ],
 "metadata": {
  "kernelspec": {
   "display_name": "Python 3 (ipykernel)",
   "language": "python",
   "name": "python3"
  },
  "language_info": {
   "codemirror_mode": {
    "name": "ipython",
    "version": 3
   },
   "file_extension": ".py",
   "mimetype": "text/x-python",
   "name": "python",
   "nbconvert_exporter": "python",
   "pygments_lexer": "ipython3",
   "version": "3.11.0"
  }
 },
 "nbformat": 4,
 "nbformat_minor": 5
}
