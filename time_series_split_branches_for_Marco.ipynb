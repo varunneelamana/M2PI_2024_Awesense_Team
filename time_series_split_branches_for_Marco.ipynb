{
 "cells": [
  {
   "cell_type": "markdown",
   "id": "6d5548af",
   "metadata": {},
   "source": [
    "## Overview"
   ]
  },
  {
   "cell_type": "markdown",
   "id": "14577429",
   "metadata": {},
   "source": [
    "This notebook is intended to:\n",
    "- Demonstrate how to access time series data for meters and SCADAs using Awesense's Energy Data Model (EDM) SQL API.\n",
    "\n",
    "Please refer to the [main_concepts.ipynb](../2_main_concepts/main_concepts.ipynb) notebook for a high-level introduction to and simpler examples of the core views and functions available in Awesense's Energy Data Model (EDM)."
   ]
  },
  {
   "cell_type": "markdown",
   "id": "59d759b0",
   "metadata": {},
   "source": [
    "---"
   ]
  },
  {
   "cell_type": "markdown",
   "id": "dd853fa5",
   "metadata": {},
   "source": [
    "## Set up"
   ]
  },
  {
   "cell_type": "code",
   "execution_count": 2,
   "id": "55bebef7",
   "metadata": {
    "tags": []
   },
   "outputs": [],
   "source": [
    "import getpass\n",
    "import plotly.express as px\n",
    "import plotly.io as pio\n",
    "import time\n",
    "import urllib.parse\n",
    "import pandas as pd\n",
    "\n",
    "# Allow charts to persist between notebook sessions.\n",
    "pio.renderers.default='notebook'"
   ]
  },
  {
   "cell_type": "markdown",
   "id": "b8693057",
   "metadata": {},
   "source": [
    "**Connection**\n",
    "\n",
    "Enter the EDM server address and the login credentials provided by Awesense. If you do not have the credentials, or have any trouble connecting, please contact api@awesense.com.\n",
    "<span style='color:red'> **Please do NOT store the credentials in the notebook, nor share them with anyone.** </span>"
   ]
  },
  {
   "cell_type": "code",
   "execution_count": 3,
   "id": "f9064f1d",
   "metadata": {
    "tags": []
   },
   "outputs": [
    {
     "name": "stdout",
     "output_type": "stream",
     "text": [
      "EDM server address: ········\n",
      "\n",
      "EDM login information\n",
      "Username: ········\n",
      "Password: ········\n"
     ]
    }
   ],
   "source": [
    "edm_address = getpass.getpass(prompt='EDM server address: ')\n",
    "\n",
    "print('\\nEDM login information')\n",
    "edm_name = getpass.getpass(prompt='Username: ')\n",
    "edm_password = getpass.getpass(prompt='Password: ')\n",
    "edm_password = urllib.parse.quote(edm_password)\n",
    "\n",
    "%load_ext sql\n",
    "%sql postgresql://$edm_name:$edm_password@$edm_address/edm\n",
    "%config SqlMagic.displaycon = False\n",
    "%config SqlMagic.feedback = False\n",
    "\n",
    "# Delete the credential variables for security purpose.\n",
    "del edm_name, edm_password"
   ]
  },
  {
   "cell_type": "markdown",
   "id": "17c75524",
   "metadata": {},
   "source": [
    "---"
   ]
  },
  {
   "cell_type": "markdown",
   "id": "262fd82d",
   "metadata": {},
   "source": [
    "## Time Series\n",
    "Various temporary views are created below to optimize query performance within the notebook."
   ]
  },
  {
   "cell_type": "markdown",
   "id": "3ebabd41",
   "metadata": {},
   "source": [
    "### Meter Time Series"
   ]
  },
  {
   "cell_type": "markdown",
   "id": "f26d375c",
   "metadata": {},
   "source": [
    "*High level approach*\n",
    "- Create a temporary view `grid_element_metric`, containing information on meters for grid elements and convenient access to the actual data.\n",
    "- The `grid_get_downstream()` function is used to gather information of meters that are downstream of a specified grid element.\n",
    "- Time series are retrieved using the `ts_data_source_select()` function."
   ]
  },
  {
   "cell_type": "code",
   "execution_count": null,
   "id": "3e7e646b",
   "metadata": {},
   "outputs": [],
   "source": []
  },
  {
   "cell_type": "code",
   "execution_count": 54,
   "id": "81995e16",
   "metadata": {},
   "outputs": [],
   "source": [
    "#Finding branches in NCZ and only in ABC lines\n",
    "\n",
    "def branchfind(grid_id = 'North Central Zone', grid_element_id = 'L7-97438'):\n",
    "\n",
    "    Tree = %sql SELECT grid_element_id, phases, terminal1_cn, terminal2_cn FROM grid_get_downstream('{grid_id}', '{grid_element_id}');\n",
    "    Tree = Tree.DataFrame()\n",
    "\n",
    "    #Make sure first element has ABC phases\n",
    "    if sum(Tree[Tree['grid_element_id']==grid_element_id]['phases'] != 'ABC')==1:\n",
    "        print(f'{grid_element_id} is not ABC')\n",
    "\n",
    "    #Find the next link\n",
    "    AA = Tree[Tree['terminal1_cn']==Tree[Tree['grid_element_id']==grid_element_id]['terminal2_cn'].iloc[0]]\n",
    "    #If there are at least 2 ABC links connected, then break\n",
    "    if (sum(AA['phases']=='ABC')==2):\n",
    "        print(f\"First branching includes {AA}\")\n",
    "\n",
    "    else:\n",
    "        # As long as there is only one link\n",
    "        while (sum(AA['phases']=='ABC')==1):\n",
    "\n",
    "            #Go on to the next link\n",
    "            for jj in range(0,len(AA['terminal1_cn'])):\n",
    "                if AA['phases'].iloc[jj]=='ABC':\n",
    "                    BB = Tree[(Tree['terminal1_cn']==AA['terminal2_cn'].iloc[jj])]\n",
    "\n",
    "            AA = BB\n",
    "    #If there are at least 2 ABC links connected, then break\n",
    "\n",
    "            if (sum(AA['phases']=='ABC')>1):\n",
    "                #print(f\"First branching includes {AA}\")\n",
    "                return AA\n",
    "\n"
   ]
  },
  {
   "cell_type": "code",
   "execution_count": 184,
   "id": "4d1de02c",
   "metadata": {},
   "outputs": [
    {
     "name": "stdout",
     "output_type": "stream",
     "text": [
      "L7-100133 is not ABC\n"
     ]
    }
   ],
   "source": [
    "CC = branchfind(grid_element_id='L7-100133')"
   ]
  },
  {
   "cell_type": "code",
   "execution_count": 192,
   "id": "54967ce2",
   "metadata": {},
   "outputs": [
    {
     "ename": "AttributeError",
     "evalue": "'NoneType' object has no attribute 'empty'",
     "output_type": "error",
     "traceback": [
      "\u001b[0;31m---------------------------------------------------------------------------\u001b[0m",
      "\u001b[0;31mAttributeError\u001b[0m                            Traceback (most recent call last)",
      "\u001b[0;32m/var/folders/03/68xx11110r9b4mpdz752w79r0000gn/T/ipykernel_36397/1361994334.py\u001b[0m in \u001b[0;36m<module>\u001b[0;34m\u001b[0m\n\u001b[0;32m----> 1\u001b[0;31m \u001b[0mCC\u001b[0m\u001b[0;34m.\u001b[0m\u001b[0mempty\u001b[0m\u001b[0;34m\u001b[0m\u001b[0;34m\u001b[0m\u001b[0m\n\u001b[0m",
      "\u001b[0;31mAttributeError\u001b[0m: 'NoneType' object has no attribute 'empty'"
     ]
    }
   ],
   "source": [
    "CC.empty"
   ]
  },
  {
   "cell_type": "code",
   "execution_count": null,
   "id": "7ef46b3e",
   "metadata": {},
   "outputs": [],
   "source": []
  },
  {
   "cell_type": "code",
   "execution_count": 67,
   "id": "7483ff14",
   "metadata": {},
   "outputs": [],
   "source": [
    "def clusfind(grid_id = 'North Central Zone', grid_element_id = 'L7-97438'):\n",
    "\n",
    "    #Retrieving elements, connections and phases from all elements downstream\n",
    "    Tree2 = %sql SELECT grid_element_id, terminal1_cn, terminal2_cn, phases FROM grid_get_downstream('{grid_id}', '{grid_element_id}');\n",
    "    Tree2 = Tree2.DataFrame()\n",
    "\n",
    "    #Merging elements that come one following the other\n",
    "    BB = Tree2.merge(Tree2, left_on='terminal2_cn', right_on='terminal1_cn',suffixes=('_upper', '_lower'))\n",
    "\n",
    "    #Tracing elements where the phases change from ABC to non-ABC\n",
    "    bif = BB[(BB['phases_upper']=='ABC') & (BB['phases_lower']!='ABC')]\n",
    "    bif = bif.reset_index()\n",
    "    return bif\n"
   ]
  },
  {
   "cell_type": "code",
   "execution_count": 68,
   "id": "167c7727",
   "metadata": {
    "scrolled": true
   },
   "outputs": [
    {
     "data": {
      "text/html": [
       "<div>\n",
       "<style scoped>\n",
       "    .dataframe tbody tr th:only-of-type {\n",
       "        vertical-align: middle;\n",
       "    }\n",
       "\n",
       "    .dataframe tbody tr th {\n",
       "        vertical-align: top;\n",
       "    }\n",
       "\n",
       "    .dataframe thead th {\n",
       "        text-align: right;\n",
       "    }\n",
       "</style>\n",
       "<table border=\"1\" class=\"dataframe\">\n",
       "  <thead>\n",
       "    <tr style=\"text-align: right;\">\n",
       "      <th></th>\n",
       "      <th>index</th>\n",
       "      <th>grid_element_id_upper</th>\n",
       "      <th>terminal1_cn_upper</th>\n",
       "      <th>terminal2_cn_upper</th>\n",
       "      <th>phases_upper</th>\n",
       "      <th>grid_element_id_lower</th>\n",
       "      <th>terminal1_cn_lower</th>\n",
       "      <th>terminal2_cn_lower</th>\n",
       "      <th>phases_lower</th>\n",
       "    </tr>\n",
       "  </thead>\n",
       "  <tbody>\n",
       "    <tr>\n",
       "      <th>0</th>\n",
       "      <td>420</td>\n",
       "      <td>L7-100124</td>\n",
       "      <td>VCN.L7-100126</td>\n",
       "      <td>VCN.L7-100124</td>\n",
       "      <td>ABC</td>\n",
       "      <td>L7-137713</td>\n",
       "      <td>VCN.L7-100124</td>\n",
       "      <td>VCN.L7-137713</td>\n",
       "      <td>C</td>\n",
       "    </tr>\n",
       "    <tr>\n",
       "      <th>1</th>\n",
       "      <td>422</td>\n",
       "      <td>L7-100126</td>\n",
       "      <td>VCN.L7-37052</td>\n",
       "      <td>VCN.L7-100126</td>\n",
       "      <td>ABC</td>\n",
       "      <td>7831</td>\n",
       "      <td>VCN.L7-100126</td>\n",
       "      <td>VCN.7831</td>\n",
       "      <td>B</td>\n",
       "    </tr>\n",
       "    <tr>\n",
       "      <th>2</th>\n",
       "      <td>424</td>\n",
       "      <td>L7-100128</td>\n",
       "      <td>VCN.L7-100134</td>\n",
       "      <td>VCN.L7-100128</td>\n",
       "      <td>ABC</td>\n",
       "      <td>48331</td>\n",
       "      <td>VCN.L7-100128</td>\n",
       "      <td>VCN.48331</td>\n",
       "      <td>B</td>\n",
       "    </tr>\n",
       "    <tr>\n",
       "      <th>3</th>\n",
       "      <td>428</td>\n",
       "      <td>L7-100132</td>\n",
       "      <td>VCN.L7-100131</td>\n",
       "      <td>VCN.L7-100132</td>\n",
       "      <td>ABC</td>\n",
       "      <td>L7-100133</td>\n",
       "      <td>VCN.L7-100132</td>\n",
       "      <td>VCN.L7-100133</td>\n",
       "      <td>C</td>\n",
       "    </tr>\n",
       "    <tr>\n",
       "      <th>4</th>\n",
       "      <td>434</td>\n",
       "      <td>L7-100136</td>\n",
       "      <td>VCN.L7-101541</td>\n",
       "      <td>VCN.L7-100136</td>\n",
       "      <td>ABC</td>\n",
       "      <td>L7-138029</td>\n",
       "      <td>VCN.L7-100136</td>\n",
       "      <td>VCN.L7-138029</td>\n",
       "      <td>BC</td>\n",
       "    </tr>\n",
       "    <tr>\n",
       "      <th>5</th>\n",
       "      <td>687</td>\n",
       "      <td>L7-37052</td>\n",
       "      <td>VCN.L7-100134</td>\n",
       "      <td>VCN.L7-37052</td>\n",
       "      <td>ABC</td>\n",
       "      <td>120341</td>\n",
       "      <td>VCN.L7-37052</td>\n",
       "      <td>VCN.120341</td>\n",
       "      <td>A</td>\n",
       "    </tr>\n",
       "    <tr>\n",
       "      <th>6</th>\n",
       "      <td>690</td>\n",
       "      <td>L7-41560</td>\n",
       "      <td>VCN.L7-100124</td>\n",
       "      <td>VCN.L7-41560</td>\n",
       "      <td>ABC</td>\n",
       "      <td>L7-137915</td>\n",
       "      <td>VCN.L7-41560</td>\n",
       "      <td>VCN.L7-137915</td>\n",
       "      <td>A</td>\n",
       "    </tr>\n",
       "    <tr>\n",
       "      <th>7</th>\n",
       "      <td>691</td>\n",
       "      <td>L7-41560</td>\n",
       "      <td>VCN.L7-100124</td>\n",
       "      <td>VCN.L7-41560</td>\n",
       "      <td>ABC</td>\n",
       "      <td>L7-139409</td>\n",
       "      <td>VCN.L7-41560</td>\n",
       "      <td>VCN.L7-139409</td>\n",
       "      <td>C</td>\n",
       "    </tr>\n",
       "    <tr>\n",
       "      <th>8</th>\n",
       "      <td>694</td>\n",
       "      <td>L7-97438</td>\n",
       "      <td>VCN.L7-97435</td>\n",
       "      <td>VCN.L7-97438</td>\n",
       "      <td>ABC</td>\n",
       "      <td>26033</td>\n",
       "      <td>VCN.L7-97438</td>\n",
       "      <td>VCN.26033</td>\n",
       "      <td>B</td>\n",
       "    </tr>\n",
       "  </tbody>\n",
       "</table>\n",
       "</div>"
      ],
      "text/plain": [
       "   index grid_element_id_upper terminal1_cn_upper terminal2_cn_upper  \\\n",
       "0    420             L7-100124      VCN.L7-100126      VCN.L7-100124   \n",
       "1    422             L7-100126       VCN.L7-37052      VCN.L7-100126   \n",
       "2    424             L7-100128      VCN.L7-100134      VCN.L7-100128   \n",
       "3    428             L7-100132      VCN.L7-100131      VCN.L7-100132   \n",
       "4    434             L7-100136      VCN.L7-101541      VCN.L7-100136   \n",
       "5    687              L7-37052      VCN.L7-100134       VCN.L7-37052   \n",
       "6    690              L7-41560      VCN.L7-100124       VCN.L7-41560   \n",
       "7    691              L7-41560      VCN.L7-100124       VCN.L7-41560   \n",
       "8    694              L7-97438       VCN.L7-97435       VCN.L7-97438   \n",
       "\n",
       "  phases_upper grid_element_id_lower terminal1_cn_lower terminal2_cn_lower  \\\n",
       "0          ABC             L7-137713      VCN.L7-100124      VCN.L7-137713   \n",
       "1          ABC                  7831      VCN.L7-100126           VCN.7831   \n",
       "2          ABC                 48331      VCN.L7-100128          VCN.48331   \n",
       "3          ABC             L7-100133      VCN.L7-100132      VCN.L7-100133   \n",
       "4          ABC             L7-138029      VCN.L7-100136      VCN.L7-138029   \n",
       "5          ABC                120341       VCN.L7-37052         VCN.120341   \n",
       "6          ABC             L7-137915       VCN.L7-41560      VCN.L7-137915   \n",
       "7          ABC             L7-139409       VCN.L7-41560      VCN.L7-139409   \n",
       "8          ABC                 26033       VCN.L7-97438          VCN.26033   \n",
       "\n",
       "  phases_lower  \n",
       "0            C  \n",
       "1            B  \n",
       "2            B  \n",
       "3            C  \n",
       "4           BC  \n",
       "5            A  \n",
       "6            A  \n",
       "7            C  \n",
       "8            B  "
      ]
     },
     "execution_count": 68,
     "metadata": {},
     "output_type": "execute_result"
    }
   ],
   "source": [
    "clusfind(grid_element_id='L7-97438')"
   ]
  },
  {
   "cell_type": "code",
   "execution_count": null,
   "id": "827e20e2",
   "metadata": {},
   "outputs": [],
   "source": []
  },
  {
   "cell_type": "code",
   "execution_count": 209,
   "id": "f8d667e2",
   "metadata": {},
   "outputs": [],
   "source": [
    "def laminar(grid_id = 'North Central Zone', grid_element_id = 'L7-97438', level = '0', lami = []):\n",
    "    \n",
    "    #print(grid_element_id)\n",
    "    lami_bran = []\n",
    "\n",
    "    CC = branchfind(grid_id=grid_id, grid_element_id=grid_element_id)\n",
    "    DD = clusfind(grid_id=grid_id, grid_element_id=grid_element_id)\n",
    "    \n",
    "    if len(DD)==0:\n",
    "        return\n",
    "    \n",
    "    lami_clus = DD['grid_element_id_lower'].tolist()\n",
    "    #print(lami_clus)\n",
    "    lami_bran.append(lami_clus)\n",
    "    lami_bran.append(level)\n",
    "    #print(lami_bran)\n",
    "    lami.append(lami_bran)\n",
    "    #print(lami)\n",
    "    \n",
    "    ii = 0\n",
    "    \n",
    "    try:\n",
    "        for jj in CC['grid_element_id']:\n",
    "            level_new = level + str(ii)\n",
    "            laminar(grid_element_id = jj, level = level_new, lami = lami)\n",
    "            ii+=1\n",
    "    except TypeError:\n",
    "        pass\n",
    "    \n",
    "    return lami"
   ]
  },
  {
   "cell_type": "code",
   "execution_count": 210,
   "id": "9afa931e",
   "metadata": {
    "scrolled": true
   },
   "outputs": [],
   "source": [
    "lami2 = laminar()"
   ]
  },
  {
   "cell_type": "code",
   "execution_count": 211,
   "id": "5d19e8e5",
   "metadata": {},
   "outputs": [
    {
     "data": {
      "text/plain": [
       "[[['L7-137713',\n",
       "   '7831',\n",
       "   '48331',\n",
       "   'L7-100133',\n",
       "   'L7-138029',\n",
       "   '120341',\n",
       "   'L7-137915',\n",
       "   'L7-139409',\n",
       "   '26033'],\n",
       "  '0'],\n",
       " [['48331', 'L7-100133'], '00'],\n",
       " [['L7-100133'], '001'],\n",
       " [['L7-137713', '7831', '120341', 'L7-137915', 'L7-139409'], '01']]"
      ]
     },
     "execution_count": 211,
     "metadata": {},
     "output_type": "execute_result"
    }
   ],
   "source": [
    "lami2"
   ]
  },
  {
   "cell_type": "code",
   "execution_count": null,
   "id": "7745177b",
   "metadata": {},
   "outputs": [],
   "source": []
  }
 ],
 "metadata": {
  "kernelspec": {
   "display_name": "Python 3 (ipykernel)",
   "language": "python",
   "name": "python3"
  },
  "language_info": {
   "codemirror_mode": {
    "name": "ipython",
    "version": 3
   },
   "file_extension": ".py",
   "mimetype": "text/x-python",
   "name": "python",
   "nbconvert_exporter": "python",
   "pygments_lexer": "ipython3",
   "version": "3.11.0"
  }
 },
 "nbformat": 4,
 "nbformat_minor": 5
}
