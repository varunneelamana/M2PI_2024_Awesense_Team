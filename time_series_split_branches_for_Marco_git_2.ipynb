{
 "cells": [
  {
   "cell_type": "markdown",
   "id": "6d5548af",
   "metadata": {},
   "source": [
    "## Overview"
   ]
  },
  {
   "cell_type": "markdown",
   "id": "14577429",
   "metadata": {},
   "source": [
    "This notebook is intended to:\n",
    "- Demonstrate how to access time series data for meters and SCADAs using Awesense's Energy Data Model (EDM) SQL API.\n",
    "\n",
    "Please refer to the [main_concepts.ipynb](../2_main_concepts/main_concepts.ipynb) notebook for a high-level introduction to and simpler examples of the core views and functions available in Awesense's Energy Data Model (EDM)."
   ]
  },
  {
   "cell_type": "markdown",
   "id": "59d759b0",
   "metadata": {},
   "source": [
    "---"
   ]
  },
  {
   "cell_type": "markdown",
   "id": "dd853fa5",
   "metadata": {},
   "source": [
    "## Set up"
   ]
  },
  {
   "cell_type": "code",
   "execution_count": 1,
   "id": "55bebef7",
   "metadata": {
    "tags": []
   },
   "outputs": [],
   "source": [
    "import getpass\n",
    "import plotly.express as px\n",
    "import plotly.io as pio\n",
    "import time\n",
    "import urllib.parse\n",
    "import pandas as pd\n",
    "\n",
    "# Allow charts to persist between notebook sessions.\n",
    "pio.renderers.default='notebook'"
   ]
  },
  {
   "cell_type": "markdown",
   "id": "b8693057",
   "metadata": {},
   "source": [
    "**Connection**\n",
    "\n",
    "Enter the EDM server address and the login credentials provided by Awesense. If you do not have the credentials, or have any trouble connecting, please contact api@awesense.com.\n",
    "<span style='color:red'> **Please do NOT store the credentials in the notebook, nor share them with anyone.** </span>"
   ]
  },
  {
   "cell_type": "code",
   "execution_count": 2,
   "id": "f9064f1d",
   "metadata": {
    "tags": []
   },
   "outputs": [
    {
     "name": "stdout",
     "output_type": "stream",
     "text": [
      "EDM server address: ········\n",
      "\n",
      "EDM login information\n",
      "Username: ········\n",
      "Password: ········\n"
     ]
    }
   ],
   "source": [
    "edm_address = getpass.getpass(prompt='EDM server address: ')\n",
    "\n",
    "print('\\nEDM login information')\n",
    "edm_name = getpass.getpass(prompt='Username: ')\n",
    "edm_password = getpass.getpass(prompt='Password: ')\n",
    "edm_password = urllib.parse.quote(edm_password)\n",
    "\n",
    "%load_ext sql\n",
    "%sql postgresql://$edm_name:$edm_password@$edm_address/edm\n",
    "%config SqlMagic.displaycon = False\n",
    "%config SqlMagic.feedback = False\n",
    "\n",
    "# Delete the credential variables for security purpose.\n",
    "del edm_name, edm_password"
   ]
  },
  {
   "cell_type": "markdown",
   "id": "17c75524",
   "metadata": {},
   "source": [
    "---"
   ]
  },
  {
   "cell_type": "markdown",
   "id": "262fd82d",
   "metadata": {},
   "source": [
    "## Time Series\n",
    "Various temporary views are created below to optimize query performance within the notebook."
   ]
  },
  {
   "cell_type": "markdown",
   "id": "3ebabd41",
   "metadata": {},
   "source": [
    "### Meter Time Series"
   ]
  },
  {
   "cell_type": "markdown",
   "id": "f26d375c",
   "metadata": {},
   "source": [
    "*High level approach*\n",
    "- Create a temporary view `grid_element_metric`, containing information on meters for grid elements and convenient access to the actual data.\n",
    "- The `grid_get_downstream()` function is used to gather information of meters that are downstream of a specified grid element.\n",
    "- Time series are retrieved using the `ts_data_source_select()` function."
   ]
  },
  {
   "cell_type": "code",
   "execution_count": null,
   "id": "3e7e646b",
   "metadata": {},
   "outputs": [],
   "source": []
  },
  {
   "cell_type": "code",
   "execution_count": 134,
   "id": "81995e16",
   "metadata": {},
   "outputs": [],
   "source": [
    "#Finding branches in NCZ and only in ABC lines\n",
    "\n",
    "def branchfind(grid_id = 'North Central Zone', grid_element_id = 'L7-97438'):\n",
    "\n",
    "    Tree = %sql SELECT grid_element_id, phases, terminal1_cn, terminal2_cn FROM grid_get_downstream('{grid_id}', '{grid_element_id}');\n",
    "    Tree = Tree.DataFrame()\n",
    "\n",
    "    #Make sure first element has ABC phases\n",
    "    if sum(Tree[Tree['grid_element_id']==grid_element_id]['phases'] != 'ABC')==1:\n",
    "        print(f'{grid_element_id} is not ABC')\n",
    "\n",
    "    #Find the next link\n",
    "    AA = Tree[Tree['terminal1_cn']==Tree[Tree['grid_element_id']==grid_element_id]['terminal2_cn'].iloc[0]]\n",
    "    #If there are at least 2 ABC links connected, then break\n",
    "    if (sum(AA['phases']=='ABC')>=2):\n",
    "        print(f\"First branching includes {AA[AA['phases']=='ABC']}\")\n",
    "        return AA[AA['phases']=='ABC']\n",
    "\n",
    "    else:\n",
    "        # As long as there is only one link\n",
    "        while (sum(AA['phases']=='ABC')==1):\n",
    "\n",
    "            #Go on to the next link\n",
    "            for jj in range(0,len(AA['terminal1_cn'])):\n",
    "                if AA['phases'].iloc[jj]=='ABC':\n",
    "                    BB = Tree[(Tree['terminal1_cn']==AA['terminal2_cn'].iloc[jj])]\n",
    "\n",
    "            AA = BB\n",
    "    #If there are at least 2 ABC links connected, then break\n",
    "\n",
    "            if (sum(AA['phases']=='ABC')>=2):\n",
    "                print(f\"First branching includes {AA[AA['phases']=='ABC']}\")\n",
    "                return AA[AA['phases']=='ABC']\n",
    "\n"
   ]
  },
  {
   "cell_type": "code",
   "execution_count": null,
   "id": "7ef46b3e",
   "metadata": {},
   "outputs": [],
   "source": []
  },
  {
   "cell_type": "code",
   "execution_count": 4,
   "id": "7483ff14",
   "metadata": {},
   "outputs": [],
   "source": [
    "def clusfind(grid_id = 'North Central Zone', grid_element_id = 'L7-97438'):\n",
    "\n",
    "    #Retrieving elements, connections and phases from all elements downstream\n",
    "    Tree2 = %sql SELECT grid_element_id, terminal1_cn, terminal2_cn, phases FROM grid_get_downstream('{grid_id}', '{grid_element_id}');\n",
    "    Tree2 = Tree2.DataFrame()\n",
    "\n",
    "    #Merging elements that come one following the other\n",
    "    BB = Tree2.merge(Tree2, left_on='terminal2_cn', right_on='terminal1_cn',suffixes=('_upper', '_lower'))\n",
    "\n",
    "    #Tracing elements where the phases change from ABC to non-ABC\n",
    "    bif = BB[(BB['phases_upper']=='ABC') & (BB['phases_lower']!='ABC')]\n",
    "    bif = bif.reset_index()\n",
    "    return bif\n"
   ]
  },
  {
   "cell_type": "code",
   "execution_count": null,
   "id": "827e20e2",
   "metadata": {},
   "outputs": [],
   "source": []
  },
  {
   "cell_type": "markdown",
   "id": "2138c2e7",
   "metadata": {},
   "source": [
    "laminar gives the laminar set. IMPORTANT: DO NOT run AA = laminar(...). RUN AA = laminar(...,lami = [],...)\n",
    "Otherwise, the list will duplicate and the result will get messy. No matter what parameter you use, and even if you use no parameter, lami=[] MUST appear when you call the function. See examples below.\n",
    "\n",
    "One more note: \"Finding branches in NCZ and only in ABC lines\" cannot, at this moment, ignore branches that simply leads to a three-phase consumer, such as a factory, when no one\\two phases cluster are attached to this branch. This creates somewhat wrong branches and cluster levels downstream from such a consumer"
   ]
  },
  {
   "cell_type": "code",
   "execution_count": 114,
   "id": "f8d667e2",
   "metadata": {},
   "outputs": [],
   "source": [
    "def laminar(grid_id = 'North Central Zone', grid_element_id = 'L7-97438', level = '0', lami = []):\n",
    "    \n",
    "    #print(grid_element_id)\n",
    "    lami_bran = []\n",
    "\n",
    "    CC = branchfind(grid_id=grid_id, grid_element_id=grid_element_id)\n",
    "    DD = clusfind(grid_id=grid_id, grid_element_id=grid_element_id)\n",
    "        \n",
    "    if len(DD)==0:\n",
    "        return\n",
    "    \n",
    "    lami_clus = DD['grid_element_id_lower'].tolist()\n",
    "    #print(lami_clus)\n",
    "    lami_bran.append(lami_clus)\n",
    "    lami_bran.append(level)\n",
    "    #print(lami_bran)\n",
    "    lami.append(lami_bran)\n",
    "    #print(lami)\n",
    "    \n",
    "    ii = 0\n",
    "    \n",
    "    try:\n",
    "        for jj in CC['grid_element_id']:\n",
    "            level_new = level + str(ii)\n",
    "            laminar(grid_element_id = jj, level = level_new, lami = lami)\n",
    "            ii+=1\n",
    "    except TypeError:\n",
    "        pass\n",
    "    \n",
    "    return lami"
   ]
  },
  {
   "cell_type": "code",
   "execution_count": 137,
   "id": "9afa931e",
   "metadata": {
    "scrolled": false
   },
   "outputs": [
    {
     "name": "stdout",
     "output_type": "stream",
     "text": [
      "First branching includes     grid_element_id phases   terminal1_cn   terminal2_cn\n",
      "526       L7-100128    ABC  VCN.L7-100134  VCN.L7-100128\n",
      "691        L7-37052    ABC  VCN.L7-100134   VCN.L7-37052\n",
      "First branching includes    grid_element_id phases   terminal1_cn   terminal2_cn\n",
      "10            7462    ABC  VCN.L7-100131       VCN.7462\n",
      "18       L7-100132    ABC  VCN.L7-100131  VCN.L7-100132\n"
     ]
    }
   ],
   "source": [
    "lami2 = laminar(lami=[])"
   ]
  },
  {
   "cell_type": "code",
   "execution_count": 138,
   "id": "5d19e8e5",
   "metadata": {},
   "outputs": [
    {
     "data": {
      "text/plain": [
       "[[['L7-137713',\n",
       "   '7831',\n",
       "   '48331',\n",
       "   'L7-100133',\n",
       "   'L7-138029',\n",
       "   '120341',\n",
       "   'L7-137915',\n",
       "   'L7-139409',\n",
       "   '26033'],\n",
       "  '0'],\n",
       " [['48331', 'L7-100133'], '00'],\n",
       " [['L7-100133'], '001'],\n",
       " [['L7-137713', '7831', '120341', 'L7-137915', 'L7-139409'], '01']]"
      ]
     },
     "execution_count": 138,
     "metadata": {},
     "output_type": "execute_result"
    }
   ],
   "source": [
    "lami2"
   ]
  },
  {
   "cell_type": "code",
   "execution_count": 139,
   "id": "7745177b",
   "metadata": {
    "scrolled": false
   },
   "outputs": [
    {
     "name": "stdout",
     "output_type": "stream",
     "text": [
      "First branching includes      grid_element_id phases    terminal1_cn    terminal2_cn\n",
      "1079      L39-100485    ABC  VCN.L39-100483  VCN.L39-100485\n",
      "1187      L39-100665    ABC  VCN.L39-100483  VCN.L39-100665\n",
      "First branching includes     grid_element_id phases    terminal1_cn    terminal2_cn\n",
      "135           27099    ABC  VCN.L39-100488       VCN.27099\n",
      "489      L39-100489    ABC  VCN.L39-100488  VCN.L39-100489\n"
     ]
    }
   ],
   "source": [
    "lami3 = laminar(grid_element_id='L39-100475', lami=[])"
   ]
  },
  {
   "cell_type": "code",
   "execution_count": 129,
   "id": "0266feb6",
   "metadata": {
    "scrolled": false
   },
   "outputs": [
    {
     "data": {
      "text/plain": [
       "[[['8AY72ZB',\n",
       "   'L39-138049',\n",
       "   '12418',\n",
       "   'L39-100482',\n",
       "   '8746',\n",
       "   '10391',\n",
       "   'L39-138311',\n",
       "   'L39-136613',\n",
       "   'L39-136742',\n",
       "   '22606',\n",
       "   '40890',\n",
       "   '25632',\n",
       "   'L39-102046',\n",
       "   '39497',\n",
       "   '1266',\n",
       "   '21838',\n",
       "   '38647',\n",
       "   'L39-138122',\n",
       "   'L39-139279',\n",
       "   '47015',\n",
       "   'L39-100666',\n",
       "   'L39-136763',\n",
       "   '8884',\n",
       "   'L39-139114',\n",
       "   '105946',\n",
       "   'L39-136112',\n",
       "   '13011',\n",
       "   'L39-137189',\n",
       "   'L39-136876',\n",
       "   '48942',\n",
       "   '6209',\n",
       "   '105789',\n",
       "   '46188',\n",
       "   '121509',\n",
       "   'L39-136765',\n",
       "   '13478',\n",
       "   'L39-139020',\n",
       "   '45218',\n",
       "   'L39-132943',\n",
       "   'L39-136394',\n",
       "   'L39-37422',\n",
       "   'L39-136956',\n",
       "   'L39-138986',\n",
       "   '26841'],\n",
       "  '0'],\n",
       " [['10391',\n",
       "   'L39-138311',\n",
       "   'L39-136613',\n",
       "   'L39-136742',\n",
       "   '22606',\n",
       "   '40890',\n",
       "   '25632',\n",
       "   'L39-102046',\n",
       "   '39497',\n",
       "   '1266',\n",
       "   '21838',\n",
       "   '38647',\n",
       "   'L39-138122',\n",
       "   'L39-139279',\n",
       "   'L39-37422'],\n",
       "  '00'],\n",
       " [['L39-136613',\n",
       "   'L39-136742',\n",
       "   '22606',\n",
       "   '40890',\n",
       "   '25632',\n",
       "   'L39-102046',\n",
       "   '39497',\n",
       "   '1266',\n",
       "   '21838',\n",
       "   '38647',\n",
       "   'L39-138122',\n",
       "   'L39-139279',\n",
       "   'L39-37422'],\n",
       "  '001'],\n",
       " [['8AY72ZB',\n",
       "   '47015',\n",
       "   'L39-100666',\n",
       "   'L39-136763',\n",
       "   '8884',\n",
       "   'L39-139114',\n",
       "   '105946',\n",
       "   'L39-136112',\n",
       "   '13011',\n",
       "   'L39-137189',\n",
       "   'L39-136876',\n",
       "   '48942',\n",
       "   '6209',\n",
       "   '105789',\n",
       "   '46188',\n",
       "   '121509',\n",
       "   'L39-136765',\n",
       "   '13478',\n",
       "   'L39-139020',\n",
       "   '45218',\n",
       "   'L39-132943',\n",
       "   'L39-136394',\n",
       "   'L39-136956',\n",
       "   'L39-138986',\n",
       "   '26841'],\n",
       "  '01']]"
      ]
     },
     "execution_count": 129,
     "metadata": {},
     "output_type": "execute_result"
    }
   ],
   "source": [
    "lami3"
   ]
  },
  {
   "cell_type": "code",
   "execution_count": null,
   "id": "592739f7",
   "metadata": {},
   "outputs": [],
   "source": []
  }
 ],
 "metadata": {
  "kernelspec": {
   "display_name": "Python 3 (ipykernel)",
   "language": "python",
   "name": "python3"
  },
  "language_info": {
   "codemirror_mode": {
    "name": "ipython",
    "version": 3
   },
   "file_extension": ".py",
   "mimetype": "text/x-python",
   "name": "python",
   "nbconvert_exporter": "python",
   "pygments_lexer": "ipython3",
   "version": "3.11.0"
  }
 },
 "nbformat": 4,
 "nbformat_minor": 5
}
